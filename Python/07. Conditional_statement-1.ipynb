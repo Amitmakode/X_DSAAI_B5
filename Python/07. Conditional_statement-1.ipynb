{
 "cells": [
  {
   "cell_type": "code",
   "execution_count": null,
   "id": "b64467e5-cc68-4916-b015-2b036cf76a0d",
   "metadata": {},
   "outputs": [],
   "source": [
    "if\n",
    "elif\n",
    "else"
   ]
  },
  {
   "cell_type": "code",
   "execution_count": 1,
   "id": "038c98ed-ddff-47e5-b223-8fe5afe548da",
   "metadata": {},
   "outputs": [],
   "source": [
    "num = 10"
   ]
  },
  {
   "cell_type": "code",
   "execution_count": 3,
   "id": "1b8fd01e-180c-4772-8026-29629101f304",
   "metadata": {},
   "outputs": [],
   "source": [
    "if num > 20:\n",
    "    print(num)"
   ]
  },
  {
   "cell_type": "code",
   "execution_count": 4,
   "id": "f7c90875-7ee9-4af0-beba-fbf67200d05f",
   "metadata": {},
   "outputs": [
    {
     "name": "stdout",
     "output_type": "stream",
     "text": [
      "10\n"
     ]
    }
   ],
   "source": [
    "if num > 6:\n",
    "    print(num)"
   ]
  },
  {
   "cell_type": "code",
   "execution_count": 5,
   "id": "2a88fc85-73d3-468c-bd28-20024e76ad59",
   "metadata": {},
   "outputs": [
    {
     "name": "stdout",
     "output_type": "stream",
     "text": [
      "20\n"
     ]
    }
   ],
   "source": [
    "if num > 20:\n",
    "    print(num)\n",
    "else:\n",
    "    print(20)"
   ]
  },
  {
   "cell_type": "code",
   "execution_count": 6,
   "id": "d41c1bf9-55fb-484e-8846-605380fd37f3",
   "metadata": {},
   "outputs": [
    {
     "name": "stdout",
     "output_type": "stream",
     "text": [
      "this is elif block\n"
     ]
    }
   ],
   "source": [
    "if num > 20:\n",
    "    print(num)\n",
    "elif num < 20:\n",
    "    print(\"this is elif block\")\n",
    "else:\n",
    "    print(20)"
   ]
  },
  {
   "cell_type": "code",
   "execution_count": 7,
   "id": "5a739806-8467-4cdc-8550-ea8bff07f9eb",
   "metadata": {},
   "outputs": [
    {
     "name": "stdout",
     "output_type": "stream",
     "text": [
      "10\n",
      "this is elif block\n"
     ]
    }
   ],
   "source": [
    "if num == 10:\n",
    "    print(num)\n",
    "if num < 20:\n",
    "    print(\"this is elif block\")\n",
    "else:\n",
    "    print(20)"
   ]
  },
  {
   "cell_type": "code",
   "execution_count": 9,
   "id": "be03edfb-da69-4ee2-ba27-6d9be2a11329",
   "metadata": {},
   "outputs": [],
   "source": [
    "n1 = 10\n",
    "n2 = 20"
   ]
  },
  {
   "cell_type": "code",
   "execution_count": 10,
   "id": "04315917-2898-4b76-a789-b18fab4b4345",
   "metadata": {},
   "outputs": [
    {
     "name": "stdout",
     "output_type": "stream",
     "text": [
      "this is else block\n"
     ]
    }
   ],
   "source": [
    "if n1 > n2 and n1 < 15:\n",
    "    print(num)\n",
    "else:\n",
    "    print(\"this is else block\")"
   ]
  },
  {
   "cell_type": "code",
   "execution_count": 11,
   "id": "97cd7e97-21c5-405f-b779-868ddb762ccf",
   "metadata": {},
   "outputs": [
    {
     "name": "stdout",
     "output_type": "stream",
     "text": [
      "A is zero\n"
     ]
    }
   ],
   "source": [
    "a = 0\n",
    "if a > 0:\n",
    "    print('A is a positive number')\n",
    "elif a < 0:\n",
    "    print('A is a negative number')\n",
    "else:\n",
    "    print('A is zero')"
   ]
  },
  {
   "cell_type": "code",
   "execution_count": 12,
   "id": "7dcf1815-271c-4be6-be5e-d097665bb786",
   "metadata": {},
   "outputs": [
    {
     "name": "stdout",
     "output_type": "stream",
     "text": [
      "number is equal\n",
      "number is less than 11\n",
      "   ---\n"
     ]
    }
   ],
   "source": [
    "number  = 11\n",
    "if number == 11:\n",
    "    print(\"number is equal\")\n",
    "elif number > 11:\n",
    "    print(\"number is greater than 11\")\n",
    "    \n",
    "if number == 11:\n",
    "    print(\"number is less than 11\")\n",
    "\n",
    "if number == 11:\n",
    "    print(\"   ---\")"
   ]
  },
  {
   "cell_type": "code",
   "execution_count": 13,
   "id": "2684bf0d-1110-4d82-ac8c-93887f0b53cf",
   "metadata": {},
   "outputs": [
    {
     "ename": "SyntaxError",
     "evalue": "invalid syntax (3821098832.py, line 10)",
     "output_type": "error",
     "traceback": [
      "\u001b[1;36m  Cell \u001b[1;32mIn[13], line 10\u001b[1;36m\u001b[0m\n\u001b[1;33m    elif :\u001b[0m\n\u001b[1;37m         ^\u001b[0m\n\u001b[1;31mSyntaxError\u001b[0m\u001b[1;31m:\u001b[0m invalid syntax\n"
     ]
    }
   ],
   "source": [
    "number = 10\n",
    "A = 10\n",
    "B = 20\n",
    "C = 30\n",
    "\n",
    "if number == A:\n",
    "    print(\"python-1\")\n",
    "elif number > B :\n",
    "    print(\"python-2\")\n",
    "elif :\n",
    "    print(\"python-3\")\n",
    "else:\n",
    "    print(\"i don't know\")"
   ]
  },
  {
   "cell_type": "markdown",
   "id": "038051d3-8a39-44e6-b851-273a4c583a7d",
   "metadata": {},
   "source": [
    "### Ternary Operator in Python"
   ]
  },
  {
   "cell_type": "code",
   "execution_count": null,
   "id": "3e0ace9a-426b-47d2-b9ab-97792b1cfe51",
   "metadata": {},
   "outputs": [],
   "source": [
    "#The ternary operator in Python is a one-line shorthand for if-else statements. It’s also known as a conditional expression."
   ]
  },
  {
   "cell_type": "code",
   "execution_count": null,
   "id": "165f5a80-defb-41c5-b99c-095d22b1edb6",
   "metadata": {},
   "outputs": [],
   "source": [
    "value_if_true if condition else value_if_false"
   ]
  },
  {
   "cell_type": "code",
   "execution_count": 17,
   "id": "f4e8dd1a-93b1-4a5b-a75d-ce12684dc1c7",
   "metadata": {},
   "outputs": [
    {
     "data": {
      "text/plain": [
       "10"
      ]
     },
     "execution_count": 17,
     "metadata": {},
     "output_type": "execute_result"
    }
   ],
   "source": [
    "num if num > 9 else \"this is else block\" "
   ]
  },
  {
   "cell_type": "code",
   "execution_count": 19,
   "id": "ae5d5d5e-21ed-4bed-87c1-76cf7b01294a",
   "metadata": {},
   "outputs": [
    {
     "name": "stdout",
     "output_type": "stream",
     "text": [
      "Minor\n"
     ]
    }
   ],
   "source": [
    "age = 15\n",
    "status = \"Adult\" if age >= 18 else \"Minor\"\n",
    "print(status)    "
   ]
  },
  {
   "cell_type": "code",
   "execution_count": 21,
   "id": "29c0ffb3-d18e-4b7c-af69-5d7993930add",
   "metadata": {},
   "outputs": [
    {
     "name": "stdin",
     "output_type": "stream",
     "text": [
      " 91\n"
     ]
    },
    {
     "name": "stdout",
     "output_type": "stream",
     "text": [
      "A\n"
     ]
    }
   ],
   "source": [
    "score = int(input())\n",
    "\n",
    "if score >= 90:\n",
    "    print(\"A\")\n",
    "else:\n",
    "    if score >= 70:\n",
    "        print(\"B\")\n",
    "    else:\n",
    "        print(\"C\")"
   ]
  },
  {
   "cell_type": "code",
   "execution_count": null,
   "id": "1ddcf934-be34-448b-af77-ed15ca64acd9",
   "metadata": {},
   "outputs": [],
   "source": []
  },
  {
   "cell_type": "code",
   "execution_count": 22,
   "id": "f8b16945-6e45-465b-96e2-8d761eb35261",
   "metadata": {},
   "outputs": [
    {
     "name": "stdout",
     "output_type": "stream",
     "text": [
      "B\n"
     ]
    }
   ],
   "source": [
    "score = 75\n",
    "grade = \"A\" if score >= 90 else \"B\" if score >= 75 else \"C\"\n",
    "print(grade) "
   ]
  },
  {
   "cell_type": "code",
   "execution_count": 23,
   "id": "e36c8b90-dcaf-4240-848b-f43fbef53b12",
   "metadata": {},
   "outputs": [
    {
     "name": "stdout",
     "output_type": "stream",
     "text": [
      "good afternoon\n"
     ]
    }
   ],
   "source": [
    "from datetime import datetime\n",
    "\n",
    "# Get the current hour in IST\n",
    "current_hour = datetime.now().hour\n",
    "\n",
    "# Define greetings based on the hour\n",
    "greetings = (\n",
    "    \"good morning\" if current_hour < 12 else\n",
    "    \"good afternoon\" if current_hour < 18 else\n",
    "    \"good evening\" if current_hour < 21 else\n",
    "    \"good night\"\n",
    ")\n",
    "\n",
    "print(greetings)"
   ]
  },
  {
   "cell_type": "code",
   "execution_count": 24,
   "id": "1fcd59a5-03e2-4959-98f1-9bc0be9bff83",
   "metadata": {},
   "outputs": [
    {
     "data": {
      "text/plain": [
       "12"
      ]
     },
     "execution_count": 24,
     "metadata": {},
     "output_type": "execute_result"
    }
   ],
   "source": [
    "current_hour"
   ]
  },
  {
   "cell_type": "markdown",
   "id": "2840049d-01a9-4421-9263-89cc28312822",
   "metadata": {},
   "source": [
    "#### Match Case"
   ]
  },
  {
   "cell_type": "code",
   "execution_count": 25,
   "id": "a6290fa2-ef7d-4c2e-8721-411b143b067f",
   "metadata": {},
   "outputs": [
    {
     "name": "stdout",
     "output_type": "stream",
     "text": [
      "its just a another day\n"
     ]
    }
   ],
   "source": [
    "day = \"sunday\"\n",
    "\n",
    "match day:\n",
    "    case \"monday\":\n",
    "        print(\"this is start of the week\")\n",
    "    case \"tuesday\":\n",
    "        print(\"this is a second day of the week\")\n",
    "    case \"wednesday\":\n",
    "        print(\"this is mid of the week\")\n",
    "    case _ :\n",
    "        print(\"its just a another day\")"
   ]
  },
  {
   "cell_type": "code",
   "execution_count": 26,
   "id": "2c4104dd-9bed-4096-87f2-b3594b88cff1",
   "metadata": {},
   "outputs": [],
   "source": [
    "l1 = [1,2,3,4]"
   ]
  },
  {
   "cell_type": "code",
   "execution_count": 28,
   "id": "6735e594-796b-4107-8985-a9669cf213c0",
   "metadata": {},
   "outputs": [],
   "source": [
    "if 30 in l1:\n",
    "    print(l1)"
   ]
  },
  {
   "cell_type": "code",
   "execution_count": 34,
   "id": "8e1a1368-ad52-466b-b93d-123cafc147f4",
   "metadata": {},
   "outputs": [],
   "source": [
    "num = 12"
   ]
  },
  {
   "cell_type": "code",
   "execution_count": 35,
   "id": "f78c44a1-aa55-46bc-8b42-809809c5e9f3",
   "metadata": {},
   "outputs": [
    {
     "name": "stdout",
     "output_type": "stream",
     "text": [
      "third\n"
     ]
    }
   ],
   "source": [
    "if 10 > num:\n",
    "    print(\"first\")\n",
    "elif 10 > num:\n",
    "    print(\"second\")\n",
    "else:\n",
    "    print(\"third\")"
   ]
  },
  {
   "cell_type": "code",
   "execution_count": null,
   "id": "4fdad50e-7b37-474f-98f4-dddaeb3850a6",
   "metadata": {},
   "outputs": [],
   "source": []
  }
 ],
 "metadata": {
  "kernelspec": {
   "display_name": "Python 3 (ipykernel)",
   "language": "python",
   "name": "python3"
  },
  "language_info": {
   "codemirror_mode": {
    "name": "ipython",
    "version": 3
   },
   "file_extension": ".py",
   "mimetype": "text/x-python",
   "name": "python",
   "nbconvert_exporter": "python",
   "pygments_lexer": "ipython3",
   "version": "3.11.7"
  }
 },
 "nbformat": 4,
 "nbformat_minor": 5
}
