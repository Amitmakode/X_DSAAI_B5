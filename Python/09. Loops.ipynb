{
 "cells": [
  {
   "cell_type": "code",
   "execution_count": null,
   "id": "46131c3a-9d9a-4d7f-ac28-dec98ec5b40c",
   "metadata": {},
   "outputs": [],
   "source": [
    "iterable\n",
    "iterator\n",
    "iteration"
   ]
  },
  {
   "cell_type": "code",
   "execution_count": 1,
   "id": "e58d27d7-5e0d-45b5-9967-53c39cebba57",
   "metadata": {},
   "outputs": [
    {
     "data": {
      "text/plain": [
       "[0, 1, 2, 3, 4]"
      ]
     },
     "execution_count": 1,
     "metadata": {},
     "output_type": "execute_result"
    }
   ],
   "source": [
    "list(range(5))"
   ]
  },
  {
   "cell_type": "code",
   "execution_count": 2,
   "id": "f53ceba5-a385-4cb3-a838-ec76fb11bb6b",
   "metadata": {},
   "outputs": [
    {
     "name": "stdout",
     "output_type": "stream",
     "text": [
      "0\n",
      "1\n",
      "2\n",
      "3\n",
      "4\n"
     ]
    }
   ],
   "source": [
    "for i in range(5):\n",
    "    print(i)"
   ]
  },
  {
   "cell_type": "code",
   "execution_count": 3,
   "id": "fd1e8eb0-41a1-4672-9f94-12fb2c69807e",
   "metadata": {},
   "outputs": [],
   "source": [
    "var = \"string variable\""
   ]
  },
  {
   "cell_type": "code",
   "execution_count": 6,
   "id": "c8bcb82a-457e-4419-a2a0-774ab4ce2cb0",
   "metadata": {},
   "outputs": [
    {
     "name": "stdout",
     "output_type": "stream",
     "text": [
      "s t r i n g   v a r i a b l e "
     ]
    }
   ],
   "source": [
    "for k in var:\n",
    "    print(k, end = \" \")"
   ]
  },
  {
   "cell_type": "code",
   "execution_count": 7,
   "id": "27c2ed38-978f-49a9-8eaa-1e7bc7808d40",
   "metadata": {},
   "outputs": [
    {
     "name": "stdout",
     "output_type": "stream",
     "text": [
      "amit\n",
      "amit\n",
      "amit\n",
      "amit\n",
      "amit\n"
     ]
    }
   ],
   "source": [
    "for i in range(5):\n",
    "    print(\"amit\")"
   ]
  },
  {
   "cell_type": "code",
   "execution_count": 8,
   "id": "22d0ebf3-c267-45d6-a3c6-e33d8f5ff8f2",
   "metadata": {},
   "outputs": [
    {
     "name": "stdout",
     "output_type": "stream",
     "text": [
      "1\n",
      "2\n",
      "3\n",
      "4\n"
     ]
    }
   ],
   "source": [
    "for i in [1,2,3,4]:\n",
    "    print(i)"
   ]
  },
  {
   "cell_type": "code",
   "execution_count": 9,
   "id": "6b121cab-3753-46b9-9dcd-e5bec97b231f",
   "metadata": {},
   "outputs": [
    {
     "ename": "TypeError",
     "evalue": "'int' object is not iterable",
     "output_type": "error",
     "traceback": [
      "\u001b[1;31m---------------------------------------------------------------------------\u001b[0m",
      "\u001b[1;31mTypeError\u001b[0m                                 Traceback (most recent call last)",
      "Cell \u001b[1;32mIn[9], line 1\u001b[0m\n\u001b[1;32m----> 1\u001b[0m \u001b[38;5;28;01mfor\u001b[39;00m i \u001b[38;5;129;01min\u001b[39;00m \u001b[38;5;241m765686\u001b[39m:\n\u001b[0;32m      2\u001b[0m     \u001b[38;5;28mprint\u001b[39m(i)\n",
      "\u001b[1;31mTypeError\u001b[0m: 'int' object is not iterable"
     ]
    }
   ],
   "source": [
    "for i in 765686:\n",
    "    print(i)"
   ]
  },
  {
   "cell_type": "code",
   "execution_count": 10,
   "id": "588ee721-4808-40a8-91fb-607971d1d29b",
   "metadata": {},
   "outputs": [
    {
     "name": "stdout",
     "output_type": "stream",
     "text": [
      "5\n",
      "6\n",
      "7\n"
     ]
    }
   ],
   "source": [
    "for i in {7,6,5,6,7,6}:\n",
    "    print(i)"
   ]
  },
  {
   "cell_type": "code",
   "execution_count": 13,
   "id": "d8a59036-3002-4c49-a55b-2d687c819ba6",
   "metadata": {},
   "outputs": [
    {
     "data": {
      "text/plain": [
       "int"
      ]
     },
     "execution_count": 13,
     "metadata": {},
     "output_type": "execute_result"
    }
   ],
   "source": [
    "type(len(var))"
   ]
  },
  {
   "cell_type": "code",
   "execution_count": 15,
   "id": "2111e136-d610-4747-8302-9dbe0ded6b36",
   "metadata": {},
   "outputs": [
    {
     "data": {
      "text/plain": [
       "range(0, 15)"
      ]
     },
     "execution_count": 15,
     "metadata": {},
     "output_type": "execute_result"
    }
   ],
   "source": [
    "range(len(var))"
   ]
  },
  {
   "cell_type": "code",
   "execution_count": 16,
   "id": "f46180b5-93ad-4fae-9fd7-a908a39489e7",
   "metadata": {},
   "outputs": [
    {
     "name": "stdout",
     "output_type": "stream",
     "text": [
      "0\n",
      "1\n",
      "2\n",
      "3\n",
      "4\n",
      "5\n",
      "6\n",
      "7\n",
      "8\n",
      "9\n",
      "10\n",
      "11\n",
      "12\n",
      "13\n",
      "14\n"
     ]
    }
   ],
   "source": [
    "for i in range(len(var)):\n",
    "    print(i)"
   ]
  },
  {
   "cell_type": "code",
   "execution_count": 17,
   "id": "2bd91075-99e3-4c5f-bdf3-66164e5a2c8e",
   "metadata": {},
   "outputs": [
    {
     "name": "stdout",
     "output_type": "stream",
     "text": [
      "4\n",
      "9\n",
      "16\n",
      "25\n"
     ]
    }
   ],
   "source": [
    "for i in (2,3,4,5):\n",
    "    print(i**2)"
   ]
  },
  {
   "cell_type": "code",
   "execution_count": 18,
   "id": "97880bdc-c00b-4d51-86c1-c97e14d88c05",
   "metadata": {},
   "outputs": [
    {
     "name": "stdout",
     "output_type": "stream",
     "text": [
      "0\n",
      "1\n",
      "2\n",
      "3\n",
      "4\n"
     ]
    }
   ],
   "source": [
    "a = 5\n",
    "i = 0 \n",
    "while i < a:\n",
    "    print(i)\n",
    "    i=i+1\n",
    "    #i+=1"
   ]
  },
  {
   "cell_type": "code",
   "execution_count": 1,
   "id": "d6a840f0-7572-4f86-8b2c-22b82b36f8f6",
   "metadata": {},
   "outputs": [],
   "source": [
    "a = 5\n",
    "i = 0 \n",
    "#while i < a:\n",
    "    #print(i)"
   ]
  },
  {
   "cell_type": "code",
   "execution_count": 3,
   "id": "2e123e62-5773-477d-9f8e-6be830c1e298",
   "metadata": {},
   "outputs": [
    {
     "name": "stdin",
     "output_type": "stream",
     "text": [
      " c++\n"
     ]
    },
    {
     "name": "stdout",
     "output_type": "stream",
     "text": [
      "c++\n"
     ]
    },
    {
     "name": "stdin",
     "output_type": "stream",
     "text": [
      " a++\n"
     ]
    },
    {
     "name": "stdout",
     "output_type": "stream",
     "text": [
      "a++\n"
     ]
    },
    {
     "name": "stdin",
     "output_type": "stream",
     "text": [
      " b++\n"
     ]
    },
    {
     "name": "stdout",
     "output_type": "stream",
     "text": [
      "b++\n"
     ]
    },
    {
     "name": "stdin",
     "output_type": "stream",
     "text": [
      " c++\n"
     ]
    },
    {
     "name": "stdout",
     "output_type": "stream",
     "text": [
      "c++\n"
     ]
    },
    {
     "name": "stdin",
     "output_type": "stream",
     "text": [
      " C++\n"
     ]
    }
   ],
   "source": [
    "name = input()\n",
    "while \"C++\" != name:\n",
    "    print(name)\n",
    "    name = input()"
   ]
  },
  {
   "cell_type": "code",
   "execution_count": 4,
   "id": "fd819fdc-7864-4e51-9172-3fad792efb66",
   "metadata": {},
   "outputs": [],
   "source": [
    "l1 = [1,2,3,4,5]"
   ]
  },
  {
   "cell_type": "code",
   "execution_count": 7,
   "id": "fbe0f433-417b-4c5e-b347-e1ad67f0ca10",
   "metadata": {},
   "outputs": [],
   "source": [
    "obj = iter(l1)"
   ]
  },
  {
   "cell_type": "code",
   "execution_count": 9,
   "id": "d4b36aaa-ccff-4e1c-86fd-448559eb85b7",
   "metadata": {},
   "outputs": [
    {
     "data": {
      "text/plain": [
       "1"
      ]
     },
     "execution_count": 9,
     "metadata": {},
     "output_type": "execute_result"
    }
   ],
   "source": [
    "next(obj)"
   ]
  },
  {
   "cell_type": "code",
   "execution_count": 10,
   "id": "54c38b66-f0b6-4298-aed7-15bbca098ffc",
   "metadata": {},
   "outputs": [
    {
     "data": {
      "text/plain": [
       "2"
      ]
     },
     "execution_count": 10,
     "metadata": {},
     "output_type": "execute_result"
    }
   ],
   "source": [
    "next(obj)"
   ]
  },
  {
   "cell_type": "code",
   "execution_count": 11,
   "id": "5d415763-d0d5-45c7-a0de-680f2773968d",
   "metadata": {},
   "outputs": [
    {
     "data": {
      "text/plain": [
       "3"
      ]
     },
     "execution_count": 11,
     "metadata": {},
     "output_type": "execute_result"
    }
   ],
   "source": [
    "next(obj)"
   ]
  },
  {
   "cell_type": "code",
   "execution_count": 12,
   "id": "5f8fb294-fd16-49f3-8928-2facc0345272",
   "metadata": {},
   "outputs": [
    {
     "data": {
      "text/plain": [
       "4"
      ]
     },
     "execution_count": 12,
     "metadata": {},
     "output_type": "execute_result"
    }
   ],
   "source": [
    "next(obj)"
   ]
  },
  {
   "cell_type": "code",
   "execution_count": 13,
   "id": "1502cce3-440a-4d6d-8e04-b5c00057c06d",
   "metadata": {},
   "outputs": [
    {
     "data": {
      "text/plain": [
       "5"
      ]
     },
     "execution_count": 13,
     "metadata": {},
     "output_type": "execute_result"
    }
   ],
   "source": [
    "next(obj)"
   ]
  },
  {
   "cell_type": "code",
   "execution_count": 14,
   "id": "2d8cafb9-d2a3-4e63-96aa-35bcdf8a97d4",
   "metadata": {},
   "outputs": [
    {
     "ename": "StopIteration",
     "evalue": "",
     "output_type": "error",
     "traceback": [
      "\u001b[1;31m---------------------------------------------------------------------------\u001b[0m",
      "\u001b[1;31mStopIteration\u001b[0m                             Traceback (most recent call last)",
      "Cell \u001b[1;32mIn[14], line 1\u001b[0m\n\u001b[1;32m----> 1\u001b[0m \u001b[38;5;28mnext\u001b[39m(obj)\n",
      "\u001b[1;31mStopIteration\u001b[0m: "
     ]
    }
   ],
   "source": [
    "next(obj)"
   ]
  },
  {
   "cell_type": "code",
   "execution_count": 15,
   "id": "d07c34a3-1057-43e0-8b97-80bbd224d6b1",
   "metadata": {},
   "outputs": [
    {
     "name": "stdout",
     "output_type": "stream",
     "text": [
      "0 1 Python\n",
      "1 2 Python\n",
      "2 3 Python\n",
      "3 4 Python\n",
      "4 5 Python\n"
     ]
    }
   ],
   "source": [
    "for x in range(5):\n",
    "    print(x,x+1, \"Python\")"
   ]
  },
  {
   "cell_type": "code",
   "execution_count": 19,
   "id": "8f22874f-081f-4cac-bb15-8fea839dc430",
   "metadata": {},
   "outputs": [],
   "source": [
    "d1  =dict(list(enumerate(\"Python\")))"
   ]
  },
  {
   "cell_type": "code",
   "execution_count": 16,
   "id": "60c77eb6-4caf-4da7-a5c8-8288874661c9",
   "metadata": {},
   "outputs": [
    {
     "name": "stdout",
     "output_type": "stream",
     "text": [
      "0 -- P\n",
      "1 -- y\n",
      "2 -- t\n",
      "3 -- h\n",
      "4 -- o\n",
      "5 -- n\n"
     ]
    }
   ],
   "source": [
    "for i,j  in enumerate(\"Python\"):\n",
    "    print(i, \"--\", j)"
   ]
  },
  {
   "cell_type": "code",
   "execution_count": 22,
   "id": "6ed8d91e-9085-46e2-bc65-cee23e306823",
   "metadata": {},
   "outputs": [
    {
     "name": "stdout",
     "output_type": "stream",
     "text": [
      "0\n",
      "1\n",
      "2\n",
      "3\n",
      "4\n",
      "5\n"
     ]
    }
   ],
   "source": [
    "for i in d1:\n",
    "    print(i)"
   ]
  },
  {
   "cell_type": "code",
   "execution_count": 23,
   "id": "8a8ac360-ccba-43e1-a90a-4947c2e9d1ed",
   "metadata": {},
   "outputs": [
    {
     "name": "stdout",
     "output_type": "stream",
     "text": [
      "P\n",
      "y\n",
      "t\n",
      "h\n",
      "o\n",
      "n\n"
     ]
    }
   ],
   "source": [
    "for i in d1.values():\n",
    "    print(i)"
   ]
  },
  {
   "cell_type": "code",
   "execution_count": 24,
   "id": "8ecc25da-1cec-4b9f-81dc-bcedce68df84",
   "metadata": {},
   "outputs": [
    {
     "name": "stdout",
     "output_type": "stream",
     "text": [
      "(0, 'P')\n",
      "(1, 'y')\n",
      "(2, 't')\n",
      "(3, 'h')\n",
      "(4, 'o')\n",
      "(5, 'n')\n"
     ]
    }
   ],
   "source": [
    "for i in d1.items():\n",
    "    print(i)"
   ]
  },
  {
   "cell_type": "code",
   "execution_count": 25,
   "id": "011fbdbd-b6a9-4c50-81b2-c68d5acb11c0",
   "metadata": {},
   "outputs": [
    {
     "name": "stdout",
     "output_type": "stream",
     "text": [
      "0 - P\n",
      "1 - y\n",
      "2 - t\n",
      "3 - h\n",
      "4 - o\n",
      "5 - n\n"
     ]
    }
   ],
   "source": [
    "for i, j in d1.items():\n",
    "    print(i, \"-\", j)"
   ]
  },
  {
   "cell_type": "code",
   "execution_count": 26,
   "id": "43c5094f-44e1-47ae-a511-3508857d4040",
   "metadata": {},
   "outputs": [
    {
     "data": {
      "text/plain": [
       "dict_items([(0, 'P'), (1, 'y'), (2, 't'), (3, 'h'), (4, 'o'), (5, 'n')])"
      ]
     },
     "execution_count": 26,
     "metadata": {},
     "output_type": "execute_result"
    }
   ],
   "source": [
    "d1.items()"
   ]
  },
  {
   "cell_type": "code",
   "execution_count": 27,
   "id": "fa088660-8410-465d-88fd-5be083ae1807",
   "metadata": {},
   "outputs": [
    {
     "name": "stdout",
     "output_type": "stream",
     "text": [
      "0 - P\n",
      "1 - y\n",
      "2 - t\n",
      "3 - h\n"
     ]
    }
   ],
   "source": [
    "for i, j in d1.items():\n",
    "    if i in [0, 1,2,3]:\n",
    "        print(i, \"-\", j)"
   ]
  },
  {
   "cell_type": "code",
   "execution_count": 30,
   "id": "82ad759c-e9da-4eec-805b-17e2a90c9730",
   "metadata": {},
   "outputs": [],
   "source": [
    "var1 = \"science\""
   ]
  },
  {
   "cell_type": "code",
   "execution_count": 31,
   "id": "13255bc1-444d-4663-8d94-b9b788c302a8",
   "metadata": {},
   "outputs": [
    {
     "name": "stdout",
     "output_type": "stream",
     "text": [
      "s\n",
      "c\n",
      "I\n",
      "i\n",
      "e\n",
      "n\n",
      "c\n",
      "e\n"
     ]
    }
   ],
   "source": [
    "for i in var1:\n",
    "    if i==\"i\":\n",
    "        print(\"I\")\n",
    "    print(i)    "
   ]
  },
  {
   "cell_type": "code",
   "execution_count": 34,
   "id": "6d987688-f18b-4ad6-ac4c-b8f8ea4696b6",
   "metadata": {},
   "outputs": [
    {
     "name": "stdout",
     "output_type": "stream",
     "text": [
      "s\n",
      "c\n",
      "I\n",
      "i\n",
      "e\n",
      "n\n",
      "c\n",
      "e\n"
     ]
    }
   ],
   "source": [
    "for i in var1:\n",
    "    if i==\"i\":\n",
    "        print(\"I\")\n",
    "        pass\n",
    "    print(i)  "
   ]
  },
  {
   "cell_type": "code",
   "execution_count": 37,
   "id": "8e753380-02b2-48ef-bcea-a6a1ee5afb36",
   "metadata": {},
   "outputs": [],
   "source": [
    "for i in var1:\n",
    "    pass"
   ]
  },
  {
   "cell_type": "code",
   "execution_count": 35,
   "id": "85bffef1-1a18-4883-ab8a-14196e1ac5ab",
   "metadata": {},
   "outputs": [
    {
     "name": "stdout",
     "output_type": "stream",
     "text": [
      "s\n",
      "c\n",
      "I\n"
     ]
    }
   ],
   "source": [
    "for i in var1:\n",
    "    if i==\"i\":\n",
    "        print(\"I\")\n",
    "        break\n",
    "    print(i)  "
   ]
  },
  {
   "cell_type": "code",
   "execution_count": 38,
   "id": "e0515446-9e07-484b-909c-719ebbd6320a",
   "metadata": {},
   "outputs": [
    {
     "name": "stdout",
     "output_type": "stream",
     "text": [
      "s\n",
      "c\n",
      "e\n",
      "n\n",
      "c\n",
      "e\n"
     ]
    }
   ],
   "source": [
    "for i in var1:\n",
    "    if i==\"i\":\n",
    "        continue\n",
    "        print(\"I\")\n",
    "    print(i)"
   ]
  },
  {
   "cell_type": "code",
   "execution_count": 39,
   "id": "523470b0-d630-4377-9dbe-4bafeaacd778",
   "metadata": {},
   "outputs": [
    {
     "name": "stdout",
     "output_type": "stream",
     "text": [
      "s\n",
      "c\n",
      "I\n",
      "e\n",
      "n\n",
      "c\n",
      "e\n"
     ]
    }
   ],
   "source": [
    "for i in var1:\n",
    "    if i==\"i\":\n",
    "        print(\"I\")\n",
    "        continue\n",
    "    print(i)"
   ]
  },
  {
   "cell_type": "code",
   "execution_count": 40,
   "id": "7e40801a-0129-4adf-b533-dfd9373ec640",
   "metadata": {},
   "outputs": [
    {
     "name": "stdout",
     "output_type": "stream",
     "text": [
      "1\n",
      "2\n",
      "3\n",
      "4\n",
      "5\n",
      "this will execute only if for is going to complete itself\n"
     ]
    }
   ],
   "source": [
    "for i in l1 :\n",
    "    if i == 4 :\n",
    "        pass\n",
    "    print(i)\n",
    "else :\n",
    "    print(\"this will execute only if for is going to complete itself\")"
   ]
  },
  {
   "cell_type": "code",
   "execution_count": 41,
   "id": "37245606-bc33-4270-a306-6d2dcd3ae924",
   "metadata": {},
   "outputs": [
    {
     "name": "stdin",
     "output_type": "stream",
     "text": [
      "Enter the name (use 'Quit' to stop : amit\n"
     ]
    },
    {
     "name": "stdout",
     "output_type": "stream",
     "text": [
      "You entered  amit\n"
     ]
    },
    {
     "name": "stdin",
     "output_type": "stream",
     "text": [
      "Enter the name (use 'Quit' to stop : rohit\n"
     ]
    },
    {
     "name": "stdout",
     "output_type": "stream",
     "text": [
      "You entered  rohit\n"
     ]
    },
    {
     "name": "stdin",
     "output_type": "stream",
     "text": [
      "Enter the name (use 'Quit' to stop : Quit\n"
     ]
    }
   ],
   "source": [
    "name = \"\"\n",
    "\n",
    "while name != \"Quit\":\n",
    "    name = input(\"Enter the name (use 'Quit' to stop :\")\n",
    "    if name != \"Quit\":\n",
    "        print('You entered ', name) "
   ]
  },
  {
   "cell_type": "code",
   "execution_count": 42,
   "id": "4410093d-c2ff-4b86-a9de-1c4dfca5bd62",
   "metadata": {},
   "outputs": [
    {
     "name": "stdout",
     "output_type": "stream",
     "text": [
      "1\n",
      "2\n",
      "3\n",
      "4\n",
      "4\n",
      "5\n",
      "5\n",
      "6\n",
      "6\n",
      "7\n"
     ]
    }
   ],
   "source": [
    "# Example\n",
    "i = 0           #iteration variable initialized\n",
    "while i < 7:    # condition is evaluated \n",
    "    if i > 3 :   \n",
    "        print(i)    # block statements are executed until the condition is true and iteration variable is less that 3\n",
    "    i = i + 1\n",
    "    print(i)"
   ]
  },
  {
   "cell_type": "code",
   "execution_count": 43,
   "id": "c2ff1f42-b80b-4a4c-a3c2-55afd8c8d210",
   "metadata": {},
   "outputs": [
    {
     "name": "stdout",
     "output_type": "stream",
     "text": [
      "1\n",
      "2\n",
      "3\n",
      "4\n",
      "4\n",
      "5\n",
      "5\n"
     ]
    }
   ],
   "source": [
    "# Example\n",
    "i = 0           #iteration variable initialized\n",
    "while i < 7:    # condition is evaluated \n",
    "    if i > 3 :   \n",
    "        print(i)    # block statements are executed until the condition is true and iteration variable is less that 3\n",
    "    i = i + 1\n",
    "    if i==6:\n",
    "        break  \n",
    "    print(i)"
   ]
  },
  {
   "cell_type": "code",
   "execution_count": 44,
   "id": "ebbd1be3-60e4-4ba8-8999-fa5745df5130",
   "metadata": {},
   "outputs": [],
   "source": [
    "# Example\n",
    "i = 0           #iteration variable initialized\n",
    "while i < 7:    # condition is evaluated \n",
    "    if i > 3 :   \n",
    "        print(i)    # block statements are executed until the condition is true and iteration variable is less that 3\n",
    "    i = i + 1\n",
    "    break\n",
    "    if i==6:\n",
    "        break  \n",
    "    print(i)"
   ]
  },
  {
   "cell_type": "code",
   "execution_count": null,
   "id": "6b21d800-1b68-45d7-98a1-15685af22a75",
   "metadata": {},
   "outputs": [],
   "source": [
    "# Example\n",
    "i = 0           #iteration variable initialized\n",
    "while i < 7:    # condition is evaluated \n",
    "    if i > 3 :   \n",
    "        print(i)    # block statements are executed until the condition is true and iteration variable is less that 3\n",
    "        continue\n",
    "    i = i + 1\n",
    "    if i==6:\n",
    "        break  \n",
    "    print(i)"
   ]
  }
 ],
 "metadata": {
  "kernelspec": {
   "display_name": "Python 3 (ipykernel)",
   "language": "python",
   "name": "python3"
  },
  "language_info": {
   "codemirror_mode": {
    "name": "ipython",
    "version": 3
   },
   "file_extension": ".py",
   "mimetype": "text/x-python",
   "name": "python",
   "nbconvert_exporter": "python",
   "pygments_lexer": "ipython3",
   "version": "3.11.7"
  }
 },
 "nbformat": 4,
 "nbformat_minor": 5
}
