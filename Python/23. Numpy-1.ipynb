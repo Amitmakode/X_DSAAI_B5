{
 "cells": [
  {
   "cell_type": "markdown",
   "id": "a2c77e1f-606a-4ecf-b388-13eac4605d9a",
   "metadata": {},
   "source": [
    "### Numpy"
   ]
  },
  {
   "cell_type": "code",
   "execution_count": null,
   "id": "c800034c-77f6-43d0-ba0a-12c01c06e5cf",
   "metadata": {},
   "outputs": [],
   "source": [
    "!pip install numpy"
   ]
  },
  {
   "cell_type": "code",
   "execution_count": 1,
   "id": "a3eab454-8b49-437c-9274-edfc32c01c55",
   "metadata": {},
   "outputs": [],
   "source": [
    "import numpy as np"
   ]
  },
  {
   "cell_type": "markdown",
   "id": "eabf9ec4-161a-4059-a06d-7d4f706a502f",
   "metadata": {},
   "source": [
    "## Why NuMpy?\n",
    "\n",
    "- Mathematical and logical operations on **arrays**.\n",
    "\n",
    "- Efficient storage and manipulation of **numerical arrays** is which is fundamental in  the process of  **data science**.\n",
    "\n",
    "- NumPy arrays form the core of nearly the entire **ecosystem** of **data science** tools in Python,"
   ]
  },
  {
   "cell_type": "markdown",
   "id": "d3740141-024e-45ae-b751-7b28b90e21ee",
   "metadata": {},
   "source": [
    "- NumPy is a Open Source Python package. It stands for **Numerical Python**. \n",
    "It is a library consisting of multidimensional array objects and \n",
    "a collection of routines for processing of array."
   ]
  },
  {
   "cell_type": "code",
   "execution_count": 2,
   "id": "6e0c40fd-7a77-4c68-8aea-80a2e464633b",
   "metadata": {},
   "outputs": [
    {
     "name": "stdout",
     "output_type": "stream",
     "text": [
      "pure python version= 0.6232001781463623\n",
      "numpy = 0.01133871078491211\n"
     ]
    }
   ],
   "source": [
    "import time as tm\n",
    "\n",
    "size_1 = 1000000\n",
    "\n",
    "def pure_python_version():\n",
    "    start_time_pp =  tm.time() ## time of start of code execution\n",
    "    list1 = range(size_1)\n",
    "    list2 = range(size_1)\n",
    "    sum_list=[list1[i]+list2[i] for i in range(len(list1))]\n",
    "    end_time_pp =  tm.time()\n",
    "    return end_time_pp - start_time_pp ## end time for execution (difference)\n",
    "\n",
    "def numpy_version():\n",
    "    start_time_np = tm.time()\n",
    "    array1 = np.arange(size_1)\n",
    "    array2 =  np.arange(size_1)\n",
    "    sum_array = array1 + array2\n",
    "    end_time_np = tm.time()\n",
    "    return end_time_np - start_time_np ## end time for execution (difference)\n",
    "\n",
    "python_time = pure_python_version()\n",
    "numpy_time  = numpy_version()\n",
    "\n",
    "print(\"pure python version=\",python_time)\n",
    "print(\"numpy =\",numpy_time)"
   ]
  },
  {
   "cell_type": "code",
   "execution_count": 6,
   "id": "544d021a-7c75-45ba-abdc-9059597ab223",
   "metadata": {},
   "outputs": [],
   "source": [
    "my_list=[2,3,4,6,7,8]"
   ]
  },
  {
   "cell_type": "code",
   "execution_count": 7,
   "id": "41b807bd-72ca-4112-897b-7cd12581910d",
   "metadata": {},
   "outputs": [
    {
     "data": {
      "text/plain": [
       "[2, 3, 4, 6, 7, 8]"
      ]
     },
     "execution_count": 7,
     "metadata": {},
     "output_type": "execute_result"
    }
   ],
   "source": [
    "my_list"
   ]
  },
  {
   "cell_type": "code",
   "execution_count": 4,
   "id": "00cb6167-959a-4ec2-9d8f-613fafd704a6",
   "metadata": {},
   "outputs": [],
   "source": [
    "aar = np.array(my_list)"
   ]
  },
  {
   "cell_type": "code",
   "execution_count": 5,
   "id": "b289bf3d-bf64-4679-ac94-ace23df6bd28",
   "metadata": {},
   "outputs": [
    {
     "data": {
      "text/plain": [
       "array([2, 3, 4, 6, 7, 8])"
      ]
     },
     "execution_count": 5,
     "metadata": {},
     "output_type": "execute_result"
    }
   ],
   "source": [
    "aar"
   ]
  },
  {
   "cell_type": "code",
   "execution_count": 8,
   "id": "909d8c06-def3-4157-afc1-18b48836e9d3",
   "metadata": {},
   "outputs": [
    {
     "data": {
      "text/plain": [
       "numpy.ndarray"
      ]
     },
     "execution_count": 8,
     "metadata": {},
     "output_type": "execute_result"
    }
   ],
   "source": [
    "array_2 = [[1,2,3],[4,5,6],[7,8,9]]\n",
    "array_3= np.array(array_2)\n",
    "array_3\n",
    "type(array_3)"
   ]
  },
  {
   "cell_type": "code",
   "execution_count": 10,
   "id": "0ff45071-4eeb-4cf1-9fd9-9bb3c62b88ad",
   "metadata": {},
   "outputs": [
    {
     "data": {
      "text/plain": [
       "2"
      ]
     },
     "execution_count": 10,
     "metadata": {},
     "output_type": "execute_result"
    }
   ],
   "source": [
    "array_3.ndim"
   ]
  },
  {
   "cell_type": "code",
   "execution_count": 11,
   "id": "b356ad41-dc13-4446-8f06-528e8d15a797",
   "metadata": {},
   "outputs": [
    {
     "data": {
      "text/plain": [
       "9"
      ]
     },
     "execution_count": 11,
     "metadata": {},
     "output_type": "execute_result"
    }
   ],
   "source": [
    "array_3.size"
   ]
  },
  {
   "cell_type": "code",
   "execution_count": 13,
   "id": "31c1f1fe-feae-4477-9899-889b93198015",
   "metadata": {},
   "outputs": [
    {
     "data": {
      "text/plain": [
       "9"
      ]
     },
     "execution_count": 13,
     "metadata": {},
     "output_type": "execute_result"
    }
   ],
   "source": [
    "array_3.max()"
   ]
  },
  {
   "cell_type": "code",
   "execution_count": 14,
   "id": "8c34028c-27be-4b7a-b5eb-2424cfe1f8a0",
   "metadata": {},
   "outputs": [
    {
     "data": {
      "text/plain": [
       "1"
      ]
     },
     "execution_count": 14,
     "metadata": {},
     "output_type": "execute_result"
    }
   ],
   "source": [
    "array_3.min()"
   ]
  },
  {
   "cell_type": "code",
   "execution_count": 19,
   "id": "25ddfdbb-6e94-4a5a-b1d5-982532ab2013",
   "metadata": {},
   "outputs": [
    {
     "name": "stdout",
     "output_type": "stream",
     "text": [
      "[[1 2 3 7 5 1]]\n"
     ]
    },
    {
     "data": {
      "text/plain": [
       "2"
      ]
     },
     "execution_count": 19,
     "metadata": {},
     "output_type": "execute_result"
    }
   ],
   "source": [
    "a = np.array([1, 2, 3,7,5,1], ndmin = 2) \n",
    "print (a)\n",
    "np.ndim(a)"
   ]
  },
  {
   "cell_type": "code",
   "execution_count": 20,
   "id": "39f2c120-3f09-45b2-a693-401935adbca4",
   "metadata": {},
   "outputs": [
    {
     "name": "stdout",
     "output_type": "stream",
     "text": [
      "[1.+0.j 2.+0.j 3.+0.j 4.+0.j]\n"
     ]
    }
   ],
   "source": [
    "a = np.array([1, 2, 3, 4], dtype = complex) \n",
    "print (a)"
   ]
  },
  {
   "cell_type": "code",
   "execution_count": 22,
   "id": "f1d7f5ec-ba4e-43c8-a0ef-2ec1d17c2087",
   "metadata": {},
   "outputs": [
    {
     "data": {
      "text/plain": [
       "array([[1, 2, 3],\n",
       "       [4, 5, 6],\n",
       "       [7, 8, 9]])"
      ]
     },
     "execution_count": 22,
     "metadata": {},
     "output_type": "execute_result"
    }
   ],
   "source": [
    "array_3"
   ]
  },
  {
   "cell_type": "code",
   "execution_count": 21,
   "id": "21101c71-4cd8-4391-8be7-f347bd814a89",
   "metadata": {},
   "outputs": [
    {
     "data": {
      "text/plain": [
       "array([7, 8, 9])"
      ]
     },
     "execution_count": 21,
     "metadata": {},
     "output_type": "execute_result"
    }
   ],
   "source": [
    "array_3[2]"
   ]
  },
  {
   "cell_type": "code",
   "execution_count": 23,
   "id": "ff4de57c-a89b-4b8c-a472-628cd7788031",
   "metadata": {},
   "outputs": [
    {
     "data": {
      "text/plain": [
       "array([1, 2, 3])"
      ]
     },
     "execution_count": 23,
     "metadata": {},
     "output_type": "execute_result"
    }
   ],
   "source": [
    "array_3[0]"
   ]
  },
  {
   "cell_type": "code",
   "execution_count": 24,
   "id": "f73371b6-a302-45da-8d6b-796a5b8de267",
   "metadata": {},
   "outputs": [
    {
     "data": {
      "text/plain": [
       "array([[1, 2, 3],\n",
       "       [4, 5, 6],\n",
       "       [7, 8, 9]])"
      ]
     },
     "execution_count": 24,
     "metadata": {},
     "output_type": "execute_result"
    }
   ],
   "source": [
    "array_3[:]"
   ]
  },
  {
   "cell_type": "code",
   "execution_count": 25,
   "id": "2a4cc36a-b33f-48a4-8518-d51fee3d0fba",
   "metadata": {},
   "outputs": [
    {
     "data": {
      "text/plain": [
       "array([[4, 5, 6]])"
      ]
     },
     "execution_count": 25,
     "metadata": {},
     "output_type": "execute_result"
    }
   ],
   "source": [
    "array_3[1:2]"
   ]
  },
  {
   "cell_type": "code",
   "execution_count": 26,
   "id": "c17ed656-2927-40f8-9cb7-7f5831f0cb01",
   "metadata": {},
   "outputs": [
    {
     "data": {
      "text/plain": [
       "array([2, 5, 8])"
      ]
     },
     "execution_count": 26,
     "metadata": {},
     "output_type": "execute_result"
    }
   ],
   "source": [
    "array_3[:,1]"
   ]
  },
  {
   "cell_type": "code",
   "execution_count": 27,
   "id": "5034fdc7-67e8-4aac-b246-f250b01effb7",
   "metadata": {},
   "outputs": [
    {
     "data": {
      "text/plain": [
       "array([1, 2, 3, 4, 5, 6, 7, 8, 9])"
      ]
     },
     "execution_count": 27,
     "metadata": {},
     "output_type": "execute_result"
    }
   ],
   "source": [
    "np.arange(1,10)"
   ]
  },
  {
   "cell_type": "code",
   "execution_count": 29,
   "id": "9bebe96c-9808-44b6-bd39-1aa4c00703c4",
   "metadata": {},
   "outputs": [
    {
     "data": {
      "text/plain": [
       "array([10,  9,  8,  7,  6,  5,  4,  3,  2])"
      ]
     },
     "execution_count": 29,
     "metadata": {},
     "output_type": "execute_result"
    }
   ],
   "source": [
    "np.arange(10,1,-1)"
   ]
  },
  {
   "cell_type": "code",
   "execution_count": 31,
   "id": "d03d617a-d094-4007-9b4d-95c9e5416243",
   "metadata": {},
   "outputs": [
    {
     "data": {
      "text/plain": [
       "array([[0, 0, 0],\n",
       "       [0, 0, 0]])"
      ]
     },
     "execution_count": 31,
     "metadata": {},
     "output_type": "execute_result"
    }
   ],
   "source": [
    "np.zeros([2,3],dtype=int)"
   ]
  },
  {
   "cell_type": "code",
   "execution_count": 33,
   "id": "28eec96a-ece6-4bb6-b6d5-748740f03ec9",
   "metadata": {},
   "outputs": [
    {
     "data": {
      "text/plain": [
       "array([[1, 1, 1],\n",
       "       [1, 1, 1],\n",
       "       [1, 1, 1]])"
      ]
     },
     "execution_count": 33,
     "metadata": {},
     "output_type": "execute_result"
    }
   ],
   "source": [
    "np.ones((3,3),dtype=int)"
   ]
  },
  {
   "cell_type": "code",
   "execution_count": 34,
   "id": "88a9d942-1642-458e-871c-4d1cf1da48ab",
   "metadata": {},
   "outputs": [
    {
     "data": {
      "text/plain": [
       "array([[1., 0., 0.],\n",
       "       [0., 1., 0.],\n",
       "       [0., 0., 1.]])"
      ]
     },
     "execution_count": 34,
     "metadata": {},
     "output_type": "execute_result"
    }
   ],
   "source": [
    "np.eye(3,3) "
   ]
  },
  {
   "cell_type": "code",
   "execution_count": 37,
   "id": "2329e2f4-fe1b-44e1-a06a-afe9fd746ec5",
   "metadata": {},
   "outputs": [
    {
     "data": {
      "text/plain": [
       "array([ 1.        ,  1.09090909,  1.18181818,  1.27272727,  1.36363636,\n",
       "        1.45454545,  1.54545455,  1.63636364,  1.72727273,  1.81818182,\n",
       "        1.90909091,  2.        ,  2.09090909,  2.18181818,  2.27272727,\n",
       "        2.36363636,  2.45454545,  2.54545455,  2.63636364,  2.72727273,\n",
       "        2.81818182,  2.90909091,  3.        ,  3.09090909,  3.18181818,\n",
       "        3.27272727,  3.36363636,  3.45454545,  3.54545455,  3.63636364,\n",
       "        3.72727273,  3.81818182,  3.90909091,  4.        ,  4.09090909,\n",
       "        4.18181818,  4.27272727,  4.36363636,  4.45454545,  4.54545455,\n",
       "        4.63636364,  4.72727273,  4.81818182,  4.90909091,  5.        ,\n",
       "        5.09090909,  5.18181818,  5.27272727,  5.36363636,  5.45454545,\n",
       "        5.54545455,  5.63636364,  5.72727273,  5.81818182,  5.90909091,\n",
       "        6.        ,  6.09090909,  6.18181818,  6.27272727,  6.36363636,\n",
       "        6.45454545,  6.54545455,  6.63636364,  6.72727273,  6.81818182,\n",
       "        6.90909091,  7.        ,  7.09090909,  7.18181818,  7.27272727,\n",
       "        7.36363636,  7.45454545,  7.54545455,  7.63636364,  7.72727273,\n",
       "        7.81818182,  7.90909091,  8.        ,  8.09090909,  8.18181818,\n",
       "        8.27272727,  8.36363636,  8.45454545,  8.54545455,  8.63636364,\n",
       "        8.72727273,  8.81818182,  8.90909091,  9.        ,  9.09090909,\n",
       "        9.18181818,  9.27272727,  9.36363636,  9.45454545,  9.54545455,\n",
       "        9.63636364,  9.72727273,  9.81818182,  9.90909091, 10.        ])"
      ]
     },
     "execution_count": 37,
     "metadata": {},
     "output_type": "execute_result"
    }
   ],
   "source": [
    "np.linspace(1, 10, 100)"
   ]
  },
  {
   "cell_type": "code",
   "execution_count": 39,
   "id": "9e888571-d433-42e9-b804-c70203cf75a6",
   "metadata": {},
   "outputs": [
    {
     "data": {
      "text/plain": [
       "array([-10.,  -9.,  -8.,  -7.,  -6.,  -5.,  -4.,  -3.,  -2.,  -1.,   0.,\n",
       "         1.])"
      ]
     },
     "execution_count": 39,
     "metadata": {},
     "output_type": "execute_result"
    }
   ],
   "source": [
    "np.linspace(-10, 1, 12)"
   ]
  },
  {
   "cell_type": "code",
   "execution_count": 40,
   "id": "deffc69c-4804-4a2c-9734-93346f2778f6",
   "metadata": {},
   "outputs": [
    {
     "data": {
      "text/plain": [
       "array([[1, 2, 3],\n",
       "       [4, 5, 6],\n",
       "       [7, 8, 9]])"
      ]
     },
     "execution_count": 40,
     "metadata": {},
     "output_type": "execute_result"
    }
   ],
   "source": [
    "array_3"
   ]
  },
  {
   "cell_type": "code",
   "execution_count": 41,
   "id": "a87a3131-4207-4f8a-9d19-592358197de3",
   "metadata": {},
   "outputs": [
    {
     "data": {
      "text/plain": [
       "array([[1, 2, 3, 4, 5, 6, 7, 8, 9]])"
      ]
     },
     "execution_count": 41,
     "metadata": {},
     "output_type": "execute_result"
    }
   ],
   "source": [
    "array_3.reshape(1,9)"
   ]
  },
  {
   "cell_type": "code",
   "execution_count": 42,
   "id": "2cc6fa20-52ce-41e9-b7e6-325ad99edad0",
   "metadata": {},
   "outputs": [
    {
     "data": {
      "text/plain": [
       "array([[1],\n",
       "       [2],\n",
       "       [3],\n",
       "       [4],\n",
       "       [5],\n",
       "       [6],\n",
       "       [7],\n",
       "       [8],\n",
       "       [9]])"
      ]
     },
     "execution_count": 42,
     "metadata": {},
     "output_type": "execute_result"
    }
   ],
   "source": [
    "array_3.reshape(9,1)"
   ]
  },
  {
   "cell_type": "code",
   "execution_count": 43,
   "id": "47972cea-b911-4f1e-a6ed-9ac72b8ac2b1",
   "metadata": {},
   "outputs": [
    {
     "data": {
      "text/plain": [
       "array([[ 1,  2,  3,  4],\n",
       "       [ 4,  5,  6,  7],\n",
       "       [ 7,  8,  9, 10],\n",
       "       [10, 11, 12, 13]])"
      ]
     },
     "execution_count": 43,
     "metadata": {},
     "output_type": "execute_result"
    }
   ],
   "source": [
    "x=[[1,2,3,4],[4,5,6,7],[7,8,9,10],[10,11,12,13]]\n",
    "x=np.array(x)\n",
    "x"
   ]
  },
  {
   "cell_type": "code",
   "execution_count": 44,
   "id": "5dc4683e-93bc-497d-9d97-4303b11951ba",
   "metadata": {},
   "outputs": [
    {
     "data": {
      "text/plain": [
       "array([[ 1,  2,  3,  4,  4,  5,  6,  7],\n",
       "       [ 7,  8,  9, 10, 10, 11, 12, 13]])"
      ]
     },
     "execution_count": 44,
     "metadata": {},
     "output_type": "execute_result"
    }
   ],
   "source": [
    "x.reshape(2,8)"
   ]
  },
  {
   "cell_type": "code",
   "execution_count": 45,
   "id": "a29768f3-2254-43e2-a864-5bad1726ea18",
   "metadata": {},
   "outputs": [
    {
     "data": {
      "text/plain": [
       "array([[ 1,  2,  3,  4,  4,  5,  6,  7,  7,  8,  9, 10, 10, 11, 12, 13]])"
      ]
     },
     "execution_count": 45,
     "metadata": {},
     "output_type": "execute_result"
    }
   ],
   "source": [
    "x.reshape(1,16)"
   ]
  },
  {
   "cell_type": "code",
   "execution_count": 46,
   "id": "914048b3-82e6-4ef2-aef1-1929fd9ff690",
   "metadata": {},
   "outputs": [
    {
     "data": {
      "text/plain": [
       "array([[ 1,  2,  3,  4],\n",
       "       [ 4,  5,  6,  7],\n",
       "       [ 7,  8,  9, 10],\n",
       "       [10, 11, 12, 13]])"
      ]
     },
     "execution_count": 46,
     "metadata": {},
     "output_type": "execute_result"
    }
   ],
   "source": [
    "x"
   ]
  },
  {
   "cell_type": "code",
   "execution_count": 47,
   "id": "f4c93229-cd73-4c79-a832-86264f139a9e",
   "metadata": {},
   "outputs": [
    {
     "data": {
      "text/plain": [
       "13"
      ]
     },
     "execution_count": 47,
     "metadata": {},
     "output_type": "execute_result"
    }
   ],
   "source": [
    "x.max()"
   ]
  },
  {
   "cell_type": "code",
   "execution_count": 48,
   "id": "a41693fe-7a32-4532-a16a-70a9ff39b5c3",
   "metadata": {},
   "outputs": [
    {
     "data": {
      "text/plain": [
       "1"
      ]
     },
     "execution_count": 48,
     "metadata": {},
     "output_type": "execute_result"
    }
   ],
   "source": [
    "x.min()"
   ]
  },
  {
   "cell_type": "code",
   "execution_count": 49,
   "id": "beee7f29-55dc-460c-82a9-e57a3fe0cf0e",
   "metadata": {},
   "outputs": [
    {
     "data": {
      "text/plain": [
       "7.0"
      ]
     },
     "execution_count": 49,
     "metadata": {},
     "output_type": "execute_result"
    }
   ],
   "source": [
    "x.mean()"
   ]
  },
  {
   "cell_type": "code",
   "execution_count": 50,
   "id": "c2e6796a-85ff-465c-8212-d27dc313ffc8",
   "metadata": {},
   "outputs": [
    {
     "data": {
      "text/plain": [
       "3.5355339059327378"
      ]
     },
     "execution_count": 50,
     "metadata": {},
     "output_type": "execute_result"
    }
   ],
   "source": [
    "x.std()"
   ]
  },
  {
   "cell_type": "code",
   "execution_count": 51,
   "id": "e14d7b71-fe84-4270-8230-b1febd74c843",
   "metadata": {},
   "outputs": [
    {
     "data": {
      "text/plain": [
       "12.5"
      ]
     },
     "execution_count": 51,
     "metadata": {},
     "output_type": "execute_result"
    }
   ],
   "source": [
    "x.var()"
   ]
  },
  {
   "cell_type": "code",
   "execution_count": 52,
   "id": "0774d8b1-7dfb-4369-b8dd-c5a045a2f107",
   "metadata": {},
   "outputs": [
    {
     "data": {
      "text/plain": [
       "112"
      ]
     },
     "execution_count": 52,
     "metadata": {},
     "output_type": "execute_result"
    }
   ],
   "source": [
    "x.sum()"
   ]
  },
  {
   "cell_type": "code",
   "execution_count": 53,
   "id": "84f53293-39e2-4d5b-aafd-e84a622c41f0",
   "metadata": {},
   "outputs": [
    {
     "data": {
      "text/plain": [
       "array([[ 1,  2,  3,  4],\n",
       "       [ 4,  5,  6,  7],\n",
       "       [ 7,  8,  9, 10],\n",
       "       [10, 11, 12, 13]])"
      ]
     },
     "execution_count": 53,
     "metadata": {},
     "output_type": "execute_result"
    }
   ],
   "source": [
    "x"
   ]
  },
  {
   "cell_type": "code",
   "execution_count": 54,
   "id": "1d5437c4-a94e-475e-b6d4-136a6cd95c03",
   "metadata": {},
   "outputs": [
    {
     "data": {
      "text/plain": [
       "1"
      ]
     },
     "execution_count": 54,
     "metadata": {},
     "output_type": "execute_result"
    }
   ],
   "source": [
    "x.min()"
   ]
  },
  {
   "cell_type": "code",
   "execution_count": 55,
   "id": "5c252482-69b1-4f03-a47b-2a64bd2602d3",
   "metadata": {},
   "outputs": [
    {
     "data": {
      "text/plain": [
       "array([1, 2, 3, 4])"
      ]
     },
     "execution_count": 55,
     "metadata": {},
     "output_type": "execute_result"
    }
   ],
   "source": [
    "x.min(axis=0)"
   ]
  },
  {
   "cell_type": "code",
   "execution_count": 56,
   "id": "fcc9fe26-cf6e-4ce3-8ede-784d866b1ac6",
   "metadata": {},
   "outputs": [
    {
     "data": {
      "text/plain": [
       "array([ 1,  4,  7, 10])"
      ]
     },
     "execution_count": 56,
     "metadata": {},
     "output_type": "execute_result"
    }
   ],
   "source": [
    "x.min(axis=1)"
   ]
  },
  {
   "cell_type": "code",
   "execution_count": 57,
   "id": "a8ec043f-d27e-47bf-9e6d-2234797ec1d1",
   "metadata": {},
   "outputs": [
    {
     "data": {
      "text/plain": [
       "array([ 4,  7, 10, 13])"
      ]
     },
     "execution_count": 57,
     "metadata": {},
     "output_type": "execute_result"
    }
   ],
   "source": [
    "x.max(axis=1)"
   ]
  },
  {
   "cell_type": "code",
   "execution_count": 58,
   "id": "fbe3ad65-be7d-4b01-a06b-72c43cbc0bb7",
   "metadata": {},
   "outputs": [
    {
     "data": {
      "text/plain": [
       "array([[ 1,  2,  3,  4],\n",
       "       [ 4,  5,  6,  7],\n",
       "       [ 7,  8,  9, 10],\n",
       "       [10, 11, 12, 13]])"
      ]
     },
     "execution_count": 58,
     "metadata": {},
     "output_type": "execute_result"
    }
   ],
   "source": [
    "x"
   ]
  },
  {
   "cell_type": "code",
   "execution_count": 59,
   "id": "d396a19a-c879-43d8-8f6d-51d41d68fa3c",
   "metadata": {},
   "outputs": [
    {
     "data": {
      "text/plain": [
       "array([5.5, 6.5, 7.5, 8.5])"
      ]
     },
     "execution_count": 59,
     "metadata": {},
     "output_type": "execute_result"
    }
   ],
   "source": [
    "x.mean(axis=0)"
   ]
  },
  {
   "cell_type": "code",
   "execution_count": 60,
   "id": "e0ddb2cf-a11a-4e62-b747-8e8e751c0a76",
   "metadata": {},
   "outputs": [
    {
     "data": {
      "text/plain": [
       "array([ 2.5,  5.5,  8.5, 11.5])"
      ]
     },
     "execution_count": 60,
     "metadata": {},
     "output_type": "execute_result"
    }
   ],
   "source": [
    "x.mean(axis=1)"
   ]
  },
  {
   "cell_type": "code",
   "execution_count": 61,
   "id": "8bcedf22-63d0-417b-b9a7-1853c08c2357",
   "metadata": {},
   "outputs": [
    {
     "data": {
      "text/plain": [
       "array([[ 1,  2,  3,  4],\n",
       "       [ 4,  5,  6,  7],\n",
       "       [ 7,  8,  9, 10],\n",
       "       [10, 11, 12, 13]])"
      ]
     },
     "execution_count": 61,
     "metadata": {},
     "output_type": "execute_result"
    }
   ],
   "source": [
    "x"
   ]
  },
  {
   "cell_type": "code",
   "execution_count": 62,
   "id": "b7eec658-d1a4-4e04-9811-5f0f27b0bd3a",
   "metadata": {},
   "outputs": [
    {
     "data": {
      "text/plain": [
       "0"
      ]
     },
     "execution_count": 62,
     "metadata": {},
     "output_type": "execute_result"
    }
   ],
   "source": [
    "x.argmin()"
   ]
  },
  {
   "cell_type": "code",
   "execution_count": 63,
   "id": "3bd47ed7-ac85-4365-904e-ca38bbdc4d71",
   "metadata": {},
   "outputs": [
    {
     "data": {
      "text/plain": [
       "15"
      ]
     },
     "execution_count": 63,
     "metadata": {},
     "output_type": "execute_result"
    }
   ],
   "source": [
    "x.argmax()"
   ]
  },
  {
   "cell_type": "code",
   "execution_count": 64,
   "id": "3d92cb2b-9261-4a2e-a38d-1049c4630b0b",
   "metadata": {},
   "outputs": [],
   "source": [
    "X = x.flatten()"
   ]
  },
  {
   "cell_type": "code",
   "execution_count": 65,
   "id": "b6b312fb-c680-4394-800f-cbd542a63adb",
   "metadata": {},
   "outputs": [
    {
     "data": {
      "text/plain": [
       "array([ 1,  2,  3,  4,  4,  5,  6,  7,  7,  8,  9, 10, 10, 11, 12, 13])"
      ]
     },
     "execution_count": 65,
     "metadata": {},
     "output_type": "execute_result"
    }
   ],
   "source": [
    "X"
   ]
  },
  {
   "cell_type": "code",
   "execution_count": 66,
   "id": "5f4a7b22-0695-4f04-836a-0e9e6c8a3335",
   "metadata": {},
   "outputs": [
    {
     "data": {
      "text/plain": [
       "array([[ 1,  2,  3,  4],\n",
       "       [ 4,  5,  6,  7],\n",
       "       [ 7,  8,  9, 10],\n",
       "       [10, 11, 12, 13]])"
      ]
     },
     "execution_count": 66,
     "metadata": {},
     "output_type": "execute_result"
    }
   ],
   "source": [
    "x"
   ]
  },
  {
   "cell_type": "code",
   "execution_count": 67,
   "id": "582d9244-63aa-4eca-8ecd-4d714be88a82",
   "metadata": {},
   "outputs": [
    {
     "data": {
      "text/plain": [
       "array([[ 1,  4,  7, 10],\n",
       "       [ 2,  5,  8, 11],\n",
       "       [ 3,  6,  9, 12],\n",
       "       [ 4,  7, 10, 13]])"
      ]
     },
     "execution_count": 67,
     "metadata": {},
     "output_type": "execute_result"
    }
   ],
   "source": [
    "x.transpose()"
   ]
  },
  {
   "cell_type": "code",
   "execution_count": 68,
   "id": "218d64b8-26d7-4a19-8022-017919e53241",
   "metadata": {},
   "outputs": [
    {
     "name": "stdout",
     "output_type": "stream",
     "text": [
      "[[ 4 10 11]\n",
      " [21 22 23]\n",
      " [31 32 33]]\n"
     ]
    }
   ],
   "source": [
    "A = np.array([ [4, 10, 11], [21, 22, 23], [31, 32, 33] ])\n",
    "B = np.ones((3,3))\n",
    "print(A)"
   ]
  },
  {
   "cell_type": "code",
   "execution_count": 69,
   "id": "c826cc38-5841-42ff-ae16-946e044f58cd",
   "metadata": {},
   "outputs": [
    {
     "data": {
      "text/plain": [
       "array([[ 4, 10, 11],\n",
       "       [21, 22, 23],\n",
       "       [31, 32, 33]])"
      ]
     },
     "execution_count": 69,
     "metadata": {},
     "output_type": "execute_result"
    }
   ],
   "source": [
    "A"
   ]
  },
  {
   "cell_type": "code",
   "execution_count": 70,
   "id": "b47d6591-f5b8-4fad-88ac-19633c0c6e26",
   "metadata": {},
   "outputs": [
    {
     "data": {
      "text/plain": [
       "array([[1., 1., 1.],\n",
       "       [1., 1., 1.],\n",
       "       [1., 1., 1.]])"
      ]
     },
     "execution_count": 70,
     "metadata": {},
     "output_type": "execute_result"
    }
   ],
   "source": [
    "B"
   ]
  },
  {
   "cell_type": "code",
   "execution_count": 71,
   "id": "b7f16769-b139-4e21-8abe-e536f81dd075",
   "metadata": {},
   "outputs": [
    {
     "data": {
      "text/plain": [
       "array([[ 5., 11., 12.],\n",
       "       [22., 23., 24.],\n",
       "       [32., 33., 34.]])"
      ]
     },
     "execution_count": 71,
     "metadata": {},
     "output_type": "execute_result"
    }
   ],
   "source": [
    "A+B"
   ]
  },
  {
   "cell_type": "code",
   "execution_count": 72,
   "id": "790d8186-1db7-4d79-8a74-1a84697546b4",
   "metadata": {},
   "outputs": [
    {
     "data": {
      "text/plain": [
       "array([[ 3.,  9., 10.],\n",
       "       [20., 21., 22.],\n",
       "       [30., 31., 32.]])"
      ]
     },
     "execution_count": 72,
     "metadata": {},
     "output_type": "execute_result"
    }
   ],
   "source": [
    "A-B"
   ]
  },
  {
   "cell_type": "code",
   "execution_count": 73,
   "id": "1c627396-e626-449d-a1f1-c1d1b73ea405",
   "metadata": {},
   "outputs": [
    {
     "data": {
      "text/plain": [
       "array([[ 4., 10., 11.],\n",
       "       [21., 22., 23.],\n",
       "       [31., 32., 33.]])"
      ]
     },
     "execution_count": 73,
     "metadata": {},
     "output_type": "execute_result"
    }
   ],
   "source": [
    "A/B"
   ]
  },
  {
   "cell_type": "code",
   "execution_count": 74,
   "id": "3f2e0684-3949-412b-9196-d3298277127e",
   "metadata": {},
   "outputs": [
    {
     "data": {
      "text/plain": [
       "array([[0., 0., 0.],\n",
       "       [0., 0., 0.],\n",
       "       [0., 0., 0.]])"
      ]
     },
     "execution_count": 74,
     "metadata": {},
     "output_type": "execute_result"
    }
   ],
   "source": [
    "A%B"
   ]
  },
  {
   "cell_type": "code",
   "execution_count": 75,
   "id": "07cd714a-8f49-41e5-bc33-700690297718",
   "metadata": {},
   "outputs": [
    {
     "data": {
      "text/plain": [
       "array([[ 4., 10., 11.],\n",
       "       [21., 22., 23.],\n",
       "       [31., 32., 33.]])"
      ]
     },
     "execution_count": 75,
     "metadata": {},
     "output_type": "execute_result"
    }
   ],
   "source": [
    "A*B"
   ]
  },
  {
   "cell_type": "code",
   "execution_count": 76,
   "id": "c57eef4f-0d89-48fb-8aeb-8c10bdef01bd",
   "metadata": {},
   "outputs": [
    {
     "data": {
      "text/plain": [
       "array([[  16,  100,  121],\n",
       "       [ 441,  484,  529],\n",
       "       [ 961, 1024, 1089]])"
      ]
     },
     "execution_count": 76,
     "metadata": {},
     "output_type": "execute_result"
    }
   ],
   "source": [
    "A**2"
   ]
  },
  {
   "cell_type": "code",
   "execution_count": 77,
   "id": "79069ffb-cf80-4fb1-9006-a5518a0b53e9",
   "metadata": {},
   "outputs": [
    {
     "data": {
      "text/plain": [
       "array([[ 1.33333333,  3.33333333,  3.66666667],\n",
       "       [ 7.        ,  7.33333333,  7.66666667],\n",
       "       [10.33333333, 10.66666667, 11.        ]])"
      ]
     },
     "execution_count": 77,
     "metadata": {},
     "output_type": "execute_result"
    }
   ],
   "source": [
    "A/3"
   ]
  },
  {
   "cell_type": "code",
   "execution_count": 79,
   "id": "5531d449-0746-41be-bf8b-fe9d9f1e8135",
   "metadata": {},
   "outputs": [
    {
     "data": {
      "text/plain": [
       "array([[ 4, 10, 11],\n",
       "       [21, 22, 23],\n",
       "       [31, 32, 33]])"
      ]
     },
     "execution_count": 79,
     "metadata": {},
     "output_type": "execute_result"
    }
   ],
   "source": [
    "A"
   ]
  },
  {
   "cell_type": "code",
   "execution_count": 80,
   "id": "6acdaee6-ec90-4a99-ad84-1bd0a7ee5f0d",
   "metadata": {},
   "outputs": [
    {
     "data": {
      "text/plain": [
       "array([[1., 1., 1.],\n",
       "       [1., 1., 1.],\n",
       "       [1., 1., 1.]])"
      ]
     },
     "execution_count": 80,
     "metadata": {},
     "output_type": "execute_result"
    }
   ],
   "source": [
    "B"
   ]
  },
  {
   "cell_type": "code",
   "execution_count": 78,
   "id": "d999c462-abae-4338-a4d1-c02177a72658",
   "metadata": {},
   "outputs": [
    {
     "data": {
      "text/plain": [
       "array([[25., 25., 25.],\n",
       "       [66., 66., 66.],\n",
       "       [96., 96., 96.]])"
      ]
     },
     "execution_count": 78,
     "metadata": {},
     "output_type": "execute_result"
    }
   ],
   "source": [
    "np.dot(A,B)"
   ]
  },
  {
   "cell_type": "code",
   "execution_count": 81,
   "id": "4ab40d58-0c09-4c45-ba46-196176b05c8c",
   "metadata": {},
   "outputs": [
    {
     "data": {
      "text/plain": [
       "array([[2.        , 3.16227766, 3.31662479],\n",
       "       [4.58257569, 4.69041576, 4.79583152],\n",
       "       [5.56776436, 5.65685425, 5.74456265]])"
      ]
     },
     "execution_count": 81,
     "metadata": {},
     "output_type": "execute_result"
    }
   ],
   "source": [
    "np.sqrt(A)"
   ]
  },
  {
   "cell_type": "code",
   "execution_count": 82,
   "id": "5fa13437-4112-4f9c-a8ac-cf584a94182e",
   "metadata": {},
   "outputs": [
    {
     "data": {
      "text/plain": [
       "array([[5.45981500e+01, 2.20264658e+04, 5.98741417e+04],\n",
       "       [1.31881573e+09, 3.58491285e+09, 9.74480345e+09],\n",
       "       [2.90488497e+13, 7.89629602e+13, 2.14643580e+14]])"
      ]
     },
     "execution_count": 82,
     "metadata": {},
     "output_type": "execute_result"
    }
   ],
   "source": [
    "np.exp(A)"
   ]
  },
  {
   "cell_type": "code",
   "execution_count": 83,
   "id": "01296fb4-3e9c-452f-a9ae-0e6c08510648",
   "metadata": {},
   "outputs": [
    {
     "data": {
      "text/plain": [
       "array([[1.38629436, 2.30258509, 2.39789527],\n",
       "       [3.04452244, 3.09104245, 3.13549422],\n",
       "       [3.4339872 , 3.4657359 , 3.49650756]])"
      ]
     },
     "execution_count": 83,
     "metadata": {},
     "output_type": "execute_result"
    }
   ],
   "source": [
    "np.log(A)"
   ]
  },
  {
   "cell_type": "code",
   "execution_count": 84,
   "id": "ecba1766-543d-4980-9cd7-bbc0a4e2a625",
   "metadata": {},
   "outputs": [],
   "source": [
    "a=np.array([[11.667,23.662],[33.21,45.887]])"
   ]
  },
  {
   "cell_type": "code",
   "execution_count": 85,
   "id": "dac41c63-9402-4570-a6ba-7c1fb06b1dd4",
   "metadata": {},
   "outputs": [
    {
     "data": {
      "text/plain": [
       "array([[11.667, 23.662],\n",
       "       [33.21 , 45.887]])"
      ]
     },
     "execution_count": 85,
     "metadata": {},
     "output_type": "execute_result"
    }
   ],
   "source": [
    "a"
   ]
  },
  {
   "cell_type": "code",
   "execution_count": 86,
   "id": "0a0a222a-ade8-4091-9c8d-ec4f05213105",
   "metadata": {},
   "outputs": [
    {
     "data": {
      "text/plain": [
       "array([[12., 24.],\n",
       "       [33., 46.]])"
      ]
     },
     "execution_count": 86,
     "metadata": {},
     "output_type": "execute_result"
    }
   ],
   "source": [
    "np.around(a)"
   ]
  },
  {
   "cell_type": "code",
   "execution_count": 87,
   "id": "5c74f973-0667-45f6-b833-338824de7e65",
   "metadata": {},
   "outputs": [
    {
     "data": {
      "text/plain": [
       "array([[ 4, 10, 11],\n",
       "       [21, 22, 23],\n",
       "       [31, 32, 33]])"
      ]
     },
     "execution_count": 87,
     "metadata": {},
     "output_type": "execute_result"
    }
   ],
   "source": [
    "A"
   ]
  },
  {
   "cell_type": "code",
   "execution_count": 88,
   "id": "55740968-5f0c-46b8-95f0-ac68d8f47f2e",
   "metadata": {},
   "outputs": [
    {
     "data": {
      "text/plain": [
       "array([[1., 1., 1.],\n",
       "       [1., 1., 1.],\n",
       "       [1., 1., 1.]])"
      ]
     },
     "execution_count": 88,
     "metadata": {},
     "output_type": "execute_result"
    }
   ],
   "source": [
    "B"
   ]
  },
  {
   "cell_type": "code",
   "execution_count": 89,
   "id": "44858f3a-394b-47e6-aa6a-9c0632054a36",
   "metadata": {},
   "outputs": [
    {
     "data": {
      "text/plain": [
       "array([[ 4., 10., 11.],\n",
       "       [21., 22., 23.],\n",
       "       [31., 32., 33.],\n",
       "       [ 1.,  1.,  1.],\n",
       "       [ 1.,  1.,  1.],\n",
       "       [ 1.,  1.,  1.]])"
      ]
     },
     "execution_count": 89,
     "metadata": {},
     "output_type": "execute_result"
    }
   ],
   "source": [
    "np.concatenate([A,B])"
   ]
  },
  {
   "cell_type": "code",
   "execution_count": 94,
   "id": "0d8e06e4-1c73-4dbb-b959-bdea5d41d73b",
   "metadata": {},
   "outputs": [
    {
     "data": {
      "text/plain": [
       "array([[7, 6, 3, 3],\n",
       "       [2, 4, 2, 7],\n",
       "       [2, 2, 6, 5]])"
      ]
     },
     "execution_count": 94,
     "metadata": {},
     "output_type": "execute_result"
    }
   ],
   "source": [
    "np.random.randint(2,9,(3,4))"
   ]
  },
  {
   "cell_type": "code",
   "execution_count": 91,
   "id": "8f1a7605-cb15-4658-a7ed-00171d468a35",
   "metadata": {},
   "outputs": [
    {
     "data": {
      "text/plain": [
       "array([[0.65677069, 0.51168231, 0.03034794, 0.96543447],\n",
       "       [0.13855784, 0.29386686, 0.77826652, 0.30891905],\n",
       "       [0.58056901, 0.99955928, 0.70580342, 0.4742628 ]])"
      ]
     },
     "execution_count": 91,
     "metadata": {},
     "output_type": "execute_result"
    }
   ],
   "source": [
    "np.random.rand(3,4)"
   ]
  },
  {
   "cell_type": "code",
   "execution_count": 95,
   "id": "f1676dd4-086d-442b-8809-de21833e0209",
   "metadata": {},
   "outputs": [
    {
     "data": {
      "text/plain": [
       "array([[ 0.25004816,  1.33588815, -0.07364825, -0.85869547],\n",
       "       [-0.68683341,  0.31061591,  0.80879076, -1.18323419],\n",
       "       [-0.82725509, -0.45133674,  0.55373236, -0.09120607],\n",
       "       [-1.10728843,  0.74497977, -0.46574695,  0.81287044]])"
      ]
     },
     "execution_count": 95,
     "metadata": {},
     "output_type": "execute_result"
    }
   ],
   "source": [
    "np.random.randn(4,4)"
   ]
  },
  {
   "cell_type": "code",
   "execution_count": null,
   "id": "0dd7ecb0-2be2-481b-b968-417c9e97d71a",
   "metadata": {},
   "outputs": [],
   "source": []
  }
 ],
 "metadata": {
  "kernelspec": {
   "display_name": "Python 3 (ipykernel)",
   "language": "python",
   "name": "python3"
  },
  "language_info": {
   "codemirror_mode": {
    "name": "ipython",
    "version": 3
   },
   "file_extension": ".py",
   "mimetype": "text/x-python",
   "name": "python",
   "nbconvert_exporter": "python",
   "pygments_lexer": "ipython3",
   "version": "3.11.7"
  }
 },
 "nbformat": 4,
 "nbformat_minor": 5
}
