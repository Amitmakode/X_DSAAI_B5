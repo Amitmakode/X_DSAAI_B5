{
 "cells": [
  {
   "cell_type": "code",
   "execution_count": 2,
   "id": "8ed2ff9c-34fc-4445-b916-4d2762886bdc",
   "metadata": {},
   "outputs": [],
   "source": [
    "class Circle:\n",
    "    def __init__(self, radius):\n",
    "        self._radius = radius  # Protected attribute\n",
    "    \n",
    "    @property\n",
    "    def radius(self):  # Getter\n",
    "        \"\"\"Get radius\"\"\"\n",
    "        return self._radius\n",
    "    \n",
    "    @radius.setter\n",
    "    def radius(self, value):  # Setter\n",
    "        \"\"\"Set radius with validation\"\"\"\n",
    "        if value < 0:\n",
    "            raise ValueError(\"Radius cannot be negative\")\n",
    "        self._radius = value\n",
    "    \n",
    "    @property\n",
    "    def area(self):  # Read-only property\n",
    "        \"\"\"Calculate area\"\"\"\n",
    "        return 3.14159 * self._radius ** 2\n",
    "    \n",
    "    @property\n",
    "    def diameter(self):  # Read-only property\n",
    "        \"\"\"Calculate diameter\"\"\"\n",
    "        return 2 * self._radius"
   ]
  },
  {
   "cell_type": "code",
   "execution_count": 3,
   "id": "155b46df-2202-4dc4-9d97-e6c35a267608",
   "metadata": {},
   "outputs": [],
   "source": [
    "circle = Circle(5)"
   ]
  },
  {
   "cell_type": "code",
   "execution_count": 6,
   "id": "2f67558c-6273-407f-b8ed-4fc883261f0c",
   "metadata": {},
   "outputs": [
    {
     "data": {
      "text/plain": [
       "5"
      ]
     },
     "execution_count": 6,
     "metadata": {},
     "output_type": "execute_result"
    }
   ],
   "source": [
    "circle.radius"
   ]
  },
  {
   "cell_type": "code",
   "execution_count": 7,
   "id": "e7e76e8f-972b-4912-a1eb-04bdf9cd879a",
   "metadata": {},
   "outputs": [
    {
     "data": {
      "text/plain": [
       "78.53975"
      ]
     },
     "execution_count": 7,
     "metadata": {},
     "output_type": "execute_result"
    }
   ],
   "source": [
    "circle.area"
   ]
  },
  {
   "cell_type": "code",
   "execution_count": 8,
   "id": "25355744-d55b-46af-976a-28afcf0b6af5",
   "metadata": {},
   "outputs": [
    {
     "data": {
      "text/plain": [
       "10"
      ]
     },
     "execution_count": 8,
     "metadata": {},
     "output_type": "execute_result"
    }
   ],
   "source": [
    "circle.diameter"
   ]
  },
  {
   "cell_type": "code",
   "execution_count": null,
   "id": "08e51712-d195-4f28-90e6-909097d9e96a",
   "metadata": {},
   "outputs": [],
   "source": [
    "# Usage\n",
    "circle = Circle(5)\n",
    "print(circle.radius)    # 5 (using getter)\n",
    "print(circle.area)      # 78.53975 (calculated property)\n",
    "\n",
    "circle.radius = 7       # Using setter\n",
    "print(circle.diameter)  # 14\n",
    "\n",
    "# circle.radius = -3    # Would raise ValueError"
   ]
  },
  {
   "cell_type": "code",
   "execution_count": null,
   "id": "b5869b81-4335-43a7-bd0b-611ab22a4050",
   "metadata": {},
   "outputs": [],
   "source": []
  },
  {
   "cell_type": "code",
   "execution_count": null,
   "id": "11d4fe96-46a7-4ea5-bd22-7d4337e21755",
   "metadata": {},
   "outputs": [],
   "source": []
  }
 ],
 "metadata": {
  "kernelspec": {
   "display_name": "Python 3 (ipykernel)",
   "language": "python",
   "name": "python3"
  },
  "language_info": {
   "codemirror_mode": {
    "name": "ipython",
    "version": 3
   },
   "file_extension": ".py",
   "mimetype": "text/x-python",
   "name": "python",
   "nbconvert_exporter": "python",
   "pygments_lexer": "ipython3",
   "version": "3.11.7"
  }
 },
 "nbformat": 4,
 "nbformat_minor": 5
}
