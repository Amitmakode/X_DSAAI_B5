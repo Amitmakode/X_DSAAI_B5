{
 "cells": [
  {
   "cell_type": "code",
   "execution_count": null,
   "id": "12cebeda-aa21-439f-a2d1-8b6a4fa98237",
   "metadata": {},
   "outputs": [],
   "source": [
    "!pip install pandas"
   ]
  },
  {
   "cell_type": "code",
   "execution_count": 1,
   "id": "987a2ea1-b88e-4b44-a431-5b9982a9f9f0",
   "metadata": {},
   "outputs": [],
   "source": [
    "import pandas as pd"
   ]
  },
  {
   "cell_type": "code",
   "execution_count": 2,
   "id": "44487e33-424a-4110-b07a-f3995c8f8c5f",
   "metadata": {},
   "outputs": [],
   "source": [
    "import numpy as np"
   ]
  },
  {
   "cell_type": "code",
   "execution_count": 3,
   "id": "d067e4fc-1e43-4e34-be4b-fa05ede934a7",
   "metadata": {},
   "outputs": [],
   "source": [
    "data = [10, 20, 30, 40, 50]\n",
    "\n",
    "series = pd.Series(data, index=['a', 'b', 'c', 'd', 'e'])"
   ]
  },
  {
   "cell_type": "code",
   "execution_count": 4,
   "id": "623ee9a5-6053-4438-87bb-11b1dc0e247a",
   "metadata": {},
   "outputs": [
    {
     "data": {
      "text/plain": [
       "a    10\n",
       "b    20\n",
       "c    30\n",
       "d    40\n",
       "e    50\n",
       "dtype: int64"
      ]
     },
     "execution_count": 4,
     "metadata": {},
     "output_type": "execute_result"
    }
   ],
   "source": [
    "series"
   ]
  },
  {
   "cell_type": "code",
   "execution_count": 5,
   "id": "b1d9a386-be0c-465b-b3e2-20043cc491aa",
   "metadata": {},
   "outputs": [
    {
     "data": {
      "text/plain": [
       "pandas.core.series.Series"
      ]
     },
     "execution_count": 5,
     "metadata": {},
     "output_type": "execute_result"
    }
   ],
   "source": [
    "type(series)"
   ]
  },
  {
   "cell_type": "code",
   "execution_count": 6,
   "id": "b99e95d0-0fc4-44cb-baff-88fde70369fa",
   "metadata": {},
   "outputs": [],
   "source": [
    "data = {\n",
    "    'Name': ['Alice', 'Bob', 'Charlie', 'Diana'],\n",
    "    'Age': [25, 30, 35, 28],\n",
    "    'City': ['New York', 'London', 'Tokyo', 'Paris'],\n",
    "    'Salary': [70000, 80000, 90000, 75000]\n",
    "}"
   ]
  },
  {
   "cell_type": "code",
   "execution_count": 7,
   "id": "f922251d-8aa5-4467-8929-03bc8d63c803",
   "metadata": {},
   "outputs": [
    {
     "data": {
      "text/plain": [
       "{'Name': ['Alice', 'Bob', 'Charlie', 'Diana'],\n",
       " 'Age': [25, 30, 35, 28],\n",
       " 'City': ['New York', 'London', 'Tokyo', 'Paris'],\n",
       " 'Salary': [70000, 80000, 90000, 75000]}"
      ]
     },
     "execution_count": 7,
     "metadata": {},
     "output_type": "execute_result"
    }
   ],
   "source": [
    "data"
   ]
  },
  {
   "cell_type": "code",
   "execution_count": 8,
   "id": "2211f2ed-e21c-4efe-bd4e-95267ce7fb64",
   "metadata": {},
   "outputs": [],
   "source": [
    "df = pd.DataFrame(data)"
   ]
  },
  {
   "cell_type": "code",
   "execution_count": 9,
   "id": "86d9d5a7-0b72-4628-b386-bfe098c08aaa",
   "metadata": {},
   "outputs": [
    {
     "data": {
      "text/html": [
       "<div>\n",
       "<style scoped>\n",
       "    .dataframe tbody tr th:only-of-type {\n",
       "        vertical-align: middle;\n",
       "    }\n",
       "\n",
       "    .dataframe tbody tr th {\n",
       "        vertical-align: top;\n",
       "    }\n",
       "\n",
       "    .dataframe thead th {\n",
       "        text-align: right;\n",
       "    }\n",
       "</style>\n",
       "<table border=\"1\" class=\"dataframe\">\n",
       "  <thead>\n",
       "    <tr style=\"text-align: right;\">\n",
       "      <th></th>\n",
       "      <th>Name</th>\n",
       "      <th>Age</th>\n",
       "      <th>City</th>\n",
       "      <th>Salary</th>\n",
       "    </tr>\n",
       "  </thead>\n",
       "  <tbody>\n",
       "    <tr>\n",
       "      <th>0</th>\n",
       "      <td>Alice</td>\n",
       "      <td>25</td>\n",
       "      <td>New York</td>\n",
       "      <td>70000</td>\n",
       "    </tr>\n",
       "    <tr>\n",
       "      <th>1</th>\n",
       "      <td>Bob</td>\n",
       "      <td>30</td>\n",
       "      <td>London</td>\n",
       "      <td>80000</td>\n",
       "    </tr>\n",
       "    <tr>\n",
       "      <th>2</th>\n",
       "      <td>Charlie</td>\n",
       "      <td>35</td>\n",
       "      <td>Tokyo</td>\n",
       "      <td>90000</td>\n",
       "    </tr>\n",
       "    <tr>\n",
       "      <th>3</th>\n",
       "      <td>Diana</td>\n",
       "      <td>28</td>\n",
       "      <td>Paris</td>\n",
       "      <td>75000</td>\n",
       "    </tr>\n",
       "  </tbody>\n",
       "</table>\n",
       "</div>"
      ],
      "text/plain": [
       "      Name  Age      City  Salary\n",
       "0    Alice   25  New York   70000\n",
       "1      Bob   30    London   80000\n",
       "2  Charlie   35     Tokyo   90000\n",
       "3    Diana   28     Paris   75000"
      ]
     },
     "execution_count": 9,
     "metadata": {},
     "output_type": "execute_result"
    }
   ],
   "source": [
    "df"
   ]
  },
  {
   "cell_type": "code",
   "execution_count": 10,
   "id": "df755625-7a80-43bd-8951-1362fe87bdbc",
   "metadata": {},
   "outputs": [
    {
     "data": {
      "text/plain": [
       "pandas.core.frame.DataFrame"
      ]
     },
     "execution_count": 10,
     "metadata": {},
     "output_type": "execute_result"
    }
   ],
   "source": [
    "type(df)"
   ]
  },
  {
   "cell_type": "code",
   "execution_count": 12,
   "id": "fa405e13-61ab-45bf-ad43-7a5053681ee1",
   "metadata": {},
   "outputs": [
    {
     "data": {
      "text/plain": [
       "pandas.core.series.Series"
      ]
     },
     "execution_count": 12,
     "metadata": {},
     "output_type": "execute_result"
    }
   ],
   "source": [
    "type(df.Name)"
   ]
  },
  {
   "cell_type": "code",
   "execution_count": 16,
   "id": "4348a401-eb3b-4979-a177-1ff89b67f250",
   "metadata": {},
   "outputs": [
    {
     "data": {
      "text/plain": [
       "pandas.core.frame.DataFrame"
      ]
     },
     "execution_count": 16,
     "metadata": {},
     "output_type": "execute_result"
    }
   ],
   "source": [
    "type(df[[\"Name\", \"Age\"]])"
   ]
  },
  {
   "cell_type": "code",
   "execution_count": 17,
   "id": "4244ea54-3721-4fa1-9b35-752929db968e",
   "metadata": {},
   "outputs": [],
   "source": [
    "np.random.seed(42)\n",
    "df = pd.DataFrame({\n",
    "    'A': np.random.randn(100),\n",
    "    'B': np.random.randint(1, 10, 100),\n",
    "    'C': np.random.choice(['X', 'Y', 'Z'], 100),\n",
    "    'D': pd.date_range('2023-01-01', periods=100, freq='D'),\n",
    "    'E': np.random.randn(100) * 100\n",
    "})"
   ]
  },
  {
   "cell_type": "code",
   "execution_count": 18,
   "id": "55c05093-4550-4dc1-8d3d-5ed7720030a4",
   "metadata": {},
   "outputs": [
    {
     "data": {
      "text/html": [
       "<div>\n",
       "<style scoped>\n",
       "    .dataframe tbody tr th:only-of-type {\n",
       "        vertical-align: middle;\n",
       "    }\n",
       "\n",
       "    .dataframe tbody tr th {\n",
       "        vertical-align: top;\n",
       "    }\n",
       "\n",
       "    .dataframe thead th {\n",
       "        text-align: right;\n",
       "    }\n",
       "</style>\n",
       "<table border=\"1\" class=\"dataframe\">\n",
       "  <thead>\n",
       "    <tr style=\"text-align: right;\">\n",
       "      <th></th>\n",
       "      <th>A</th>\n",
       "      <th>B</th>\n",
       "      <th>C</th>\n",
       "      <th>D</th>\n",
       "      <th>E</th>\n",
       "    </tr>\n",
       "  </thead>\n",
       "  <tbody>\n",
       "    <tr>\n",
       "      <th>0</th>\n",
       "      <td>0.496714</td>\n",
       "      <td>9</td>\n",
       "      <td>Y</td>\n",
       "      <td>2023-01-01</td>\n",
       "      <td>23.229616</td>\n",
       "    </tr>\n",
       "    <tr>\n",
       "      <th>1</th>\n",
       "      <td>-0.138264</td>\n",
       "      <td>5</td>\n",
       "      <td>Y</td>\n",
       "      <td>2023-01-02</td>\n",
       "      <td>17.618092</td>\n",
       "    </tr>\n",
       "    <tr>\n",
       "      <th>2</th>\n",
       "      <td>0.647689</td>\n",
       "      <td>1</td>\n",
       "      <td>Y</td>\n",
       "      <td>2023-01-03</td>\n",
       "      <td>-115.256537</td>\n",
       "    </tr>\n",
       "    <tr>\n",
       "      <th>3</th>\n",
       "      <td>1.523030</td>\n",
       "      <td>3</td>\n",
       "      <td>Y</td>\n",
       "      <td>2023-01-04</td>\n",
       "      <td>-150.076839</td>\n",
       "    </tr>\n",
       "    <tr>\n",
       "      <th>4</th>\n",
       "      <td>-0.234153</td>\n",
       "      <td>8</td>\n",
       "      <td>Z</td>\n",
       "      <td>2023-01-05</td>\n",
       "      <td>16.502280</td>\n",
       "    </tr>\n",
       "    <tr>\n",
       "      <th>...</th>\n",
       "      <td>...</td>\n",
       "      <td>...</td>\n",
       "      <td>...</td>\n",
       "      <td>...</td>\n",
       "      <td>...</td>\n",
       "    </tr>\n",
       "    <tr>\n",
       "      <th>95</th>\n",
       "      <td>-1.463515</td>\n",
       "      <td>3</td>\n",
       "      <td>Z</td>\n",
       "      <td>2023-04-06</td>\n",
       "      <td>94.914299</td>\n",
       "    </tr>\n",
       "    <tr>\n",
       "      <th>96</th>\n",
       "      <td>0.296120</td>\n",
       "      <td>9</td>\n",
       "      <td>X</td>\n",
       "      <td>2023-04-07</td>\n",
       "      <td>-23.922480</td>\n",
       "    </tr>\n",
       "    <tr>\n",
       "      <th>97</th>\n",
       "      <td>0.261055</td>\n",
       "      <td>3</td>\n",
       "      <td>X</td>\n",
       "      <td>2023-04-08</td>\n",
       "      <td>85.397471</td>\n",
       "    </tr>\n",
       "    <tr>\n",
       "      <th>98</th>\n",
       "      <td>0.005113</td>\n",
       "      <td>9</td>\n",
       "      <td>X</td>\n",
       "      <td>2023-04-09</td>\n",
       "      <td>-27.104046</td>\n",
       "    </tr>\n",
       "    <tr>\n",
       "      <th>99</th>\n",
       "      <td>-0.234587</td>\n",
       "      <td>2</td>\n",
       "      <td>Y</td>\n",
       "      <td>2023-04-10</td>\n",
       "      <td>-61.309468</td>\n",
       "    </tr>\n",
       "  </tbody>\n",
       "</table>\n",
       "<p>100 rows × 5 columns</p>\n",
       "</div>"
      ],
      "text/plain": [
       "           A  B  C          D           E\n",
       "0   0.496714  9  Y 2023-01-01   23.229616\n",
       "1  -0.138264  5  Y 2023-01-02   17.618092\n",
       "2   0.647689  1  Y 2023-01-03 -115.256537\n",
       "3   1.523030  3  Y 2023-01-04 -150.076839\n",
       "4  -0.234153  8  Z 2023-01-05   16.502280\n",
       "..       ... .. ..        ...         ...\n",
       "95 -1.463515  3  Z 2023-04-06   94.914299\n",
       "96  0.296120  9  X 2023-04-07  -23.922480\n",
       "97  0.261055  3  X 2023-04-08   85.397471\n",
       "98  0.005113  9  X 2023-04-09  -27.104046\n",
       "99 -0.234587  2  Y 2023-04-10  -61.309468\n",
       "\n",
       "[100 rows x 5 columns]"
      ]
     },
     "execution_count": 18,
     "metadata": {},
     "output_type": "execute_result"
    }
   ],
   "source": [
    "df"
   ]
  },
  {
   "cell_type": "code",
   "execution_count": 19,
   "id": "267eb4f7-60f6-432c-8ae0-cbbe77038047",
   "metadata": {},
   "outputs": [
    {
     "data": {
      "text/plain": [
       "(100, 5)"
      ]
     },
     "execution_count": 19,
     "metadata": {},
     "output_type": "execute_result"
    }
   ],
   "source": [
    "df.shape"
   ]
  },
  {
   "cell_type": "code",
   "execution_count": 20,
   "id": "9f013bed-3fb6-4c7e-bedd-2400bad7815f",
   "metadata": {},
   "outputs": [
    {
     "name": "stdout",
     "output_type": "stream",
     "text": [
      "<class 'pandas.core.frame.DataFrame'>\n",
      "RangeIndex: 100 entries, 0 to 99\n",
      "Data columns (total 5 columns):\n",
      " #   Column  Non-Null Count  Dtype         \n",
      "---  ------  --------------  -----         \n",
      " 0   A       100 non-null    float64       \n",
      " 1   B       100 non-null    int32         \n",
      " 2   C       100 non-null    object        \n",
      " 3   D       100 non-null    datetime64[ns]\n",
      " 4   E       100 non-null    float64       \n",
      "dtypes: datetime64[ns](1), float64(2), int32(1), object(1)\n",
      "memory usage: 3.6+ KB\n"
     ]
    }
   ],
   "source": [
    "df.info()"
   ]
  },
  {
   "cell_type": "code",
   "execution_count": 21,
   "id": "7d3a9e2b-8f3e-4012-94fc-7073f977bdee",
   "metadata": {},
   "outputs": [
    {
     "data": {
      "text/plain": [
       "A           float64\n",
       "B             int32\n",
       "C            object\n",
       "D    datetime64[ns]\n",
       "E           float64\n",
       "dtype: object"
      ]
     },
     "execution_count": 21,
     "metadata": {},
     "output_type": "execute_result"
    }
   ],
   "source": [
    "df.dtypes"
   ]
  },
  {
   "cell_type": "code",
   "execution_count": 24,
   "id": "3f3f68a0-52c8-4e18-b299-6ba69cb0cabc",
   "metadata": {},
   "outputs": [
    {
     "data": {
      "text/plain": [
       "Index(['A', 'B', 'C', 'D', 'E'], dtype='object')"
      ]
     },
     "execution_count": 24,
     "metadata": {},
     "output_type": "execute_result"
    }
   ],
   "source": [
    "df.columns"
   ]
  },
  {
   "cell_type": "code",
   "execution_count": 26,
   "id": "ca4aefac-12e0-4230-ab6c-3e8b5a2e58de",
   "metadata": {},
   "outputs": [
    {
     "data": {
      "text/html": [
       "<div>\n",
       "<style scoped>\n",
       "    .dataframe tbody tr th:only-of-type {\n",
       "        vertical-align: middle;\n",
       "    }\n",
       "\n",
       "    .dataframe tbody tr th {\n",
       "        vertical-align: top;\n",
       "    }\n",
       "\n",
       "    .dataframe thead th {\n",
       "        text-align: right;\n",
       "    }\n",
       "</style>\n",
       "<table border=\"1\" class=\"dataframe\">\n",
       "  <thead>\n",
       "    <tr style=\"text-align: right;\">\n",
       "      <th></th>\n",
       "      <th>A</th>\n",
       "      <th>B</th>\n",
       "      <th>C</th>\n",
       "      <th>D</th>\n",
       "      <th>E</th>\n",
       "    </tr>\n",
       "  </thead>\n",
       "  <tbody>\n",
       "    <tr>\n",
       "      <th>0</th>\n",
       "      <td>0.496714</td>\n",
       "      <td>9</td>\n",
       "      <td>Y</td>\n",
       "      <td>2023-01-01</td>\n",
       "      <td>23.229616</td>\n",
       "    </tr>\n",
       "    <tr>\n",
       "      <th>1</th>\n",
       "      <td>-0.138264</td>\n",
       "      <td>5</td>\n",
       "      <td>Y</td>\n",
       "      <td>2023-01-02</td>\n",
       "      <td>17.618092</td>\n",
       "    </tr>\n",
       "    <tr>\n",
       "      <th>2</th>\n",
       "      <td>0.647689</td>\n",
       "      <td>1</td>\n",
       "      <td>Y</td>\n",
       "      <td>2023-01-03</td>\n",
       "      <td>-115.256537</td>\n",
       "    </tr>\n",
       "    <tr>\n",
       "      <th>3</th>\n",
       "      <td>1.523030</td>\n",
       "      <td>3</td>\n",
       "      <td>Y</td>\n",
       "      <td>2023-01-04</td>\n",
       "      <td>-150.076839</td>\n",
       "    </tr>\n",
       "    <tr>\n",
       "      <th>4</th>\n",
       "      <td>-0.234153</td>\n",
       "      <td>8</td>\n",
       "      <td>Z</td>\n",
       "      <td>2023-01-05</td>\n",
       "      <td>16.502280</td>\n",
       "    </tr>\n",
       "    <tr>\n",
       "      <th>5</th>\n",
       "      <td>-0.234137</td>\n",
       "      <td>6</td>\n",
       "      <td>X</td>\n",
       "      <td>2023-01-06</td>\n",
       "      <td>-85.592892</td>\n",
       "    </tr>\n",
       "    <tr>\n",
       "      <th>6</th>\n",
       "      <td>1.579213</td>\n",
       "      <td>8</td>\n",
       "      <td>X</td>\n",
       "      <td>2023-01-07</td>\n",
       "      <td>-3.963614</td>\n",
       "    </tr>\n",
       "    <tr>\n",
       "      <th>7</th>\n",
       "      <td>0.767435</td>\n",
       "      <td>9</td>\n",
       "      <td>X</td>\n",
       "      <td>2023-01-08</td>\n",
       "      <td>-53.466274</td>\n",
       "    </tr>\n",
       "    <tr>\n",
       "      <th>8</th>\n",
       "      <td>-0.469474</td>\n",
       "      <td>4</td>\n",
       "      <td>X</td>\n",
       "      <td>2023-01-09</td>\n",
       "      <td>-178.849650</td>\n",
       "    </tr>\n",
       "    <tr>\n",
       "      <th>9</th>\n",
       "      <td>0.542560</td>\n",
       "      <td>1</td>\n",
       "      <td>Y</td>\n",
       "      <td>2023-01-10</td>\n",
       "      <td>35.730454</td>\n",
       "    </tr>\n",
       "    <tr>\n",
       "      <th>10</th>\n",
       "      <td>-0.463418</td>\n",
       "      <td>1</td>\n",
       "      <td>X</td>\n",
       "      <td>2023-01-11</td>\n",
       "      <td>-41.453181</td>\n",
       "    </tr>\n",
       "    <tr>\n",
       "      <th>11</th>\n",
       "      <td>-0.465730</td>\n",
       "      <td>4</td>\n",
       "      <td>Z</td>\n",
       "      <td>2023-01-12</td>\n",
       "      <td>8.019871</td>\n",
       "    </tr>\n",
       "    <tr>\n",
       "      <th>12</th>\n",
       "      <td>0.241962</td>\n",
       "      <td>7</td>\n",
       "      <td>Z</td>\n",
       "      <td>2023-01-13</td>\n",
       "      <td>-89.312027</td>\n",
       "    </tr>\n",
       "    <tr>\n",
       "      <th>13</th>\n",
       "      <td>-1.913280</td>\n",
       "      <td>2</td>\n",
       "      <td>X</td>\n",
       "      <td>2023-01-14</td>\n",
       "      <td>-33.481725</td>\n",
       "    </tr>\n",
       "    <tr>\n",
       "      <th>14</th>\n",
       "      <td>-1.724918</td>\n",
       "      <td>3</td>\n",
       "      <td>X</td>\n",
       "      <td>2023-01-15</td>\n",
       "      <td>156.038014</td>\n",
       "    </tr>\n",
       "    <tr>\n",
       "      <th>15</th>\n",
       "      <td>-0.562288</td>\n",
       "      <td>1</td>\n",
       "      <td>Z</td>\n",
       "      <td>2023-01-16</td>\n",
       "      <td>12.855100</td>\n",
       "    </tr>\n",
       "    <tr>\n",
       "      <th>16</th>\n",
       "      <td>-1.012831</td>\n",
       "      <td>5</td>\n",
       "      <td>Z</td>\n",
       "      <td>2023-01-17</td>\n",
       "      <td>54.957635</td>\n",
       "    </tr>\n",
       "    <tr>\n",
       "      <th>17</th>\n",
       "      <td>0.314247</td>\n",
       "      <td>1</td>\n",
       "      <td>Y</td>\n",
       "      <td>2023-01-18</td>\n",
       "      <td>-127.087181</td>\n",
       "    </tr>\n",
       "    <tr>\n",
       "      <th>18</th>\n",
       "      <td>-0.908024</td>\n",
       "      <td>8</td>\n",
       "      <td>Z</td>\n",
       "      <td>2023-01-19</td>\n",
       "      <td>238.903596</td>\n",
       "    </tr>\n",
       "    <tr>\n",
       "      <th>19</th>\n",
       "      <td>-1.412304</td>\n",
       "      <td>1</td>\n",
       "      <td>Y</td>\n",
       "      <td>2023-01-20</td>\n",
       "      <td>184.341376</td>\n",
       "    </tr>\n",
       "  </tbody>\n",
       "</table>\n",
       "</div>"
      ],
      "text/plain": [
       "           A  B  C          D           E\n",
       "0   0.496714  9  Y 2023-01-01   23.229616\n",
       "1  -0.138264  5  Y 2023-01-02   17.618092\n",
       "2   0.647689  1  Y 2023-01-03 -115.256537\n",
       "3   1.523030  3  Y 2023-01-04 -150.076839\n",
       "4  -0.234153  8  Z 2023-01-05   16.502280\n",
       "5  -0.234137  6  X 2023-01-06  -85.592892\n",
       "6   1.579213  8  X 2023-01-07   -3.963614\n",
       "7   0.767435  9  X 2023-01-08  -53.466274\n",
       "8  -0.469474  4  X 2023-01-09 -178.849650\n",
       "9   0.542560  1  Y 2023-01-10   35.730454\n",
       "10 -0.463418  1  X 2023-01-11  -41.453181\n",
       "11 -0.465730  4  Z 2023-01-12    8.019871\n",
       "12  0.241962  7  Z 2023-01-13  -89.312027\n",
       "13 -1.913280  2  X 2023-01-14  -33.481725\n",
       "14 -1.724918  3  X 2023-01-15  156.038014\n",
       "15 -0.562288  1  Z 2023-01-16   12.855100\n",
       "16 -1.012831  5  Z 2023-01-17   54.957635\n",
       "17  0.314247  1  Y 2023-01-18 -127.087181\n",
       "18 -0.908024  8  Z 2023-01-19  238.903596\n",
       "19 -1.412304  1  Y 2023-01-20  184.341376"
      ]
     },
     "execution_count": 26,
     "metadata": {},
     "output_type": "execute_result"
    }
   ],
   "source": [
    "df.head(20)"
   ]
  },
  {
   "cell_type": "code",
   "execution_count": 28,
   "id": "f2fcc3a5-b359-454f-ae31-f6c20e3f55c7",
   "metadata": {},
   "outputs": [
    {
     "data": {
      "text/html": [
       "<div>\n",
       "<style scoped>\n",
       "    .dataframe tbody tr th:only-of-type {\n",
       "        vertical-align: middle;\n",
       "    }\n",
       "\n",
       "    .dataframe tbody tr th {\n",
       "        vertical-align: top;\n",
       "    }\n",
       "\n",
       "    .dataframe thead th {\n",
       "        text-align: right;\n",
       "    }\n",
       "</style>\n",
       "<table border=\"1\" class=\"dataframe\">\n",
       "  <thead>\n",
       "    <tr style=\"text-align: right;\">\n",
       "      <th></th>\n",
       "      <th>A</th>\n",
       "      <th>B</th>\n",
       "      <th>C</th>\n",
       "      <th>D</th>\n",
       "      <th>E</th>\n",
       "    </tr>\n",
       "  </thead>\n",
       "  <tbody>\n",
       "    <tr>\n",
       "      <th>90</th>\n",
       "      <td>0.097078</td>\n",
       "      <td>8</td>\n",
       "      <td>Z</td>\n",
       "      <td>2023-04-01</td>\n",
       "      <td>-40.791535</td>\n",
       "    </tr>\n",
       "    <tr>\n",
       "      <th>91</th>\n",
       "      <td>0.968645</td>\n",
       "      <td>4</td>\n",
       "      <td>Y</td>\n",
       "      <td>2023-04-02</td>\n",
       "      <td>26.162306</td>\n",
       "    </tr>\n",
       "    <tr>\n",
       "      <th>92</th>\n",
       "      <td>-0.702053</td>\n",
       "      <td>6</td>\n",
       "      <td>X</td>\n",
       "      <td>2023-04-03</td>\n",
       "      <td>1.214651</td>\n",
       "    </tr>\n",
       "    <tr>\n",
       "      <th>93</th>\n",
       "      <td>-0.327662</td>\n",
       "      <td>8</td>\n",
       "      <td>X</td>\n",
       "      <td>2023-04-04</td>\n",
       "      <td>93.093408</td>\n",
       "    </tr>\n",
       "    <tr>\n",
       "      <th>94</th>\n",
       "      <td>-0.392108</td>\n",
       "      <td>4</td>\n",
       "      <td>Y</td>\n",
       "      <td>2023-04-05</td>\n",
       "      <td>-52.318809</td>\n",
       "    </tr>\n",
       "    <tr>\n",
       "      <th>95</th>\n",
       "      <td>-1.463515</td>\n",
       "      <td>3</td>\n",
       "      <td>Z</td>\n",
       "      <td>2023-04-06</td>\n",
       "      <td>94.914299</td>\n",
       "    </tr>\n",
       "    <tr>\n",
       "      <th>96</th>\n",
       "      <td>0.296120</td>\n",
       "      <td>9</td>\n",
       "      <td>X</td>\n",
       "      <td>2023-04-07</td>\n",
       "      <td>-23.922480</td>\n",
       "    </tr>\n",
       "    <tr>\n",
       "      <th>97</th>\n",
       "      <td>0.261055</td>\n",
       "      <td>3</td>\n",
       "      <td>X</td>\n",
       "      <td>2023-04-08</td>\n",
       "      <td>85.397471</td>\n",
       "    </tr>\n",
       "    <tr>\n",
       "      <th>98</th>\n",
       "      <td>0.005113</td>\n",
       "      <td>9</td>\n",
       "      <td>X</td>\n",
       "      <td>2023-04-09</td>\n",
       "      <td>-27.104046</td>\n",
       "    </tr>\n",
       "    <tr>\n",
       "      <th>99</th>\n",
       "      <td>-0.234587</td>\n",
       "      <td>2</td>\n",
       "      <td>Y</td>\n",
       "      <td>2023-04-10</td>\n",
       "      <td>-61.309468</td>\n",
       "    </tr>\n",
       "  </tbody>\n",
       "</table>\n",
       "</div>"
      ],
      "text/plain": [
       "           A  B  C          D          E\n",
       "90  0.097078  8  Z 2023-04-01 -40.791535\n",
       "91  0.968645  4  Y 2023-04-02  26.162306\n",
       "92 -0.702053  6  X 2023-04-03   1.214651\n",
       "93 -0.327662  8  X 2023-04-04  93.093408\n",
       "94 -0.392108  4  Y 2023-04-05 -52.318809\n",
       "95 -1.463515  3  Z 2023-04-06  94.914299\n",
       "96  0.296120  9  X 2023-04-07 -23.922480\n",
       "97  0.261055  3  X 2023-04-08  85.397471\n",
       "98  0.005113  9  X 2023-04-09 -27.104046\n",
       "99 -0.234587  2  Y 2023-04-10 -61.309468"
      ]
     },
     "execution_count": 28,
     "metadata": {},
     "output_type": "execute_result"
    }
   ],
   "source": [
    "df.tail(10)"
   ]
  },
  {
   "cell_type": "code",
   "execution_count": 33,
   "id": "84cb1943-eee2-4cc4-a914-76322cc1cccf",
   "metadata": {},
   "outputs": [
    {
     "data": {
      "text/html": [
       "<div>\n",
       "<style scoped>\n",
       "    .dataframe tbody tr th:only-of-type {\n",
       "        vertical-align: middle;\n",
       "    }\n",
       "\n",
       "    .dataframe tbody tr th {\n",
       "        vertical-align: top;\n",
       "    }\n",
       "\n",
       "    .dataframe thead th {\n",
       "        text-align: right;\n",
       "    }\n",
       "</style>\n",
       "<table border=\"1\" class=\"dataframe\">\n",
       "  <thead>\n",
       "    <tr style=\"text-align: right;\">\n",
       "      <th></th>\n",
       "      <th>A</th>\n",
       "      <th>B</th>\n",
       "      <th>C</th>\n",
       "      <th>D</th>\n",
       "      <th>E</th>\n",
       "    </tr>\n",
       "  </thead>\n",
       "  <tbody>\n",
       "    <tr>\n",
       "      <th>26</th>\n",
       "      <td>-1.150994</td>\n",
       "      <td>1</td>\n",
       "      <td>Y</td>\n",
       "      <td>2023-01-27</td>\n",
       "      <td>-44.449874</td>\n",
       "    </tr>\n",
       "    <tr>\n",
       "      <th>47</th>\n",
       "      <td>1.057122</td>\n",
       "      <td>3</td>\n",
       "      <td>X</td>\n",
       "      <td>2023-02-17</td>\n",
       "      <td>-10.511850</td>\n",
       "    </tr>\n",
       "    <tr>\n",
       "      <th>67</th>\n",
       "      <td>1.003533</td>\n",
       "      <td>3</td>\n",
       "      <td>Y</td>\n",
       "      <td>2023-03-09</td>\n",
       "      <td>7.097242</td>\n",
       "    </tr>\n",
       "    <tr>\n",
       "      <th>87</th>\n",
       "      <td>0.328751</td>\n",
       "      <td>8</td>\n",
       "      <td>Y</td>\n",
       "      <td>2023-03-29</td>\n",
       "      <td>116.193732</td>\n",
       "    </tr>\n",
       "    <tr>\n",
       "      <th>58</th>\n",
       "      <td>0.331263</td>\n",
       "      <td>8</td>\n",
       "      <td>X</td>\n",
       "      <td>2023-02-28</td>\n",
       "      <td>-20.245753</td>\n",
       "    </tr>\n",
       "  </tbody>\n",
       "</table>\n",
       "</div>"
      ],
      "text/plain": [
       "           A  B  C          D           E\n",
       "26 -1.150994  1  Y 2023-01-27  -44.449874\n",
       "47  1.057122  3  X 2023-02-17  -10.511850\n",
       "67  1.003533  3  Y 2023-03-09    7.097242\n",
       "87  0.328751  8  Y 2023-03-29  116.193732\n",
       "58  0.331263  8  X 2023-02-28  -20.245753"
      ]
     },
     "execution_count": 33,
     "metadata": {},
     "output_type": "execute_result"
    }
   ],
   "source": [
    "df.sample(5)"
   ]
  },
  {
   "cell_type": "code",
   "execution_count": 34,
   "id": "f90b661a-8ca9-481b-8933-3e5dd3fec8ab",
   "metadata": {},
   "outputs": [
    {
     "data": {
      "text/plain": [
       "500"
      ]
     },
     "execution_count": 34,
     "metadata": {},
     "output_type": "execute_result"
    }
   ],
   "source": [
    "df.size"
   ]
  },
  {
   "cell_type": "code",
   "execution_count": 35,
   "id": "a63b2df5-35fc-4f7b-bdf7-50591aba7af5",
   "metadata": {},
   "outputs": [
    {
     "data": {
      "text/html": [
       "<div>\n",
       "<style scoped>\n",
       "    .dataframe tbody tr th:only-of-type {\n",
       "        vertical-align: middle;\n",
       "    }\n",
       "\n",
       "    .dataframe tbody tr th {\n",
       "        vertical-align: top;\n",
       "    }\n",
       "\n",
       "    .dataframe thead th {\n",
       "        text-align: right;\n",
       "    }\n",
       "</style>\n",
       "<table border=\"1\" class=\"dataframe\">\n",
       "  <thead>\n",
       "    <tr style=\"text-align: right;\">\n",
       "      <th></th>\n",
       "      <th>A</th>\n",
       "      <th>B</th>\n",
       "      <th>D</th>\n",
       "      <th>E</th>\n",
       "    </tr>\n",
       "  </thead>\n",
       "  <tbody>\n",
       "    <tr>\n",
       "      <th>count</th>\n",
       "      <td>100.000000</td>\n",
       "      <td>100.000000</td>\n",
       "      <td>100</td>\n",
       "      <td>100.000000</td>\n",
       "    </tr>\n",
       "    <tr>\n",
       "      <th>mean</th>\n",
       "      <td>-0.103847</td>\n",
       "      <td>4.730000</td>\n",
       "      <td>2023-02-19 12:00:00</td>\n",
       "      <td>8.073564</td>\n",
       "    </tr>\n",
       "    <tr>\n",
       "      <th>min</th>\n",
       "      <td>-2.619745</td>\n",
       "      <td>1.000000</td>\n",
       "      <td>2023-01-01 00:00:00</td>\n",
       "      <td>-199.496157</td>\n",
       "    </tr>\n",
       "    <tr>\n",
       "      <th>25%</th>\n",
       "      <td>-0.600906</td>\n",
       "      <td>2.000000</td>\n",
       "      <td>2023-01-25 18:00:00</td>\n",
       "      <td>-61.360443</td>\n",
       "    </tr>\n",
       "    <tr>\n",
       "      <th>50%</th>\n",
       "      <td>-0.126956</td>\n",
       "      <td>4.000000</td>\n",
       "      <td>2023-02-19 12:00:00</td>\n",
       "      <td>3.682609</td>\n",
       "    </tr>\n",
       "    <tr>\n",
       "      <th>75%</th>\n",
       "      <td>0.405952</td>\n",
       "      <td>7.000000</td>\n",
       "      <td>2023-03-16 06:00:00</td>\n",
       "      <td>85.966970</td>\n",
       "    </tr>\n",
       "    <tr>\n",
       "      <th>max</th>\n",
       "      <td>1.852278</td>\n",
       "      <td>9.000000</td>\n",
       "      <td>2023-04-10 00:00:00</td>\n",
       "      <td>238.903596</td>\n",
       "    </tr>\n",
       "    <tr>\n",
       "      <th>std</th>\n",
       "      <td>0.908168</td>\n",
       "      <td>2.733463</td>\n",
       "      <td>NaN</td>\n",
       "      <td>101.447471</td>\n",
       "    </tr>\n",
       "  </tbody>\n",
       "</table>\n",
       "</div>"
      ],
      "text/plain": [
       "                A           B                    D           E\n",
       "count  100.000000  100.000000                  100  100.000000\n",
       "mean    -0.103847    4.730000  2023-02-19 12:00:00    8.073564\n",
       "min     -2.619745    1.000000  2023-01-01 00:00:00 -199.496157\n",
       "25%     -0.600906    2.000000  2023-01-25 18:00:00  -61.360443\n",
       "50%     -0.126956    4.000000  2023-02-19 12:00:00    3.682609\n",
       "75%      0.405952    7.000000  2023-03-16 06:00:00   85.966970\n",
       "max      1.852278    9.000000  2023-04-10 00:00:00  238.903596\n",
       "std      0.908168    2.733463                  NaN  101.447471"
      ]
     },
     "execution_count": 35,
     "metadata": {},
     "output_type": "execute_result"
    }
   ],
   "source": [
    "df.describe()"
   ]
  },
  {
   "cell_type": "code",
   "execution_count": 37,
   "id": "b4e0e8b4-9f25-4785-895c-f5d65a429b31",
   "metadata": {},
   "outputs": [
    {
     "data": {
      "text/html": [
       "<div>\n",
       "<style scoped>\n",
       "    .dataframe tbody tr th:only-of-type {\n",
       "        vertical-align: middle;\n",
       "    }\n",
       "\n",
       "    .dataframe tbody tr th {\n",
       "        vertical-align: top;\n",
       "    }\n",
       "\n",
       "    .dataframe thead th {\n",
       "        text-align: right;\n",
       "    }\n",
       "</style>\n",
       "<table border=\"1\" class=\"dataframe\">\n",
       "  <thead>\n",
       "    <tr style=\"text-align: right;\">\n",
       "      <th></th>\n",
       "      <th>count</th>\n",
       "      <th>unique</th>\n",
       "      <th>top</th>\n",
       "      <th>freq</th>\n",
       "      <th>mean</th>\n",
       "      <th>min</th>\n",
       "      <th>25%</th>\n",
       "      <th>50%</th>\n",
       "      <th>75%</th>\n",
       "      <th>max</th>\n",
       "      <th>std</th>\n",
       "    </tr>\n",
       "  </thead>\n",
       "  <tbody>\n",
       "    <tr>\n",
       "      <th>A</th>\n",
       "      <td>100.0</td>\n",
       "      <td>NaN</td>\n",
       "      <td>NaN</td>\n",
       "      <td>NaN</td>\n",
       "      <td>-0.103847</td>\n",
       "      <td>-2.619745</td>\n",
       "      <td>-0.600906</td>\n",
       "      <td>-0.126956</td>\n",
       "      <td>0.405952</td>\n",
       "      <td>1.852278</td>\n",
       "      <td>0.908168</td>\n",
       "    </tr>\n",
       "    <tr>\n",
       "      <th>B</th>\n",
       "      <td>100.0</td>\n",
       "      <td>NaN</td>\n",
       "      <td>NaN</td>\n",
       "      <td>NaN</td>\n",
       "      <td>4.73</td>\n",
       "      <td>1.0</td>\n",
       "      <td>2.0</td>\n",
       "      <td>4.0</td>\n",
       "      <td>7.0</td>\n",
       "      <td>9.0</td>\n",
       "      <td>2.733463</td>\n",
       "    </tr>\n",
       "    <tr>\n",
       "      <th>C</th>\n",
       "      <td>100</td>\n",
       "      <td>3</td>\n",
       "      <td>X</td>\n",
       "      <td>36</td>\n",
       "      <td>NaN</td>\n",
       "      <td>NaN</td>\n",
       "      <td>NaN</td>\n",
       "      <td>NaN</td>\n",
       "      <td>NaN</td>\n",
       "      <td>NaN</td>\n",
       "      <td>NaN</td>\n",
       "    </tr>\n",
       "    <tr>\n",
       "      <th>D</th>\n",
       "      <td>100</td>\n",
       "      <td>NaN</td>\n",
       "      <td>NaN</td>\n",
       "      <td>NaN</td>\n",
       "      <td>2023-02-19 12:00:00</td>\n",
       "      <td>2023-01-01 00:00:00</td>\n",
       "      <td>2023-01-25 18:00:00</td>\n",
       "      <td>2023-02-19 12:00:00</td>\n",
       "      <td>2023-03-16 06:00:00</td>\n",
       "      <td>2023-04-10 00:00:00</td>\n",
       "      <td>NaN</td>\n",
       "    </tr>\n",
       "    <tr>\n",
       "      <th>E</th>\n",
       "      <td>100.0</td>\n",
       "      <td>NaN</td>\n",
       "      <td>NaN</td>\n",
       "      <td>NaN</td>\n",
       "      <td>8.073564</td>\n",
       "      <td>-199.496157</td>\n",
       "      <td>-61.360443</td>\n",
       "      <td>3.682609</td>\n",
       "      <td>85.96697</td>\n",
       "      <td>238.903596</td>\n",
       "      <td>101.447471</td>\n",
       "    </tr>\n",
       "  </tbody>\n",
       "</table>\n",
       "</div>"
      ],
      "text/plain": [
       "   count unique  top freq                 mean                  min  \\\n",
       "A  100.0    NaN  NaN  NaN            -0.103847            -2.619745   \n",
       "B  100.0    NaN  NaN  NaN                 4.73                  1.0   \n",
       "C    100      3    X   36                  NaN                  NaN   \n",
       "D    100    NaN  NaN  NaN  2023-02-19 12:00:00  2023-01-01 00:00:00   \n",
       "E  100.0    NaN  NaN  NaN             8.073564          -199.496157   \n",
       "\n",
       "                   25%                  50%                  75%  \\\n",
       "A            -0.600906            -0.126956             0.405952   \n",
       "B                  2.0                  4.0                  7.0   \n",
       "C                  NaN                  NaN                  NaN   \n",
       "D  2023-01-25 18:00:00  2023-02-19 12:00:00  2023-03-16 06:00:00   \n",
       "E           -61.360443             3.682609             85.96697   \n",
       "\n",
       "                   max         std  \n",
       "A             1.852278    0.908168  \n",
       "B                  9.0    2.733463  \n",
       "C                  NaN         NaN  \n",
       "D  2023-04-10 00:00:00         NaN  \n",
       "E           238.903596  101.447471  "
      ]
     },
     "execution_count": 37,
     "metadata": {},
     "output_type": "execute_result"
    }
   ],
   "source": [
    "df.describe(include=\"all\").T"
   ]
  },
  {
   "cell_type": "code",
   "execution_count": 39,
   "id": "db3035c7-8da5-4a55-acac-13b79a768623",
   "metadata": {},
   "outputs": [
    {
     "data": {
      "text/html": [
       "<div>\n",
       "<style scoped>\n",
       "    .dataframe tbody tr th:only-of-type {\n",
       "        vertical-align: middle;\n",
       "    }\n",
       "\n",
       "    .dataframe tbody tr th {\n",
       "        vertical-align: top;\n",
       "    }\n",
       "\n",
       "    .dataframe thead th {\n",
       "        text-align: right;\n",
       "    }\n",
       "</style>\n",
       "<table border=\"1\" class=\"dataframe\">\n",
       "  <thead>\n",
       "    <tr style=\"text-align: right;\">\n",
       "      <th></th>\n",
       "      <th>0</th>\n",
       "      <th>1</th>\n",
       "      <th>2</th>\n",
       "      <th>3</th>\n",
       "      <th>4</th>\n",
       "      <th>5</th>\n",
       "      <th>6</th>\n",
       "      <th>7</th>\n",
       "      <th>8</th>\n",
       "      <th>9</th>\n",
       "      <th>...</th>\n",
       "      <th>90</th>\n",
       "      <th>91</th>\n",
       "      <th>92</th>\n",
       "      <th>93</th>\n",
       "      <th>94</th>\n",
       "      <th>95</th>\n",
       "      <th>96</th>\n",
       "      <th>97</th>\n",
       "      <th>98</th>\n",
       "      <th>99</th>\n",
       "    </tr>\n",
       "  </thead>\n",
       "  <tbody>\n",
       "    <tr>\n",
       "      <th>A</th>\n",
       "      <td>0.496714</td>\n",
       "      <td>-0.138264</td>\n",
       "      <td>0.647689</td>\n",
       "      <td>1.52303</td>\n",
       "      <td>-0.234153</td>\n",
       "      <td>-0.234137</td>\n",
       "      <td>1.579213</td>\n",
       "      <td>0.767435</td>\n",
       "      <td>-0.469474</td>\n",
       "      <td>0.54256</td>\n",
       "      <td>...</td>\n",
       "      <td>0.097078</td>\n",
       "      <td>0.968645</td>\n",
       "      <td>-0.702053</td>\n",
       "      <td>-0.327662</td>\n",
       "      <td>-0.392108</td>\n",
       "      <td>-1.463515</td>\n",
       "      <td>0.29612</td>\n",
       "      <td>0.261055</td>\n",
       "      <td>0.005113</td>\n",
       "      <td>-0.234587</td>\n",
       "    </tr>\n",
       "    <tr>\n",
       "      <th>B</th>\n",
       "      <td>9</td>\n",
       "      <td>5</td>\n",
       "      <td>1</td>\n",
       "      <td>3</td>\n",
       "      <td>8</td>\n",
       "      <td>6</td>\n",
       "      <td>8</td>\n",
       "      <td>9</td>\n",
       "      <td>4</td>\n",
       "      <td>1</td>\n",
       "      <td>...</td>\n",
       "      <td>8</td>\n",
       "      <td>4</td>\n",
       "      <td>6</td>\n",
       "      <td>8</td>\n",
       "      <td>4</td>\n",
       "      <td>3</td>\n",
       "      <td>9</td>\n",
       "      <td>3</td>\n",
       "      <td>9</td>\n",
       "      <td>2</td>\n",
       "    </tr>\n",
       "    <tr>\n",
       "      <th>C</th>\n",
       "      <td>Y</td>\n",
       "      <td>Y</td>\n",
       "      <td>Y</td>\n",
       "      <td>Y</td>\n",
       "      <td>Z</td>\n",
       "      <td>X</td>\n",
       "      <td>X</td>\n",
       "      <td>X</td>\n",
       "      <td>X</td>\n",
       "      <td>Y</td>\n",
       "      <td>...</td>\n",
       "      <td>Z</td>\n",
       "      <td>Y</td>\n",
       "      <td>X</td>\n",
       "      <td>X</td>\n",
       "      <td>Y</td>\n",
       "      <td>Z</td>\n",
       "      <td>X</td>\n",
       "      <td>X</td>\n",
       "      <td>X</td>\n",
       "      <td>Y</td>\n",
       "    </tr>\n",
       "    <tr>\n",
       "      <th>D</th>\n",
       "      <td>2023-01-01 00:00:00</td>\n",
       "      <td>2023-01-02 00:00:00</td>\n",
       "      <td>2023-01-03 00:00:00</td>\n",
       "      <td>2023-01-04 00:00:00</td>\n",
       "      <td>2023-01-05 00:00:00</td>\n",
       "      <td>2023-01-06 00:00:00</td>\n",
       "      <td>2023-01-07 00:00:00</td>\n",
       "      <td>2023-01-08 00:00:00</td>\n",
       "      <td>2023-01-09 00:00:00</td>\n",
       "      <td>2023-01-10 00:00:00</td>\n",
       "      <td>...</td>\n",
       "      <td>2023-04-01 00:00:00</td>\n",
       "      <td>2023-04-02 00:00:00</td>\n",
       "      <td>2023-04-03 00:00:00</td>\n",
       "      <td>2023-04-04 00:00:00</td>\n",
       "      <td>2023-04-05 00:00:00</td>\n",
       "      <td>2023-04-06 00:00:00</td>\n",
       "      <td>2023-04-07 00:00:00</td>\n",
       "      <td>2023-04-08 00:00:00</td>\n",
       "      <td>2023-04-09 00:00:00</td>\n",
       "      <td>2023-04-10 00:00:00</td>\n",
       "    </tr>\n",
       "    <tr>\n",
       "      <th>E</th>\n",
       "      <td>23.229616</td>\n",
       "      <td>17.618092</td>\n",
       "      <td>-115.256537</td>\n",
       "      <td>-150.076839</td>\n",
       "      <td>16.50228</td>\n",
       "      <td>-85.592892</td>\n",
       "      <td>-3.963614</td>\n",
       "      <td>-53.466274</td>\n",
       "      <td>-178.84965</td>\n",
       "      <td>35.730454</td>\n",
       "      <td>...</td>\n",
       "      <td>-40.791535</td>\n",
       "      <td>26.162306</td>\n",
       "      <td>1.214651</td>\n",
       "      <td>93.093408</td>\n",
       "      <td>-52.318809</td>\n",
       "      <td>94.914299</td>\n",
       "      <td>-23.92248</td>\n",
       "      <td>85.397471</td>\n",
       "      <td>-27.104046</td>\n",
       "      <td>-61.309468</td>\n",
       "    </tr>\n",
       "  </tbody>\n",
       "</table>\n",
       "<p>5 rows × 100 columns</p>\n",
       "</div>"
      ],
      "text/plain": [
       "                    0                    1                    2   \\\n",
       "A             0.496714            -0.138264             0.647689   \n",
       "B                    9                    5                    1   \n",
       "C                    Y                    Y                    Y   \n",
       "D  2023-01-01 00:00:00  2023-01-02 00:00:00  2023-01-03 00:00:00   \n",
       "E            23.229616            17.618092          -115.256537   \n",
       "\n",
       "                    3                    4                    5   \\\n",
       "A              1.52303            -0.234153            -0.234137   \n",
       "B                    3                    8                    6   \n",
       "C                    Y                    Z                    X   \n",
       "D  2023-01-04 00:00:00  2023-01-05 00:00:00  2023-01-06 00:00:00   \n",
       "E          -150.076839             16.50228           -85.592892   \n",
       "\n",
       "                    6                    7                    8   \\\n",
       "A             1.579213             0.767435            -0.469474   \n",
       "B                    8                    9                    4   \n",
       "C                    X                    X                    X   \n",
       "D  2023-01-07 00:00:00  2023-01-08 00:00:00  2023-01-09 00:00:00   \n",
       "E            -3.963614           -53.466274           -178.84965   \n",
       "\n",
       "                    9   ...                   90                   91  \\\n",
       "A              0.54256  ...             0.097078             0.968645   \n",
       "B                    1  ...                    8                    4   \n",
       "C                    Y  ...                    Z                    Y   \n",
       "D  2023-01-10 00:00:00  ...  2023-04-01 00:00:00  2023-04-02 00:00:00   \n",
       "E            35.730454  ...           -40.791535            26.162306   \n",
       "\n",
       "                    92                   93                   94  \\\n",
       "A            -0.702053            -0.327662            -0.392108   \n",
       "B                    6                    8                    4   \n",
       "C                    X                    X                    Y   \n",
       "D  2023-04-03 00:00:00  2023-04-04 00:00:00  2023-04-05 00:00:00   \n",
       "E             1.214651            93.093408           -52.318809   \n",
       "\n",
       "                    95                   96                   97  \\\n",
       "A            -1.463515              0.29612             0.261055   \n",
       "B                    3                    9                    3   \n",
       "C                    Z                    X                    X   \n",
       "D  2023-04-06 00:00:00  2023-04-07 00:00:00  2023-04-08 00:00:00   \n",
       "E            94.914299            -23.92248            85.397471   \n",
       "\n",
       "                    98                   99  \n",
       "A             0.005113            -0.234587  \n",
       "B                    9                    2  \n",
       "C                    X                    Y  \n",
       "D  2023-04-09 00:00:00  2023-04-10 00:00:00  \n",
       "E           -27.104046           -61.309468  \n",
       "\n",
       "[5 rows x 100 columns]"
      ]
     },
     "execution_count": 39,
     "metadata": {},
     "output_type": "execute_result"
    }
   ],
   "source": [
    "df.T"
   ]
  },
  {
   "cell_type": "code",
   "execution_count": 41,
   "id": "15795e15-5619-47d9-96f2-38b7376dccf7",
   "metadata": {},
   "outputs": [
    {
     "data": {
      "text/plain": [
       "array(['Y', 'Z', 'X'], dtype=object)"
      ]
     },
     "execution_count": 41,
     "metadata": {},
     "output_type": "execute_result"
    }
   ],
   "source": [
    "df[\"C\"].unique()"
   ]
  },
  {
   "cell_type": "code",
   "execution_count": 42,
   "id": "a57a239e-de72-42ad-a378-cd11504a7a50",
   "metadata": {},
   "outputs": [
    {
     "data": {
      "text/plain": [
       "array([9, 5, 1, 3, 8, 6, 4, 7, 2])"
      ]
     },
     "execution_count": 42,
     "metadata": {},
     "output_type": "execute_result"
    }
   ],
   "source": [
    "df[\"B\"].unique()"
   ]
  },
  {
   "cell_type": "code",
   "execution_count": 44,
   "id": "1c24124c-b223-472a-8e15-422dc81f357f",
   "metadata": {},
   "outputs": [
    {
     "data": {
      "text/plain": [
       "B\n",
       "1    17\n",
       "3    13\n",
       "4    13\n",
       "8    12\n",
       "9    11\n",
       "6     9\n",
       "7     9\n",
       "2     9\n",
       "5     7\n",
       "Name: count, dtype: int64"
      ]
     },
     "execution_count": 44,
     "metadata": {},
     "output_type": "execute_result"
    }
   ],
   "source": [
    "df[\"B\"].value_counts()"
   ]
  },
  {
   "cell_type": "code",
   "execution_count": 46,
   "id": "a4671d79-e12b-4ba6-bd94-6135582c3b4d",
   "metadata": {},
   "outputs": [],
   "source": [
    "df1 = df.copy()"
   ]
  },
  {
   "cell_type": "code",
   "execution_count": 47,
   "id": "202efb2d-fc19-4372-8cfb-010d7f20f94b",
   "metadata": {},
   "outputs": [
    {
     "data": {
      "text/html": [
       "<div>\n",
       "<style scoped>\n",
       "    .dataframe tbody tr th:only-of-type {\n",
       "        vertical-align: middle;\n",
       "    }\n",
       "\n",
       "    .dataframe tbody tr th {\n",
       "        vertical-align: top;\n",
       "    }\n",
       "\n",
       "    .dataframe thead th {\n",
       "        text-align: right;\n",
       "    }\n",
       "</style>\n",
       "<table border=\"1\" class=\"dataframe\">\n",
       "  <thead>\n",
       "    <tr style=\"text-align: right;\">\n",
       "      <th></th>\n",
       "      <th>A</th>\n",
       "      <th>B</th>\n",
       "      <th>C</th>\n",
       "      <th>D</th>\n",
       "      <th>E</th>\n",
       "    </tr>\n",
       "  </thead>\n",
       "  <tbody>\n",
       "    <tr>\n",
       "      <th>0</th>\n",
       "      <td>0.496714</td>\n",
       "      <td>9</td>\n",
       "      <td>Y</td>\n",
       "      <td>2023-01-01</td>\n",
       "      <td>23.229616</td>\n",
       "    </tr>\n",
       "    <tr>\n",
       "      <th>1</th>\n",
       "      <td>-0.138264</td>\n",
       "      <td>5</td>\n",
       "      <td>Y</td>\n",
       "      <td>2023-01-02</td>\n",
       "      <td>17.618092</td>\n",
       "    </tr>\n",
       "    <tr>\n",
       "      <th>2</th>\n",
       "      <td>0.647689</td>\n",
       "      <td>1</td>\n",
       "      <td>Y</td>\n",
       "      <td>2023-01-03</td>\n",
       "      <td>-115.256537</td>\n",
       "    </tr>\n",
       "    <tr>\n",
       "      <th>3</th>\n",
       "      <td>1.523030</td>\n",
       "      <td>3</td>\n",
       "      <td>Y</td>\n",
       "      <td>2023-01-04</td>\n",
       "      <td>-150.076839</td>\n",
       "    </tr>\n",
       "    <tr>\n",
       "      <th>4</th>\n",
       "      <td>-0.234153</td>\n",
       "      <td>8</td>\n",
       "      <td>Z</td>\n",
       "      <td>2023-01-05</td>\n",
       "      <td>16.502280</td>\n",
       "    </tr>\n",
       "    <tr>\n",
       "      <th>...</th>\n",
       "      <td>...</td>\n",
       "      <td>...</td>\n",
       "      <td>...</td>\n",
       "      <td>...</td>\n",
       "      <td>...</td>\n",
       "    </tr>\n",
       "    <tr>\n",
       "      <th>95</th>\n",
       "      <td>-1.463515</td>\n",
       "      <td>3</td>\n",
       "      <td>Z</td>\n",
       "      <td>2023-04-06</td>\n",
       "      <td>94.914299</td>\n",
       "    </tr>\n",
       "    <tr>\n",
       "      <th>96</th>\n",
       "      <td>0.296120</td>\n",
       "      <td>9</td>\n",
       "      <td>X</td>\n",
       "      <td>2023-04-07</td>\n",
       "      <td>-23.922480</td>\n",
       "    </tr>\n",
       "    <tr>\n",
       "      <th>97</th>\n",
       "      <td>0.261055</td>\n",
       "      <td>3</td>\n",
       "      <td>X</td>\n",
       "      <td>2023-04-08</td>\n",
       "      <td>85.397471</td>\n",
       "    </tr>\n",
       "    <tr>\n",
       "      <th>98</th>\n",
       "      <td>0.005113</td>\n",
       "      <td>9</td>\n",
       "      <td>X</td>\n",
       "      <td>2023-04-09</td>\n",
       "      <td>-27.104046</td>\n",
       "    </tr>\n",
       "    <tr>\n",
       "      <th>99</th>\n",
       "      <td>-0.234587</td>\n",
       "      <td>2</td>\n",
       "      <td>Y</td>\n",
       "      <td>2023-04-10</td>\n",
       "      <td>-61.309468</td>\n",
       "    </tr>\n",
       "  </tbody>\n",
       "</table>\n",
       "<p>100 rows × 5 columns</p>\n",
       "</div>"
      ],
      "text/plain": [
       "           A  B  C          D           E\n",
       "0   0.496714  9  Y 2023-01-01   23.229616\n",
       "1  -0.138264  5  Y 2023-01-02   17.618092\n",
       "2   0.647689  1  Y 2023-01-03 -115.256537\n",
       "3   1.523030  3  Y 2023-01-04 -150.076839\n",
       "4  -0.234153  8  Z 2023-01-05   16.502280\n",
       "..       ... .. ..        ...         ...\n",
       "95 -1.463515  3  Z 2023-04-06   94.914299\n",
       "96  0.296120  9  X 2023-04-07  -23.922480\n",
       "97  0.261055  3  X 2023-04-08   85.397471\n",
       "98  0.005113  9  X 2023-04-09  -27.104046\n",
       "99 -0.234587  2  Y 2023-04-10  -61.309468\n",
       "\n",
       "[100 rows x 5 columns]"
      ]
     },
     "execution_count": 47,
     "metadata": {},
     "output_type": "execute_result"
    }
   ],
   "source": [
    "df1"
   ]
  },
  {
   "cell_type": "code",
   "execution_count": 48,
   "id": "adc33884-8e6c-4e0a-9df9-bd1d9a31de4d",
   "metadata": {},
   "outputs": [
    {
     "data": {
      "text/html": [
       "<div>\n",
       "<style scoped>\n",
       "    .dataframe tbody tr th:only-of-type {\n",
       "        vertical-align: middle;\n",
       "    }\n",
       "\n",
       "    .dataframe tbody tr th {\n",
       "        vertical-align: top;\n",
       "    }\n",
       "\n",
       "    .dataframe thead th {\n",
       "        text-align: right;\n",
       "    }\n",
       "</style>\n",
       "<table border=\"1\" class=\"dataframe\">\n",
       "  <thead>\n",
       "    <tr style=\"text-align: right;\">\n",
       "      <th></th>\n",
       "      <th>A</th>\n",
       "      <th>B</th>\n",
       "      <th>C</th>\n",
       "      <th>D</th>\n",
       "      <th>E</th>\n",
       "    </tr>\n",
       "  </thead>\n",
       "  <tbody>\n",
       "    <tr>\n",
       "      <th>0</th>\n",
       "      <td>0.496714</td>\n",
       "      <td>9</td>\n",
       "      <td>Y</td>\n",
       "      <td>2023-01-01</td>\n",
       "      <td>23.229616</td>\n",
       "    </tr>\n",
       "    <tr>\n",
       "      <th>1</th>\n",
       "      <td>-0.138264</td>\n",
       "      <td>5</td>\n",
       "      <td>Y</td>\n",
       "      <td>2023-01-02</td>\n",
       "      <td>17.618092</td>\n",
       "    </tr>\n",
       "    <tr>\n",
       "      <th>2</th>\n",
       "      <td>0.647689</td>\n",
       "      <td>1</td>\n",
       "      <td>Y</td>\n",
       "      <td>2023-01-03</td>\n",
       "      <td>-115.256537</td>\n",
       "    </tr>\n",
       "    <tr>\n",
       "      <th>3</th>\n",
       "      <td>1.523030</td>\n",
       "      <td>3</td>\n",
       "      <td>Y</td>\n",
       "      <td>2023-01-04</td>\n",
       "      <td>-150.076839</td>\n",
       "    </tr>\n",
       "    <tr>\n",
       "      <th>4</th>\n",
       "      <td>-0.234153</td>\n",
       "      <td>8</td>\n",
       "      <td>Z</td>\n",
       "      <td>2023-01-05</td>\n",
       "      <td>16.502280</td>\n",
       "    </tr>\n",
       "    <tr>\n",
       "      <th>...</th>\n",
       "      <td>...</td>\n",
       "      <td>...</td>\n",
       "      <td>...</td>\n",
       "      <td>...</td>\n",
       "      <td>...</td>\n",
       "    </tr>\n",
       "    <tr>\n",
       "      <th>95</th>\n",
       "      <td>-1.463515</td>\n",
       "      <td>3</td>\n",
       "      <td>Z</td>\n",
       "      <td>2023-04-06</td>\n",
       "      <td>94.914299</td>\n",
       "    </tr>\n",
       "    <tr>\n",
       "      <th>96</th>\n",
       "      <td>0.296120</td>\n",
       "      <td>9</td>\n",
       "      <td>X</td>\n",
       "      <td>2023-04-07</td>\n",
       "      <td>-23.922480</td>\n",
       "    </tr>\n",
       "    <tr>\n",
       "      <th>97</th>\n",
       "      <td>0.261055</td>\n",
       "      <td>3</td>\n",
       "      <td>X</td>\n",
       "      <td>2023-04-08</td>\n",
       "      <td>85.397471</td>\n",
       "    </tr>\n",
       "    <tr>\n",
       "      <th>98</th>\n",
       "      <td>0.005113</td>\n",
       "      <td>9</td>\n",
       "      <td>X</td>\n",
       "      <td>2023-04-09</td>\n",
       "      <td>-27.104046</td>\n",
       "    </tr>\n",
       "    <tr>\n",
       "      <th>99</th>\n",
       "      <td>-0.234587</td>\n",
       "      <td>2</td>\n",
       "      <td>Y</td>\n",
       "      <td>2023-04-10</td>\n",
       "      <td>-61.309468</td>\n",
       "    </tr>\n",
       "  </tbody>\n",
       "</table>\n",
       "<p>100 rows × 5 columns</p>\n",
       "</div>"
      ],
      "text/plain": [
       "           A  B  C          D           E\n",
       "0   0.496714  9  Y 2023-01-01   23.229616\n",
       "1  -0.138264  5  Y 2023-01-02   17.618092\n",
       "2   0.647689  1  Y 2023-01-03 -115.256537\n",
       "3   1.523030  3  Y 2023-01-04 -150.076839\n",
       "4  -0.234153  8  Z 2023-01-05   16.502280\n",
       "..       ... .. ..        ...         ...\n",
       "95 -1.463515  3  Z 2023-04-06   94.914299\n",
       "96  0.296120  9  X 2023-04-07  -23.922480\n",
       "97  0.261055  3  X 2023-04-08   85.397471\n",
       "98  0.005113  9  X 2023-04-09  -27.104046\n",
       "99 -0.234587  2  Y 2023-04-10  -61.309468\n",
       "\n",
       "[100 rows x 5 columns]"
      ]
     },
     "execution_count": 48,
     "metadata": {},
     "output_type": "execute_result"
    }
   ],
   "source": [
    "df"
   ]
  },
  {
   "cell_type": "code",
   "execution_count": 49,
   "id": "4ae6eb42-9f3e-4f8c-a15e-0befd35cf86d",
   "metadata": {},
   "outputs": [
    {
     "data": {
      "text/plain": [
       "RangeIndex(start=0, stop=100, step=1)"
      ]
     },
     "execution_count": 49,
     "metadata": {},
     "output_type": "execute_result"
    }
   ],
   "source": [
    "df.index"
   ]
  },
  {
   "cell_type": "code",
   "execution_count": 50,
   "id": "e0635304-d0a3-4399-9912-08fce2f47e7a",
   "metadata": {},
   "outputs": [
    {
     "name": "stdout",
     "output_type": "stream",
     "text": [
      "-0.10384651739409384\n"
     ]
    }
   ],
   "source": [
    "print(df['A'].mean())       # Mean"
   ]
  },
  {
   "cell_type": "code",
   "execution_count": 51,
   "id": "e49eebb1-f716-41e3-9289-507433334cca",
   "metadata": {},
   "outputs": [
    {
     "name": "stdout",
     "output_type": "stream",
     "text": [
      "0    -2.619745\n",
      "1    -1.987569\n",
      "2    -1.959670\n",
      "3    -1.913280\n",
      "4    -1.763040\n",
      "        ...   \n",
      "95    1.523030\n",
      "96    1.538037\n",
      "97    1.564644\n",
      "98    1.579213\n",
      "99    1.852278\n",
      "Name: A, Length: 100, dtype: float64\n"
     ]
    }
   ],
   "source": [
    "print(df['A'].mode()) "
   ]
  },
  {
   "cell_type": "code",
   "execution_count": 54,
   "id": "492d0f01-b24f-43ab-bca3-f33f311bdf8f",
   "metadata": {},
   "outputs": [
    {
     "data": {
      "text/plain": [
       "0    1\n",
       "Name: B, dtype: int32"
      ]
     },
     "execution_count": 54,
     "metadata": {},
     "output_type": "execute_result"
    }
   ],
   "source": [
    "df['B'].mode()"
   ]
  },
  {
   "cell_type": "code",
   "execution_count": 55,
   "id": "6ab195cd-aea4-4e2b-ac50-d61653087cd3",
   "metadata": {},
   "outputs": [
    {
     "data": {
      "text/plain": [
       "A   -0.103847\n",
       "B    4.730000\n",
       "E    8.073564\n",
       "dtype: float64"
      ]
     },
     "execution_count": 55,
     "metadata": {},
     "output_type": "execute_result"
    }
   ],
   "source": [
    "df[[\"A\", \"B\", \"E\"]].mean()"
   ]
  },
  {
   "cell_type": "code",
   "execution_count": 57,
   "id": "3a91a6b1-da3a-4434-8559-8df73090047e",
   "metadata": {},
   "outputs": [
    {
     "data": {
      "text/plain": [
       "A    0\n",
       "B    0\n",
       "C    0\n",
       "D    0\n",
       "E    0\n",
       "dtype: int64"
      ]
     },
     "execution_count": 57,
     "metadata": {},
     "output_type": "execute_result"
    }
   ],
   "source": [
    "df1.isnull().sum()"
   ]
  },
  {
   "cell_type": "code",
   "execution_count": 58,
   "id": "96f483d1-215d-45d3-99a7-1d5f390fac10",
   "metadata": {},
   "outputs": [
    {
     "data": {
      "text/plain": [
       "0"
      ]
     },
     "execution_count": 58,
     "metadata": {},
     "output_type": "execute_result"
    }
   ],
   "source": [
    "df1.isnull().sum().sum()"
   ]
  },
  {
   "cell_type": "code",
   "execution_count": 59,
   "id": "1b00a085-d98f-4c00-90ce-0de0b775be9a",
   "metadata": {},
   "outputs": [
    {
     "data": {
      "text/plain": [
       "A    0\n",
       "B    0\n",
       "C    0\n",
       "D    0\n",
       "E    0\n",
       "dtype: int64"
      ]
     },
     "execution_count": 59,
     "metadata": {},
     "output_type": "execute_result"
    }
   ],
   "source": [
    "df1.isna().sum()"
   ]
  },
  {
   "cell_type": "code",
   "execution_count": 60,
   "id": "0828f27f-3fe9-4ceb-9ec5-3b42107a54ff",
   "metadata": {},
   "outputs": [
    {
     "data": {
      "text/plain": [
       "0"
      ]
     },
     "execution_count": 60,
     "metadata": {},
     "output_type": "execute_result"
    }
   ],
   "source": [
    "df1[\"A\"].isnull().sum()"
   ]
  },
  {
   "cell_type": "code",
   "execution_count": 61,
   "id": "3901f2a7-2e22-4fe7-b446-85f8bf42752b",
   "metadata": {},
   "outputs": [
    {
     "name": "stdout",
     "output_type": "stream",
     "text": [
      "A    100\n",
      "B    100\n",
      "C    100\n",
      "D    100\n",
      "E    100\n",
      "dtype: int64\n"
     ]
    }
   ],
   "source": [
    "print(df1.notnull().sum())  "
   ]
  },
  {
   "cell_type": "code",
   "execution_count": 62,
   "id": "2918f80c-e1e6-4262-9ff9-e83909187411",
   "metadata": {},
   "outputs": [
    {
     "data": {
      "text/html": [
       "<div>\n",
       "<style scoped>\n",
       "    .dataframe tbody tr th:only-of-type {\n",
       "        vertical-align: middle;\n",
       "    }\n",
       "\n",
       "    .dataframe tbody tr th {\n",
       "        vertical-align: top;\n",
       "    }\n",
       "\n",
       "    .dataframe thead th {\n",
       "        text-align: right;\n",
       "    }\n",
       "</style>\n",
       "<table border=\"1\" class=\"dataframe\">\n",
       "  <thead>\n",
       "    <tr style=\"text-align: right;\">\n",
       "      <th></th>\n",
       "      <th>A</th>\n",
       "      <th>B</th>\n",
       "      <th>C</th>\n",
       "      <th>D</th>\n",
       "      <th>E</th>\n",
       "    </tr>\n",
       "  </thead>\n",
       "  <tbody>\n",
       "    <tr>\n",
       "      <th>0</th>\n",
       "      <td>0.496714</td>\n",
       "      <td>9</td>\n",
       "      <td>Y</td>\n",
       "      <td>2023-01-01</td>\n",
       "      <td>23.229616</td>\n",
       "    </tr>\n",
       "    <tr>\n",
       "      <th>1</th>\n",
       "      <td>-0.138264</td>\n",
       "      <td>5</td>\n",
       "      <td>Y</td>\n",
       "      <td>2023-01-02</td>\n",
       "      <td>17.618092</td>\n",
       "    </tr>\n",
       "    <tr>\n",
       "      <th>2</th>\n",
       "      <td>0.647689</td>\n",
       "      <td>1</td>\n",
       "      <td>Y</td>\n",
       "      <td>2023-01-03</td>\n",
       "      <td>-115.256537</td>\n",
       "    </tr>\n",
       "    <tr>\n",
       "      <th>3</th>\n",
       "      <td>1.523030</td>\n",
       "      <td>3</td>\n",
       "      <td>Y</td>\n",
       "      <td>2023-01-04</td>\n",
       "      <td>-150.076839</td>\n",
       "    </tr>\n",
       "    <tr>\n",
       "      <th>4</th>\n",
       "      <td>-0.234153</td>\n",
       "      <td>8</td>\n",
       "      <td>Z</td>\n",
       "      <td>2023-01-05</td>\n",
       "      <td>16.502280</td>\n",
       "    </tr>\n",
       "    <tr>\n",
       "      <th>...</th>\n",
       "      <td>...</td>\n",
       "      <td>...</td>\n",
       "      <td>...</td>\n",
       "      <td>...</td>\n",
       "      <td>...</td>\n",
       "    </tr>\n",
       "    <tr>\n",
       "      <th>95</th>\n",
       "      <td>-1.463515</td>\n",
       "      <td>3</td>\n",
       "      <td>Z</td>\n",
       "      <td>2023-04-06</td>\n",
       "      <td>94.914299</td>\n",
       "    </tr>\n",
       "    <tr>\n",
       "      <th>96</th>\n",
       "      <td>0.296120</td>\n",
       "      <td>9</td>\n",
       "      <td>X</td>\n",
       "      <td>2023-04-07</td>\n",
       "      <td>-23.922480</td>\n",
       "    </tr>\n",
       "    <tr>\n",
       "      <th>97</th>\n",
       "      <td>0.261055</td>\n",
       "      <td>3</td>\n",
       "      <td>X</td>\n",
       "      <td>2023-04-08</td>\n",
       "      <td>85.397471</td>\n",
       "    </tr>\n",
       "    <tr>\n",
       "      <th>98</th>\n",
       "      <td>0.005113</td>\n",
       "      <td>9</td>\n",
       "      <td>X</td>\n",
       "      <td>2023-04-09</td>\n",
       "      <td>-27.104046</td>\n",
       "    </tr>\n",
       "    <tr>\n",
       "      <th>99</th>\n",
       "      <td>-0.234587</td>\n",
       "      <td>2</td>\n",
       "      <td>Y</td>\n",
       "      <td>2023-04-10</td>\n",
       "      <td>-61.309468</td>\n",
       "    </tr>\n",
       "  </tbody>\n",
       "</table>\n",
       "<p>100 rows × 5 columns</p>\n",
       "</div>"
      ],
      "text/plain": [
       "           A  B  C          D           E\n",
       "0   0.496714  9  Y 2023-01-01   23.229616\n",
       "1  -0.138264  5  Y 2023-01-02   17.618092\n",
       "2   0.647689  1  Y 2023-01-03 -115.256537\n",
       "3   1.523030  3  Y 2023-01-04 -150.076839\n",
       "4  -0.234153  8  Z 2023-01-05   16.502280\n",
       "..       ... .. ..        ...         ...\n",
       "95 -1.463515  3  Z 2023-04-06   94.914299\n",
       "96  0.296120  9  X 2023-04-07  -23.922480\n",
       "97  0.261055  3  X 2023-04-08   85.397471\n",
       "98  0.005113  9  X 2023-04-09  -27.104046\n",
       "99 -0.234587  2  Y 2023-04-10  -61.309468\n",
       "\n",
       "[100 rows x 5 columns]"
      ]
     },
     "execution_count": 62,
     "metadata": {},
     "output_type": "execute_result"
    }
   ],
   "source": [
    "df1"
   ]
  },
  {
   "cell_type": "code",
   "execution_count": 68,
   "id": "5aa64f7e-9d95-4a35-94cf-fe4f05673572",
   "metadata": {},
   "outputs": [
    {
     "data": {
      "text/html": [
       "<div>\n",
       "<style scoped>\n",
       "    .dataframe tbody tr th:only-of-type {\n",
       "        vertical-align: middle;\n",
       "    }\n",
       "\n",
       "    .dataframe tbody tr th {\n",
       "        vertical-align: top;\n",
       "    }\n",
       "\n",
       "    .dataframe thead th {\n",
       "        text-align: right;\n",
       "    }\n",
       "</style>\n",
       "<table border=\"1\" class=\"dataframe\">\n",
       "  <thead>\n",
       "    <tr style=\"text-align: right;\">\n",
       "      <th></th>\n",
       "      <th>A</th>\n",
       "      <th>C</th>\n",
       "    </tr>\n",
       "  </thead>\n",
       "  <tbody>\n",
       "    <tr>\n",
       "      <th>10</th>\n",
       "      <td>-0.463418</td>\n",
       "      <td>X</td>\n",
       "    </tr>\n",
       "    <tr>\n",
       "      <th>20</th>\n",
       "      <td>1.465649</td>\n",
       "      <td>Y</td>\n",
       "    </tr>\n",
       "    <tr>\n",
       "      <th>30</th>\n",
       "      <td>-0.601707</td>\n",
       "      <td>X</td>\n",
       "    </tr>\n",
       "    <tr>\n",
       "      <th>40</th>\n",
       "      <td>0.738467</td>\n",
       "      <td>X</td>\n",
       "    </tr>\n",
       "    <tr>\n",
       "      <th>50</th>\n",
       "      <td>0.324084</td>\n",
       "      <td>X</td>\n",
       "    </tr>\n",
       "    <tr>\n",
       "      <th>60</th>\n",
       "      <td>-0.479174</td>\n",
       "      <td>X</td>\n",
       "    </tr>\n",
       "    <tr>\n",
       "      <th>70</th>\n",
       "      <td>0.361396</td>\n",
       "      <td>Y</td>\n",
       "    </tr>\n",
       "    <tr>\n",
       "      <th>80</th>\n",
       "      <td>-0.219672</td>\n",
       "      <td>X</td>\n",
       "    </tr>\n",
       "    <tr>\n",
       "      <th>90</th>\n",
       "      <td>0.097078</td>\n",
       "      <td>Z</td>\n",
       "    </tr>\n",
       "  </tbody>\n",
       "</table>\n",
       "</div>"
      ],
      "text/plain": [
       "           A  C\n",
       "10 -0.463418  X\n",
       "20  1.465649  Y\n",
       "30 -0.601707  X\n",
       "40  0.738467  X\n",
       "50  0.324084  X\n",
       "60 -0.479174  X\n",
       "70  0.361396  Y\n",
       "80 -0.219672  X\n",
       "90  0.097078  Z"
      ]
     },
     "execution_count": 68,
     "metadata": {},
     "output_type": "execute_result"
    }
   ],
   "source": [
    "df1.loc[10:90:10, [\"A\", \"C\"]]"
   ]
  },
  {
   "cell_type": "code",
   "execution_count": 70,
   "id": "035c6812-e49c-4bb7-96ab-afcfdfb573c5",
   "metadata": {},
   "outputs": [
    {
     "data": {
      "text/html": [
       "<div>\n",
       "<style scoped>\n",
       "    .dataframe tbody tr th:only-of-type {\n",
       "        vertical-align: middle;\n",
       "    }\n",
       "\n",
       "    .dataframe tbody tr th {\n",
       "        vertical-align: top;\n",
       "    }\n",
       "\n",
       "    .dataframe thead th {\n",
       "        text-align: right;\n",
       "    }\n",
       "</style>\n",
       "<table border=\"1\" class=\"dataframe\">\n",
       "  <thead>\n",
       "    <tr style=\"text-align: right;\">\n",
       "      <th></th>\n",
       "      <th>A</th>\n",
       "      <th>B</th>\n",
       "      <th>C</th>\n",
       "      <th>D</th>\n",
       "    </tr>\n",
       "  </thead>\n",
       "  <tbody>\n",
       "    <tr>\n",
       "      <th>10</th>\n",
       "      <td>-0.463418</td>\n",
       "      <td>1</td>\n",
       "      <td>X</td>\n",
       "      <td>2023-01-11</td>\n",
       "    </tr>\n",
       "    <tr>\n",
       "      <th>20</th>\n",
       "      <td>1.465649</td>\n",
       "      <td>1</td>\n",
       "      <td>Y</td>\n",
       "      <td>2023-01-21</td>\n",
       "    </tr>\n",
       "    <tr>\n",
       "      <th>30</th>\n",
       "      <td>-0.601707</td>\n",
       "      <td>5</td>\n",
       "      <td>X</td>\n",
       "      <td>2023-01-31</td>\n",
       "    </tr>\n",
       "    <tr>\n",
       "      <th>40</th>\n",
       "      <td>0.738467</td>\n",
       "      <td>4</td>\n",
       "      <td>X</td>\n",
       "      <td>2023-02-10</td>\n",
       "    </tr>\n",
       "    <tr>\n",
       "      <th>50</th>\n",
       "      <td>0.324084</td>\n",
       "      <td>3</td>\n",
       "      <td>X</td>\n",
       "      <td>2023-02-20</td>\n",
       "    </tr>\n",
       "    <tr>\n",
       "      <th>60</th>\n",
       "      <td>-0.479174</td>\n",
       "      <td>2</td>\n",
       "      <td>X</td>\n",
       "      <td>2023-03-02</td>\n",
       "    </tr>\n",
       "    <tr>\n",
       "      <th>70</th>\n",
       "      <td>0.361396</td>\n",
       "      <td>4</td>\n",
       "      <td>Y</td>\n",
       "      <td>2023-03-12</td>\n",
       "    </tr>\n",
       "    <tr>\n",
       "      <th>80</th>\n",
       "      <td>-0.219672</td>\n",
       "      <td>3</td>\n",
       "      <td>X</td>\n",
       "      <td>2023-03-22</td>\n",
       "    </tr>\n",
       "    <tr>\n",
       "      <th>90</th>\n",
       "      <td>0.097078</td>\n",
       "      <td>8</td>\n",
       "      <td>Z</td>\n",
       "      <td>2023-04-01</td>\n",
       "    </tr>\n",
       "  </tbody>\n",
       "</table>\n",
       "</div>"
      ],
      "text/plain": [
       "           A  B  C          D\n",
       "10 -0.463418  1  X 2023-01-11\n",
       "20  1.465649  1  Y 2023-01-21\n",
       "30 -0.601707  5  X 2023-01-31\n",
       "40  0.738467  4  X 2023-02-10\n",
       "50  0.324084  3  X 2023-02-20\n",
       "60 -0.479174  2  X 2023-03-02\n",
       "70  0.361396  4  Y 2023-03-12\n",
       "80 -0.219672  3  X 2023-03-22\n",
       "90  0.097078  8  Z 2023-04-01"
      ]
     },
     "execution_count": 70,
     "metadata": {},
     "output_type": "execute_result"
    }
   ],
   "source": [
    "df1.iloc[10:100:10, 0:4]"
   ]
  },
  {
   "cell_type": "code",
   "execution_count": 72,
   "id": "86574ee4-fb68-4f76-8642-fafa42bb197d",
   "metadata": {},
   "outputs": [],
   "source": [
    "data = pd.read_csv(\"F:\\\\Dataset\\\\onlineretails.csv\")"
   ]
  },
  {
   "cell_type": "code",
   "execution_count": 74,
   "id": "8d0a161d-bfa3-4329-90d8-82e63d39d125",
   "metadata": {},
   "outputs": [],
   "source": [
    "data1 = pd.read_csv(\"https://raw.githubusercontent.com/Amitmakode/X_DSAAI_B4/refs/heads/main/Python/25.%20saless.csv?token=GHSAT0AAAAAADN6CAG2LH42OTCRM3IRYMRY2IBXLYQ\")"
   ]
  },
  {
   "cell_type": "code",
   "execution_count": 75,
   "id": "5a69c461-5f26-4c9a-ba35-50c6bec3b4d5",
   "metadata": {},
   "outputs": [
    {
     "name": "stdout",
     "output_type": "stream",
     "text": [
      "<class 'pandas.core.frame.DataFrame'>\n",
      "RangeIndex: 541909 entries, 0 to 541908\n",
      "Data columns (total 10 columns):\n",
      " #   Column       Non-Null Count   Dtype  \n",
      "---  ------       --------------   -----  \n",
      " 0   InvoiceNo    541909 non-null  object \n",
      " 1   StockCode    541909 non-null  object \n",
      " 2   Description  540455 non-null  object \n",
      " 3   Quantity     541909 non-null  int64  \n",
      " 4   InvoiceDate  541909 non-null  object \n",
      " 5   UnitPrice    541909 non-null  float64\n",
      " 6   CustomerID   541909 non-null  float64\n",
      " 7   Country      541909 non-null  object \n",
      " 8   Data_copy    541909 non-null  object \n",
      " 9   descrip      540455 non-null  object \n",
      "dtypes: float64(2), int64(1), object(7)\n",
      "memory usage: 41.3+ MB\n"
     ]
    }
   ],
   "source": [
    "data.info()"
   ]
  },
  {
   "cell_type": "code",
   "execution_count": 76,
   "id": "ef1ed359-83bc-4e65-abb2-66805ff4bb83",
   "metadata": {},
   "outputs": [
    {
     "data": {
      "text/plain": [
       "InvoiceNo         0\n",
       "StockCode         0\n",
       "Description    1454\n",
       "Quantity          0\n",
       "InvoiceDate       0\n",
       "UnitPrice         0\n",
       "CustomerID        0\n",
       "Country           0\n",
       "Data_copy         0\n",
       "descrip        1454\n",
       "dtype: int64"
      ]
     },
     "execution_count": 76,
     "metadata": {},
     "output_type": "execute_result"
    }
   ],
   "source": [
    "data.isnull().sum()"
   ]
  },
  {
   "cell_type": "code",
   "execution_count": 79,
   "id": "5721dff7-7e1d-4c68-8786-ad37ca874b6e",
   "metadata": {},
   "outputs": [],
   "source": [
    "data = pd.read_csv(\"F:\\\\Dataset\\\\messy_vehicle_sales_data.xls\")"
   ]
  },
  {
   "cell_type": "code",
   "execution_count": 80,
   "id": "fbb01cae-f9df-4229-a786-a11deeeaa5c1",
   "metadata": {},
   "outputs": [
    {
     "data": {
      "text/plain": [
       "(2000000, 54)"
      ]
     },
     "execution_count": 80,
     "metadata": {},
     "output_type": "execute_result"
    }
   ],
   "source": [
    "data.shape"
   ]
  },
  {
   "cell_type": "code",
   "execution_count": 81,
   "id": "6f7bdf97-74fa-44d7-8dea-2e20234f31c6",
   "metadata": {},
   "outputs": [
    {
     "data": {
      "text/html": [
       "<div>\n",
       "<style scoped>\n",
       "    .dataframe tbody tr th:only-of-type {\n",
       "        vertical-align: middle;\n",
       "    }\n",
       "\n",
       "    .dataframe tbody tr th {\n",
       "        vertical-align: top;\n",
       "    }\n",
       "\n",
       "    .dataframe thead th {\n",
       "        text-align: right;\n",
       "    }\n",
       "</style>\n",
       "<table border=\"1\" class=\"dataframe\">\n",
       "  <thead>\n",
       "    <tr style=\"text-align: right;\">\n",
       "      <th></th>\n",
       "      <th>Transaction_ID</th>\n",
       "      <th>Sale_Date</th>\n",
       "      <th>Manufacturer</th>\n",
       "      <th>Model</th>\n",
       "      <th>Production_Year</th>\n",
       "      <th>Vehicle_Type</th>\n",
       "      <th>Fuel_Type</th>\n",
       "      <th>Engine_Size</th>\n",
       "      <th>Horsepower</th>\n",
       "      <th>Torque</th>\n",
       "      <th>...</th>\n",
       "      <th>Curb_Weight_kg</th>\n",
       "      <th>Towing_Capacity_kg</th>\n",
       "      <th>Interior_Material</th>\n",
       "      <th>Exterior_Color</th>\n",
       "      <th>Number_of_Airbags</th>\n",
       "      <th>Software_Update_Capability</th>\n",
       "      <th>Regional_Tax_Rate</th>\n",
       "      <th>Charging_Infrastructure_Score</th>\n",
       "      <th>Tariff_Impact_Pct</th>\n",
       "      <th>Consumer_Demand_Index</th>\n",
       "    </tr>\n",
       "  </thead>\n",
       "  <tbody>\n",
       "    <tr>\n",
       "      <th>0</th>\n",
       "      <td>TXN0</td>\n",
       "      <td>12/07/2021</td>\n",
       "      <td>Ford</td>\n",
       "      <td>ModelX</td>\n",
       "      <td>2017.0</td>\n",
       "      <td>@@@</td>\n",
       "      <td>??</td>\n",
       "      <td>NaN</td>\n",
       "      <td>150 hp</td>\n",
       "      <td>NaN</td>\n",
       "      <td>...</td>\n",
       "      <td>NaN</td>\n",
       "      <td>2000.0</td>\n",
       "      <td>Vinyl</td>\n",
       "      <td>Red</td>\n",
       "      <td>6.0</td>\n",
       "      <td>No</td>\n",
       "      <td>10.0</td>\n",
       "      <td>NaN</td>\n",
       "      <td>NaN</td>\n",
       "      <td>999.0</td>\n",
       "    </tr>\n",
       "    <tr>\n",
       "      <th>1</th>\n",
       "      <td>TXN1</td>\n",
       "      <td>NaN</td>\n",
       "      <td>Ford</td>\n",
       "      <td>ModelX</td>\n",
       "      <td>2019.0</td>\n",
       "      <td>123</td>\n",
       "      <td>??</td>\n",
       "      <td>2.0L</td>\n",
       "      <td>200HP</td>\n",
       "      <td>280 newton</td>\n",
       "      <td>...</td>\n",
       "      <td>NaN</td>\n",
       "      <td>2000.0</td>\n",
       "      <td>NaN</td>\n",
       "      <td>Blue</td>\n",
       "      <td>4.0</td>\n",
       "      <td>Yes</td>\n",
       "      <td>NaN</td>\n",
       "      <td>NaN</td>\n",
       "      <td>5.0</td>\n",
       "      <td>NaN</td>\n",
       "    </tr>\n",
       "    <tr>\n",
       "      <th>2</th>\n",
       "      <td>TXN2##</td>\n",
       "      <td>12/07/2021</td>\n",
       "      <td>BMW</td>\n",
       "      <td>Civic</td>\n",
       "      <td>2019.0</td>\n",
       "      <td>Sedan</td>\n",
       "      <td>Petrol</td>\n",
       "      <td>3.5L</td>\n",
       "      <td>220 horsepower</td>\n",
       "      <td>300Nm</td>\n",
       "      <td>...</td>\n",
       "      <td>1800kg</td>\n",
       "      <td>1000.0</td>\n",
       "      <td>Fabric</td>\n",
       "      <td>??</td>\n",
       "      <td>NaN</td>\n",
       "      <td>No</td>\n",
       "      <td>NaN</td>\n",
       "      <td>NaN</td>\n",
       "      <td>5.0</td>\n",
       "      <td>999.0</td>\n",
       "    </tr>\n",
       "    <tr>\n",
       "      <th>3</th>\n",
       "      <td>TXN3</td>\n",
       "      <td>July 12, 2021</td>\n",
       "      <td>Hyundai</td>\n",
       "      <td>Corolla</td>\n",
       "      <td>NaN</td>\n",
       "      <td>Coupe</td>\n",
       "      <td>NaN</td>\n",
       "      <td>NaN</td>\n",
       "      <td>220 horsepower</td>\n",
       "      <td>280 newton</td>\n",
       "      <td>...</td>\n",
       "      <td>1500</td>\n",
       "      <td>1000.0</td>\n",
       "      <td>Fabric</td>\n",
       "      <td>NaN</td>\n",
       "      <td>8.0</td>\n",
       "      <td>Yes</td>\n",
       "      <td>10.0</td>\n",
       "      <td>70.0</td>\n",
       "      <td>999.0</td>\n",
       "      <td>NaN</td>\n",
       "    </tr>\n",
       "    <tr>\n",
       "      <th>4</th>\n",
       "      <td>TXN4ERR</td>\n",
       "      <td>2021-07-12</td>\n",
       "      <td>Hyundai</td>\n",
       "      <td>Civic</td>\n",
       "      <td>2019.0</td>\n",
       "      <td>SUV</td>\n",
       "      <td>Electric</td>\n",
       "      <td>NaN</td>\n",
       "      <td>150 hp</td>\n",
       "      <td>300Nm</td>\n",
       "      <td>...</td>\n",
       "      <td>NaN</td>\n",
       "      <td>2000.0</td>\n",
       "      <td>Leather</td>\n",
       "      <td>Red</td>\n",
       "      <td>4.0</td>\n",
       "      <td>No</td>\n",
       "      <td>5.0</td>\n",
       "      <td>50.0</td>\n",
       "      <td>15.0</td>\n",
       "      <td>50.0</td>\n",
       "    </tr>\n",
       "  </tbody>\n",
       "</table>\n",
       "<p>5 rows × 54 columns</p>\n",
       "</div>"
      ],
      "text/plain": [
       "  Transaction_ID      Sale_Date Manufacturer    Model  Production_Year  \\\n",
       "0           TXN0     12/07/2021         Ford   ModelX           2017.0   \n",
       "1           TXN1            NaN         Ford   ModelX           2019.0   \n",
       "2         TXN2##     12/07/2021          BMW    Civic           2019.0   \n",
       "3           TXN3  July 12, 2021      Hyundai  Corolla              NaN   \n",
       "4        TXN4ERR     2021-07-12      Hyundai    Civic           2019.0   \n",
       "\n",
       "  Vehicle_Type Fuel_Type Engine_Size      Horsepower      Torque  ...  \\\n",
       "0          @@@        ??         NaN          150 hp         NaN  ...   \n",
       "1          123        ??        2.0L           200HP  280 newton  ...   \n",
       "2        Sedan    Petrol        3.5L  220 horsepower       300Nm  ...   \n",
       "3        Coupe       NaN         NaN  220 horsepower  280 newton  ...   \n",
       "4          SUV  Electric         NaN          150 hp       300Nm  ...   \n",
       "\n",
       "   Curb_Weight_kg Towing_Capacity_kg Interior_Material Exterior_Color  \\\n",
       "0             NaN             2000.0             Vinyl            Red   \n",
       "1             NaN             2000.0               NaN           Blue   \n",
       "2          1800kg             1000.0            Fabric             ??   \n",
       "3            1500             1000.0            Fabric            NaN   \n",
       "4             NaN             2000.0           Leather            Red   \n",
       "\n",
       "  Number_of_Airbags  Software_Update_Capability Regional_Tax_Rate  \\\n",
       "0               6.0                          No              10.0   \n",
       "1               4.0                         Yes               NaN   \n",
       "2               NaN                          No               NaN   \n",
       "3               8.0                         Yes              10.0   \n",
       "4               4.0                          No               5.0   \n",
       "\n",
       "  Charging_Infrastructure_Score Tariff_Impact_Pct Consumer_Demand_Index  \n",
       "0                           NaN               NaN                 999.0  \n",
       "1                           NaN               5.0                   NaN  \n",
       "2                           NaN               5.0                 999.0  \n",
       "3                          70.0             999.0                   NaN  \n",
       "4                          50.0              15.0                  50.0  \n",
       "\n",
       "[5 rows x 54 columns]"
      ]
     },
     "execution_count": 81,
     "metadata": {},
     "output_type": "execute_result"
    }
   ],
   "source": [
    "data.head()"
   ]
  },
  {
   "cell_type": "code",
   "execution_count": 83,
   "id": "2796b3a4-2060-44c1-986d-41389b175305",
   "metadata": {},
   "outputs": [
    {
     "data": {
      "text/plain": [
       "25739006"
      ]
     },
     "execution_count": 83,
     "metadata": {},
     "output_type": "execute_result"
    }
   ],
   "source": [
    "data.isnull().sum().sum()"
   ]
  },
  {
   "cell_type": "code",
   "execution_count": 84,
   "id": "8f614743-ab38-4adb-a353-a28f213e8e0b",
   "metadata": {},
   "outputs": [
    {
     "data": {
      "text/plain": [
       "108000000"
      ]
     },
     "execution_count": 84,
     "metadata": {},
     "output_type": "execute_result"
    }
   ],
   "source": [
    "data.size"
   ]
  },
  {
   "cell_type": "code",
   "execution_count": null,
   "id": "76615f1e-cd63-4135-a34b-c2a2d9006db4",
   "metadata": {},
   "outputs": [],
   "source": []
  }
 ],
 "metadata": {
  "kernelspec": {
   "display_name": "Python 3 (ipykernel)",
   "language": "python",
   "name": "python3"
  },
  "language_info": {
   "codemirror_mode": {
    "name": "ipython",
    "version": 3
   },
   "file_extension": ".py",
   "mimetype": "text/x-python",
   "name": "python",
   "nbconvert_exporter": "python",
   "pygments_lexer": "ipython3",
   "version": "3.11.7"
  }
 },
 "nbformat": 4,
 "nbformat_minor": 5
}
