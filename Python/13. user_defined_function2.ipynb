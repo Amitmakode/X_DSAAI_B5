{
 "cells": [
  {
   "cell_type": "code",
   "execution_count": 1,
   "id": "b501c74a-8c50-4a85-b65b-2cab91a2bac3",
   "metadata": {},
   "outputs": [],
   "source": [
    "def fun_name(parameter):\n",
    "    return parameter \n",
    "    "
   ]
  },
  {
   "cell_type": "code",
   "execution_count": 3,
   "id": "f0230793-460b-431d-a9f0-7d21fb1d2eba",
   "metadata": {},
   "outputs": [
    {
     "data": {
      "text/plain": [
       "[2, 3, 4]"
      ]
     },
     "execution_count": 3,
     "metadata": {},
     "output_type": "execute_result"
    }
   ],
   "source": [
    "fun_name([2,3,4])"
   ]
  },
  {
   "cell_type": "code",
   "execution_count": 4,
   "id": "8a36d55e-596f-435f-adc5-20a5efcd3f8c",
   "metadata": {},
   "outputs": [],
   "source": [
    "def fun1(a, b):\n",
    "    c = a*b\n",
    "    return c, a, b\n",
    "    "
   ]
  },
  {
   "cell_type": "code",
   "execution_count": 5,
   "id": "a9c77332-7eec-455b-a45f-7cf482163498",
   "metadata": {},
   "outputs": [
    {
     "data": {
      "text/plain": [
       "(8, 2, 4)"
      ]
     },
     "execution_count": 5,
     "metadata": {},
     "output_type": "execute_result"
    }
   ],
   "source": [
    "fun1(2,4)"
   ]
  },
  {
   "cell_type": "code",
   "execution_count": 7,
   "id": "2af0c4ff-4285-4c4d-a0d3-1309a8751ebb",
   "metadata": {},
   "outputs": [
    {
     "name": "stdin",
     "output_type": "stream",
     "text": [
      " 9\n"
     ]
    },
    {
     "name": "stdout",
     "output_type": "stream",
     "text": [
      "9 this is odd number\n"
     ]
    }
   ],
   "source": [
    "num = int(input())\n",
    "\n",
    "if num%2==0:\n",
    "    print(num, \"this is even number\")\n",
    "else:\n",
    "    print(num, \"this is odd number\")\n"
   ]
  },
  {
   "cell_type": "code",
   "execution_count": 8,
   "id": "9d7fef91-b87c-4f9d-a9f9-fc55b0a7e9ac",
   "metadata": {},
   "outputs": [
    {
     "name": "stdout",
     "output_type": "stream",
     "text": [
      "1 this is odd number\n",
      "2 this is even number\n",
      "3 this is odd number\n",
      "4 this is even number\n",
      "5 this is odd number\n",
      "6 this is even number\n",
      "7 this is odd number\n",
      "8 this is even number\n",
      "9 this is odd number\n"
     ]
    }
   ],
   "source": [
    "for i in [1,2,3,4,5,6,7,8,9]:\n",
    "    if i%2==0:\n",
    "        print(i, \"this is even number\")\n",
    "    else:\n",
    "        print(i, \"this is odd number\")"
   ]
  },
  {
   "cell_type": "code",
   "execution_count": 9,
   "id": "04063883-730b-4cb7-a288-b14a0dae182d",
   "metadata": {},
   "outputs": [
    {
     "name": "stdout",
     "output_type": "stream",
     "text": [
      "1 this is odd number\n",
      "2 this is even number\n",
      "3 this is odd number\n",
      "4 this is even number\n",
      "5 this is odd number\n",
      "6 this is even number\n",
      "7 this is odd number\n",
      "8 this is even number\n",
      "9 this is odd number\n"
     ]
    }
   ],
   "source": [
    "even = []\n",
    "odd = []\n",
    "\n",
    "for i in [1,2,3,4,5,6,7,8,9]:\n",
    "    if i%2==0:\n",
    "        print(i, \"this is even number\")\n",
    "        even.append(i)\n",
    "    else:\n",
    "        print(i, \"this is odd number\")\n",
    "        odd.append(i)"
   ]
  },
  {
   "cell_type": "code",
   "execution_count": 10,
   "id": "0744ea09-3c23-4df7-8c3a-59b8114bde2a",
   "metadata": {},
   "outputs": [
    {
     "data": {
      "text/plain": [
       "[2, 4, 6, 8]"
      ]
     },
     "execution_count": 10,
     "metadata": {},
     "output_type": "execute_result"
    }
   ],
   "source": [
    "even"
   ]
  },
  {
   "cell_type": "code",
   "execution_count": 11,
   "id": "30000d26-24da-4584-8241-df97d3382767",
   "metadata": {},
   "outputs": [
    {
     "data": {
      "text/plain": [
       "[1, 3, 5, 7, 9]"
      ]
     },
     "execution_count": 11,
     "metadata": {},
     "output_type": "execute_result"
    }
   ],
   "source": [
    "odd"
   ]
  },
  {
   "cell_type": "code",
   "execution_count": 14,
   "id": "8f2b9499-715d-442f-878a-e5645078ba79",
   "metadata": {},
   "outputs": [],
   "source": [
    "def even_odd(list_var):\n",
    "    even = []\n",
    "    odd = []\n",
    "\n",
    "    for i in list_var:\n",
    "        if i%2==0:\n",
    "            print(i, \"this is even number\")\n",
    "            even.append(i)\n",
    "        else:\n",
    "            print(i, \"this is odd number\")\n",
    "            odd.append(i)\n",
    "    return even, odd           \n",
    "    "
   ]
  },
  {
   "cell_type": "code",
   "execution_count": 15,
   "id": "5f431520-6ffd-4a14-b711-90945994a80c",
   "metadata": {},
   "outputs": [],
   "source": [
    "l1 = [2,3,4,5,6,7,8,67,99,100,1]"
   ]
  },
  {
   "cell_type": "code",
   "execution_count": 16,
   "id": "910b2b1f-02e7-4a40-bdfa-3a2ed5fe6e6f",
   "metadata": {},
   "outputs": [
    {
     "name": "stdout",
     "output_type": "stream",
     "text": [
      "2 this is even number\n",
      "3 this is odd number\n",
      "4 this is even number\n",
      "5 this is odd number\n",
      "6 this is even number\n",
      "7 this is odd number\n",
      "8 this is even number\n",
      "67 this is odd number\n",
      "99 this is odd number\n",
      "100 this is even number\n",
      "1 this is odd number\n"
     ]
    },
    {
     "data": {
      "text/plain": [
       "([2, 4, 6, 8, 100], [3, 5, 7, 67, 99, 1])"
      ]
     },
     "execution_count": 16,
     "metadata": {},
     "output_type": "execute_result"
    }
   ],
   "source": [
    "even_odd(l1)"
   ]
  },
  {
   "cell_type": "code",
   "execution_count": 17,
   "id": "7cfa0dcc-3484-4e8c-9786-34d4a077b7e7",
   "metadata": {},
   "outputs": [],
   "source": [
    "def fun2():\n",
    "    var = \"hello\"\n",
    "    return var"
   ]
  },
  {
   "cell_type": "code",
   "execution_count": 18,
   "id": "ad8f2f01-0c19-4ba9-a4ea-050282c6e2c2",
   "metadata": {},
   "outputs": [
    {
     "data": {
      "text/plain": [
       "'hello'"
      ]
     },
     "execution_count": 18,
     "metadata": {},
     "output_type": "execute_result"
    }
   ],
   "source": [
    "fun2()"
   ]
  },
  {
   "cell_type": "code",
   "execution_count": 19,
   "id": "8574a486-80c4-40d6-a373-7e81b8225aa9",
   "metadata": {},
   "outputs": [
    {
     "ename": "NameError",
     "evalue": "name 'var' is not defined",
     "output_type": "error",
     "traceback": [
      "\u001b[1;31m---------------------------------------------------------------------------\u001b[0m",
      "\u001b[1;31mNameError\u001b[0m                                 Traceback (most recent call last)",
      "Cell \u001b[1;32mIn[19], line 1\u001b[0m\n\u001b[1;32m----> 1\u001b[0m var\n",
      "\u001b[1;31mNameError\u001b[0m: name 'var' is not defined"
     ]
    }
   ],
   "source": [
    "var"
   ]
  },
  {
   "cell_type": "code",
   "execution_count": 20,
   "id": "bbe5c3a2-f86c-4c40-9d39-ef7ee88fe903",
   "metadata": {},
   "outputs": [],
   "source": [
    "name = \"amit\""
   ]
  },
  {
   "cell_type": "code",
   "execution_count": 21,
   "id": "0788b5e0-de8c-4f90-a61b-400015bf464b",
   "metadata": {},
   "outputs": [],
   "source": [
    "def fun3():\n",
    "    return name "
   ]
  },
  {
   "cell_type": "code",
   "execution_count": 22,
   "id": "b8dd9ae0-020c-47c9-be34-c092d254b488",
   "metadata": {},
   "outputs": [
    {
     "data": {
      "text/plain": [
       "'amit'"
      ]
     },
     "execution_count": 22,
     "metadata": {},
     "output_type": "execute_result"
    }
   ],
   "source": [
    "fun3()"
   ]
  },
  {
   "cell_type": "code",
   "execution_count": 23,
   "id": "cd510e7c-4dc8-4cb6-a47c-cccc32e52c79",
   "metadata": {},
   "outputs": [],
   "source": [
    "def fun2():\n",
    "    global var1\n",
    "    var1 = \"hello\"\n",
    "    return var1"
   ]
  },
  {
   "cell_type": "code",
   "execution_count": 24,
   "id": "75319094-1c42-426d-b469-571d560f9295",
   "metadata": {},
   "outputs": [
    {
     "data": {
      "text/plain": [
       "'hello'"
      ]
     },
     "execution_count": 24,
     "metadata": {},
     "output_type": "execute_result"
    }
   ],
   "source": [
    "fun2()"
   ]
  },
  {
   "cell_type": "code",
   "execution_count": 25,
   "id": "ff3de43e-70ca-4749-82a1-adcd54f34e70",
   "metadata": {},
   "outputs": [
    {
     "data": {
      "text/plain": [
       "'hello'"
      ]
     },
     "execution_count": 25,
     "metadata": {},
     "output_type": "execute_result"
    }
   ],
   "source": [
    "var1"
   ]
  },
  {
   "cell_type": "markdown",
   "id": "84c672c1-682a-4923-8d18-c0326e49c82c",
   "metadata": {},
   "source": [
    "### list comprehension"
   ]
  },
  {
   "cell_type": "code",
   "execution_count": 26,
   "id": "222deace-4df3-4a8d-b021-d034a1dcd5fe",
   "metadata": {},
   "outputs": [],
   "source": [
    "lis = [4,6,8,3,6,4]"
   ]
  },
  {
   "cell_type": "code",
   "execution_count": 27,
   "id": "e9f675cb-27f9-4026-8ed6-a013c4633198",
   "metadata": {},
   "outputs": [],
   "source": [
    "v1 = \"python\""
   ]
  },
  {
   "cell_type": "code",
   "execution_count": 28,
   "id": "9e9b8fcd-abe9-4c70-9165-3b92a10dd697",
   "metadata": {},
   "outputs": [
    {
     "name": "stdout",
     "output_type": "stream",
     "text": [
      "p\n",
      "y\n",
      "t\n",
      "h\n",
      "o\n",
      "n\n"
     ]
    }
   ],
   "source": [
    "for i in v1:\n",
    "    print(i)"
   ]
  },
  {
   "cell_type": "code",
   "execution_count": 29,
   "id": "ddda458b-cc10-466c-bbdf-bde188ac316f",
   "metadata": {},
   "outputs": [
    {
     "data": {
      "text/plain": [
       "['p', 'y', 't', 'h', 'o', 'n']"
      ]
     },
     "execution_count": 29,
     "metadata": {},
     "output_type": "execute_result"
    }
   ],
   "source": [
    "[i for i in v1]"
   ]
  },
  {
   "cell_type": "code",
   "execution_count": 31,
   "id": "f0e7ac1e-b464-4280-bdd1-62e64806793b",
   "metadata": {},
   "outputs": [
    {
     "data": {
      "text/plain": [
       "['p', 'y', 't', 'h', 'o', 'n']"
      ]
     },
     "execution_count": 31,
     "metadata": {},
     "output_type": "execute_result"
    }
   ],
   "source": [
    "list((i for i in v1))"
   ]
  },
  {
   "cell_type": "code",
   "execution_count": 32,
   "id": "77dd487a-3e27-4030-9ee5-0bede5b2ce17",
   "metadata": {},
   "outputs": [
    {
     "data": {
      "text/plain": [
       "{'h', 'n', 'o', 'p', 't', 'y'}"
      ]
     },
     "execution_count": 32,
     "metadata": {},
     "output_type": "execute_result"
    }
   ],
   "source": [
    "{i for i in v1}"
   ]
  },
  {
   "cell_type": "code",
   "execution_count": 33,
   "id": "ab182242-84c6-4c14-9cbb-97b804b00749",
   "metadata": {},
   "outputs": [
    {
     "name": "stdout",
     "output_type": "stream",
     "text": [
      "0\n",
      "1\n",
      "2\n",
      "0\n",
      "1\n",
      "2\n",
      "0\n",
      "1\n",
      "2\n",
      "0\n",
      "1\n",
      "2\n",
      "0\n",
      "1\n",
      "2\n"
     ]
    }
   ],
   "source": [
    "for i in range(5):\n",
    "    for j in range(3):\n",
    "        print(j)"
   ]
  },
  {
   "cell_type": "code",
   "execution_count": 39,
   "id": "711df29d-650e-402b-8172-95c54cf95a33",
   "metadata": {},
   "outputs": [
    {
     "data": {
      "text/plain": [
       "[0, 1, 2, 0, 1, 2, 0, 1, 2, 0, 1, 2, 0, 1, 2]"
      ]
     },
     "execution_count": 39,
     "metadata": {},
     "output_type": "execute_result"
    }
   ],
   "source": [
    "[j for i in range(5) for j in range(3)]"
   ]
  },
  {
   "cell_type": "code",
   "execution_count": 48,
   "id": "dcb2c26c-4e2b-40ea-bc09-565e10ae47aa",
   "metadata": {},
   "outputs": [
    {
     "data": {
      "text/plain": [
       "1"
      ]
     },
     "execution_count": 48,
     "metadata": {},
     "output_type": "execute_result"
    }
   ],
   "source": [
    "3%2"
   ]
  },
  {
   "cell_type": "code",
   "execution_count": 49,
   "id": "f5683952-01ea-4e52-ae93-cc155c3dea69",
   "metadata": {},
   "outputs": [
    {
     "data": {
      "text/plain": [
       "False"
      ]
     },
     "execution_count": 49,
     "metadata": {},
     "output_type": "execute_result"
    }
   ],
   "source": [
    "1==0"
   ]
  },
  {
   "cell_type": "code",
   "execution_count": 44,
   "id": "65b88368-f7de-4c36-940e-2b2eb84b87bf",
   "metadata": {},
   "outputs": [
    {
     "name": "stdout",
     "output_type": "stream",
     "text": [
      "0\n",
      "2\n",
      "4\n"
     ]
    }
   ],
   "source": [
    "for i in range(5):\n",
    "    if i%2==0:\n",
    "        print(i)"
   ]
  },
  {
   "cell_type": "code",
   "execution_count": 41,
   "id": "d092d6d4-014d-4854-a31b-6acc1584b043",
   "metadata": {},
   "outputs": [
    {
     "data": {
      "text/plain": [
       "[0, 2, 4]"
      ]
     },
     "execution_count": 41,
     "metadata": {},
     "output_type": "execute_result"
    }
   ],
   "source": [
    "[i for i in range(5) if i%2==0 ]"
   ]
  },
  {
   "cell_type": "code",
   "execution_count": 43,
   "id": "d0cbccf9-6408-4078-ac2b-5ff4ff9c3b15",
   "metadata": {},
   "outputs": [
    {
     "data": {
      "text/plain": [
       "['Even number',\n",
       " 'Odd number',\n",
       " 'Even number',\n",
       " 'Odd number',\n",
       " 'Even number',\n",
       " 'Odd number',\n",
       " 'Even number',\n",
       " 'Odd number']"
      ]
     },
     "execution_count": 43,
     "metadata": {},
     "output_type": "execute_result"
    }
   ],
   "source": [
    "[\"Even number\" if i % 2 == 0 else \"Odd number\" for i in range(8)]"
   ]
  },
  {
   "cell_type": "code",
   "execution_count": null,
   "id": "1af5b4dd-6eef-4cfb-b7da-6f64b06fbcd4",
   "metadata": {},
   "outputs": [],
   "source": []
  },
  {
   "cell_type": "markdown",
   "id": "7c52d45c-f0b2-4b82-8048-a352fbb002ce",
   "metadata": {},
   "source": [
    "## lambda "
   ]
  },
  {
   "cell_type": "code",
   "execution_count": 50,
   "id": "0c051be6-204b-4edd-86d4-69c18496d57d",
   "metadata": {},
   "outputs": [],
   "source": [
    "def fun1(a, b):\n",
    "    c = a*b\n",
    "    return c, a, b"
   ]
  },
  {
   "cell_type": "code",
   "execution_count": 53,
   "id": "d65b810e-679c-4207-8ec6-56bbf6e1961f",
   "metadata": {},
   "outputs": [],
   "source": [
    "f1  = lambda a, b : a*b"
   ]
  },
  {
   "cell_type": "code",
   "execution_count": 54,
   "id": "420613d7-6d1a-4bc1-b13b-beb71d38707b",
   "metadata": {},
   "outputs": [
    {
     "data": {
      "text/plain": [
       "27"
      ]
     },
     "execution_count": 54,
     "metadata": {},
     "output_type": "execute_result"
    }
   ],
   "source": [
    "f1(3, 9)"
   ]
  },
  {
   "cell_type": "code",
   "execution_count": 55,
   "id": "d0ab68b4-5a7e-47dc-8a91-95ebb73e8f19",
   "metadata": {},
   "outputs": [],
   "source": [
    "f2 = lambda a, b : a*b"
   ]
  },
  {
   "cell_type": "code",
   "execution_count": 56,
   "id": "a6ceca55-a39d-45a2-981f-3d8a66d9fff9",
   "metadata": {},
   "outputs": [
    {
     "data": {
      "text/plain": [
       "10"
      ]
     },
     "execution_count": 56,
     "metadata": {},
     "output_type": "execute_result"
    }
   ],
   "source": [
    "f2(2, 5)"
   ]
  },
  {
   "cell_type": "code",
   "execution_count": 58,
   "id": "7cd3e273-cfce-4164-afe8-1cd712bd808d",
   "metadata": {},
   "outputs": [],
   "source": [
    "f3 = lambda list : [i for i in list if i%2==0 ]"
   ]
  },
  {
   "cell_type": "code",
   "execution_count": 59,
   "id": "f693797b-4edb-41b8-9421-0cd5b8d45f8c",
   "metadata": {},
   "outputs": [
    {
     "data": {
      "text/plain": [
       "[2, 4, 6, 8, 100]"
      ]
     },
     "execution_count": 59,
     "metadata": {},
     "output_type": "execute_result"
    }
   ],
   "source": [
    "f3(l1)"
   ]
  },
  {
   "cell_type": "code",
   "execution_count": null,
   "id": "27da6c73-f822-4697-b1e1-84e96205c144",
   "metadata": {},
   "outputs": [],
   "source": []
  }
 ],
 "metadata": {
  "kernelspec": {
   "display_name": "Python 3 (ipykernel)",
   "language": "python",
   "name": "python3"
  },
  "language_info": {
   "codemirror_mode": {
    "name": "ipython",
    "version": 3
   },
   "file_extension": ".py",
   "mimetype": "text/x-python",
   "name": "python",
   "nbconvert_exporter": "python",
   "pygments_lexer": "ipython3",
   "version": "3.11.7"
  }
 },
 "nbformat": 4,
 "nbformat_minor": 5
}
