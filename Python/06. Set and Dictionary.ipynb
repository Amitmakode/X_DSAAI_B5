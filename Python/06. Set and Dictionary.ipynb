{
 "cells": [
  {
   "cell_type": "markdown",
   "id": "44ec6dbc-e5d6-48ea-86df-d18c633efbba",
   "metadata": {},
   "source": [
    "## Set"
   ]
  },
  {
   "cell_type": "code",
   "execution_count": 1,
   "id": "88f5a60c-463d-4382-8733-a3d195f04671",
   "metadata": {},
   "outputs": [],
   "source": [
    "s1 = {}"
   ]
  },
  {
   "cell_type": "code",
   "execution_count": 2,
   "id": "0c2f3fca-3be3-4241-96e4-4732e97d1776",
   "metadata": {},
   "outputs": [
    {
     "data": {
      "text/plain": [
       "dict"
      ]
     },
     "execution_count": 2,
     "metadata": {},
     "output_type": "execute_result"
    }
   ],
   "source": [
    "type(s1)"
   ]
  },
  {
   "cell_type": "code",
   "execution_count": 3,
   "id": "174570eb-3b25-424a-bf34-b5fd4271bb24",
   "metadata": {},
   "outputs": [],
   "source": [
    "s1 = {1,2,3,4,5,5,3,4,5,2,3}"
   ]
  },
  {
   "cell_type": "code",
   "execution_count": 4,
   "id": "fd31be0e-7be0-43cd-a4f4-3f4c608a4016",
   "metadata": {},
   "outputs": [
    {
     "data": {
      "text/plain": [
       "{1, 2, 3, 4, 5}"
      ]
     },
     "execution_count": 4,
     "metadata": {},
     "output_type": "execute_result"
    }
   ],
   "source": [
    "s1"
   ]
  },
  {
   "cell_type": "code",
   "execution_count": 7,
   "id": "ee3d88df-fb9a-42f0-9b69-faf8e5ba9def",
   "metadata": {},
   "outputs": [],
   "source": [
    "s2 = {1, 2.3, True, (1,2), \"hello\"}"
   ]
  },
  {
   "cell_type": "code",
   "execution_count": 8,
   "id": "c16406f5-6783-44b1-b3f4-349fc9228993",
   "metadata": {},
   "outputs": [
    {
     "ename": "TypeError",
     "evalue": "'set' object is not subscriptable",
     "output_type": "error",
     "traceback": [
      "\u001b[1;31m---------------------------------------------------------------------------\u001b[0m",
      "\u001b[1;31mTypeError\u001b[0m                                 Traceback (most recent call last)",
      "Cell \u001b[1;32mIn[8], line 1\u001b[0m\n\u001b[1;32m----> 1\u001b[0m s1[\u001b[38;5;241m2\u001b[39m]\n",
      "\u001b[1;31mTypeError\u001b[0m: 'set' object is not subscriptable"
     ]
    }
   ],
   "source": [
    "s1[2]"
   ]
  },
  {
   "cell_type": "code",
   "execution_count": 9,
   "id": "d41e2313-7a85-41b4-9f27-f0ea714521af",
   "metadata": {},
   "outputs": [
    {
     "ename": "TypeError",
     "evalue": "'set' object is not subscriptable",
     "output_type": "error",
     "traceback": [
      "\u001b[1;31m---------------------------------------------------------------------------\u001b[0m",
      "\u001b[1;31mTypeError\u001b[0m                                 Traceback (most recent call last)",
      "Cell \u001b[1;32mIn[9], line 1\u001b[0m\n\u001b[1;32m----> 1\u001b[0m s1[:]\n",
      "\u001b[1;31mTypeError\u001b[0m: 'set' object is not subscriptable"
     ]
    }
   ],
   "source": [
    "s1[:]"
   ]
  },
  {
   "cell_type": "code",
   "execution_count": 10,
   "id": "05fff7e4-1eae-43ba-a0a9-88e3a86ba160",
   "metadata": {},
   "outputs": [
    {
     "ename": "TypeError",
     "evalue": "unsupported operand type(s) for +: 'set' and 'set'",
     "output_type": "error",
     "traceback": [
      "\u001b[1;31m---------------------------------------------------------------------------\u001b[0m",
      "\u001b[1;31mTypeError\u001b[0m                                 Traceback (most recent call last)",
      "Cell \u001b[1;32mIn[10], line 1\u001b[0m\n\u001b[1;32m----> 1\u001b[0m s1 \u001b[38;5;241m+\u001b[39m s1\n",
      "\u001b[1;31mTypeError\u001b[0m: unsupported operand type(s) for +: 'set' and 'set'"
     ]
    }
   ],
   "source": [
    "s1 + s1"
   ]
  },
  {
   "cell_type": "code",
   "execution_count": 11,
   "id": "954ce481-c800-453e-8b7b-187dc3dbb423",
   "metadata": {},
   "outputs": [
    {
     "ename": "TypeError",
     "evalue": "unsupported operand type(s) for *: 'set' and 'int'",
     "output_type": "error",
     "traceback": [
      "\u001b[1;31m---------------------------------------------------------------------------\u001b[0m",
      "\u001b[1;31mTypeError\u001b[0m                                 Traceback (most recent call last)",
      "Cell \u001b[1;32mIn[11], line 1\u001b[0m\n\u001b[1;32m----> 1\u001b[0m s1\u001b[38;5;241m*\u001b[39m\u001b[38;5;241m3\u001b[39m\n",
      "\u001b[1;31mTypeError\u001b[0m: unsupported operand type(s) for *: 'set' and 'int'"
     ]
    }
   ],
   "source": [
    "s1*3"
   ]
  },
  {
   "cell_type": "code",
   "execution_count": 12,
   "id": "ca28e8af-c8c8-4b1b-b4dc-72409328db3d",
   "metadata": {},
   "outputs": [
    {
     "ename": "TypeError",
     "evalue": "'set' object does not support item assignment",
     "output_type": "error",
     "traceback": [
      "\u001b[1;31m---------------------------------------------------------------------------\u001b[0m",
      "\u001b[1;31mTypeError\u001b[0m                                 Traceback (most recent call last)",
      "Cell \u001b[1;32mIn[12], line 1\u001b[0m\n\u001b[1;32m----> 1\u001b[0m s1[\u001b[38;5;241m2\u001b[39m] \u001b[38;5;241m=\u001b[39m \u001b[38;5;241m55\u001b[39m\n",
      "\u001b[1;31mTypeError\u001b[0m: 'set' object does not support item assignment"
     ]
    }
   ],
   "source": [
    "s1[2] = 55"
   ]
  },
  {
   "cell_type": "code",
   "execution_count": 13,
   "id": "4bb96fc2-f9a5-48ec-a38c-76438f406a18",
   "metadata": {},
   "outputs": [
    {
     "data": {
      "text/plain": [
       "{1, 2, 3, 4, 5}"
      ]
     },
     "execution_count": 13,
     "metadata": {},
     "output_type": "execute_result"
    }
   ],
   "source": [
    "s1"
   ]
  },
  {
   "cell_type": "code",
   "execution_count": 14,
   "id": "f0438c7a-7115-4d76-806d-6a9dc26f4469",
   "metadata": {},
   "outputs": [],
   "source": [
    "s1.add(\"7\")"
   ]
  },
  {
   "cell_type": "code",
   "execution_count": 15,
   "id": "ad6c9371-57a5-44ea-9a87-76eafa89b62f",
   "metadata": {},
   "outputs": [
    {
     "data": {
      "text/plain": [
       "{1, 2, 3, 4, 5, '7'}"
      ]
     },
     "execution_count": 15,
     "metadata": {},
     "output_type": "execute_result"
    }
   ],
   "source": [
    "s1"
   ]
  },
  {
   "cell_type": "code",
   "execution_count": 18,
   "id": "00624ef6-0bcf-4975-b115-6f83c6cf8ee2",
   "metadata": {},
   "outputs": [],
   "source": [
    "s1.add(\"a\")"
   ]
  },
  {
   "cell_type": "code",
   "execution_count": 21,
   "id": "1f40db4b-4ecc-4c4e-bc22-0c8afb1582f1",
   "metadata": {},
   "outputs": [
    {
     "ename": "TypeError",
     "evalue": "'int' object is not iterable",
     "output_type": "error",
     "traceback": [
      "\u001b[1;31m---------------------------------------------------------------------------\u001b[0m",
      "\u001b[1;31mTypeError\u001b[0m                                 Traceback (most recent call last)",
      "Cell \u001b[1;32mIn[21], line 1\u001b[0m\n\u001b[1;32m----> 1\u001b[0m s1\u001b[38;5;241m.\u001b[39mupdate(\u001b[38;5;241m22\u001b[39m)\n",
      "\u001b[1;31mTypeError\u001b[0m: 'int' object is not iterable"
     ]
    }
   ],
   "source": [
    "s1.update(22)"
   ]
  },
  {
   "cell_type": "code",
   "execution_count": 22,
   "id": "1195e6b1-3f64-42f7-a2cc-f533e027abb2",
   "metadata": {},
   "outputs": [],
   "source": [
    "s1.update({22,33})"
   ]
  },
  {
   "cell_type": "code",
   "execution_count": 23,
   "id": "248c2584-3096-4d50-a133-702458841f33",
   "metadata": {},
   "outputs": [
    {
     "data": {
      "text/plain": [
       "{1, 2, 22, 3, 33, 4, 5, 6, '7', 'a'}"
      ]
     },
     "execution_count": 23,
     "metadata": {},
     "output_type": "execute_result"
    }
   ],
   "source": [
    "s1"
   ]
  },
  {
   "cell_type": "code",
   "execution_count": 24,
   "id": "46171da6-f279-44ef-9d32-933fd4dae235",
   "metadata": {},
   "outputs": [],
   "source": [
    "s1 = {1,2,3}\n",
    "s2 = {3,4,5}"
   ]
  },
  {
   "cell_type": "code",
   "execution_count": 25,
   "id": "274abd0f-0a23-4c3d-934e-895bac398f7d",
   "metadata": {},
   "outputs": [
    {
     "data": {
      "text/plain": [
       "{1, 2, 3, 4, 5}"
      ]
     },
     "execution_count": 25,
     "metadata": {},
     "output_type": "execute_result"
    }
   ],
   "source": [
    "s1.union(s2)"
   ]
  },
  {
   "cell_type": "code",
   "execution_count": 26,
   "id": "707dbb31-68e0-43f0-96be-6e6e1a9bdfc2",
   "metadata": {},
   "outputs": [
    {
     "data": {
      "text/plain": [
       "{1, 2}"
      ]
     },
     "execution_count": 26,
     "metadata": {},
     "output_type": "execute_result"
    }
   ],
   "source": [
    "s1.difference(s2)"
   ]
  },
  {
   "cell_type": "code",
   "execution_count": 27,
   "id": "fa622fa4-be68-4731-b5e6-d755aeef7637",
   "metadata": {},
   "outputs": [
    {
     "data": {
      "text/plain": [
       "{1, 2, 3}"
      ]
     },
     "execution_count": 27,
     "metadata": {},
     "output_type": "execute_result"
    }
   ],
   "source": [
    "s1"
   ]
  },
  {
   "cell_type": "code",
   "execution_count": 28,
   "id": "ee3568b0-998b-42b8-a53b-3dfcd2a4e071",
   "metadata": {},
   "outputs": [],
   "source": [
    "s1.difference_update(s2)"
   ]
  },
  {
   "cell_type": "code",
   "execution_count": 29,
   "id": "732e83bd-b7f1-4479-ac8a-641b4e9fd634",
   "metadata": {},
   "outputs": [
    {
     "data": {
      "text/plain": [
       "{1, 2}"
      ]
     },
     "execution_count": 29,
     "metadata": {},
     "output_type": "execute_result"
    }
   ],
   "source": [
    "s1"
   ]
  },
  {
   "cell_type": "code",
   "execution_count": 30,
   "id": "ba0ed553-5a8f-41be-9b6c-cab02681b3f8",
   "metadata": {},
   "outputs": [],
   "source": [
    "s1 = {1,2,3}\n",
    "s2 = {3,4,5}"
   ]
  },
  {
   "cell_type": "code",
   "execution_count": 31,
   "id": "4c400c91-7b3e-4cc8-94d0-8a39cc2df7b1",
   "metadata": {},
   "outputs": [
    {
     "data": {
      "text/plain": [
       "{3}"
      ]
     },
     "execution_count": 31,
     "metadata": {},
     "output_type": "execute_result"
    }
   ],
   "source": [
    "s1.intersection(s2)"
   ]
  },
  {
   "cell_type": "code",
   "execution_count": 32,
   "id": "3e543cb7-6b7f-4e03-83f9-f0baec8de087",
   "metadata": {},
   "outputs": [],
   "source": [
    "s1.intersection_update(s2)"
   ]
  },
  {
   "cell_type": "code",
   "execution_count": 33,
   "id": "66b5c377-040d-48e9-8262-a4e9559bce34",
   "metadata": {},
   "outputs": [
    {
     "data": {
      "text/plain": [
       "{3}"
      ]
     },
     "execution_count": 33,
     "metadata": {},
     "output_type": "execute_result"
    }
   ],
   "source": [
    "s1"
   ]
  },
  {
   "cell_type": "code",
   "execution_count": 34,
   "id": "36138c5a-d9a3-4eda-8790-44a7b0f22c2f",
   "metadata": {},
   "outputs": [],
   "source": [
    "s1 = {1,2,3,4,5,5,3,4,5,2,3}"
   ]
  },
  {
   "cell_type": "code",
   "execution_count": 36,
   "id": "a946b44c-9d56-4bf6-95b9-44e6497f88c5",
   "metadata": {},
   "outputs": [
    {
     "data": {
      "text/plain": [
       "1"
      ]
     },
     "execution_count": 36,
     "metadata": {},
     "output_type": "execute_result"
    }
   ],
   "source": [
    "s1.pop()"
   ]
  },
  {
   "cell_type": "code",
   "execution_count": 37,
   "id": "2cef3ad9-fc3a-4cec-b954-594d10361a3e",
   "metadata": {},
   "outputs": [
    {
     "data": {
      "text/plain": [
       "{2, 3, 4, 5}"
      ]
     },
     "execution_count": 37,
     "metadata": {},
     "output_type": "execute_result"
    }
   ],
   "source": [
    "s1"
   ]
  },
  {
   "cell_type": "code",
   "execution_count": 38,
   "id": "3b54c28f-84a3-4437-be01-ff0a8fb445bf",
   "metadata": {},
   "outputs": [],
   "source": [
    "s1.remove(3)"
   ]
  },
  {
   "cell_type": "code",
   "execution_count": 40,
   "id": "e0f1efb6-90db-44c8-b86c-42f84135b43c",
   "metadata": {},
   "outputs": [
    {
     "ename": "KeyError",
     "evalue": "3",
     "output_type": "error",
     "traceback": [
      "\u001b[1;31m---------------------------------------------------------------------------\u001b[0m",
      "\u001b[1;31mKeyError\u001b[0m                                  Traceback (most recent call last)",
      "Cell \u001b[1;32mIn[40], line 1\u001b[0m\n\u001b[1;32m----> 1\u001b[0m s1\u001b[38;5;241m.\u001b[39mremove(\u001b[38;5;241m3\u001b[39m)\n",
      "\u001b[1;31mKeyError\u001b[0m: 3"
     ]
    }
   ],
   "source": [
    "s1.remove(3)"
   ]
  },
  {
   "cell_type": "code",
   "execution_count": 41,
   "id": "6ec38291-0c92-4e40-86be-ef812a89d2a3",
   "metadata": {},
   "outputs": [
    {
     "data": {
      "text/plain": [
       "{2, 4, 5}"
      ]
     },
     "execution_count": 41,
     "metadata": {},
     "output_type": "execute_result"
    }
   ],
   "source": [
    "s1"
   ]
  },
  {
   "cell_type": "code",
   "execution_count": 44,
   "id": "21424c43-fb34-4a4e-b3f3-f5721506b836",
   "metadata": {},
   "outputs": [],
   "source": [
    "s1.discard(4)"
   ]
  },
  {
   "cell_type": "code",
   "execution_count": 45,
   "id": "2e9135b3-b5b0-4eda-99e2-ebbc4d17f1a5",
   "metadata": {},
   "outputs": [
    {
     "data": {
      "text/plain": [
       "{2, 5}"
      ]
     },
     "execution_count": 45,
     "metadata": {},
     "output_type": "execute_result"
    }
   ],
   "source": [
    "s1"
   ]
  },
  {
   "cell_type": "code",
   "execution_count": 52,
   "id": "2c513613-fafb-478d-991e-5372ada20b80",
   "metadata": {},
   "outputs": [],
   "source": [
    "s3 = {1,2,3,4}\n",
    "s4 = {3,4}"
   ]
  },
  {
   "cell_type": "code",
   "execution_count": 53,
   "id": "a43303d9-7bfb-4330-b2ab-d698ef21acf4",
   "metadata": {},
   "outputs": [
    {
     "data": {
      "text/plain": [
       "False"
      ]
     },
     "execution_count": 53,
     "metadata": {},
     "output_type": "execute_result"
    }
   ],
   "source": [
    "s3.issubset(s4)"
   ]
  },
  {
   "cell_type": "code",
   "execution_count": 54,
   "id": "bbfd407b-5c47-490d-ab0c-0358a1c83f38",
   "metadata": {},
   "outputs": [
    {
     "data": {
      "text/plain": [
       "True"
      ]
     },
     "execution_count": 54,
     "metadata": {},
     "output_type": "execute_result"
    }
   ],
   "source": [
    "s4.issubset(s3)"
   ]
  },
  {
   "cell_type": "code",
   "execution_count": 55,
   "id": "c864fb2c-d90b-42b5-a2ba-6a9776fb3681",
   "metadata": {},
   "outputs": [
    {
     "data": {
      "text/plain": [
       "True"
      ]
     },
     "execution_count": 55,
     "metadata": {},
     "output_type": "execute_result"
    }
   ],
   "source": [
    "s3.issuperset(s4)"
   ]
  },
  {
   "cell_type": "code",
   "execution_count": 56,
   "id": "040d1c13-b1c6-4fd3-813f-fe2b6d66fa57",
   "metadata": {},
   "outputs": [
    {
     "data": {
      "text/plain": [
       "False"
      ]
     },
     "execution_count": 56,
     "metadata": {},
     "output_type": "execute_result"
    }
   ],
   "source": [
    "s4.issuperset(s3)"
   ]
  },
  {
   "cell_type": "code",
   "execution_count": 59,
   "id": "422beae0-d191-4b96-a6e4-740fc6337227",
   "metadata": {},
   "outputs": [],
   "source": [
    "s5 = {1, 2.3, True, (1,2), \"hello\"}"
   ]
  },
  {
   "cell_type": "code",
   "execution_count": 61,
   "id": "ed077aff-8a17-4e61-8279-a74859f632a1",
   "metadata": {},
   "outputs": [],
   "source": [
    "fzset = frozenset(s5)"
   ]
  },
  {
   "cell_type": "code",
   "execution_count": null,
   "id": "89436f76-035c-4d5f-886b-c74153fd1a09",
   "metadata": {},
   "outputs": [],
   "source": [
    "fzset."
   ]
  },
  {
   "cell_type": "code",
   "execution_count": 62,
   "id": "7f5600c1-ab6b-48d1-bfa0-3741d7e9843a",
   "metadata": {},
   "outputs": [
    {
     "data": {
      "text/plain": [
       "True"
      ]
     },
     "execution_count": 62,
     "metadata": {},
     "output_type": "execute_result"
    }
   ],
   "source": [
    "2.3 in s5"
   ]
  },
  {
   "cell_type": "code",
   "execution_count": 64,
   "id": "a673247a-c151-4659-91c8-64a5c7dacbdc",
   "metadata": {},
   "outputs": [
    {
     "data": {
      "text/plain": [
       "False"
      ]
     },
     "execution_count": 64,
     "metadata": {},
     "output_type": "execute_result"
    }
   ],
   "source": [
    "s1 is s2"
   ]
  },
  {
   "cell_type": "code",
   "execution_count": 65,
   "id": "a2ebfd85-8abe-4b5c-9acb-b684d555e233",
   "metadata": {},
   "outputs": [
    {
     "data": {
      "text/plain": [
       "{3, 4, 5}"
      ]
     },
     "execution_count": 65,
     "metadata": {},
     "output_type": "execute_result"
    }
   ],
   "source": [
    "s2"
   ]
  },
  {
   "cell_type": "code",
   "execution_count": 66,
   "id": "5ea3c3fa-5c60-4306-b61c-413c6b6d04d5",
   "metadata": {},
   "outputs": [
    {
     "data": {
      "text/plain": [
       "{2, 5}"
      ]
     },
     "execution_count": 66,
     "metadata": {},
     "output_type": "execute_result"
    }
   ],
   "source": [
    "s1"
   ]
  },
  {
   "cell_type": "code",
   "execution_count": null,
   "id": "b6ae22fa-22a5-419d-a585-67718edd3550",
   "metadata": {},
   "outputs": [],
   "source": []
  },
  {
   "cell_type": "markdown",
   "id": "5aeab5d1-3a54-483a-b193-d82dfc781062",
   "metadata": {},
   "source": [
    "## Dictionary"
   ]
  },
  {
   "cell_type": "code",
   "execution_count": 67,
   "id": "bb7fa27b-1e0c-406f-b9d5-9841ab8cbe03",
   "metadata": {},
   "outputs": [],
   "source": [
    "d1 = {}"
   ]
  },
  {
   "cell_type": "code",
   "execution_count": 68,
   "id": "26e83c06-d8ab-4982-b4ed-7fd5adb8dbeb",
   "metadata": {},
   "outputs": [
    {
     "data": {
      "text/plain": [
       "dict"
      ]
     },
     "execution_count": 68,
     "metadata": {},
     "output_type": "execute_result"
    }
   ],
   "source": [
    "type(d1)"
   ]
  },
  {
   "cell_type": "code",
   "execution_count": 69,
   "id": "8ef5313b-7532-43d5-bc1d-6fcd498df63d",
   "metadata": {},
   "outputs": [],
   "source": [
    "d1 = {\"jan\" : 30}"
   ]
  },
  {
   "cell_type": "code",
   "execution_count": 70,
   "id": "5219d477-aa16-4e79-bdaa-6d6afc750152",
   "metadata": {},
   "outputs": [
    {
     "data": {
      "text/plain": [
       "{'jan': 30}"
      ]
     },
     "execution_count": 70,
     "metadata": {},
     "output_type": "execute_result"
    }
   ],
   "source": [
    "d1"
   ]
  },
  {
   "cell_type": "code",
   "execution_count": 71,
   "id": "efb0f57f-45d1-4612-8dfa-207ae5bb4649",
   "metadata": {},
   "outputs": [],
   "source": [
    "d1 = {30 : \"jan\"}"
   ]
  },
  {
   "cell_type": "code",
   "execution_count": 72,
   "id": "73274d12-2b37-4e67-8ccf-379ce63dc4f4",
   "metadata": {},
   "outputs": [
    {
     "data": {
      "text/plain": [
       "{30: 'jan'}"
      ]
     },
     "execution_count": 72,
     "metadata": {},
     "output_type": "execute_result"
    }
   ],
   "source": [
    "d1"
   ]
  },
  {
   "cell_type": "code",
   "execution_count": 73,
   "id": "2d3c4f33-ae7e-40fd-861f-9c79d849c7bc",
   "metadata": {},
   "outputs": [],
   "source": [
    "d1 = {30.5 : \"jan\"}"
   ]
  },
  {
   "cell_type": "code",
   "execution_count": 74,
   "id": "60d74a3c-a786-46b1-aec6-257fbeebe97b",
   "metadata": {},
   "outputs": [],
   "source": [
    "d1 = {True : \"jan\"}"
   ]
  },
  {
   "cell_type": "code",
   "execution_count": 75,
   "id": "fbe4a3ba-f803-4971-bfbc-2d0606499505",
   "metadata": {},
   "outputs": [],
   "source": [
    "d1 = {34 + 8j : \"jan\"}"
   ]
  },
  {
   "cell_type": "code",
   "execution_count": 76,
   "id": "f3fafb65-b804-4d04-80c1-91d82cf3a106",
   "metadata": {},
   "outputs": [],
   "source": [
    "d1 = {(1,2): \"jan\"}"
   ]
  },
  {
   "cell_type": "code",
   "execution_count": 77,
   "id": "ecf70fc2-90b5-4b81-a022-675d92cf8742",
   "metadata": {},
   "outputs": [
    {
     "ename": "TypeError",
     "evalue": "unhashable type: 'list'",
     "output_type": "error",
     "traceback": [
      "\u001b[1;31m---------------------------------------------------------------------------\u001b[0m",
      "\u001b[1;31mTypeError\u001b[0m                                 Traceback (most recent call last)",
      "Cell \u001b[1;32mIn[77], line 1\u001b[0m\n\u001b[1;32m----> 1\u001b[0m d1 \u001b[38;5;241m=\u001b[39m {[\u001b[38;5;241m1\u001b[39m,\u001b[38;5;241m2\u001b[39m]: \u001b[38;5;124m\"\u001b[39m\u001b[38;5;124mjan\u001b[39m\u001b[38;5;124m\"\u001b[39m}\n",
      "\u001b[1;31mTypeError\u001b[0m: unhashable type: 'list'"
     ]
    }
   ],
   "source": [
    "d1 = {[1,2]: \"jan\"}"
   ]
  },
  {
   "cell_type": "code",
   "execution_count": 78,
   "id": "803f4ca3-8190-46ad-8ad3-58814a5846b3",
   "metadata": {},
   "outputs": [
    {
     "ename": "TypeError",
     "evalue": "unhashable type: 'set'",
     "output_type": "error",
     "traceback": [
      "\u001b[1;31m---------------------------------------------------------------------------\u001b[0m",
      "\u001b[1;31mTypeError\u001b[0m                                 Traceback (most recent call last)",
      "Cell \u001b[1;32mIn[78], line 1\u001b[0m\n\u001b[1;32m----> 1\u001b[0m d1 \u001b[38;5;241m=\u001b[39m {{\u001b[38;5;241m1\u001b[39m,\u001b[38;5;241m2\u001b[39m}: \u001b[38;5;124m\"\u001b[39m\u001b[38;5;124mjan\u001b[39m\u001b[38;5;124m\"\u001b[39m}\n",
      "\u001b[1;31mTypeError\u001b[0m: unhashable type: 'set'"
     ]
    }
   ],
   "source": [
    "d1 = {{1,2}: \"jan\"}"
   ]
  },
  {
   "cell_type": "code",
   "execution_count": 79,
   "id": "f52c84df-5574-4bd3-9bd9-471584d44316",
   "metadata": {},
   "outputs": [
    {
     "ename": "TypeError",
     "evalue": "unhashable type: 'dict'",
     "output_type": "error",
     "traceback": [
      "\u001b[1;31m---------------------------------------------------------------------------\u001b[0m",
      "\u001b[1;31mTypeError\u001b[0m                                 Traceback (most recent call last)",
      "Cell \u001b[1;32mIn[79], line 1\u001b[0m\n\u001b[1;32m----> 1\u001b[0m d1 \u001b[38;5;241m=\u001b[39m {{\u001b[38;5;241m1\u001b[39m: \u001b[38;5;241m2\u001b[39m}: \u001b[38;5;124m\"\u001b[39m\u001b[38;5;124mjan\u001b[39m\u001b[38;5;124m\"\u001b[39m}\n",
      "\u001b[1;31mTypeError\u001b[0m: unhashable type: 'dict'"
     ]
    }
   ],
   "source": [
    "d1 = {{1: 2}: \"jan\"}"
   ]
  },
  {
   "cell_type": "code",
   "execution_count": 88,
   "id": "7fb2b82d-a8bb-445d-8410-4ca4ad64d1d0",
   "metadata": {},
   "outputs": [
    {
     "ename": "SyntaxError",
     "evalue": "':' expected after dictionary key (1770881506.py, line 1)",
     "output_type": "error",
     "traceback": [
      "\u001b[1;36m  Cell \u001b[1;32mIn[88], line 1\u001b[1;36m\u001b[0m\n\u001b[1;33m    d1 = {2: {\"jan\", \"feb\"},23 }\u001b[0m\n\u001b[1;37m                             ^\u001b[0m\n\u001b[1;31mSyntaxError\u001b[0m\u001b[1;31m:\u001b[0m ':' expected after dictionary key\n"
     ]
    }
   ],
   "source": [
    "d1 = {2: [{\"jan\", \"feb\"}] }"
   ]
  },
  {
   "cell_type": "code",
   "execution_count": 94,
   "id": "a809f45d-b088-413a-ac0f-3f49564298f2",
   "metadata": {},
   "outputs": [],
   "source": [
    "d1 = {\"jan\":30, \"feb\":28, \"march\":31, \"april\":30, \"may\":31}"
   ]
  },
  {
   "cell_type": "code",
   "execution_count": 82,
   "id": "1acb68f1-d9f6-45a9-8dbf-aacfd4f63d2a",
   "metadata": {},
   "outputs": [
    {
     "ename": "KeyError",
     "evalue": "2",
     "output_type": "error",
     "traceback": [
      "\u001b[1;31m---------------------------------------------------------------------------\u001b[0m",
      "\u001b[1;31mKeyError\u001b[0m                                  Traceback (most recent call last)",
      "Cell \u001b[1;32mIn[82], line 1\u001b[0m\n\u001b[1;32m----> 1\u001b[0m d1[\u001b[38;5;241m2\u001b[39m]\n",
      "\u001b[1;31mKeyError\u001b[0m: 2"
     ]
    }
   ],
   "source": [
    "d1[2]"
   ]
  },
  {
   "cell_type": "code",
   "execution_count": 83,
   "id": "c8609792-390d-4ca7-a15a-7e0b65e74a08",
   "metadata": {},
   "outputs": [
    {
     "data": {
      "text/plain": [
       "30"
      ]
     },
     "execution_count": 83,
     "metadata": {},
     "output_type": "execute_result"
    }
   ],
   "source": [
    "d1[\"jan\"]"
   ]
  },
  {
   "cell_type": "code",
   "execution_count": 84,
   "id": "861ae689-f5e3-4105-82b3-72fa1386d17e",
   "metadata": {},
   "outputs": [
    {
     "data": {
      "text/plain": [
       "31"
      ]
     },
     "execution_count": 84,
     "metadata": {},
     "output_type": "execute_result"
    }
   ],
   "source": [
    "d1[\"may\"]"
   ]
  },
  {
   "cell_type": "code",
   "execution_count": 89,
   "id": "d31afb49-0859-481c-85ea-d875182a4d8c",
   "metadata": {},
   "outputs": [
    {
     "ename": "TypeError",
     "evalue": "unhashable type: 'slice'",
     "output_type": "error",
     "traceback": [
      "\u001b[1;31m---------------------------------------------------------------------------\u001b[0m",
      "\u001b[1;31mTypeError\u001b[0m                                 Traceback (most recent call last)",
      "Cell \u001b[1;32mIn[89], line 1\u001b[0m\n\u001b[1;32m----> 1\u001b[0m d1[:]\n",
      "\u001b[1;31mTypeError\u001b[0m: unhashable type: 'slice'"
     ]
    }
   ],
   "source": [
    "d1[:]"
   ]
  },
  {
   "cell_type": "code",
   "execution_count": 90,
   "id": "ab0180b5-5adb-4d36-a7d7-7835a81cbf88",
   "metadata": {},
   "outputs": [
    {
     "ename": "TypeError",
     "evalue": "unsupported operand type(s) for +: 'dict' and 'dict'",
     "output_type": "error",
     "traceback": [
      "\u001b[1;31m---------------------------------------------------------------------------\u001b[0m",
      "\u001b[1;31mTypeError\u001b[0m                                 Traceback (most recent call last)",
      "Cell \u001b[1;32mIn[90], line 1\u001b[0m\n\u001b[1;32m----> 1\u001b[0m d1 \u001b[38;5;241m+\u001b[39m d1\n",
      "\u001b[1;31mTypeError\u001b[0m: unsupported operand type(s) for +: 'dict' and 'dict'"
     ]
    }
   ],
   "source": [
    "d1 + d1"
   ]
  },
  {
   "cell_type": "code",
   "execution_count": 91,
   "id": "4edb2df6-b8ef-4712-af28-eca9acb8aac4",
   "metadata": {},
   "outputs": [
    {
     "ename": "TypeError",
     "evalue": "unsupported operand type(s) for *: 'dict' and 'int'",
     "output_type": "error",
     "traceback": [
      "\u001b[1;31m---------------------------------------------------------------------------\u001b[0m",
      "\u001b[1;31mTypeError\u001b[0m                                 Traceback (most recent call last)",
      "Cell \u001b[1;32mIn[91], line 1\u001b[0m\n\u001b[1;32m----> 1\u001b[0m d1 \u001b[38;5;241m*\u001b[39m\u001b[38;5;241m2\u001b[39m\n",
      "\u001b[1;31mTypeError\u001b[0m: unsupported operand type(s) for *: 'dict' and 'int'"
     ]
    }
   ],
   "source": [
    "d1 *2"
   ]
  },
  {
   "cell_type": "code",
   "execution_count": 95,
   "id": "9dc1903f-f302-4302-9172-ed59e010ab10",
   "metadata": {},
   "outputs": [],
   "source": [
    "d1[\"jan\"] = 31"
   ]
  },
  {
   "cell_type": "code",
   "execution_count": 96,
   "id": "4b916ce1-13d1-4e21-a67d-233e8575a1f3",
   "metadata": {},
   "outputs": [
    {
     "data": {
      "text/plain": [
       "{'jan': 31, 'feb': 28, 'march': 31, 'april': 30, 'may': 31}"
      ]
     },
     "execution_count": 96,
     "metadata": {},
     "output_type": "execute_result"
    }
   ],
   "source": [
    "d1"
   ]
  },
  {
   "cell_type": "code",
   "execution_count": 99,
   "id": "e85f5115-070d-49f6-9280-e86c56f28aec",
   "metadata": {},
   "outputs": [],
   "source": [
    "d1[28] = \"feb2\""
   ]
  },
  {
   "cell_type": "code",
   "execution_count": 100,
   "id": "7dc71399-b0e9-450b-bdec-e5f5bfdd1502",
   "metadata": {},
   "outputs": [
    {
     "data": {
      "text/plain": [
       "{'jan': 31, 'feb': 28, 'march': 31, 'april': 30, 'may': 31, 28: 'feb2'}"
      ]
     },
     "execution_count": 100,
     "metadata": {},
     "output_type": "execute_result"
    }
   ],
   "source": [
    "d1"
   ]
  },
  {
   "cell_type": "code",
   "execution_count": 102,
   "id": "62b1d6f8-01b0-436f-b760-c13d14eb8e84",
   "metadata": {},
   "outputs": [
    {
     "data": {
      "text/plain": [
       "28"
      ]
     },
     "execution_count": 102,
     "metadata": {},
     "output_type": "execute_result"
    }
   ],
   "source": [
    "d1.get(\"feb\")"
   ]
  },
  {
   "cell_type": "code",
   "execution_count": 103,
   "id": "7182e2bc-6cb9-496a-afa6-fa81659f09a7",
   "metadata": {},
   "outputs": [],
   "source": [
    "d1.get(\"july\")"
   ]
  },
  {
   "cell_type": "code",
   "execution_count": 104,
   "id": "03949dff-84cd-45c4-bef9-c656e78fbe0d",
   "metadata": {},
   "outputs": [
    {
     "ename": "KeyError",
     "evalue": "'july'",
     "output_type": "error",
     "traceback": [
      "\u001b[1;31m---------------------------------------------------------------------------\u001b[0m",
      "\u001b[1;31mKeyError\u001b[0m                                  Traceback (most recent call last)",
      "Cell \u001b[1;32mIn[104], line 1\u001b[0m\n\u001b[1;32m----> 1\u001b[0m d1[\u001b[38;5;124m\"\u001b[39m\u001b[38;5;124mjuly\u001b[39m\u001b[38;5;124m\"\u001b[39m]\n",
      "\u001b[1;31mKeyError\u001b[0m: 'july'"
     ]
    }
   ],
   "source": [
    "d1[\"july\"]"
   ]
  },
  {
   "cell_type": "code",
   "execution_count": 105,
   "id": "41197e28-a271-4040-9dc4-5127c485b5bd",
   "metadata": {},
   "outputs": [
    {
     "data": {
      "text/plain": [
       "dict_keys(['jan', 'feb', 'march', 'april', 'may', 28])"
      ]
     },
     "execution_count": 105,
     "metadata": {},
     "output_type": "execute_result"
    }
   ],
   "source": [
    "d1.keys()"
   ]
  },
  {
   "cell_type": "code",
   "execution_count": 106,
   "id": "cc7b826d-d726-4ce4-b564-f1a96fe621f3",
   "metadata": {},
   "outputs": [
    {
     "data": {
      "text/plain": [
       "dict_values([31, 28, 31, 30, 31, 'feb2'])"
      ]
     },
     "execution_count": 106,
     "metadata": {},
     "output_type": "execute_result"
    }
   ],
   "source": [
    "d1.values()"
   ]
  },
  {
   "cell_type": "code",
   "execution_count": 107,
   "id": "957bff3a-9777-4bfc-bd8d-89c3884f4da3",
   "metadata": {},
   "outputs": [
    {
     "data": {
      "text/plain": [
       "dict_items([('jan', 31), ('feb', 28), ('march', 31), ('april', 30), ('may', 31), (28, 'feb2')])"
      ]
     },
     "execution_count": 107,
     "metadata": {},
     "output_type": "execute_result"
    }
   ],
   "source": [
    "d1.items()"
   ]
  },
  {
   "cell_type": "code",
   "execution_count": 109,
   "id": "49e273ba-e11b-4988-a90c-84ef46dd3a8e",
   "metadata": {},
   "outputs": [
    {
     "data": {
      "text/plain": [
       "31"
      ]
     },
     "execution_count": 109,
     "metadata": {},
     "output_type": "execute_result"
    }
   ],
   "source": [
    "d1.pop(\"may\")"
   ]
  },
  {
   "cell_type": "code",
   "execution_count": 110,
   "id": "538016a6-37a0-4dca-ba70-a4e3980e9773",
   "metadata": {},
   "outputs": [
    {
     "data": {
      "text/plain": [
       "{'jan': 31, 'feb': 28, 'march': 31, 'april': 30, 28: 'feb2'}"
      ]
     },
     "execution_count": 110,
     "metadata": {},
     "output_type": "execute_result"
    }
   ],
   "source": [
    "d1"
   ]
  },
  {
   "cell_type": "code",
   "execution_count": 112,
   "id": "4f797d5a-2ff3-4de7-bfc4-3c7d018b451f",
   "metadata": {},
   "outputs": [
    {
     "data": {
      "text/plain": [
       "(28, 'feb2')"
      ]
     },
     "execution_count": 112,
     "metadata": {},
     "output_type": "execute_result"
    }
   ],
   "source": [
    "d1.popitem()"
   ]
  },
  {
   "cell_type": "code",
   "execution_count": 113,
   "id": "c6bfd912-16d5-4712-a84d-6d0c9baa68eb",
   "metadata": {},
   "outputs": [
    {
     "data": {
      "text/plain": [
       "{'jan': 31, 'feb': 28, 'march': 31, 'april': 30}"
      ]
     },
     "execution_count": 113,
     "metadata": {},
     "output_type": "execute_result"
    }
   ],
   "source": [
    "d1"
   ]
  },
  {
   "cell_type": "code",
   "execution_count": 114,
   "id": "00694d69-0d77-4251-aad8-e910861b1544",
   "metadata": {},
   "outputs": [
    {
     "data": {
      "text/plain": [
       "('april', 30)"
      ]
     },
     "execution_count": 114,
     "metadata": {},
     "output_type": "execute_result"
    }
   ],
   "source": [
    "d1.popitem()"
   ]
  },
  {
   "cell_type": "code",
   "execution_count": 115,
   "id": "c7aed889-713e-4c10-8cdb-2fce09061238",
   "metadata": {},
   "outputs": [
    {
     "data": {
      "text/plain": [
       "{'jan': 31, 'feb': 28, 'march': 31}"
      ]
     },
     "execution_count": 115,
     "metadata": {},
     "output_type": "execute_result"
    }
   ],
   "source": [
    "d1"
   ]
  },
  {
   "cell_type": "code",
   "execution_count": 117,
   "id": "f8df0c51-508d-4462-a87d-67de10c12c4b",
   "metadata": {},
   "outputs": [],
   "source": [
    "d2 = d1.copy()"
   ]
  },
  {
   "cell_type": "code",
   "execution_count": 119,
   "id": "3b890eab-10fe-4674-96dc-a1fb96ff36bf",
   "metadata": {},
   "outputs": [],
   "source": [
    "d2.clear()"
   ]
  },
  {
   "cell_type": "code",
   "execution_count": 120,
   "id": "9b7cc226-1854-4184-a22c-6b04cfeefc58",
   "metadata": {},
   "outputs": [
    {
     "data": {
      "text/plain": [
       "{}"
      ]
     },
     "execution_count": 120,
     "metadata": {},
     "output_type": "execute_result"
    }
   ],
   "source": [
    "d2"
   ]
  },
  {
   "cell_type": "code",
   "execution_count": 121,
   "id": "11c355a2-9e8c-41c4-a660-48043a63dd88",
   "metadata": {},
   "outputs": [],
   "source": [
    "d3 = {\"DA\": [1,2,3,(\"Py\", \"R\"), {\"a\", \"b\", 0}], \"DS\" :(\"ML\", {\"dl\":[\"ANN\", \"CNN\", \"RNN\"]}, True), \"AI\":{\"GAI\",\"NAI\",\"SAI\"}}"
   ]
  },
  {
   "cell_type": "code",
   "execution_count": 122,
   "id": "ba15ae70-0983-4ae1-9584-d9b9edd4d1ae",
   "metadata": {},
   "outputs": [
    {
     "data": {
      "text/plain": [
       "{'DA': [1, 2, 3, ('Py', 'R'), {0, 'a', 'b'}],\n",
       " 'DS': ('ML', {'dl': ['ANN', 'CNN', 'RNN']}, True),\n",
       " 'AI': {'GAI', 'NAI', 'SAI'}}"
      ]
     },
     "execution_count": 122,
     "metadata": {},
     "output_type": "execute_result"
    }
   ],
   "source": [
    "d3"
   ]
  },
  {
   "cell_type": "code",
   "execution_count": 124,
   "id": "9f67ad96-390a-4f40-91ae-a7c9873f4dd2",
   "metadata": {},
   "outputs": [
    {
     "ename": "TypeError",
     "evalue": "'set' object is not subscriptable",
     "output_type": "error",
     "traceback": [
      "\u001b[1;31m---------------------------------------------------------------------------\u001b[0m",
      "\u001b[1;31mTypeError\u001b[0m                                 Traceback (most recent call last)",
      "Cell \u001b[1;32mIn[124], line 1\u001b[0m\n\u001b[1;32m----> 1\u001b[0m d3[\u001b[38;5;124m\"\u001b[39m\u001b[38;5;124mAI\u001b[39m\u001b[38;5;124m\"\u001b[39m][\u001b[38;5;241m1\u001b[39m]\n",
      "\u001b[1;31mTypeError\u001b[0m: 'set' object is not subscriptable"
     ]
    }
   ],
   "source": [
    "d3[\"AI\"][1]"
   ]
  },
  {
   "cell_type": "code",
   "execution_count": 125,
   "id": "1034a92b-ec96-4682-802d-b852affbfaa9",
   "metadata": {},
   "outputs": [
    {
     "data": {
      "text/plain": [
       "{'GAI', 'NAI', 'SAI'}"
      ]
     },
     "execution_count": 125,
     "metadata": {},
     "output_type": "execute_result"
    }
   ],
   "source": [
    "d3[\"AI\"]"
   ]
  },
  {
   "cell_type": "code",
   "execution_count": 129,
   "id": "fef11a20-a77c-4d4b-8e8e-e1e192013bf0",
   "metadata": {},
   "outputs": [
    {
     "data": {
      "text/plain": [
       "'Py'"
      ]
     },
     "execution_count": 129,
     "metadata": {},
     "output_type": "execute_result"
    }
   ],
   "source": [
    "d3[\"DA\"][3][0]"
   ]
  },
  {
   "cell_type": "code",
   "execution_count": 130,
   "id": "24014d7b-b17f-4dc2-8f00-ac2da3657889",
   "metadata": {},
   "outputs": [
    {
     "data": {
      "text/plain": [
       "{'DA': [1, 2, 3, ('Py', 'R'), {0, 'a', 'b'}],\n",
       " 'DS': ('ML', {'dl': ['ANN', 'CNN', 'RNN']}, True),\n",
       " 'AI': {'GAI', 'NAI', 'SAI'}}"
      ]
     },
     "execution_count": 130,
     "metadata": {},
     "output_type": "execute_result"
    }
   ],
   "source": [
    "d3"
   ]
  },
  {
   "cell_type": "code",
   "execution_count": 134,
   "id": "d23f0844-eb15-4de2-9429-fed92d8eb3a6",
   "metadata": {},
   "outputs": [
    {
     "data": {
      "text/plain": [
       "'RNN'"
      ]
     },
     "execution_count": 134,
     "metadata": {},
     "output_type": "execute_result"
    }
   ],
   "source": [
    "d3[\"DS\"][1][\"dl\"][2]"
   ]
  },
  {
   "cell_type": "code",
   "execution_count": 135,
   "id": "b1b9f960-18c5-4bed-87bf-655e9960f5c2",
   "metadata": {},
   "outputs": [
    {
     "data": {
      "text/plain": [
       "{'DA': [1, 2, 3, ('Py', 'R'), {0, 'a', 'b'}],\n",
       " 'DS': ('ML', {'dl': ['ANN', 'CNN', 'RNN']}, True),\n",
       " 'AI': {'GAI', 'NAI', 'SAI'}}"
      ]
     },
     "execution_count": 135,
     "metadata": {},
     "output_type": "execute_result"
    }
   ],
   "source": [
    "d3"
   ]
  },
  {
   "cell_type": "code",
   "execution_count": 136,
   "id": "4268efca-2610-4046-ab97-8f562154cd7f",
   "metadata": {},
   "outputs": [
    {
     "data": {
      "text/plain": [
       "False"
      ]
     },
     "execution_count": 136,
     "metadata": {},
     "output_type": "execute_result"
    }
   ],
   "source": [
    "\"ML\" in d3"
   ]
  },
  {
   "cell_type": "code",
   "execution_count": 137,
   "id": "f6efa587-344d-4769-9b42-5585c691381c",
   "metadata": {},
   "outputs": [
    {
     "data": {
      "text/plain": [
       "True"
      ]
     },
     "execution_count": 137,
     "metadata": {},
     "output_type": "execute_result"
    }
   ],
   "source": [
    "\"DS\" in d3"
   ]
  },
  {
   "cell_type": "code",
   "execution_count": 139,
   "id": "7a22e4ad-0e89-48ad-85fc-ccb041148a8a",
   "metadata": {},
   "outputs": [],
   "source": [
    "l2 = [1,2,3 , [3,4,5,]]"
   ]
  },
  {
   "cell_type": "code",
   "execution_count": 141,
   "id": "830d01df-ff9f-4d2f-bb05-f76f2fff1385",
   "metadata": {},
   "outputs": [],
   "source": [
    "l2[3][1] = 44"
   ]
  },
  {
   "cell_type": "code",
   "execution_count": 142,
   "id": "62768750-a59a-4aa7-8848-a21e95c29126",
   "metadata": {},
   "outputs": [
    {
     "data": {
      "text/plain": [
       "[1, 2, 3, [3, 44, 5]]"
      ]
     },
     "execution_count": 142,
     "metadata": {},
     "output_type": "execute_result"
    }
   ],
   "source": [
    "l2"
   ]
  },
  {
   "cell_type": "code",
   "execution_count": 143,
   "id": "66106656-7484-4d1f-bfb4-487a53f74c75",
   "metadata": {},
   "outputs": [],
   "source": [
    "l2[3].append(66)"
   ]
  },
  {
   "cell_type": "code",
   "execution_count": 144,
   "id": "acbeefa7-50c2-478c-9979-a544ad812490",
   "metadata": {},
   "outputs": [
    {
     "data": {
      "text/plain": [
       "[1, 2, 3, [3, 44, 5, 66]]"
      ]
     },
     "execution_count": 144,
     "metadata": {},
     "output_type": "execute_result"
    }
   ],
   "source": [
    "l2"
   ]
  },
  {
   "cell_type": "code",
   "execution_count": 145,
   "id": "ae9101ce-ff52-41e4-a755-b575c77c51a5",
   "metadata": {},
   "outputs": [],
   "source": [
    "l2.append(77)"
   ]
  },
  {
   "cell_type": "code",
   "execution_count": 146,
   "id": "8a1e9d2c-4594-4ecc-afbf-4a92572bd705",
   "metadata": {},
   "outputs": [
    {
     "data": {
      "text/plain": [
       "[1, 2, 3, [3, 44, 5, 66], 77]"
      ]
     },
     "execution_count": 146,
     "metadata": {},
     "output_type": "execute_result"
    }
   ],
   "source": [
    "l2"
   ]
  },
  {
   "cell_type": "code",
   "execution_count": 147,
   "id": "e6310345-050a-41f7-9575-c041a00fd9c9",
   "metadata": {},
   "outputs": [],
   "source": [
    "l1 = [1,2,3, \"JAVA\"]"
   ]
  },
  {
   "cell_type": "code",
   "execution_count": 149,
   "id": "ab7059b6-6350-44d2-821e-db73e8885137",
   "metadata": {},
   "outputs": [
    {
     "data": {
      "text/plain": [
       "'java'"
      ]
     },
     "execution_count": 149,
     "metadata": {},
     "output_type": "execute_result"
    }
   ],
   "source": [
    "l1[3].lower()"
   ]
  },
  {
   "cell_type": "code",
   "execution_count": 151,
   "id": "ecc83d39-7d0b-4ba5-a4a4-d8f727fc525a",
   "metadata": {},
   "outputs": [],
   "source": [
    "l2.append(88)"
   ]
  },
  {
   "cell_type": "code",
   "execution_count": 152,
   "id": "ab164518-6a8f-4571-aa94-5ac8fd08e960",
   "metadata": {},
   "outputs": [
    {
     "data": {
      "text/plain": [
       "[1, 2, 3, [3, 44, 5, 66], 77, 88]"
      ]
     },
     "execution_count": 152,
     "metadata": {},
     "output_type": "execute_result"
    }
   ],
   "source": [
    "l2"
   ]
  },
  {
   "cell_type": "code",
   "execution_count": 154,
   "id": "7c8e6760-d6c7-4dd6-8b58-bb1e67054698",
   "metadata": {},
   "outputs": [],
   "source": [
    "l2[3].append(99)"
   ]
  },
  {
   "cell_type": "code",
   "execution_count": 157,
   "id": "ed898227-91c8-41f7-9a6c-26e87ac29a46",
   "metadata": {},
   "outputs": [
    {
     "data": {
      "text/plain": [
       "99"
      ]
     },
     "execution_count": 157,
     "metadata": {},
     "output_type": "execute_result"
    }
   ],
   "source": [
    "l2[3].pop()"
   ]
  },
  {
   "cell_type": "code",
   "execution_count": 159,
   "id": "8862882f-e195-43f3-9558-74e41c322fad",
   "metadata": {},
   "outputs": [
    {
     "data": {
      "text/plain": [
       "88"
      ]
     },
     "execution_count": 159,
     "metadata": {},
     "output_type": "execute_result"
    }
   ],
   "source": [
    "l2.pop()"
   ]
  },
  {
   "cell_type": "code",
   "execution_count": 160,
   "id": "a1317154-2326-427a-aed6-dd9312925057",
   "metadata": {},
   "outputs": [
    {
     "data": {
      "text/plain": [
       "[1, 2, 3, [3, 44, 5, 66], 77]"
      ]
     },
     "execution_count": 160,
     "metadata": {},
     "output_type": "execute_result"
    }
   ],
   "source": [
    "l2"
   ]
  },
  {
   "cell_type": "code",
   "execution_count": null,
   "id": "ce81a578-2229-48d3-8bc3-9764b5beb27b",
   "metadata": {},
   "outputs": [],
   "source": []
  }
 ],
 "metadata": {
  "kernelspec": {
   "display_name": "Python 3 (ipykernel)",
   "language": "python",
   "name": "python3"
  },
  "language_info": {
   "codemirror_mode": {
    "name": "ipython",
    "version": 3
   },
   "file_extension": ".py",
   "mimetype": "text/x-python",
   "name": "python",
   "nbconvert_exporter": "python",
   "pygments_lexer": "ipython3",
   "version": "3.11.7"
  }
 },
 "nbformat": 4,
 "nbformat_minor": 5
}
