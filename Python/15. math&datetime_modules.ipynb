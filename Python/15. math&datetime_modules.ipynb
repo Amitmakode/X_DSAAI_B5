{
 "cells": [
  {
   "cell_type": "code",
   "execution_count": 3,
   "id": "349d1e71-edb6-4d7d-a1f8-00decbeb03b6",
   "metadata": {},
   "outputs": [],
   "source": [
    "def del_all_txt_file():\n",
    "    import os\n",
    "    count = 0\n",
    "    for i in os.listdir():\n",
    "        if i.endswith(\".txt\"): #by changing extension we can delete multiple file \n",
    "            os.remove(i)\n",
    "            print(f\"{i} file is deleted\")\n",
    "            count += 1\n",
    "            \n",
    "    print(f\"{count} text files are deleted\")"
   ]
  },
  {
   "cell_type": "code",
   "execution_count": 4,
   "id": "7644f69c-d42d-49bb-8b37-aeb38e2d6621",
   "metadata": {},
   "outputs": [
    {
     "name": "stdout",
     "output_type": "stream",
     "text": [
      "test.txt file is deleted\n",
      "test1.txt file is deleted\n",
      "2 text files are deleted\n"
     ]
    }
   ],
   "source": [
    "del_all_txt_file()"
   ]
  },
  {
   "cell_type": "code",
   "execution_count": null,
   "id": "b6439e04-cfca-4aa6-8433-eaee54fcf620",
   "metadata": {},
   "outputs": [],
   "source": []
  },
  {
   "cell_type": "code",
   "execution_count": null,
   "id": "07464944-f5e2-484c-8a59-b7237a77e517",
   "metadata": {},
   "outputs": [],
   "source": [
    "!pip install package"
   ]
  },
  {
   "cell_type": "code",
   "execution_count": 6,
   "id": "b9621ccf-c186-4cea-9abb-9929979affbe",
   "metadata": {},
   "outputs": [],
   "source": [
    "import math"
   ]
  },
  {
   "cell_type": "code",
   "execution_count": 7,
   "id": "4b2dcda9-afd3-49b8-a835-dc80ee5273ce",
   "metadata": {},
   "outputs": [
    {
     "data": {
      "text/plain": [
       "15"
      ]
     },
     "execution_count": 7,
     "metadata": {},
     "output_type": "execute_result"
    }
   ],
   "source": [
    "math.comb(6, 2)"
   ]
  },
  {
   "cell_type": "code",
   "execution_count": 8,
   "id": "b7ef7762-c720-4642-af81-d1fc7562fe71",
   "metadata": {},
   "outputs": [
    {
     "data": {
      "text/plain": [
       "30"
      ]
     },
     "execution_count": 8,
     "metadata": {},
     "output_type": "execute_result"
    }
   ],
   "source": [
    "math.perm(6, 2)"
   ]
  },
  {
   "cell_type": "code",
   "execution_count": 9,
   "id": "3ec94b4e-02e2-443d-8ea4-c458ac488d87",
   "metadata": {},
   "outputs": [
    {
     "data": {
      "text/plain": [
       "35"
      ]
     },
     "execution_count": 9,
     "metadata": {},
     "output_type": "execute_result"
    }
   ],
   "source": [
    "math.ceil(34.9878)"
   ]
  },
  {
   "cell_type": "code",
   "execution_count": 10,
   "id": "3926c1b2-f382-4af0-86cf-76bd1b6357f5",
   "metadata": {},
   "outputs": [
    {
     "data": {
      "text/plain": [
       "34"
      ]
     },
     "execution_count": 10,
     "metadata": {},
     "output_type": "execute_result"
    }
   ],
   "source": [
    "math.floor(34.9878)"
   ]
  },
  {
   "cell_type": "code",
   "execution_count": 11,
   "id": "08d8ba4a-c954-43d0-b27a-c5d682b91bab",
   "metadata": {},
   "outputs": [
    {
     "data": {
      "text/plain": [
       "3.141592653589793"
      ]
     },
     "execution_count": 11,
     "metadata": {},
     "output_type": "execute_result"
    }
   ],
   "source": [
    "math.pi"
   ]
  },
  {
   "cell_type": "code",
   "execution_count": 12,
   "id": "57a55995-c9d7-49b1-9439-a43c201c7374",
   "metadata": {},
   "outputs": [
    {
     "data": {
      "text/plain": [
       "5.477225575051661"
      ]
     },
     "execution_count": 12,
     "metadata": {},
     "output_type": "execute_result"
    }
   ],
   "source": [
    "math.sqrt(30)"
   ]
  },
  {
   "cell_type": "code",
   "execution_count": 13,
   "id": "2e8da3f0-413e-45bc-8cda-8d4ab089192d",
   "metadata": {},
   "outputs": [
    {
     "data": {
      "text/plain": [
       "2.0"
      ]
     },
     "execution_count": 13,
     "metadata": {},
     "output_type": "execute_result"
    }
   ],
   "source": [
    "math.sqrt(4)"
   ]
  },
  {
   "cell_type": "code",
   "execution_count": 14,
   "id": "56f60bed-c9c3-4d05-812e-011be6779e61",
   "metadata": {},
   "outputs": [
    {
     "data": {
      "text/plain": [
       "180"
      ]
     },
     "execution_count": 14,
     "metadata": {},
     "output_type": "execute_result"
    }
   ],
   "source": [
    "math.lcm(20, 30, 45)"
   ]
  },
  {
   "cell_type": "code",
   "execution_count": 15,
   "id": "2da098b1-8b21-4085-b133-6e9a45b3ab56",
   "metadata": {},
   "outputs": [
    {
     "data": {
      "text/plain": [
       "25.0"
      ]
     },
     "execution_count": 15,
     "metadata": {},
     "output_type": "execute_result"
    }
   ],
   "source": [
    "math.pow(5, 2)"
   ]
  },
  {
   "cell_type": "code",
   "execution_count": 16,
   "id": "704cc911-32c7-440f-a108-a45535612023",
   "metadata": {},
   "outputs": [
    {
     "data": {
      "text/plain": [
       "0.7853981633974483"
      ]
     },
     "execution_count": 16,
     "metadata": {},
     "output_type": "execute_result"
    }
   ],
   "source": [
    "math.radians(45)"
   ]
  },
  {
   "cell_type": "code",
   "execution_count": null,
   "id": "d2faa047-5f3b-4a03-aa61-dfd50ea5be10",
   "metadata": {},
   "outputs": [],
   "source": [
    "90, 180, 270, 360"
   ]
  },
  {
   "cell_type": "code",
   "execution_count": 18,
   "id": "1b04a962-fee8-4d36-bbf6-373f7e163b6a",
   "metadata": {},
   "outputs": [
    {
     "data": {
      "text/plain": [
       "720"
      ]
     },
     "execution_count": 18,
     "metadata": {},
     "output_type": "execute_result"
    }
   ],
   "source": [
    "math.factorial(6)"
   ]
  },
  {
   "cell_type": "code",
   "execution_count": 20,
   "id": "8bf96272-602b-46d7-88d6-89a549043ca7",
   "metadata": {},
   "outputs": [],
   "source": [
    "import datetime as dt"
   ]
  },
  {
   "cell_type": "code",
   "execution_count": 21,
   "id": "ab34fe3a-9e04-422a-b195-4d777ea8127d",
   "metadata": {},
   "outputs": [
    {
     "data": {
      "text/plain": [
       "datetime.date(2025, 10, 10)"
      ]
     },
     "execution_count": 21,
     "metadata": {},
     "output_type": "execute_result"
    }
   ],
   "source": [
    "dt.date.today()"
   ]
  },
  {
   "cell_type": "code",
   "execution_count": 28,
   "id": "3d9b3618-7daf-45a0-97dc-0e3dad35ec8a",
   "metadata": {},
   "outputs": [
    {
     "name": "stdout",
     "output_type": "stream",
     "text": [
      "Today's date: 2025-10-10\n",
      "Formatted date: 2025-10-10\n"
     ]
    }
   ],
   "source": [
    "from datetime import date\n",
    "\n",
    "today = date.today()\n",
    "print(\"Today's date:\", today)\n",
    "print(\"Formatted date:\", today.strftime(\"%Y-%m-%d\"))"
   ]
  },
  {
   "cell_type": "code",
   "execution_count": 31,
   "id": "e7942def-d808-41eb-b13f-d89bfaaabe48",
   "metadata": {},
   "outputs": [],
   "source": [
    "dt = today.strftime(\"%Y-%m-%d\")"
   ]
  },
  {
   "cell_type": "code",
   "execution_count": 32,
   "id": "1c1f00ba-d6db-497d-b113-99760fef4ec2",
   "metadata": {},
   "outputs": [
    {
     "data": {
      "text/plain": [
       "'2025-10-10'"
      ]
     },
     "execution_count": 32,
     "metadata": {},
     "output_type": "execute_result"
    }
   ],
   "source": [
    "dt"
   ]
  },
  {
   "cell_type": "code",
   "execution_count": 33,
   "id": "70d1a927-1eb0-45f4-a690-8eebf7958f93",
   "metadata": {},
   "outputs": [
    {
     "name": "stdout",
     "output_type": "stream",
     "text": [
      "Current time: 14:30:45\n",
      "Formatted time: 14:30:45\n"
     ]
    }
   ],
   "source": [
    "from datetime import time\n",
    "\n",
    "current_time = time(14, 30, 45)\n",
    "print(\"Current time:\", current_time)\n",
    "print(\"Formatted time:\", current_time.strftime(\"%H:%M:%S\"))"
   ]
  },
  {
   "cell_type": "code",
   "execution_count": 34,
   "id": "c9fbd1ed-ba5f-4042-9abb-a284d323db57",
   "metadata": {},
   "outputs": [
    {
     "data": {
      "text/plain": [
       "datetime.time(14, 30, 45)"
      ]
     },
     "execution_count": 34,
     "metadata": {},
     "output_type": "execute_result"
    }
   ],
   "source": [
    "current_time"
   ]
  },
  {
   "cell_type": "code",
   "execution_count": 36,
   "id": "ca5b3cad-73b9-41b7-a82a-85f590949d7d",
   "metadata": {},
   "outputs": [],
   "source": [
    "tm = current_time.strftime(\"%H:%M:%S\")"
   ]
  },
  {
   "cell_type": "code",
   "execution_count": 37,
   "id": "b5a09e36-7c9f-4719-80f9-eada076cf8e0",
   "metadata": {},
   "outputs": [
    {
     "data": {
      "text/plain": [
       "'14:30:45'"
      ]
     },
     "execution_count": 37,
     "metadata": {},
     "output_type": "execute_result"
    }
   ],
   "source": [
    "tm"
   ]
  },
  {
   "cell_type": "code",
   "execution_count": 38,
   "id": "1190184f-7ca2-4622-b368-e6916c0c964f",
   "metadata": {},
   "outputs": [
    {
     "name": "stdout",
     "output_type": "stream",
     "text": [
      "Current date and time: 2025-10-10 12:12:17.296835\n",
      "Formatted datetime: 2025-10-10 12:12:17\n"
     ]
    }
   ],
   "source": [
    "from datetime import datetime\n",
    "\n",
    "now = datetime.now()\n",
    "print(\"Current date and time:\", now)\n",
    "print(\"Formatted datetime:\", now.strftime(\"%Y-%m-%d %H:%M:%S\"))"
   ]
  },
  {
   "cell_type": "code",
   "execution_count": 39,
   "id": "31d813c8-d89e-4359-867a-2dc101453c73",
   "metadata": {},
   "outputs": [],
   "source": [
    "dtm = now.strftime(\"%Y-%m-%d %H:%M:%S\")"
   ]
  },
  {
   "cell_type": "code",
   "execution_count": 40,
   "id": "165203e4-db95-424d-899d-1bbde381e4e0",
   "metadata": {},
   "outputs": [
    {
     "data": {
      "text/plain": [
       "'2025-10-10 12:12:17'"
      ]
     },
     "execution_count": 40,
     "metadata": {},
     "output_type": "execute_result"
    }
   ],
   "source": [
    "dtm"
   ]
  },
  {
   "cell_type": "code",
   "execution_count": 58,
   "id": "fae6f884-16e0-4985-9bc7-e4f1c236f601",
   "metadata": {},
   "outputs": [
    {
     "data": {
      "text/plain": [
       "'25-10-10 12:12:17'"
      ]
     },
     "execution_count": 58,
     "metadata": {},
     "output_type": "execute_result"
    }
   ],
   "source": [
    "now.strftime(\"%y-%m-%d %H:%M:%S\")"
   ]
  },
  {
   "cell_type": "code",
   "execution_count": 59,
   "id": "fb0fb835-e657-4325-9925-1bc718ffee71",
   "metadata": {},
   "outputs": [
    {
     "name": "stdout",
     "output_type": "stream",
     "text": [
      "Delta: 5 days, 3:00:00\n",
      "Total seconds in delta: 442800.0\n"
     ]
    }
   ],
   "source": [
    "from datetime import timedelta\n",
    "\n",
    "delta = timedelta(days=5, hours=3)\n",
    "print(\"Delta:\", delta)\n",
    "print(\"Total seconds in delta:\", delta.total_seconds())"
   ]
  },
  {
   "cell_type": "code",
   "execution_count": 60,
   "id": "3e5568e5-1ac9-4f4b-8648-f97ee49da81e",
   "metadata": {},
   "outputs": [],
   "source": [
    "from datetime import date, time, datetime\n",
    "\n",
    "d = date(2024, 7, 27)\n",
    "t = time(15, 30, 45)\n",
    "dt = datetime(2024, 7, 27, 15, 30, 45)"
   ]
  },
  {
   "cell_type": "code",
   "execution_count": 61,
   "id": "efd86d4d-01a2-4fbd-9409-a275f21c369e",
   "metadata": {},
   "outputs": [
    {
     "data": {
      "text/plain": [
       "datetime.datetime(2024, 7, 27, 15, 30, 45)"
      ]
     },
     "execution_count": 61,
     "metadata": {},
     "output_type": "execute_result"
    }
   ],
   "source": [
    "dt"
   ]
  },
  {
   "cell_type": "code",
   "execution_count": 62,
   "id": "5b547b84-424b-46bc-b9c1-5766af7d7857",
   "metadata": {},
   "outputs": [
    {
     "name": "stdout",
     "output_type": "stream",
     "text": [
      "Difference: 2 days, 0:00:00\n"
     ]
    }
   ],
   "source": [
    "from datetime import datetime, timedelta\n",
    "\n",
    "now = datetime.now()\n",
    "tomorrow = now + timedelta(days=2)\n",
    "difference = tomorrow - now\n",
    "print(\"Difference:\", difference)"
   ]
  },
  {
   "cell_type": "code",
   "execution_count": 63,
   "id": "841efee0-8430-41ad-8b6e-b41c45311387",
   "metadata": {},
   "outputs": [
    {
     "data": {
      "text/plain": [
       "datetime.datetime(2025, 10, 10, 12, 18, 47, 899373)"
      ]
     },
     "execution_count": 63,
     "metadata": {},
     "output_type": "execute_result"
    }
   ],
   "source": [
    "now"
   ]
  },
  {
   "cell_type": "code",
   "execution_count": 64,
   "id": "987d771a-a668-473a-99f4-49ea61e9ac45",
   "metadata": {},
   "outputs": [
    {
     "data": {
      "text/plain": [
       "datetime.datetime(2025, 10, 12, 12, 18, 47, 899373)"
      ]
     },
     "execution_count": 64,
     "metadata": {},
     "output_type": "execute_result"
    }
   ],
   "source": [
    "tomorrow"
   ]
  },
  {
   "cell_type": "code",
   "execution_count": 65,
   "id": "136d45bd-f45c-408b-b7a2-9010ae4e205a",
   "metadata": {},
   "outputs": [
    {
     "name": "stdout",
     "output_type": "stream",
     "text": [
      "Date 30 days from now: 2025-11-09 12:20:07.870343\n"
     ]
    }
   ],
   "source": [
    "from datetime import datetime, timedelta\n",
    "\n",
    "now = datetime.now()\n",
    "future_date = now + timedelta(days=30)\n",
    "print(\"Date 30 days from now:\", future_date)"
   ]
  },
  {
   "cell_type": "code",
   "execution_count": 66,
   "id": "4f3ba846-de4e-4ddf-98b2-d6ce59911e26",
   "metadata": {},
   "outputs": [
    {
     "name": "stdout",
     "output_type": "stream",
     "text": [
      "Updated time: 14:45:00\n"
     ]
    }
   ],
   "source": [
    "from datetime import time\n",
    "\n",
    "t = time(14, 30)\n",
    "new_time = t.replace(minute=45)\n",
    "print(\"Updated time:\", new_time)"
   ]
  },
  {
   "cell_type": "code",
   "execution_count": null,
   "id": "d78cbb2a-7f75-4f43-b8f4-b09ea743f8ef",
   "metadata": {},
   "outputs": [],
   "source": [
    "import os\n",
    "import random\n",
    "import json\n",
    "import logging \n",
    "import re"
   ]
  }
 ],
 "metadata": {
  "kernelspec": {
   "display_name": "Python 3 (ipykernel)",
   "language": "python",
   "name": "python3"
  },
  "language_info": {
   "codemirror_mode": {
    "name": "ipython",
    "version": 3
   },
   "file_extension": ".py",
   "mimetype": "text/x-python",
   "name": "python",
   "nbconvert_exporter": "python",
   "pygments_lexer": "ipython3",
   "version": "3.11.7"
  }
 },
 "nbformat": 4,
 "nbformat_minor": 5
}
