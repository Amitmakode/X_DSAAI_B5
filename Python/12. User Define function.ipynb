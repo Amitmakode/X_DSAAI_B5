{
 "cells": [
  {
   "cell_type": "code",
   "execution_count": 1,
   "id": "539d2090-239e-4432-89aa-fedc28d69f2f",
   "metadata": {},
   "outputs": [],
   "source": [
    "def name():\n",
    "    pass"
   ]
  },
  {
   "cell_type": "code",
   "execution_count": 2,
   "id": "e2303fd5-7736-4c3d-9b62-27ede187e4cb",
   "metadata": {},
   "outputs": [],
   "source": [
    "name()"
   ]
  },
  {
   "cell_type": "code",
   "execution_count": 3,
   "id": "c91350d0-3c9d-40b5-89ff-81316c388b00",
   "metadata": {},
   "outputs": [],
   "source": [
    "def add_two_num(a, b):\n",
    "    c = a+b\n",
    "    return c"
   ]
  },
  {
   "cell_type": "code",
   "execution_count": 4,
   "id": "7914aaeb-5a1e-4fb3-928b-cf1c610e39c4",
   "metadata": {},
   "outputs": [
    {
     "ename": "TypeError",
     "evalue": "add_two_num() missing 2 required positional arguments: 'a' and 'b'",
     "output_type": "error",
     "traceback": [
      "\u001b[1;31m---------------------------------------------------------------------------\u001b[0m",
      "\u001b[1;31mTypeError\u001b[0m                                 Traceback (most recent call last)",
      "Cell \u001b[1;32mIn[4], line 1\u001b[0m\n\u001b[1;32m----> 1\u001b[0m add_two_num()\n",
      "\u001b[1;31mTypeError\u001b[0m: add_two_num() missing 2 required positional arguments: 'a' and 'b'"
     ]
    }
   ],
   "source": [
    "add_two_num()"
   ]
  },
  {
   "cell_type": "code",
   "execution_count": 5,
   "id": "6f06c65c-7ef8-4a02-9066-72acadf1a208",
   "metadata": {},
   "outputs": [
    {
     "ename": "TypeError",
     "evalue": "add_two_num() missing 1 required positional argument: 'b'",
     "output_type": "error",
     "traceback": [
      "\u001b[1;31m---------------------------------------------------------------------------\u001b[0m",
      "\u001b[1;31mTypeError\u001b[0m                                 Traceback (most recent call last)",
      "Cell \u001b[1;32mIn[5], line 1\u001b[0m\n\u001b[1;32m----> 1\u001b[0m add_two_num(\u001b[38;5;241m20\u001b[39m)\n",
      "\u001b[1;31mTypeError\u001b[0m: add_two_num() missing 1 required positional argument: 'b'"
     ]
    }
   ],
   "source": [
    "add_two_num(20)"
   ]
  },
  {
   "cell_type": "code",
   "execution_count": 6,
   "id": "45f1b4eb-5ecd-483f-9552-a25a1972933c",
   "metadata": {},
   "outputs": [
    {
     "data": {
      "text/plain": [
       "50"
      ]
     },
     "execution_count": 6,
     "metadata": {},
     "output_type": "execute_result"
    }
   ],
   "source": [
    "add_two_num(20, 30)"
   ]
  },
  {
   "cell_type": "code",
   "execution_count": 7,
   "id": "19e02a60-540f-45ef-bff6-14c1867e59a8",
   "metadata": {},
   "outputs": [
    {
     "data": {
      "text/plain": [
       "5"
      ]
     },
     "execution_count": 7,
     "metadata": {},
     "output_type": "execute_result"
    }
   ],
   "source": [
    "add_two_num(2, 3)"
   ]
  },
  {
   "cell_type": "code",
   "execution_count": null,
   "id": "130bd9e4-84ca-4ed7-be8a-f369720865f4",
   "metadata": {},
   "outputs": [],
   "source": [
    "positional argument\n",
    "non-keyword argument  *args\n",
    "key-word argument     **kwargs"
   ]
  },
  {
   "cell_type": "code",
   "execution_count": 10,
   "id": "7349d4d3-f7c7-4a81-bd9d-2974e43db433",
   "metadata": {},
   "outputs": [
    {
     "ename": "TypeError",
     "evalue": "len() takes exactly one argument (2 given)",
     "output_type": "error",
     "traceback": [
      "\u001b[1;31m---------------------------------------------------------------------------\u001b[0m",
      "\u001b[1;31mTypeError\u001b[0m                                 Traceback (most recent call last)",
      "Cell \u001b[1;32mIn[10], line 1\u001b[0m\n\u001b[1;32m----> 1\u001b[0m \u001b[38;5;28mlen\u001b[39m(\u001b[38;5;124m\"\u001b[39m\u001b[38;5;124m35\u001b[39m\u001b[38;5;124m\"\u001b[39m, \u001b[38;5;124m\"\u001b[39m\u001b[38;5;124m345\u001b[39m\u001b[38;5;124m\"\u001b[39m)\n",
      "\u001b[1;31mTypeError\u001b[0m: len() takes exactly one argument (2 given)"
     ]
    }
   ],
   "source": [
    "len(\"35\", \"345\")"
   ]
  },
  {
   "cell_type": "code",
   "execution_count": null,
   "id": "0e909a80-7033-4842-834d-2f4a4abc997b",
   "metadata": {},
   "outputs": [],
   "source": []
  },
  {
   "cell_type": "code",
   "execution_count": 11,
   "id": "d304d1a2-aa73-4972-984f-b4c568cf7b4c",
   "metadata": {},
   "outputs": [],
   "source": [
    "def fun1 ():\n",
    "    return \"hello\""
   ]
  },
  {
   "cell_type": "code",
   "execution_count": 12,
   "id": "6f4ce615-cf8e-45d9-9518-1eadcc1489ff",
   "metadata": {},
   "outputs": [
    {
     "data": {
      "text/plain": [
       "'hello'"
      ]
     },
     "execution_count": 12,
     "metadata": {},
     "output_type": "execute_result"
    }
   ],
   "source": [
    "fun1()"
   ]
  },
  {
   "cell_type": "code",
   "execution_count": 13,
   "id": "46a09efb-f50a-4a72-ae59-33d21c11a76f",
   "metadata": {},
   "outputs": [],
   "source": [
    "def fun2(a):\n",
    "    return a.upper()"
   ]
  },
  {
   "cell_type": "code",
   "execution_count": 15,
   "id": "60047ec3-a1af-4d02-84fd-a75feb642f14",
   "metadata": {},
   "outputs": [
    {
     "ename": "TypeError",
     "evalue": "fun2() takes 1 positional argument but 2 were given",
     "output_type": "error",
     "traceback": [
      "\u001b[1;31m---------------------------------------------------------------------------\u001b[0m",
      "\u001b[1;31mTypeError\u001b[0m                                 Traceback (most recent call last)",
      "Cell \u001b[1;32mIn[15], line 1\u001b[0m\n\u001b[1;32m----> 1\u001b[0m fun2(\u001b[38;5;124m\"\u001b[39m\u001b[38;5;124mjava\u001b[39m\u001b[38;5;124m\"\u001b[39m, \u001b[38;5;124m\"\u001b[39m\u001b[38;5;124mc++\u001b[39m\u001b[38;5;124m\"\u001b[39m)\n",
      "\u001b[1;31mTypeError\u001b[0m: fun2() takes 1 positional argument but 2 were given"
     ]
    }
   ],
   "source": [
    "fun2(\"java\", \"c++\")"
   ]
  },
  {
   "cell_type": "code",
   "execution_count": 16,
   "id": "5d526448-839e-4f25-ba84-8b1f7b68db91",
   "metadata": {},
   "outputs": [],
   "source": [
    "def fun3(*a):\n",
    "    return a"
   ]
  },
  {
   "cell_type": "code",
   "execution_count": 17,
   "id": "8d48a073-4a05-4377-8607-bc667797ed1f",
   "metadata": {},
   "outputs": [
    {
     "data": {
      "text/plain": [
       "()"
      ]
     },
     "execution_count": 17,
     "metadata": {},
     "output_type": "execute_result"
    }
   ],
   "source": [
    "fun3()"
   ]
  },
  {
   "cell_type": "code",
   "execution_count": 18,
   "id": "0185d1a5-5230-408b-abe7-51ba5f474dd8",
   "metadata": {},
   "outputs": [
    {
     "data": {
      "text/plain": [
       "(3,)"
      ]
     },
     "execution_count": 18,
     "metadata": {},
     "output_type": "execute_result"
    }
   ],
   "source": [
    "fun3(3)"
   ]
  },
  {
   "cell_type": "code",
   "execution_count": 19,
   "id": "a97b5eb0-294c-4216-aa77-e01e72319b8e",
   "metadata": {},
   "outputs": [
    {
     "data": {
      "text/plain": [
       "(3, 5, 8, 9)"
      ]
     },
     "execution_count": 19,
     "metadata": {},
     "output_type": "execute_result"
    }
   ],
   "source": [
    "fun3(3, 5,8,9)"
   ]
  },
  {
   "cell_type": "code",
   "execution_count": 20,
   "id": "1a489392-c634-4702-a62e-d82a0b4203eb",
   "metadata": {},
   "outputs": [
    {
     "name": "stdout",
     "output_type": "stream",
     "text": [
      "\n"
     ]
    }
   ],
   "source": [
    "print()"
   ]
  },
  {
   "cell_type": "code",
   "execution_count": 21,
   "id": "a84d89b4-01bf-4b6a-9d43-2c3411e7bea4",
   "metadata": {},
   "outputs": [
    {
     "name": "stdout",
     "output_type": "stream",
     "text": [
      "5\n"
     ]
    }
   ],
   "source": [
    "print(5)"
   ]
  },
  {
   "cell_type": "code",
   "execution_count": 22,
   "id": "00b60135-c7ff-45dc-9775-e0b0edeb9f1b",
   "metadata": {},
   "outputs": [
    {
     "name": "stdout",
     "output_type": "stream",
     "text": [
      "4 5 6 8\n"
     ]
    }
   ],
   "source": [
    "print(4,5,6,8)"
   ]
  },
  {
   "cell_type": "code",
   "execution_count": 23,
   "id": "9fd47cc0-aaa8-4618-9867-93e330a581e5",
   "metadata": {},
   "outputs": [],
   "source": [
    "def fun4(**x):\n",
    "    return x"
   ]
  },
  {
   "cell_type": "code",
   "execution_count": 24,
   "id": "312adb01-1590-4dfc-98cf-ca172d31f022",
   "metadata": {},
   "outputs": [
    {
     "data": {
      "text/plain": [
       "{}"
      ]
     },
     "execution_count": 24,
     "metadata": {},
     "output_type": "execute_result"
    }
   ],
   "source": [
    "fun4()"
   ]
  },
  {
   "cell_type": "code",
   "execution_count": 25,
   "id": "fde8f0e1-22ca-464c-9be8-7ac5900390fc",
   "metadata": {},
   "outputs": [
    {
     "ename": "TypeError",
     "evalue": "fun4() takes 0 positional arguments but 1 was given",
     "output_type": "error",
     "traceback": [
      "\u001b[1;31m---------------------------------------------------------------------------\u001b[0m",
      "\u001b[1;31mTypeError\u001b[0m                                 Traceback (most recent call last)",
      "Cell \u001b[1;32mIn[25], line 1\u001b[0m\n\u001b[1;32m----> 1\u001b[0m fun4(\u001b[38;5;241m2\u001b[39m)\n",
      "\u001b[1;31mTypeError\u001b[0m: fun4() takes 0 positional arguments but 1 was given"
     ]
    }
   ],
   "source": [
    "fun4(2)"
   ]
  },
  {
   "cell_type": "code",
   "execution_count": 26,
   "id": "b0f84304-dafa-4d43-b388-1db15ac38fd5",
   "metadata": {},
   "outputs": [
    {
     "data": {
      "text/plain": [
       "{'lang': 'js'}"
      ]
     },
     "execution_count": 26,
     "metadata": {},
     "output_type": "execute_result"
    }
   ],
   "source": [
    "fun4(lang = \"js\")"
   ]
  },
  {
   "cell_type": "code",
   "execution_count": null,
   "id": "41f96adf-59a3-482b-b236-32ee5a86451b",
   "metadata": {},
   "outputs": [],
   "source": [
    "print()"
   ]
  },
  {
   "cell_type": "code",
   "execution_count": 27,
   "id": "dc929963-20fb-4ac9-80c5-3cff9aa8dadd",
   "metadata": {},
   "outputs": [
    {
     "data": {
      "text/plain": [
       "{'lang1': 'js', 'lang2': 'html'}"
      ]
     },
     "execution_count": 27,
     "metadata": {},
     "output_type": "execute_result"
    }
   ],
   "source": [
    "fun4(lang1 = \"js\", lang2 = \"html\")"
   ]
  },
  {
   "cell_type": "code",
   "execution_count": 28,
   "id": "3d095258-2f5e-4db1-9740-abb995e7870b",
   "metadata": {},
   "outputs": [
    {
     "ename": "SyntaxError",
     "evalue": "arguments cannot follow var-keyword argument (587700846.py, line 1)",
     "output_type": "error",
     "traceback": [
      "\u001b[1;36m  Cell \u001b[1;32mIn[28], line 1\u001b[1;36m\u001b[0m\n\u001b[1;33m    def fun5(**a, *b, c):\u001b[0m\n\u001b[1;37m                  ^\u001b[0m\n\u001b[1;31mSyntaxError\u001b[0m\u001b[1;31m:\u001b[0m arguments cannot follow var-keyword argument\n"
     ]
    }
   ],
   "source": [
    "def fun5(**a, *b, c):\n",
    "    return a, b, c"
   ]
  },
  {
   "cell_type": "code",
   "execution_count": 29,
   "id": "7c88a010-6e2f-43c3-82c3-eec288a477dc",
   "metadata": {},
   "outputs": [
    {
     "ename": "SyntaxError",
     "evalue": "arguments cannot follow var-keyword argument (4095601674.py, line 1)",
     "output_type": "error",
     "traceback": [
      "\u001b[1;36m  Cell \u001b[1;32mIn[29], line 1\u001b[1;36m\u001b[0m\n\u001b[1;33m    def fun5( *b, **a, c):\u001b[0m\n\u001b[1;37m                       ^\u001b[0m\n\u001b[1;31mSyntaxError\u001b[0m\u001b[1;31m:\u001b[0m arguments cannot follow var-keyword argument\n"
     ]
    }
   ],
   "source": [
    "def fun5( *b, **a, c):\n",
    "    return a, b, c"
   ]
  },
  {
   "cell_type": "code",
   "execution_count": 30,
   "id": "a29a16a8-9f68-4137-826a-9fab45a3fcc7",
   "metadata": {},
   "outputs": [],
   "source": [
    "def fun5( *b, c, **a):\n",
    "    return a, b, c"
   ]
  },
  {
   "cell_type": "code",
   "execution_count": 31,
   "id": "d297ea18-7ec3-4638-b635-08f2d8cdcd9b",
   "metadata": {},
   "outputs": [
    {
     "ename": "TypeError",
     "evalue": "fun5() missing 1 required keyword-only argument: 'c'",
     "output_type": "error",
     "traceback": [
      "\u001b[1;31m---------------------------------------------------------------------------\u001b[0m",
      "\u001b[1;31mTypeError\u001b[0m                                 Traceback (most recent call last)",
      "Cell \u001b[1;32mIn[31], line 1\u001b[0m\n\u001b[1;32m----> 1\u001b[0m fun5(\u001b[38;5;241m2\u001b[39m, \u001b[38;5;241m6\u001b[39m, lang1 \u001b[38;5;241m=\u001b[39m \u001b[38;5;124m\"\u001b[39m\u001b[38;5;124mjs\u001b[39m\u001b[38;5;124m\"\u001b[39m)\n",
      "\u001b[1;31mTypeError\u001b[0m: fun5() missing 1 required keyword-only argument: 'c'"
     ]
    }
   ],
   "source": [
    "fun5(2, 6, lang1 = \"js\")"
   ]
  },
  {
   "cell_type": "code",
   "execution_count": 32,
   "id": "1ab25818-06ea-46b8-82b0-00d40ed80799",
   "metadata": {},
   "outputs": [
    {
     "ename": "TypeError",
     "evalue": "fun5() missing 1 required keyword-only argument: 'c'",
     "output_type": "error",
     "traceback": [
      "\u001b[1;31m---------------------------------------------------------------------------\u001b[0m",
      "\u001b[1;31mTypeError\u001b[0m                                 Traceback (most recent call last)",
      "Cell \u001b[1;32mIn[32], line 1\u001b[0m\n\u001b[1;32m----> 1\u001b[0m fun5(\u001b[38;5;241m2\u001b[39m,lang1 \u001b[38;5;241m=\u001b[39m \u001b[38;5;124m\"\u001b[39m\u001b[38;5;124mjs\u001b[39m\u001b[38;5;124m\"\u001b[39m)\n",
      "\u001b[1;31mTypeError\u001b[0m: fun5() missing 1 required keyword-only argument: 'c'"
     ]
    }
   ],
   "source": [
    "fun5(2,lang1 = \"js\")"
   ]
  },
  {
   "cell_type": "code",
   "execution_count": 33,
   "id": "80348156-43f0-4f00-88d4-61fb23b07fb1",
   "metadata": {},
   "outputs": [],
   "source": [
    "def fun5( c, *b, **a):\n",
    "    return a, b, c"
   ]
  },
  {
   "cell_type": "code",
   "execution_count": 34,
   "id": "3b5e5e87-1c8e-4505-87dd-5a16d1043979",
   "metadata": {},
   "outputs": [
    {
     "data": {
      "text/plain": [
       "({'lang1': 'js'}, (4,), 2)"
      ]
     },
     "execution_count": 34,
     "metadata": {},
     "output_type": "execute_result"
    }
   ],
   "source": [
    "fun5(2,4,lang1 = \"js\")"
   ]
  },
  {
   "cell_type": "code",
   "execution_count": 39,
   "id": "136c8ee4-2b8e-4980-abbf-d8477ef7d734",
   "metadata": {},
   "outputs": [],
   "source": [
    "def fun6(a):\n",
    "    print(a)"
   ]
  },
  {
   "cell_type": "code",
   "execution_count": 40,
   "id": "49360db1-270f-42af-9542-eb178dfb2815",
   "metadata": {},
   "outputs": [
    {
     "name": "stdout",
     "output_type": "stream",
     "text": [
      "7\n"
     ]
    }
   ],
   "source": [
    "fun6(7)"
   ]
  },
  {
   "cell_type": "code",
   "execution_count": 42,
   "id": "0c3eeec3-a63c-4352-b223-9d27fa7f1d06",
   "metadata": {},
   "outputs": [],
   "source": [
    "def fun7(string_variable):\n",
    "    \"\"\"this is our first user define\n",
    "    function which used to swap the case\"\"\"\n",
    "    return string_variable.swapcase()"
   ]
  },
  {
   "cell_type": "code",
   "execution_count": 43,
   "id": "af0347bb-3b90-40b7-b3e9-779a179595c9",
   "metadata": {},
   "outputs": [
    {
     "data": {
      "text/plain": [
       "'pYTHOn'"
      ]
     },
     "execution_count": 43,
     "metadata": {},
     "output_type": "execute_result"
    }
   ],
   "source": [
    "fun7(\"PythoN\")"
   ]
  },
  {
   "cell_type": "code",
   "execution_count": 44,
   "id": "e320a80e-30b0-41b0-ac8e-9d5424d91a5e",
   "metadata": {},
   "outputs": [],
   "source": [
    "l1 = [1,2,3,4,5,6,7,7,8,9]"
   ]
  },
  {
   "cell_type": "code",
   "execution_count": 46,
   "id": "7a3784eb-f8bf-4616-8c80-0bbe1bf14bdc",
   "metadata": {},
   "outputs": [
    {
     "data": {
      "text/plain": [
       "[2, 4, 6, 8]"
      ]
     },
     "execution_count": 46,
     "metadata": {},
     "output_type": "execute_result"
    }
   ],
   "source": [
    "evn_lis = []\n",
    "for i in l1:\n",
    "    if i%2==0:\n",
    "        evn_lis.append(i)\n",
    "evn_lis        "
   ]
  },
  {
   "cell_type": "code",
   "execution_count": 47,
   "id": "f56bf559-16e2-4f28-ab5a-75fdc099721e",
   "metadata": {},
   "outputs": [],
   "source": [
    "def even_list(lis):\n",
    "    evn_lis = []\n",
    "    for i in lis:\n",
    "        if i%2==0:\n",
    "            evn_lis.append(i)\n",
    "    return evn_lis"
   ]
  },
  {
   "cell_type": "code",
   "execution_count": 48,
   "id": "115c9539-009c-4e19-8f24-50920d1978ad",
   "metadata": {},
   "outputs": [
    {
     "data": {
      "text/plain": [
       "[2, 4, 6, 8]"
      ]
     },
     "execution_count": 48,
     "metadata": {},
     "output_type": "execute_result"
    }
   ],
   "source": [
    "even_list(l1)"
   ]
  },
  {
   "cell_type": "code",
   "execution_count": 56,
   "id": "ad9b3c5f-9203-4790-bfba-331a21ec52b1",
   "metadata": {},
   "outputs": [],
   "source": [
    "def pyramind(Rows, n):\n",
    "    for i in range(Rows):\n",
    "        for j in range(n-i):\n",
    "            print(\"\",end =\" \")\n",
    "        for k in range(i+1):\n",
    "            print(\"*\",end = \" \")\n",
    "        print()"
   ]
  },
  {
   "cell_type": "code",
   "execution_count": 59,
   "id": "3c012f20-1289-4d6b-8da6-030f94513b23",
   "metadata": {},
   "outputs": [
    {
     "name": "stdout",
     "output_type": "stream",
     "text": [
      "         * \n",
      "        * * \n",
      "       * * * \n",
      "      * * * * \n",
      "     * * * * * \n",
      "    * * * * * * \n",
      "   * * * * * * * \n",
      "  * * * * * * * * \n",
      " * * * * * * * * * \n",
      "* * * * * * * * * * \n"
     ]
    }
   ],
   "source": [
    "pyramind(10, 9)"
   ]
  },
  {
   "cell_type": "code",
   "execution_count": 64,
   "id": "a3fe666e-9566-4c96-b7f8-394ba41cfc1a",
   "metadata": {},
   "outputs": [],
   "source": [
    "def area(object):\n",
    "    if object == \"circle\":\n",
    "        radius = int(input())\n",
    "        import math\n",
    "        circle_area = math.pi * radius**2\n",
    "        print(f\"this area of circle {circle_area}\")\n",
    "    else:\n",
    "        length = int(input())\n",
    "        width = int(input())\n",
    "        square_area = length*width\n",
    "        print(f\"this is area of square {square_area} cm2\")\n",
    "        "
   ]
  },
  {
   "cell_type": "code",
   "execution_count": 62,
   "id": "453622fe-9a5b-4728-b15e-71dab6ecea9b",
   "metadata": {},
   "outputs": [
    {
     "name": "stdin",
     "output_type": "stream",
     "text": [
      " 50\n"
     ]
    },
    {
     "name": "stdout",
     "output_type": "stream",
     "text": [
      "this area of circle 7853.981633974483\n"
     ]
    }
   ],
   "source": [
    "area(\"circle\")"
   ]
  },
  {
   "cell_type": "code",
   "execution_count": 65,
   "id": "4375ef08-1e10-47dd-bc92-c25fc93f12d9",
   "metadata": {},
   "outputs": [
    {
     "name": "stdin",
     "output_type": "stream",
     "text": [
      " 30\n",
      " 70\n"
     ]
    },
    {
     "name": "stdout",
     "output_type": "stream",
     "text": [
      "this is area of square 2100 cm2\n"
     ]
    }
   ],
   "source": [
    "area(\"square\")"
   ]
  },
  {
   "cell_type": "code",
   "execution_count": 66,
   "id": "ce722c69-f74d-4f61-a54c-2e8732ae98ef",
   "metadata": {},
   "outputs": [],
   "source": [
    "lis  = [1, \"f\", 6, \"h\", \"a\", 2, 6, \"j\", \"p\", 8]"
   ]
  },
  {
   "cell_type": "code",
   "execution_count": null,
   "id": "74bc4cb4-2d77-4628-bfe6-62b193309e92",
   "metadata": {},
   "outputs": [],
   "source": []
  }
 ],
 "metadata": {
  "kernelspec": {
   "display_name": "Python 3 (ipykernel)",
   "language": "python",
   "name": "python3"
  },
  "language_info": {
   "codemirror_mode": {
    "name": "ipython",
    "version": 3
   },
   "file_extension": ".py",
   "mimetype": "text/x-python",
   "name": "python",
   "nbconvert_exporter": "python",
   "pygments_lexer": "ipython3",
   "version": "3.11.7"
  }
 },
 "nbformat": 4,
 "nbformat_minor": 5
}
