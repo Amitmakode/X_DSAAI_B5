{
 "cells": [
  {
   "cell_type": "markdown",
   "id": "811fef29-294f-46c5-a145-55a19bc4ec21",
   "metadata": {},
   "source": [
    "## Loop-2"
   ]
  },
  {
   "cell_type": "code",
   "execution_count": 1,
   "id": "5b290f76-adbb-4633-aff9-93d379d8c0d0",
   "metadata": {},
   "outputs": [],
   "source": [
    "str_var = \"jupyter notebook\""
   ]
  },
  {
   "cell_type": "code",
   "execution_count": 8,
   "id": "c5272c28-97ca-4fcc-811b-dc2c0df8ec88",
   "metadata": {},
   "outputs": [
    {
     "name": "stdout",
     "output_type": "stream",
     "text": [
      "j u p y t e r   n o t e b o o k "
     ]
    }
   ],
   "source": [
    "for i in str_var:\n",
    "    print(i, end = \" \")"
   ]
  },
  {
   "cell_type": "code",
   "execution_count": 10,
   "id": "cd3d1d08-7c58-4757-9143-c7e687368030",
   "metadata": {},
   "outputs": [
    {
     "data": {
      "text/plain": [
       "16"
      ]
     },
     "execution_count": 10,
     "metadata": {},
     "output_type": "execute_result"
    }
   ],
   "source": [
    "len(str_var)"
   ]
  },
  {
   "cell_type": "code",
   "execution_count": 9,
   "id": "b996c520-1d99-4fba-b087-e74b6f9c7ba7",
   "metadata": {},
   "outputs": [
    {
     "name": "stdout",
     "output_type": "stream",
     "text": [
      "j u p y t e r   n o t e b o o k "
     ]
    }
   ],
   "source": [
    "a = 0\n",
    "while a < len(str_var):\n",
    "    print(str_var[a],end = \" \")\n",
    "    a +=1"
   ]
  },
  {
   "cell_type": "code",
   "execution_count": 12,
   "id": "de9fbbcf-245b-463c-abb1-7d4679130be7",
   "metadata": {},
   "outputs": [
    {
     "data": {
      "text/plain": [
       "'u'"
      ]
     },
     "execution_count": 12,
     "metadata": {},
     "output_type": "execute_result"
    }
   ],
   "source": [
    "str_var[1]"
   ]
  },
  {
   "cell_type": "code",
   "execution_count": 22,
   "id": "2b26d466-1ec7-450f-857f-0a012f244636",
   "metadata": {},
   "outputs": [
    {
     "name": "stdout",
     "output_type": "stream",
     "text": [
      "* \n",
      "* * \n",
      "* * * \n",
      "* * * * \n",
      "* * * * * \n"
     ]
    }
   ],
   "source": [
    "for i in range(5):\n",
    "    for j in range(i+1):\n",
    "        print(\"*\", end = \" \")\n",
    "    print()    \n",
    "        "
   ]
  },
  {
   "cell_type": "code",
   "execution_count": 20,
   "id": "1813326d-9d69-45ed-bf20-dc9fcde9da7c",
   "metadata": {},
   "outputs": [
    {
     "name": "stdout",
     "output_type": "stream",
     "text": [
      "        * \n",
      "      * * \n",
      "    * * * \n",
      "  * * * * \n",
      "* * * * * \n"
     ]
    }
   ],
   "source": [
    "for i in range(5):\n",
    "    for j in range(4-i):\n",
    "        print(\" \", end = \" \")\n",
    "    for k in range(i+1):\n",
    "        print(\"*\", end = \" \")\n",
    "    print()    "
   ]
  },
  {
   "cell_type": "code",
   "execution_count": 23,
   "id": "d30efd1a-92cf-4dde-acd0-0668174eba7b",
   "metadata": {},
   "outputs": [
    {
     "name": "stdout",
     "output_type": "stream",
     "text": [
      "    * \n",
      "   * * \n",
      "  * * * \n",
      " * * * * \n",
      "* * * * * \n"
     ]
    }
   ],
   "source": [
    "for i in range(5):\n",
    "    for j in range(4-i):\n",
    "        print(\"\", end = \" \")\n",
    "    for k in range(i+1):\n",
    "        print(\"*\", end = \" \")\n",
    "    print()   "
   ]
  },
  {
   "cell_type": "code",
   "execution_count": 30,
   "id": "a4ee1d51-afa7-43ca-9a64-87204bdd2441",
   "metadata": {},
   "outputs": [
    {
     "name": "stdout",
     "output_type": "stream",
     "text": [
      "* * * * *   \n",
      "* * * *     \n",
      "* * *       \n",
      "* *         \n",
      "*           \n"
     ]
    }
   ],
   "source": [
    "for i in range(5):\n",
    "    for j in range(5-i):\n",
    "        print(\"*\", end = \" \")\n",
    "    for k in range(i+1):\n",
    "        print(\" \", end=\" \")\n",
    "    print()    "
   ]
  },
  {
   "cell_type": "code",
   "execution_count": 35,
   "id": "fe3b4f97-407c-49d9-926e-790525ca4da4",
   "metadata": {},
   "outputs": [
    {
     "name": "stdout",
     "output_type": "stream",
     "text": [
      "* * * * * \n",
      " * * * * \n",
      "  * * * \n",
      "   * * \n",
      "    * \n"
     ]
    }
   ],
   "source": [
    "for i in range(5):\n",
    "    for j in range(i):\n",
    "        print(\"\", end = \" \")\n",
    "    for k in range(5-i):\n",
    "        print(\"*\", end=\" \")\n",
    "    print()"
   ]
  },
  {
   "cell_type": "code",
   "execution_count": 36,
   "id": "c237b4f4-bd25-4195-b360-0173e51bdf1b",
   "metadata": {},
   "outputs": [
    {
     "name": "stdout",
     "output_type": "stream",
     "text": [
      "* * * * * \n",
      "  * * * * \n",
      "    * * * \n",
      "      * * \n",
      "        * \n"
     ]
    }
   ],
   "source": [
    "for i in range(5):\n",
    "    for j in range(i):\n",
    "        print(\" \", end = \" \")\n",
    "    for k in range(5-i):\n",
    "        print(\"*\", end=\" \")\n",
    "    print()"
   ]
  },
  {
   "cell_type": "code",
   "execution_count": 37,
   "id": "1ad89d6e-6525-45ba-904c-2cf96099da1c",
   "metadata": {},
   "outputs": [
    {
     "data": {
      "text/plain": [
       "97"
      ]
     },
     "execution_count": 37,
     "metadata": {},
     "output_type": "execute_result"
    }
   ],
   "source": [
    "start_char = ord('a')\n",
    "start_char"
   ]
  },
  {
   "cell_type": "code",
   "execution_count": 38,
   "id": "ab592f2b-8b4f-4ae6-8d9c-9342315c9650",
   "metadata": {},
   "outputs": [
    {
     "data": {
      "text/plain": [
       "122"
      ]
     },
     "execution_count": 38,
     "metadata": {},
     "output_type": "execute_result"
    }
   ],
   "source": [
    "ord('z')"
   ]
  },
  {
   "cell_type": "code",
   "execution_count": 39,
   "id": "8b6808f1-b8f8-4dcc-ac42-aa397db9e414",
   "metadata": {},
   "outputs": [
    {
     "data": {
      "text/plain": [
       "'a'"
      ]
     },
     "execution_count": 39,
     "metadata": {},
     "output_type": "execute_result"
    }
   ],
   "source": [
    "chr(start_char)"
   ]
  },
  {
   "cell_type": "code",
   "execution_count": 41,
   "id": "681fa2b9-7803-4673-be3b-b192841a3e0d",
   "metadata": {},
   "outputs": [
    {
     "name": "stdout",
     "output_type": "stream",
     "text": [
      "a\n",
      "bc\n",
      "def\n",
      "ghij\n",
      "klmno\n",
      "pqrstu\n",
      "vwxyz\n",
      "\n"
     ]
    }
   ],
   "source": [
    "# Method 1: Using FOR loop\n",
    "start_char = ord('a')  # ASCII value of 'a'\n",
    "line_length = 1\n",
    "\n",
    "for i in range(8):  # 5 lines total\n",
    "    line = \"\"\n",
    "    for j in range(line_length):\n",
    "        if start_char <= ord('z'):  # Make sure we don't go beyond 'z'\n",
    "            line += chr(start_char)\n",
    "            start_char += 1\n",
    "    print(line)\n",
    "    line_length += 1"
   ]
  },
  {
   "cell_type": "code",
   "execution_count": 62,
   "id": "7ba620d1-dbdf-4345-a003-3fbf51aec2f0",
   "metadata": {},
   "outputs": [
    {
     "name": "stdout",
     "output_type": "stream",
     "text": [
      "a \n",
      "b c \n",
      "d e f \n",
      "g h i j \n",
      "k l m n o \n",
      "p q r s t u \n",
      "v w x y z \n"
     ]
    }
   ],
   "source": [
    "x = ord(\"a\")\n",
    "a = x\n",
    "for i in range(7):\n",
    "    for j in range(i+1):\n",
    "        print(chr(a), end = \" \")\n",
    "        a+=1\n",
    "        if a > ord(\"z\"):\n",
    "            break\n",
    "    print()"
   ]
  },
  {
   "cell_type": "code",
   "execution_count": 63,
   "id": "4a489752-c08d-4b5f-ab55-34830242f6c7",
   "metadata": {},
   "outputs": [
    {
     "name": "stdout",
     "output_type": "stream",
     "text": [
      "       \n",
      "      Z \n",
      "     Y X \n",
      "    W V U \n",
      "   T S R Q \n",
      "  P O N M L \n",
      " K J I H G F \n",
      "E D C B A ` _ \n"
     ]
    }
   ],
   "source": [
    "n = 122\n",
    "m = 7\n",
    "for i in range(0,8):\n",
    "    for k in range(0,m):\n",
    "        print(\" \",end=\"\")\n",
    "    m-=1\n",
    "    for j in range(0,i):\n",
    "        print(chr(n).upper(),end = \" \")\n",
    "        n-=1\n",
    "    print()"
   ]
  },
  {
   "cell_type": "code",
   "execution_count": 65,
   "id": "ea0e2d87-3a38-48fe-abb6-9bdb0c7267df",
   "metadata": {},
   "outputs": [],
   "source": [
    "l2 = [1,\"d\", 2,3,\"a\", 4,\"H\", 56,\"e\",7,6,2,\"b\", \"c\",4,5,6,\"f\", \"g\"]"
   ]
  },
  {
   "cell_type": "code",
   "execution_count": 66,
   "id": "4dca6f99-ed8c-4132-9226-9ac43d0d5ef2",
   "metadata": {},
   "outputs": [
    {
     "data": {
      "text/plain": [
       "[1, 'd', 2, 3, 'a', 4, 'H', 56, 'e', 7, 6, 2, 'b', 'c', 4, 5, 6, 'f', 'g']"
      ]
     },
     "execution_count": 66,
     "metadata": {},
     "output_type": "execute_result"
    }
   ],
   "source": [
    "l2"
   ]
  },
  {
   "cell_type": "code",
   "execution_count": 67,
   "id": "b25f4aaa-8067-43e1-a46a-86e4dffa4809",
   "metadata": {},
   "outputs": [
    {
     "name": "stdout",
     "output_type": "stream",
     "text": [
      "['H', 'G', 'F', 'E', 'D', 'C', 'B', 'A']\n"
     ]
    }
   ],
   "source": [
    "l1 = []\n",
    "for i in l2:\n",
    "    if type(i) == str:\n",
    "        l1.append(i.upper())\n",
    "l1.sort(reverse=True)\n",
    "print(l1)"
   ]
  },
  {
   "cell_type": "code",
   "execution_count": null,
   "id": "028da468-2047-4852-a0af-29bb6b2d7b1b",
   "metadata": {},
   "outputs": [],
   "source": []
  }
 ],
 "metadata": {
  "kernelspec": {
   "display_name": "Python 3 (ipykernel)",
   "language": "python",
   "name": "python3"
  },
  "language_info": {
   "codemirror_mode": {
    "name": "ipython",
    "version": 3
   },
   "file_extension": ".py",
   "mimetype": "text/x-python",
   "name": "python",
   "nbconvert_exporter": "python",
   "pygments_lexer": "ipython3",
   "version": "3.11.7"
  }
 },
 "nbformat": 4,
 "nbformat_minor": 5
}
