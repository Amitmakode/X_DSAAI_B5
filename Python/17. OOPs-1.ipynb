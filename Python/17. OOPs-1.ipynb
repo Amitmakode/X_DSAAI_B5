{
 "cells": [
  {
   "cell_type": "code",
   "execution_count": 1,
   "id": "02a36608-ab90-4055-960e-75b478b95352",
   "metadata": {},
   "outputs": [],
   "source": [
    "class person:\n",
    "\n",
    "    def  __init__ (self, name, age, email):\n",
    "        self.name = name\n",
    "        self.age = age\n",
    "        self.email = email"
   ]
  },
  {
   "cell_type": "code",
   "execution_count": 4,
   "id": "c592df40-e73d-48db-b661-060f8db85406",
   "metadata": {},
   "outputs": [],
   "source": [
    "object = person(\"AMIT\", 30, \"amit@gmail.com\")"
   ]
  },
  {
   "cell_type": "code",
   "execution_count": 5,
   "id": "d9900d54-32c1-4c0d-83d6-448142a9c73b",
   "metadata": {},
   "outputs": [
    {
     "data": {
      "text/plain": [
       "'AMIT'"
      ]
     },
     "execution_count": 5,
     "metadata": {},
     "output_type": "execute_result"
    }
   ],
   "source": [
    "object.name"
   ]
  },
  {
   "cell_type": "code",
   "execution_count": 6,
   "id": "ec22c060-12a0-420c-bc7a-e511f3a26ef8",
   "metadata": {},
   "outputs": [
    {
     "data": {
      "text/plain": [
       "30"
      ]
     },
     "execution_count": 6,
     "metadata": {},
     "output_type": "execute_result"
    }
   ],
   "source": [
    "object.age"
   ]
  },
  {
   "cell_type": "code",
   "execution_count": 8,
   "id": "22010a6a-65d4-4c4d-865d-989756b47cbf",
   "metadata": {},
   "outputs": [
    {
     "data": {
      "text/plain": [
       "'amit@gmail.com'"
      ]
     },
     "execution_count": 8,
     "metadata": {},
     "output_type": "execute_result"
    }
   ],
   "source": [
    "object.email"
   ]
  },
  {
   "cell_type": "code",
   "execution_count": 9,
   "id": "3c41a264-9ba1-48d8-85fb-b85cc9392f6f",
   "metadata": {},
   "outputs": [],
   "source": [
    "object1 = person(\"rohit\", 31, \"amit@gmail.com\")"
   ]
  },
  {
   "cell_type": "code",
   "execution_count": 10,
   "id": "c3fb19a3-9871-4d40-a940-56f01ba3bc89",
   "metadata": {},
   "outputs": [
    {
     "data": {
      "text/plain": [
       "'rohit'"
      ]
     },
     "execution_count": 10,
     "metadata": {},
     "output_type": "execute_result"
    }
   ],
   "source": [
    "object1.name"
   ]
  },
  {
   "cell_type": "code",
   "execution_count": 11,
   "id": "0af5dfc8-9898-45a4-a004-37898a79034d",
   "metadata": {},
   "outputs": [
    {
     "data": {
      "text/plain": [
       "31"
      ]
     },
     "execution_count": 11,
     "metadata": {},
     "output_type": "execute_result"
    }
   ],
   "source": [
    "object1.age"
   ]
  },
  {
   "cell_type": "code",
   "execution_count": null,
   "id": "444b2046-e61b-4a3c-ad0a-4dbc83cc989d",
   "metadata": {},
   "outputs": [],
   "source": []
  },
  {
   "cell_type": "code",
   "execution_count": 12,
   "id": "d5a2ab99-abd9-40cd-9937-238afeb84e9b",
   "metadata": {},
   "outputs": [],
   "source": [
    "class person1:\n",
    "\n",
    "    def  __init__ (self, name, age, email):\n",
    "        self.age1 = name\n",
    "        self.name1 = age\n",
    "        self.mail = email"
   ]
  },
  {
   "cell_type": "code",
   "execution_count": 13,
   "id": "3d8cda00-b6c0-4667-a0c0-5fe41b03f4ab",
   "metadata": {},
   "outputs": [],
   "source": [
    "obj = person1(\"rohit\", 31, \"amit@gmail.com\")"
   ]
  },
  {
   "cell_type": "code",
   "execution_count": 14,
   "id": "8917107a-e30e-4351-82b5-d1827e1e2844",
   "metadata": {},
   "outputs": [
    {
     "data": {
      "text/plain": [
       "'rohit'"
      ]
     },
     "execution_count": 14,
     "metadata": {},
     "output_type": "execute_result"
    }
   ],
   "source": [
    "obj.age1"
   ]
  },
  {
   "cell_type": "code",
   "execution_count": 15,
   "id": "a779086f-d484-4606-bea2-8bccf663c4b9",
   "metadata": {},
   "outputs": [
    {
     "data": {
      "text/plain": [
       "31"
      ]
     },
     "execution_count": 15,
     "metadata": {},
     "output_type": "execute_result"
    }
   ],
   "source": [
    "obj.name1"
   ]
  },
  {
   "cell_type": "code",
   "execution_count": null,
   "id": "a7a52865-7116-4ebe-b333-b2d6aecce68b",
   "metadata": {},
   "outputs": [],
   "source": []
  },
  {
   "cell_type": "code",
   "execution_count": 17,
   "id": "30f9a6bc-720a-4f3b-bf17-9fe36d92c66d",
   "metadata": {},
   "outputs": [],
   "source": [
    "class person2:\n",
    "\n",
    "    def  __init__ (self, name, age, email):\n",
    "        self.name = name\n",
    "        self.age = age\n",
    "        self.email = email\n",
    "\n",
    "    def  __init__ (self, name, age):\n",
    "        self.name = name\n",
    "        self.age = age\n",
    "\n",
    "    def  __init__ (self, name, age, email, lastname):\n",
    "        self.name = name\n",
    "        self.age = age\n",
    "        self.email = email\n",
    "        self.lastname = lastname"
   ]
  },
  {
   "cell_type": "code",
   "execution_count": 20,
   "id": "14e2cd0f-4cd7-4bcf-9210-2969c5e03ddf",
   "metadata": {},
   "outputs": [],
   "source": [
    "obj = person2(\"rohit\", 31, \"amit@gmail.com\", \"sharma\")"
   ]
  },
  {
   "cell_type": "code",
   "execution_count": 21,
   "id": "34df1ca6-fd7c-44d7-af5d-4ebcd7db83ce",
   "metadata": {},
   "outputs": [
    {
     "data": {
      "text/plain": [
       "'sharma'"
      ]
     },
     "execution_count": 21,
     "metadata": {},
     "output_type": "execute_result"
    }
   ],
   "source": [
    "obj.lastname"
   ]
  },
  {
   "cell_type": "code",
   "execution_count": 22,
   "id": "79a74d1c-3f4d-4188-ae3b-2aba8527a45e",
   "metadata": {},
   "outputs": [],
   "source": [
    "a = 10"
   ]
  },
  {
   "cell_type": "code",
   "execution_count": 23,
   "id": "196a1cac-174a-4e95-97b2-6dc7d1214a8f",
   "metadata": {},
   "outputs": [],
   "source": [
    "a = 12"
   ]
  },
  {
   "cell_type": "code",
   "execution_count": 24,
   "id": "5d0a3477-6e1e-4321-946b-ef68fc1d0240",
   "metadata": {},
   "outputs": [
    {
     "data": {
      "text/plain": [
       "12"
      ]
     },
     "execution_count": 24,
     "metadata": {},
     "output_type": "execute_result"
    }
   ],
   "source": [
    "a"
   ]
  },
  {
   "cell_type": "code",
   "execution_count": 25,
   "id": "528cd2a9-ded2-4d15-a211-50bb5cc92b10",
   "metadata": {},
   "outputs": [],
   "source": [
    "class person2:\n",
    "\n",
    "    def  __init__ (self, name, age, email):\n",
    "        self.name = name\n",
    "        self.age = age\n",
    "        self.email = email\n",
    "\n",
    "    def  __init__ (self, name, age, email, lastname):\n",
    "        self.name = name\n",
    "        self.age = age\n",
    "        self.email = email\n",
    "        self.lastname = lastname\n",
    "\n",
    "    def  __init__ (self, name, age):\n",
    "        self.name = name\n",
    "        self.age = age\n",
    "\n"
   ]
  },
  {
   "cell_type": "code",
   "execution_count": 28,
   "id": "87f3a70c-bee4-466c-a3f8-0ceed2c459de",
   "metadata": {},
   "outputs": [],
   "source": [
    "obj1 = person2(\"rohit\", 31 )"
   ]
  },
  {
   "cell_type": "code",
   "execution_count": 29,
   "id": "5217092e-ca52-43ce-aaea-fb442243c375",
   "metadata": {},
   "outputs": [],
   "source": [
    "class person3:\n",
    "\n",
    "    def __init__(self, name, surname, emailid, year_of_birth):\n",
    "        self.name = name\n",
    "        self.surname = surname\n",
    "        self.emailid = emailid\n",
    "        self.year_of_birth = year_of_birth\n",
    "        \n",
    "    def age(self, curretn_year):\n",
    "        return curretn_year - self.year_of_birth "
   ]
  },
  {
   "cell_type": "code",
   "execution_count": 30,
   "id": "b2d79bc1-2c66-4614-9d86-bb1df947a8f6",
   "metadata": {},
   "outputs": [],
   "source": [
    "obj = person3(\"rohit\", \"sharma\", \"rohit@gmail.com\", 1990)"
   ]
  },
  {
   "cell_type": "code",
   "execution_count": 31,
   "id": "e55775b5-91ad-48bb-8011-f0fc356f4bbd",
   "metadata": {},
   "outputs": [
    {
     "data": {
      "text/plain": [
       "'rohit'"
      ]
     },
     "execution_count": 31,
     "metadata": {},
     "output_type": "execute_result"
    }
   ],
   "source": [
    "obj.name"
   ]
  },
  {
   "cell_type": "code",
   "execution_count": 32,
   "id": "347b84c8-d168-4d6e-9bda-d7172a36b511",
   "metadata": {},
   "outputs": [
    {
     "data": {
      "text/plain": [
       "35"
      ]
     },
     "execution_count": 32,
     "metadata": {},
     "output_type": "execute_result"
    }
   ],
   "source": [
    "obj.age(2025)"
   ]
  },
  {
   "cell_type": "code",
   "execution_count": null,
   "id": "ad1fe895-20b3-423e-a9f5-a76fcf3bf181",
   "metadata": {},
   "outputs": [],
   "source": []
  },
  {
   "cell_type": "code",
   "execution_count": 33,
   "id": "ecf15ef4-8c20-4c19-ad28-2b6aa1955f8f",
   "metadata": {},
   "outputs": [],
   "source": [
    "class person4:\n",
    "\n",
    "    def __init__(self, name, surname, emailid, year_of_birth):\n",
    "        self.name = name         # public variable\n",
    "        self._surname = surname  # private\n",
    "        self.__emailid = emailid # protective\n",
    "        self.year_of_birth = year_of_birth\n",
    "        \n",
    "    def age(self, curretn_year):\n",
    "        return curretn_year - self.year_of_birth "
   ]
  },
  {
   "cell_type": "code",
   "execution_count": 34,
   "id": "fb214c54-38d1-4c8f-893b-ddc6f3c6698e",
   "metadata": {},
   "outputs": [],
   "source": [
    "obj3 = person4(\"rohit\", \"sharma\", \"rohit@gmail.com\", 1990)"
   ]
  },
  {
   "cell_type": "code",
   "execution_count": 35,
   "id": "802b1761-43c3-41f1-9835-f178f8c22b51",
   "metadata": {},
   "outputs": [
    {
     "data": {
      "text/plain": [
       "'rohit'"
      ]
     },
     "execution_count": 35,
     "metadata": {},
     "output_type": "execute_result"
    }
   ],
   "source": [
    "obj3.name"
   ]
  },
  {
   "cell_type": "code",
   "execution_count": 36,
   "id": "d1f2739d-ea51-4581-8b1b-2e8b7309fbcf",
   "metadata": {},
   "outputs": [
    {
     "data": {
      "text/plain": [
       "'sharma'"
      ]
     },
     "execution_count": 36,
     "metadata": {},
     "output_type": "execute_result"
    }
   ],
   "source": [
    "obj3._surname"
   ]
  },
  {
   "cell_type": "code",
   "execution_count": 37,
   "id": "5bb903ee-65ea-434a-ba6b-cd93226fc71b",
   "metadata": {},
   "outputs": [
    {
     "ename": "AttributeError",
     "evalue": "'person4' object has no attribute '__emailid'",
     "output_type": "error",
     "traceback": [
      "\u001b[1;31m---------------------------------------------------------------------------\u001b[0m",
      "\u001b[1;31mAttributeError\u001b[0m                            Traceback (most recent call last)",
      "Cell \u001b[1;32mIn[37], line 1\u001b[0m\n\u001b[1;32m----> 1\u001b[0m obj3\u001b[38;5;241m.\u001b[39m__emailid\n",
      "\u001b[1;31mAttributeError\u001b[0m: 'person4' object has no attribute '__emailid'"
     ]
    }
   ],
   "source": [
    "obj3.__emailid"
   ]
  },
  {
   "cell_type": "code",
   "execution_count": 38,
   "id": "6d1043ae-242e-4020-b0b5-819d70805fef",
   "metadata": {},
   "outputs": [
    {
     "data": {
      "text/plain": [
       "'rohit@gmail.com'"
      ]
     },
     "execution_count": 38,
     "metadata": {},
     "output_type": "execute_result"
    }
   ],
   "source": [
    "obj3._person4__emailid"
   ]
  },
  {
   "cell_type": "code",
   "execution_count": null,
   "id": "6fc47a8d-b8cf-46ea-9a7f-dba46f1ee7e2",
   "metadata": {},
   "outputs": [],
   "source": []
  },
  {
   "cell_type": "code",
   "execution_count": 49,
   "id": "1cc6ef33-4d52-4a3e-913c-87996493cd8e",
   "metadata": {},
   "outputs": [],
   "source": [
    "class person4:\n",
    "\n",
    "    __team = \"INDIA\"\n",
    "    \n",
    "    def __init__(self, name, surname, emailid, year_of_birth):\n",
    "        self.name = name         # public variable\n",
    "        self._surname = surname  # private\n",
    "        self.__emailid = emailid # protective\n",
    "        self.year_of_birth = year_of_birth\n",
    "        \n",
    "    def age(self, curretn_year):\n",
    "        self.team = \"mumbai\"\n",
    "        return curretn_year - self.year_of_birth "
   ]
  },
  {
   "cell_type": "code",
   "execution_count": 50,
   "id": "b340e0d6-e2ad-41a5-b85e-7967db291437",
   "metadata": {},
   "outputs": [],
   "source": [
    "obj4 = person4(\"rohit\", \"sharma\", \"rohit@gmail.com\", 1990)"
   ]
  },
  {
   "cell_type": "code",
   "execution_count": 53,
   "id": "877e1770-24f3-4966-b5a3-adcf2427472a",
   "metadata": {},
   "outputs": [
    {
     "data": {
      "text/plain": [
       "'INDIA'"
      ]
     },
     "execution_count": 53,
     "metadata": {},
     "output_type": "execute_result"
    }
   ],
   "source": [
    "obj4._person4__team"
   ]
  },
  {
   "cell_type": "code",
   "execution_count": 52,
   "id": "cdb588d7-d2ed-49eb-811e-faa7a52f1ad0",
   "metadata": {},
   "outputs": [
    {
     "data": {
      "text/plain": [
       "35"
      ]
     },
     "execution_count": 52,
     "metadata": {},
     "output_type": "execute_result"
    }
   ],
   "source": [
    "obj4.age(2025)"
   ]
  },
  {
   "cell_type": "code",
   "execution_count": 44,
   "id": "541170b8-5d56-459f-90ac-0d4324926e9f",
   "metadata": {},
   "outputs": [
    {
     "ename": "NameError",
     "evalue": "name 'team' is not defined",
     "output_type": "error",
     "traceback": [
      "\u001b[1;31m---------------------------------------------------------------------------\u001b[0m",
      "\u001b[1;31mNameError\u001b[0m                                 Traceback (most recent call last)",
      "Cell \u001b[1;32mIn[44], line 1\u001b[0m\n\u001b[1;32m----> 1\u001b[0m team\n",
      "\u001b[1;31mNameError\u001b[0m: name 'team' is not defined"
     ]
    }
   ],
   "source": [
    "team"
   ]
  },
  {
   "cell_type": "code",
   "execution_count": 54,
   "id": "a3b6ca6e-86c7-4366-bce1-d1301fce6f4c",
   "metadata": {},
   "outputs": [],
   "source": [
    "import datetime"
   ]
  },
  {
   "cell_type": "code",
   "execution_count": null,
   "id": "f13eb118-b04c-44b2-9e6e-348bbe5632b0",
   "metadata": {},
   "outputs": [],
   "source": []
  },
  {
   "cell_type": "code",
   "execution_count": 55,
   "id": "0f30a42c-8bf9-4943-befe-c01f19796a99",
   "metadata": {},
   "outputs": [],
   "source": [
    "class car :                 #perent class   \n",
    "                         # inheritence \n",
    "    def __init__(self , body , engin , tyre):\n",
    "        self.body = body\n",
    "        self.engin = engin\n",
    "        self.tyre = tyre\n",
    "\n",
    "    def milage (self):\n",
    "        print(\"milage of this car \") \n",
    "        \n",
    "        \n",
    "class tata(car):                #child class\n",
    "    pass\n",
    "\n"
   ]
  },
  {
   "cell_type": "code",
   "execution_count": 56,
   "id": "42dc7970-50ce-4ff8-ad21-02c176117001",
   "metadata": {},
   "outputs": [
    {
     "name": "stdout",
     "output_type": "stream",
     "text": [
      "<__main__.tata object at 0x0000019E52051D10>\n",
      "milage of this car \n",
      "None\n"
     ]
    }
   ],
   "source": [
    "t = tata(\"solid1\" , \"v8\" , \"radial1\")\n",
    "print(t)\n",
    "print(t.milage()) "
   ]
  },
  {
   "cell_type": "code",
   "execution_count": 57,
   "id": "8f05dffe-32e7-4344-8a86-5b5568482636",
   "metadata": {},
   "outputs": [],
   "source": [
    "# multileve inheritence\n",
    "\n",
    "class bank :             # perents class \n",
    "    def transaction(self) :\n",
    "        print(\"total transaction value \")\n",
    "    def account_opening(self):\n",
    "        print(\"this will show you your account open status \")\n",
    "    def deposite(self):\n",
    "        print(\"this will show your deposited amount\")\n",
    "\n",
    "\n",
    "class HDFC_bank(bank):             # child class\n",
    "    def hdfc_to_icici(self):\n",
    "        print(\"this will show you all the transaction happend to icici throuhg hdfc\")\n",
    "\n",
    "class icici(HDFC_bank):          # child class\n",
    "    pass                        \n"
   ]
  },
  {
   "cell_type": "code",
   "execution_count": 58,
   "id": "b538ba01-e1cd-4e99-bd01-241c35ab463e",
   "metadata": {},
   "outputs": [],
   "source": [
    "obj1 = bank()"
   ]
  },
  {
   "cell_type": "code",
   "execution_count": 59,
   "id": "12eeb5a2-9124-4cad-95d9-e0501fecdb69",
   "metadata": {},
   "outputs": [
    {
     "name": "stdout",
     "output_type": "stream",
     "text": [
      "this will show your deposited amount\n"
     ]
    }
   ],
   "source": [
    "obj1.deposite()"
   ]
  },
  {
   "cell_type": "code",
   "execution_count": 60,
   "id": "d64dea1c-72a6-49e1-984e-ac89b2bec0dc",
   "metadata": {},
   "outputs": [],
   "source": [
    "obj2 = HDFC_bank()"
   ]
  },
  {
   "cell_type": "code",
   "execution_count": 61,
   "id": "78949553-70c8-48de-b532-6a8ebc93341e",
   "metadata": {},
   "outputs": [
    {
     "name": "stdout",
     "output_type": "stream",
     "text": [
      "this will show you all the transaction happend to icici throuhg hdfc\n"
     ]
    }
   ],
   "source": [
    "obj2.hdfc_to_icici()"
   ]
  },
  {
   "cell_type": "code",
   "execution_count": 62,
   "id": "8d014a70-0fc3-4381-b6f2-bc2bc1e85348",
   "metadata": {},
   "outputs": [],
   "source": [
    "obj3 = icici()"
   ]
  },
  {
   "cell_type": "code",
   "execution_count": 63,
   "id": "68519820-3965-489a-99d3-a6f8d84ab889",
   "metadata": {},
   "outputs": [
    {
     "name": "stdout",
     "output_type": "stream",
     "text": [
      "total transaction value \n"
     ]
    }
   ],
   "source": [
    "obj3.transaction()"
   ]
  },
  {
   "cell_type": "code",
   "execution_count": null,
   "id": "267b41ea-a002-459a-ba1c-5f3bace93d8b",
   "metadata": {},
   "outputs": [],
   "source": []
  },
  {
   "cell_type": "code",
   "execution_count": 67,
   "id": "6822b83d-c14f-4a34-aac0-85042872bf86",
   "metadata": {},
   "outputs": [],
   "source": [
    "# multiple inheritence\n",
    "\n",
    "class bank :\n",
    "    def transaction(self) :\n",
    "        print(\"total transaction value \")\n",
    "    def account_opening(self):\n",
    "        print(\"this will show you your account open status \")\n",
    "    def deposite(self):\n",
    "        print(\"this will show your deposited amount\")\n",
    "    def test(self):                          # override code\n",
    "        print(\"this is a test methond form bank class \")\n",
    "\n",
    "\n",
    "class HDFC_bank:\n",
    "    def hdfc_to_icici(self):\n",
    "        print(\"this will show you all the transaction happend to icici throuhg hdfc\")\n",
    "    def test(self):           #override code\n",
    "        print(\"this is a test method form hdfc bank \")\n",
    "\n",
    "class ineron_bank:\n",
    "    def account_status_icici(self):\n",
    "        print(\"print a account status in icici \")\n",
    "\n",
    "class icici(HDFC_bank, bank, ineron_bank):      # multiple inheritence\n",
    "    pass"
   ]
  },
  {
   "cell_type": "code",
   "execution_count": 68,
   "id": "e83a2f7a-3cd7-4d74-932b-82f168e4db73",
   "metadata": {},
   "outputs": [],
   "source": [
    "obj4 = icici()"
   ]
  },
  {
   "cell_type": "code",
   "execution_count": 69,
   "id": "5ec1b3ca-c9e3-46a9-8559-5abfae17290a",
   "metadata": {},
   "outputs": [
    {
     "name": "stdout",
     "output_type": "stream",
     "text": [
      "this is a test method form hdfc bank \n"
     ]
    }
   ],
   "source": [
    "obj4.test()"
   ]
  },
  {
   "cell_type": "code",
   "execution_count": null,
   "id": "3fb3f9e8-f681-47c1-a126-898597859dc4",
   "metadata": {},
   "outputs": [],
   "source": []
  }
 ],
 "metadata": {
  "kernelspec": {
   "display_name": "Python 3 (ipykernel)",
   "language": "python",
   "name": "python3"
  },
  "language_info": {
   "codemirror_mode": {
    "name": "ipython",
    "version": 3
   },
   "file_extension": ".py",
   "mimetype": "text/x-python",
   "name": "python",
   "nbconvert_exporter": "python",
   "pygments_lexer": "ipython3",
   "version": "3.11.7"
  }
 },
 "nbformat": 4,
 "nbformat_minor": 5
}
