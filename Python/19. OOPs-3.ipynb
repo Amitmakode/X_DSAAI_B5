{
 "cells": [
  {
   "cell_type": "code",
   "execution_count": 3,
   "id": "27283ced-3a9a-4ed6-b018-2973d9b5aad0",
   "metadata": {},
   "outputs": [],
   "source": [
    "class PublicExample:\n",
    "    def __init__(self):\n",
    "        self.public_var = \"I'm public\"  # Public attribute\n",
    "    \n",
    "    def public_method(self):  # Public method\n",
    "        return \"This is a public method\"\n"
   ]
  },
  {
   "cell_type": "code",
   "execution_count": 4,
   "id": "3d6f3930-c4a0-4bf2-bd71-c8f155fc99a7",
   "metadata": {},
   "outputs": [
    {
     "name": "stdout",
     "output_type": "stream",
     "text": [
      "I'm public\n",
      "This is a public method\n"
     ]
    }
   ],
   "source": [
    "obj = PublicExample()\n",
    "print(obj.public_var)        # Direct access: I'm public\n",
    "print(obj.public_method())   # Direct access: This is a public method"
   ]
  },
  {
   "cell_type": "code",
   "execution_count": null,
   "id": "703691dc-bb24-4eb7-bfac-bef77b435d5b",
   "metadata": {},
   "outputs": [],
   "source": []
  },
  {
   "cell_type": "code",
   "execution_count": 5,
   "id": "43b0962a-8a1d-4726-899c-3d1c1ea2595a",
   "metadata": {},
   "outputs": [],
   "source": [
    "class ProtectedExample:\n",
    "    def __init__(self):\n",
    "        self._protected_var = \"I'm protected\"  # Protected attribute\n",
    "    \n",
    "    def _protected_method(self):  # Protected method\n",
    "        return \"This is a protected method\"\n",
    "    \n",
    "    def access_protected(self):\n",
    "        \"\"\"Public method to access protected members\"\"\"\n",
    "        return self._protected_var"
   ]
  },
  {
   "cell_type": "code",
   "execution_count": 6,
   "id": "4e16845f-5c8c-4ccb-b63a-dbf6ed190bfc",
   "metadata": {},
   "outputs": [],
   "source": [
    "obj = ProtectedExample()"
   ]
  },
  {
   "cell_type": "code",
   "execution_count": 7,
   "id": "5e87a86b-f185-494e-9636-cf2843f74c70",
   "metadata": {},
   "outputs": [
    {
     "data": {
      "text/plain": [
       "\"I'm protected\""
      ]
     },
     "execution_count": 7,
     "metadata": {},
     "output_type": "execute_result"
    }
   ],
   "source": [
    "obj.access_protected()"
   ]
  },
  {
   "cell_type": "code",
   "execution_count": 9,
   "id": "ea02c6e9-4936-4a66-925b-251467272440",
   "metadata": {},
   "outputs": [
    {
     "data": {
      "text/plain": [
       "\"I'm protected\""
      ]
     },
     "execution_count": 9,
     "metadata": {},
     "output_type": "execute_result"
    }
   ],
   "source": [
    "obj._protected_var"
   ]
  },
  {
   "cell_type": "code",
   "execution_count": 8,
   "id": "513a62c1-2d99-4297-8b16-77a29766b111",
   "metadata": {},
   "outputs": [
    {
     "data": {
      "text/plain": [
       "'This is a protected method'"
      ]
     },
     "execution_count": 8,
     "metadata": {},
     "output_type": "execute_result"
    }
   ],
   "source": [
    "obj._protected_method()"
   ]
  },
  {
   "cell_type": "code",
   "execution_count": 10,
   "id": "21fb3615-8cc5-417a-b7f3-e1216f405647",
   "metadata": {},
   "outputs": [],
   "source": [
    "class PrivateExample:\n",
    "    def __init__(self):\n",
    "        self.__private_var = \"I'm private\"  # Private attribute\n",
    "        self.public_var = \"I'm public\"\n",
    "    \n",
    "    def __private_method(self):  # Private method\n",
    "        return \"This is a private method\"\n",
    "    \n",
    "    def access_private(self):\n",
    "        \"\"\"Public method to access private members\"\"\"\n",
    "        return self.__private_var + \" - \" + self.__private_method()\n",
    "\n"
   ]
  },
  {
   "cell_type": "code",
   "execution_count": 12,
   "id": "fc0b45f3-cc61-4991-bb22-fca199955444",
   "metadata": {},
   "outputs": [],
   "source": [
    "obj = PrivateExample()"
   ]
  },
  {
   "cell_type": "code",
   "execution_count": 13,
   "id": "d416db73-a267-4fc8-aeb4-c012ba0170ce",
   "metadata": {},
   "outputs": [
    {
     "data": {
      "text/plain": [
       "\"I'm public\""
      ]
     },
     "execution_count": 13,
     "metadata": {},
     "output_type": "execute_result"
    }
   ],
   "source": [
    "obj.public_var"
   ]
  },
  {
   "cell_type": "code",
   "execution_count": 14,
   "id": "5805dad7-398b-4aa8-ad39-5b349ce19cc5",
   "metadata": {},
   "outputs": [
    {
     "data": {
      "text/plain": [
       "\"I'm private - This is a private method\""
      ]
     },
     "execution_count": 14,
     "metadata": {},
     "output_type": "execute_result"
    }
   ],
   "source": [
    "obj.access_private()"
   ]
  },
  {
   "cell_type": "code",
   "execution_count": 15,
   "id": "b636c01b-5b90-4974-b3a2-05c417cbb42a",
   "metadata": {},
   "outputs": [
    {
     "data": {
      "text/plain": [
       "'This is a private method'"
      ]
     },
     "execution_count": 15,
     "metadata": {},
     "output_type": "execute_result"
    }
   ],
   "source": [
    "obj._PrivateExample__private_method()"
   ]
  },
  {
   "cell_type": "code",
   "execution_count": null,
   "id": "56db54e8-5531-4eeb-8826-7f43c382046f",
   "metadata": {},
   "outputs": [],
   "source": []
  },
  {
   "cell_type": "code",
   "execution_count": 16,
   "id": "a893474c-c1fd-495f-95bc-31f4b1a9bc69",
   "metadata": {},
   "outputs": [],
   "source": [
    "class MathUtils:\n",
    "    @staticmethod\n",
    "    def add(a, b):  # Static method\n",
    "        \"\"\"Adds two numbers\"\"\"\n",
    "        return a + b\n",
    "    \n",
    "    @staticmethod\n",
    "    def is_even(num):  # Static method\n",
    "        \"\"\"Checks if number is even\"\"\"\n",
    "        return num % 2 == 0\n",
    "    \n",
    "    @staticmethod\n",
    "    def factorial(n):  # Static method\n",
    "        \"\"\"Calculates factorial\"\"\"\n",
    "        if n <= 1:\n",
    "            return 1\n",
    "        return n * MathUtils.factorial(n - 1)\n",
    "\n"
   ]
  },
  {
   "cell_type": "code",
   "execution_count": 17,
   "id": "ff3dc1c2-dc1b-463c-9b27-f7c52859c44f",
   "metadata": {},
   "outputs": [],
   "source": [
    "obj =MathUtils()"
   ]
  },
  {
   "cell_type": "code",
   "execution_count": 18,
   "id": "0d720e32-16ea-45e0-849d-f7c63e89a952",
   "metadata": {},
   "outputs": [
    {
     "data": {
      "text/plain": [
       "120"
      ]
     },
     "execution_count": 18,
     "metadata": {},
     "output_type": "execute_result"
    }
   ],
   "source": [
    "obj.factorial(5)"
   ]
  },
  {
   "cell_type": "code",
   "execution_count": 23,
   "id": "dd9487dc-33f8-4a06-9ab1-3afd9871db33",
   "metadata": {},
   "outputs": [],
   "source": [
    "class MathUtils:\n",
    "    \n",
    "    def add(self, a, b):  # Static method\n",
    "        \"\"\"Adds two numbers\"\"\"\n",
    "        self.a = a\n",
    "        self.b = b\n",
    "        return a + b\n",
    "    \n",
    "    @staticmethod\n",
    "    def is_even(num):  # Static method\n",
    "        \"\"\"Checks if number is even\"\"\"\n",
    "        return num % 2 == 0\n",
    "    \n",
    "    @staticmethod\n",
    "    def factorial(n):  # Static method\n",
    "        \"\"\"Calculates factorial\"\"\"\n",
    "        if n <= 1:\n",
    "            return 1\n",
    "        return n * MathUtils.factorial(n - 1)"
   ]
  },
  {
   "cell_type": "code",
   "execution_count": 24,
   "id": "cc5f04ce-e1f8-485b-940b-fe19355892e5",
   "metadata": {},
   "outputs": [],
   "source": [
    "obj = MathUtils()"
   ]
  },
  {
   "cell_type": "code",
   "execution_count": 25,
   "id": "db8cddc0-af49-437d-ae74-177b0397d0e1",
   "metadata": {},
   "outputs": [
    {
     "data": {
      "text/plain": [
       "9"
      ]
     },
     "execution_count": 25,
     "metadata": {},
     "output_type": "execute_result"
    }
   ],
   "source": [
    "obj.add(2, 7)"
   ]
  },
  {
   "cell_type": "code",
   "execution_count": 22,
   "id": "5cb15959-b77d-4340-b8ed-cd2278767ea3",
   "metadata": {},
   "outputs": [
    {
     "data": {
      "text/plain": [
       "False"
      ]
     },
     "execution_count": 22,
     "metadata": {},
     "output_type": "execute_result"
    }
   ],
   "source": [
    "obj.is_even(3)"
   ]
  },
  {
   "cell_type": "code",
   "execution_count": null,
   "id": "c7497b59-e0ea-41ea-99e2-9203d55db8e0",
   "metadata": {},
   "outputs": [],
   "source": []
  },
  {
   "cell_type": "code",
   "execution_count": null,
   "id": "af7e5996-8f59-45fe-9c82-8812431c2104",
   "metadata": {},
   "outputs": [],
   "source": []
  },
  {
   "cell_type": "code",
   "execution_count": 26,
   "id": "50ff10df-8f0d-4158-b70e-495990a6491c",
   "metadata": {},
   "outputs": [],
   "source": [
    "class Parent:\n",
    "    def show(self):\n",
    "        print(\"This is the parent class.\")\n",
    "\n",
    "class Child(Parent):\n",
    "    def show(self):\n",
    "        super().show()  # Calls Parent's show() method\n",
    "        print(\"This is the child class.\")\n"
   ]
  },
  {
   "cell_type": "code",
   "execution_count": 28,
   "id": "ecd5e055-bcb7-4f6e-8906-e8c817b4943c",
   "metadata": {},
   "outputs": [],
   "source": [
    "obj = Parent()"
   ]
  },
  {
   "cell_type": "code",
   "execution_count": 29,
   "id": "837ec8da-6185-420d-ac25-ae0f258f4c90",
   "metadata": {},
   "outputs": [
    {
     "name": "stdout",
     "output_type": "stream",
     "text": [
      "This is the parent class.\n"
     ]
    }
   ],
   "source": [
    "obj.show()"
   ]
  },
  {
   "cell_type": "code",
   "execution_count": 30,
   "id": "e76732ba-1981-4108-966c-07efc2426f3d",
   "metadata": {},
   "outputs": [],
   "source": [
    "obj1 = Child()"
   ]
  },
  {
   "cell_type": "code",
   "execution_count": 31,
   "id": "e8dbceff-c80d-420f-8deb-a54df94f4ab6",
   "metadata": {},
   "outputs": [
    {
     "name": "stdout",
     "output_type": "stream",
     "text": [
      "This is the parent class.\n",
      "This is the child class.\n"
     ]
    }
   ],
   "source": [
    "obj1.show()"
   ]
  },
  {
   "cell_type": "code",
   "execution_count": 32,
   "id": "74b2d49e-cc4e-42e3-b92e-cab5eed3b04b",
   "metadata": {},
   "outputs": [],
   "source": [
    "class Parent:\n",
    "    def show(self):\n",
    "        print(\"This is the parent class.\")\n",
    "\n",
    "class Child(Parent):\n",
    "    def show(self):\n",
    "        #super().show()  # Calls Parent's show() method\n",
    "        print(\"This is the child class.\")"
   ]
  },
  {
   "cell_type": "code",
   "execution_count": 33,
   "id": "7b5457fc-5130-43f7-8f02-02d81a992de7",
   "metadata": {},
   "outputs": [],
   "source": [
    "obj = Child()"
   ]
  },
  {
   "cell_type": "code",
   "execution_count": 34,
   "id": "3b362363-c849-4a37-b2ae-9e2db1310436",
   "metadata": {},
   "outputs": [
    {
     "name": "stdout",
     "output_type": "stream",
     "text": [
      "This is the child class.\n"
     ]
    }
   ],
   "source": [
    "obj.show()"
   ]
  },
  {
   "cell_type": "code",
   "execution_count": null,
   "id": "7aa8c043-41a8-4480-8760-42cd3422986b",
   "metadata": {},
   "outputs": [],
   "source": []
  },
  {
   "cell_type": "code",
   "execution_count": null,
   "id": "86bac9f1-9d0e-46b8-bead-c7ac7b7573d1",
   "metadata": {},
   "outputs": [],
   "source": []
  },
  {
   "cell_type": "code",
   "execution_count": 37,
   "id": "fc4fad2a-444b-4bb3-ba02-8f3fabd513df",
   "metadata": {},
   "outputs": [
    {
     "ename": "RuntimeError",
     "evalue": "super(): no arguments",
     "output_type": "error",
     "traceback": [
      "\u001b[1;31m---------------------------------------------------------------------------\u001b[0m",
      "\u001b[1;31mRuntimeError\u001b[0m                              Traceback (most recent call last)",
      "Cell \u001b[1;32mIn[37], line 5\u001b[0m\n\u001b[0;32m      2\u001b[0m     \u001b[38;5;28;01mdef\u001b[39;00m \u001b[38;5;21msound\u001b[39m(\u001b[38;5;28mself\u001b[39m):\n\u001b[0;32m      3\u001b[0m         \u001b[38;5;28mprint\u001b[39m(\u001b[38;5;124m\"\u001b[39m\u001b[38;5;124mSome generic animal sound\u001b[39m\u001b[38;5;124m\"\u001b[39m)\n\u001b[1;32m----> 5\u001b[0m \u001b[38;5;28;01mclass\u001b[39;00m \u001b[38;5;21;01mDog\u001b[39;00m(Animal):\n\u001b[0;32m      6\u001b[0m     \u001b[38;5;28msuper\u001b[39m()\u001b[38;5;241m.\u001b[39msound()  \u001b[38;5;66;03m# Call Animal's sound()\u001b[39;00m\n\u001b[0;32m      7\u001b[0m     \u001b[38;5;28;01mdef\u001b[39;00m \u001b[38;5;21msound\u001b[39m(\u001b[38;5;28mself\u001b[39m):\n",
      "Cell \u001b[1;32mIn[37], line 6\u001b[0m, in \u001b[0;36mDog\u001b[1;34m()\u001b[0m\n\u001b[0;32m      5\u001b[0m \u001b[38;5;28;01mclass\u001b[39;00m \u001b[38;5;21;01mDog\u001b[39;00m(Animal):\n\u001b[1;32m----> 6\u001b[0m     \u001b[38;5;28msuper\u001b[39m()\u001b[38;5;241m.\u001b[39msound()  \u001b[38;5;66;03m# Call Animal's sound()\u001b[39;00m\n\u001b[0;32m      7\u001b[0m     \u001b[38;5;28;01mdef\u001b[39;00m \u001b[38;5;21msound\u001b[39m(\u001b[38;5;28mself\u001b[39m):\n\u001b[0;32m      8\u001b[0m         \u001b[38;5;28mprint\u001b[39m(\u001b[38;5;124m\"\u001b[39m\u001b[38;5;124mBark! Bark!\u001b[39m\u001b[38;5;124m\"\u001b[39m)\n",
      "\u001b[1;31mRuntimeError\u001b[0m: super(): no arguments"
     ]
    }
   ],
   "source": [
    "class Animal:\n",
    "    def sound(self):\n",
    "        print(\"Some generic animal sound\")\n",
    "\n",
    "class Dog(Animal):\n",
    "    \n",
    "    super().sound()  # Call Animal's sound()\n",
    "    def sound(self):\n",
    "        print(\"Bark! Bark!\")\n",
    "        \n",
    "\n",
    "dog = Dog()\n",
    "dog.sound()\n"
   ]
  },
  {
   "cell_type": "code",
   "execution_count": null,
   "id": "b257000f-25ed-4a3b-820f-e3a22551a851",
   "metadata": {},
   "outputs": [],
   "source": [
    "class A:\n",
    "    def show(self):\n",
    "        print(\"Class A\")\n",
    "\n",
    "class B(A):\n",
    "    def show(self):\n",
    "        super().show()\n",
    "        print(\"Class B\")\n",
    "\n",
    "class C(B):\n",
    "    def show(self):\n",
    "        super().show()\n",
    "        print(\"Class C\")\n",
    "\n",
    "obj = C()\n",
    "obj.show()\n"
   ]
  },
  {
   "cell_type": "code",
   "execution_count": null,
   "id": "95b9bc67-102b-43ec-af3f-09b54416538d",
   "metadata": {},
   "outputs": [],
   "source": []
  },
  {
   "cell_type": "code",
   "execution_count": 38,
   "id": "f38873b3-1d46-4362-a0c1-1477b430b083",
   "metadata": {},
   "outputs": [],
   "source": [
    "from abc import ABC, abstractmethod\n",
    "\n",
    "class Animal(ABC):  # Abstract class\n",
    "    @abstractmethod\n",
    "    def sound(self):  # Abstract method\n",
    "        pass\n",
    "\n",
    "class Dog(Animal):\n",
    "    def sound(self):\n",
    "        print(\"Bark!\")\n",
    "\n",
    "class Cat(Animal):\n",
    "    def sound(self):\n",
    "        print(\"Meow!\")\n",
    "\n",
    "\n",
    "dog = Dog()\n",
    "cat = Cat()"
   ]
  },
  {
   "cell_type": "code",
   "execution_count": 39,
   "id": "d39addaf-beb2-4647-b722-b06154d9e9be",
   "metadata": {},
   "outputs": [
    {
     "name": "stdout",
     "output_type": "stream",
     "text": [
      "Bark!\n"
     ]
    }
   ],
   "source": [
    "dog.sound()"
   ]
  },
  {
   "cell_type": "code",
   "execution_count": 41,
   "id": "bcd8d9ab-a529-4536-9fd9-69b43751cee3",
   "metadata": {},
   "outputs": [
    {
     "name": "stdout",
     "output_type": "stream",
     "text": [
      "Meow!\n"
     ]
    }
   ],
   "source": [
    "cat.sound()"
   ]
  },
  {
   "cell_type": "code",
   "execution_count": 42,
   "id": "aba1e5d7-0add-42a8-8226-47693218959b",
   "metadata": {},
   "outputs": [
    {
     "ename": "TypeError",
     "evalue": "Can't instantiate abstract class Animal with abstract method sound",
     "output_type": "error",
     "traceback": [
      "\u001b[1;31m---------------------------------------------------------------------------\u001b[0m",
      "\u001b[1;31mTypeError\u001b[0m                                 Traceback (most recent call last)",
      "Cell \u001b[1;32mIn[42], line 1\u001b[0m\n\u001b[1;32m----> 1\u001b[0m animal \u001b[38;5;241m=\u001b[39m Animal()\n",
      "\u001b[1;31mTypeError\u001b[0m: Can't instantiate abstract class Animal with abstract method sound"
     ]
    }
   ],
   "source": [
    "animal = Animal()"
   ]
  },
  {
   "cell_type": "code",
   "execution_count": null,
   "id": "ae1706ca-db27-4b70-ad45-bd8c019c99bd",
   "metadata": {},
   "outputs": [],
   "source": []
  },
  {
   "cell_type": "code",
   "execution_count": 43,
   "id": "0860d5bf-a935-4cd9-a697-410ef5a278b7",
   "metadata": {},
   "outputs": [
    {
     "name": "stdout",
     "output_type": "stream",
     "text": [
      "Circle area: 78.5\n",
      "Rectangle area: 24\n"
     ]
    },
    {
     "ename": "TypeError",
     "evalue": "Can't instantiate abstract class Shape with abstract method area",
     "output_type": "error",
     "traceback": [
      "\u001b[1;31m---------------------------------------------------------------------------\u001b[0m",
      "\u001b[1;31mTypeError\u001b[0m                                 Traceback (most recent call last)",
      "Cell \u001b[1;32mIn[43], line 40\u001b[0m\n\u001b[0;32m     37\u001b[0m \u001b[38;5;28mprint\u001b[39m(\u001b[38;5;124m\"\u001b[39m\u001b[38;5;124mRectangle area:\u001b[39m\u001b[38;5;124m\"\u001b[39m, rectangle\u001b[38;5;241m.\u001b[39marea())  \u001b[38;5;66;03m# Output: Rectangle area: 24\u001b[39;00m\n\u001b[0;32m     39\u001b[0m \u001b[38;5;66;03m# You cannot create an object of Shape directly, only its subclasses\u001b[39;00m\n\u001b[1;32m---> 40\u001b[0m shape \u001b[38;5;241m=\u001b[39m Shape()\n",
      "\u001b[1;31mTypeError\u001b[0m: Can't instantiate abstract class Shape with abstract method area"
     ]
    }
   ],
   "source": [
    "from abc import ABC, abstractmethod  # Step 1: Import ABC and abstractmethod for abstraction\n",
    "\n",
    "# Step 2: Define an abstract base class\n",
    "class Shape(ABC):  # 'Shape' serves as the blueprint for all shapes\n",
    "\n",
    "    @abstractmethod\n",
    "    def area(self):\n",
    "        # Step 3: Declare an abstract method 'area'\n",
    "        # This method will force subclasses to implement their own version\n",
    "        pass\n",
    "\n",
    "# Step 4: Inherit from the abstract class to create a specific shape\n",
    "class Circle(Shape):\n",
    "    def __init__(self, radius):\n",
    "        # Step 5: Constructor to store radius (unique property for Circle)\n",
    "        self.radius = radius\n",
    "\n",
    "    def area(self):\n",
    "        # Step 6: Concrete implementation of the abstract 'area' method for Circle\n",
    "        return 3.14 * (self.radius ** 2)\n",
    "\n",
    "# Step 7: Inherit from the abstract class to create another shape\n",
    "class Rectangle(Shape):\n",
    "    def __init__(self, width, height):\n",
    "        # Step 8: Constructor to store width and height (unique property for Rectangle)\n",
    "        self.width = width\n",
    "        self.height = height\n",
    "\n",
    "    def area(self):\n",
    "        # Step 9: Concrete implementation of the abstract 'area' method for Rectangle\n",
    "        return self.width * self.height\n",
    "\n",
    "# Step 10: Create objects of subclasses and use the same interface\n",
    "circle = Circle(5)\n",
    "rectangle = Rectangle(4, 6)\n",
    "print(\"Circle area:\", circle.area())      # Output: Circle area: 78.5\n",
    "print(\"Rectangle area:\", rectangle.area())  # Output: Rectangle area: 24\n",
    "\n",
    "# You cannot create an object of Shape directly, only its subclasses\n",
    "shape = Shape()  # This line would raise an error if uncommented\n"
   ]
  },
  {
   "cell_type": "code",
   "execution_count": null,
   "id": "a7479125-2f30-4ca7-8c6f-f63111f7e4f9",
   "metadata": {},
   "outputs": [],
   "source": [
    "circle."
   ]
  }
 ],
 "metadata": {
  "kernelspec": {
   "display_name": "Python 3 (ipykernel)",
   "language": "python",
   "name": "python3"
  },
  "language_info": {
   "codemirror_mode": {
    "name": "ipython",
    "version": 3
   },
   "file_extension": ".py",
   "mimetype": "text/x-python",
   "name": "python",
   "nbconvert_exporter": "python",
   "pygments_lexer": "ipython3",
   "version": "3.11.7"
  }
 },
 "nbformat": 4,
 "nbformat_minor": 5
}
