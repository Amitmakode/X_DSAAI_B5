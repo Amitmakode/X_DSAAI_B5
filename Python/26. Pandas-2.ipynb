{
 "cells": [
  {
   "cell_type": "code",
   "execution_count": 5,
   "id": "043ac83d-4d54-467f-aa40-59c3d9bc619e",
   "metadata": {},
   "outputs": [],
   "source": [
    "import pandas as pd\n",
    "import numpy as np"
   ]
  },
  {
   "cell_type": "code",
   "execution_count": 6,
   "id": "b9764ee8-a2ab-46cc-8e0b-f78bbfa26e78",
   "metadata": {},
   "outputs": [],
   "source": [
    "# Create sample dataset for exploration\n",
    "np.random.seed(42)\n",
    "df = pd.DataFrame({\n",
    "    'A': np.random.randn(100),\n",
    "    'B': np.random.randint(1, 10, 100),\n",
    "    'C': np.random.choice(['X', 'Y', 'Z'], 100),\n",
    "    'D': pd.date_range('2023-01-01', periods=100, freq='D'),\n",
    "    'E': np.random.randn(100) * 100\n",
    "})"
   ]
  },
  {
   "cell_type": "code",
   "execution_count": 7,
   "id": "92de1877-98e9-4b41-84aa-bdb98e03d476",
   "metadata": {},
   "outputs": [
    {
     "data": {
      "text/html": [
       "<div>\n",
       "<style scoped>\n",
       "    .dataframe tbody tr th:only-of-type {\n",
       "        vertical-align: middle;\n",
       "    }\n",
       "\n",
       "    .dataframe tbody tr th {\n",
       "        vertical-align: top;\n",
       "    }\n",
       "\n",
       "    .dataframe thead th {\n",
       "        text-align: right;\n",
       "    }\n",
       "</style>\n",
       "<table border=\"1\" class=\"dataframe\">\n",
       "  <thead>\n",
       "    <tr style=\"text-align: right;\">\n",
       "      <th></th>\n",
       "      <th>A</th>\n",
       "      <th>B</th>\n",
       "      <th>C</th>\n",
       "      <th>D</th>\n",
       "      <th>E</th>\n",
       "    </tr>\n",
       "  </thead>\n",
       "  <tbody>\n",
       "    <tr>\n",
       "      <th>0</th>\n",
       "      <td>0.496714</td>\n",
       "      <td>9</td>\n",
       "      <td>Y</td>\n",
       "      <td>2023-01-01</td>\n",
       "      <td>23.229616</td>\n",
       "    </tr>\n",
       "    <tr>\n",
       "      <th>1</th>\n",
       "      <td>-0.138264</td>\n",
       "      <td>5</td>\n",
       "      <td>Y</td>\n",
       "      <td>2023-01-02</td>\n",
       "      <td>17.618092</td>\n",
       "    </tr>\n",
       "    <tr>\n",
       "      <th>2</th>\n",
       "      <td>0.647689</td>\n",
       "      <td>1</td>\n",
       "      <td>Y</td>\n",
       "      <td>2023-01-03</td>\n",
       "      <td>-115.256537</td>\n",
       "    </tr>\n",
       "    <tr>\n",
       "      <th>3</th>\n",
       "      <td>1.523030</td>\n",
       "      <td>3</td>\n",
       "      <td>Y</td>\n",
       "      <td>2023-01-04</td>\n",
       "      <td>-150.076839</td>\n",
       "    </tr>\n",
       "    <tr>\n",
       "      <th>4</th>\n",
       "      <td>-0.234153</td>\n",
       "      <td>8</td>\n",
       "      <td>Z</td>\n",
       "      <td>2023-01-05</td>\n",
       "      <td>16.502280</td>\n",
       "    </tr>\n",
       "    <tr>\n",
       "      <th>...</th>\n",
       "      <td>...</td>\n",
       "      <td>...</td>\n",
       "      <td>...</td>\n",
       "      <td>...</td>\n",
       "      <td>...</td>\n",
       "    </tr>\n",
       "    <tr>\n",
       "      <th>95</th>\n",
       "      <td>-1.463515</td>\n",
       "      <td>3</td>\n",
       "      <td>Z</td>\n",
       "      <td>2023-04-06</td>\n",
       "      <td>94.914299</td>\n",
       "    </tr>\n",
       "    <tr>\n",
       "      <th>96</th>\n",
       "      <td>0.296120</td>\n",
       "      <td>9</td>\n",
       "      <td>X</td>\n",
       "      <td>2023-04-07</td>\n",
       "      <td>-23.922480</td>\n",
       "    </tr>\n",
       "    <tr>\n",
       "      <th>97</th>\n",
       "      <td>0.261055</td>\n",
       "      <td>3</td>\n",
       "      <td>X</td>\n",
       "      <td>2023-04-08</td>\n",
       "      <td>85.397471</td>\n",
       "    </tr>\n",
       "    <tr>\n",
       "      <th>98</th>\n",
       "      <td>0.005113</td>\n",
       "      <td>9</td>\n",
       "      <td>X</td>\n",
       "      <td>2023-04-09</td>\n",
       "      <td>-27.104046</td>\n",
       "    </tr>\n",
       "    <tr>\n",
       "      <th>99</th>\n",
       "      <td>-0.234587</td>\n",
       "      <td>2</td>\n",
       "      <td>Y</td>\n",
       "      <td>2023-04-10</td>\n",
       "      <td>-61.309468</td>\n",
       "    </tr>\n",
       "  </tbody>\n",
       "</table>\n",
       "<p>100 rows × 5 columns</p>\n",
       "</div>"
      ],
      "text/plain": [
       "           A  B  C          D           E\n",
       "0   0.496714  9  Y 2023-01-01   23.229616\n",
       "1  -0.138264  5  Y 2023-01-02   17.618092\n",
       "2   0.647689  1  Y 2023-01-03 -115.256537\n",
       "3   1.523030  3  Y 2023-01-04 -150.076839\n",
       "4  -0.234153  8  Z 2023-01-05   16.502280\n",
       "..       ... .. ..        ...         ...\n",
       "95 -1.463515  3  Z 2023-04-06   94.914299\n",
       "96  0.296120  9  X 2023-04-07  -23.922480\n",
       "97  0.261055  3  X 2023-04-08   85.397471\n",
       "98  0.005113  9  X 2023-04-09  -27.104046\n",
       "99 -0.234587  2  Y 2023-04-10  -61.309468\n",
       "\n",
       "[100 rows x 5 columns]"
      ]
     },
     "execution_count": 7,
     "metadata": {},
     "output_type": "execute_result"
    }
   ],
   "source": [
    "df"
   ]
  },
  {
   "cell_type": "code",
   "execution_count": 8,
   "id": "cc0169c2-d37c-47f4-9d92-3f56b60ef559",
   "metadata": {},
   "outputs": [
    {
     "name": "stdout",
     "output_type": "stream",
     "text": [
      "          A  B  C          D           E\n",
      "0  0.496714  9  Y 2023-01-01   23.229616\n",
      "1 -0.138264  5  Y 2023-01-02   17.618092\n",
      "2  0.647689  1  Y 2023-01-03 -115.256537\n",
      "3  1.523030  3  Y 2023-01-04 -150.076839\n",
      "4 -0.234153  8  Z 2023-01-05   16.502280\n",
      "           A  B  C          D          E\n",
      "95 -1.463515  3  Z 2023-04-06  94.914299\n",
      "96  0.296120  9  X 2023-04-07 -23.922480\n",
      "97  0.261055  3  X 2023-04-08  85.397471\n",
      "98  0.005113  9  X 2023-04-09 -27.104046\n",
      "99 -0.234587  2  Y 2023-04-10 -61.309468\n",
      "(100, 5)\n",
      "<class 'pandas.core.frame.DataFrame'>\n",
      "RangeIndex: 100 entries, 0 to 99\n",
      "Data columns (total 5 columns):\n",
      " #   Column  Non-Null Count  Dtype         \n",
      "---  ------  --------------  -----         \n",
      " 0   A       100 non-null    float64       \n",
      " 1   B       100 non-null    int32         \n",
      " 2   C       100 non-null    object        \n",
      " 3   D       100 non-null    datetime64[ns]\n",
      " 4   E       100 non-null    float64       \n",
      "dtypes: datetime64[ns](1), float64(2), int32(1), object(1)\n",
      "memory usage: 3.6+ KB\n",
      "None\n",
      "Index(['A', 'B', 'C', 'D', 'E'], dtype='object')\n",
      "RangeIndex(start=0, stop=100, step=1)\n",
      "A           float64\n",
      "B             int32\n",
      "C            object\n",
      "D    datetime64[ns]\n",
      "E           float64\n",
      "dtype: object\n"
     ]
    }
   ],
   "source": [
    "# Basic information about DataFrame\n",
    "print(df.head())        # First 5 rows\n",
    "print(df.tail())        # Last 5 rows\n",
    "print(df.shape)         # Dimensions (rows, columns)\n",
    "print(df.info())        # Data types and non-null counts\n",
    "print(df.columns)       # Column names\n",
    "print(df.index)         # Index information\n",
    "print(df.dtypes)        # Data types of each column"
   ]
  },
  {
   "cell_type": "code",
   "execution_count": 9,
   "id": "3e239c98-f0bb-4dd9-a265-55ca323fb39e",
   "metadata": {},
   "outputs": [
    {
     "name": "stdout",
     "output_type": "stream",
     "text": [
      "           A  B  C          D           E\n",
      "87  0.328751  8  Y 2023-03-29  116.193732\n",
      "67  1.003533  3  Y 2023-03-09    7.097242\n",
      "43 -0.301104  6  Y 2023-02-13  187.200568\n",
      "61 -0.185659  8  Z 2023-03-03   12.609483\n",
      "88 -0.529760  4  Z 2023-03-30  155.285978\n",
      "           A  B  C          D           E\n",
      "83 -0.518270  8  Z 2023-03-25  -71.012796\n",
      "91  0.968645  4  Y 2023-04-02   26.162306\n",
      "68  0.361636  7  Z 2023-03-10   43.932714\n",
      "94 -0.392108  4  Y 2023-04-05  -52.318809\n",
      "6   1.579213  8  X 2023-01-07   -3.963614\n",
      "88 -0.529760  4  Z 2023-03-30  155.285978\n",
      "58  0.331263  8  X 2023-02-28  -20.245753\n",
      "19 -1.412304  1  Y 2023-01-20  184.341376\n",
      "79 -1.987569  3  Y 2023-03-21   58.131413\n",
      "47  1.057122  3  X 2023-02-17  -10.511850\n"
     ]
    }
   ],
   "source": [
    "# Sample random rows\n",
    "print(df.sample(5))     # 5 random rows\n",
    "print(df.sample(frac=0.1))  # 10% of rows"
   ]
  },
  {
   "cell_type": "code",
   "execution_count": 10,
   "id": "b7af3a34-ec93-4eb7-9f89-8026d5e9dd78",
   "metadata": {},
   "outputs": [
    {
     "name": "stdout",
     "output_type": "stream",
     "text": [
      "                A           B                    D           E\n",
      "count  100.000000  100.000000                  100  100.000000\n",
      "mean    -0.103847    4.730000  2023-02-19 12:00:00    8.073564\n",
      "min     -2.619745    1.000000  2023-01-01 00:00:00 -199.496157\n",
      "25%     -0.600906    2.000000  2023-01-25 18:00:00  -61.360443\n",
      "50%     -0.126956    4.000000  2023-02-19 12:00:00    3.682609\n",
      "75%      0.405952    7.000000  2023-03-16 06:00:00   85.966970\n",
      "max      1.852278    9.000000  2023-04-10 00:00:00  238.903596\n",
      "std      0.908168    2.733463                  NaN  101.447471\n",
      "                 A           B    C                    D           E\n",
      "count   100.000000  100.000000  100                  100  100.000000\n",
      "unique         NaN         NaN    3                  NaN         NaN\n",
      "top            NaN         NaN    X                  NaN         NaN\n",
      "freq           NaN         NaN   36                  NaN         NaN\n",
      "mean     -0.103847    4.730000  NaN  2023-02-19 12:00:00    8.073564\n",
      "min      -2.619745    1.000000  NaN  2023-01-01 00:00:00 -199.496157\n",
      "25%      -0.600906    2.000000  NaN  2023-01-25 18:00:00  -61.360443\n",
      "50%      -0.126956    4.000000  NaN  2023-02-19 12:00:00    3.682609\n",
      "75%       0.405952    7.000000  NaN  2023-03-16 06:00:00   85.966970\n",
      "max       1.852278    9.000000  NaN  2023-04-10 00:00:00  238.903596\n",
      "std       0.908168    2.733463  NaN                  NaN  101.447471\n"
     ]
    }
   ],
   "source": [
    "# Descriptive statistics\n",
    "print(df.describe())              # Summary statistics for numeric columns\n",
    "print(df.describe(include='all')) # All columns including categorical"
   ]
  },
  {
   "cell_type": "code",
   "execution_count": 11,
   "id": "75b94bb3-b5be-45c9-ae6d-f0736a258073",
   "metadata": {},
   "outputs": [
    {
     "name": "stdout",
     "output_type": "stream",
     "text": [
      "-0.10384651739409384\n",
      "-0.1269562917797126\n",
      "0    -2.619745\n",
      "1    -1.987569\n",
      "2    -1.959670\n",
      "3    -1.913280\n",
      "4    -1.763040\n",
      "        ...   \n",
      "95    1.523030\n",
      "96    1.538037\n",
      "97    1.564644\n",
      "98    1.579213\n",
      "99    1.852278\n",
      "Name: A, Length: 100, dtype: float64\n",
      "0.9081684280078008\n",
      "0.8247698936301602\n",
      "-2.6197451040897444\n",
      "1.8522781845089378\n"
     ]
    }
   ],
   "source": [
    "# Individual statistics\n",
    "print(df['A'].mean())       # Mean\n",
    "print(df['A'].median())     # Median\n",
    "print(df['A'].mode())       # Mode\n",
    "print(df['A'].std())        # Standard deviation\n",
    "print(df['A'].var())        # Variance\n",
    "print(df['A'].min())        # Minimum\n",
    "print(df['A'].max())        # Maximum\n"
   ]
  },
  {
   "cell_type": "code",
   "execution_count": 12,
   "id": "3394e8e1-3ab0-40b1-a503-0ebf9c222713",
   "metadata": {},
   "outputs": [
    {
     "data": {
      "text/plain": [
       "0     0.496714\n",
       "1    -0.138264\n",
       "2     0.647689\n",
       "3     1.523030\n",
       "4    -0.234153\n",
       "        ...   \n",
       "95   -1.463515\n",
       "96    0.296120\n",
       "97    0.261055\n",
       "98    0.005113\n",
       "99   -0.234587\n",
       "Name: A, Length: 100, dtype: float64"
      ]
     },
     "execution_count": 12,
     "metadata": {},
     "output_type": "execute_result"
    }
   ],
   "source": [
    "df[\"A\"]"
   ]
  },
  {
   "cell_type": "code",
   "execution_count": 21,
   "id": "a507dd3e-432b-483c-b314-a4bcfd00f60d",
   "metadata": {},
   "outputs": [
    {
     "name": "stdout",
     "output_type": "stream",
     "text": [
      "0.40595205201206214\n"
     ]
    }
   ],
   "source": [
    "print(df['A'].quantile(0.75))  # 25th percentile"
   ]
  },
  {
   "cell_type": "code",
   "execution_count": 22,
   "id": "d0b4655f-8d08-46a1-a6c9-284bdf31961a",
   "metadata": {},
   "outputs": [
    {
     "name": "stdout",
     "output_type": "stream",
     "text": [
      "C\n",
      "X    36\n",
      "Y    35\n",
      "Z    29\n",
      "Name: count, dtype: int64\n"
     ]
    }
   ],
   "source": [
    "# Count statistics\n",
    "print(df['C'].value_counts())    # Count of unique values"
   ]
  },
  {
   "cell_type": "code",
   "execution_count": 23,
   "id": "d5336f2d-398a-4b4d-93f4-d083acc0d60e",
   "metadata": {},
   "outputs": [
    {
     "name": "stdout",
     "output_type": "stream",
     "text": [
      "3\n"
     ]
    }
   ],
   "source": [
    "print(df['C'].nunique())         # Number of unique values"
   ]
  },
  {
   "cell_type": "code",
   "execution_count": 24,
   "id": "bb1dc906-d3b5-4128-8909-1f8a0667ef3a",
   "metadata": {},
   "outputs": [
    {
     "name": "stdout",
     "output_type": "stream",
     "text": [
      "A    0\n",
      "B    0\n",
      "C    0\n",
      "D    0\n",
      "E    0\n",
      "dtype: int64\n"
     ]
    }
   ],
   "source": [
    "print(df.isnull().sum())         # Count of missing value"
   ]
  },
  {
   "cell_type": "code",
   "execution_count": 25,
   "id": "e37cd882-715d-4341-97e3-72e0ccaacdd0",
   "metadata": {},
   "outputs": [
    {
     "name": "stdout",
     "output_type": "stream",
     "text": [
      "A    100\n",
      "B    100\n",
      "C    100\n",
      "D    100\n",
      "E    100\n",
      "dtype: int64\n"
     ]
    }
   ],
   "source": [
    "print(df.notnull().sum())        # Count of non-missing values"
   ]
  },
  {
   "cell_type": "code",
   "execution_count": 26,
   "id": "fb31de2f-c0e1-4c98-b6db-d7ed84db973c",
   "metadata": {},
   "outputs": [],
   "source": [
    "data = {\n",
    "    'Name': ['Alice', 'Bob', 'Charlie', 'Diana', 'Eve'],\n",
    "    'Age': [25, 30, 35, 28, 32],\n",
    "    'Department': ['HR', 'IT', 'Finance', 'HR', 'IT'],\n",
    "    'Salary': [70000, 80000, 90000, 75000, 85000]\n",
    "}\n",
    "df = pd.DataFrame(data, index=['emp1', 'emp2', 'emp3', 'emp4', 'emp5'])"
   ]
  },
  {
   "cell_type": "code",
   "execution_count": 27,
   "id": "5d8959a5-527d-4009-a437-29febb51b2fe",
   "metadata": {},
   "outputs": [
    {
     "data": {
      "text/html": [
       "<div>\n",
       "<style scoped>\n",
       "    .dataframe tbody tr th:only-of-type {\n",
       "        vertical-align: middle;\n",
       "    }\n",
       "\n",
       "    .dataframe tbody tr th {\n",
       "        vertical-align: top;\n",
       "    }\n",
       "\n",
       "    .dataframe thead th {\n",
       "        text-align: right;\n",
       "    }\n",
       "</style>\n",
       "<table border=\"1\" class=\"dataframe\">\n",
       "  <thead>\n",
       "    <tr style=\"text-align: right;\">\n",
       "      <th></th>\n",
       "      <th>Name</th>\n",
       "      <th>Age</th>\n",
       "      <th>Department</th>\n",
       "      <th>Salary</th>\n",
       "    </tr>\n",
       "  </thead>\n",
       "  <tbody>\n",
       "    <tr>\n",
       "      <th>emp1</th>\n",
       "      <td>Alice</td>\n",
       "      <td>25</td>\n",
       "      <td>HR</td>\n",
       "      <td>70000</td>\n",
       "    </tr>\n",
       "    <tr>\n",
       "      <th>emp2</th>\n",
       "      <td>Bob</td>\n",
       "      <td>30</td>\n",
       "      <td>IT</td>\n",
       "      <td>80000</td>\n",
       "    </tr>\n",
       "    <tr>\n",
       "      <th>emp3</th>\n",
       "      <td>Charlie</td>\n",
       "      <td>35</td>\n",
       "      <td>Finance</td>\n",
       "      <td>90000</td>\n",
       "    </tr>\n",
       "    <tr>\n",
       "      <th>emp4</th>\n",
       "      <td>Diana</td>\n",
       "      <td>28</td>\n",
       "      <td>HR</td>\n",
       "      <td>75000</td>\n",
       "    </tr>\n",
       "    <tr>\n",
       "      <th>emp5</th>\n",
       "      <td>Eve</td>\n",
       "      <td>32</td>\n",
       "      <td>IT</td>\n",
       "      <td>85000</td>\n",
       "    </tr>\n",
       "  </tbody>\n",
       "</table>\n",
       "</div>"
      ],
      "text/plain": [
       "         Name  Age Department  Salary\n",
       "emp1    Alice   25         HR   70000\n",
       "emp2      Bob   30         IT   80000\n",
       "emp3  Charlie   35    Finance   90000\n",
       "emp4    Diana   28         HR   75000\n",
       "emp5      Eve   32         IT   85000"
      ]
     },
     "execution_count": 27,
     "metadata": {},
     "output_type": "execute_result"
    }
   ],
   "source": [
    "df"
   ]
  },
  {
   "cell_type": "code",
   "execution_count": 29,
   "id": "7e0919b2-5365-495f-aa28-a4ca635e0407",
   "metadata": {},
   "outputs": [
    {
     "data": {
      "text/html": [
       "<div>\n",
       "<style scoped>\n",
       "    .dataframe tbody tr th:only-of-type {\n",
       "        vertical-align: middle;\n",
       "    }\n",
       "\n",
       "    .dataframe tbody tr th {\n",
       "        vertical-align: top;\n",
       "    }\n",
       "\n",
       "    .dataframe thead th {\n",
       "        text-align: right;\n",
       "    }\n",
       "</style>\n",
       "<table border=\"1\" class=\"dataframe\">\n",
       "  <thead>\n",
       "    <tr style=\"text-align: right;\">\n",
       "      <th></th>\n",
       "      <th>Name</th>\n",
       "      <th>Age</th>\n",
       "      <th>Department</th>\n",
       "      <th>Salary</th>\n",
       "    </tr>\n",
       "  </thead>\n",
       "  <tbody>\n",
       "    <tr>\n",
       "      <th>emp3</th>\n",
       "      <td>Charlie</td>\n",
       "      <td>35</td>\n",
       "      <td>Finance</td>\n",
       "      <td>90000</td>\n",
       "    </tr>\n",
       "    <tr>\n",
       "      <th>emp5</th>\n",
       "      <td>Eve</td>\n",
       "      <td>32</td>\n",
       "      <td>IT</td>\n",
       "      <td>85000</td>\n",
       "    </tr>\n",
       "  </tbody>\n",
       "</table>\n",
       "</div>"
      ],
      "text/plain": [
       "         Name  Age Department  Salary\n",
       "emp3  Charlie   35    Finance   90000\n",
       "emp5      Eve   32         IT   85000"
      ]
     },
     "execution_count": 29,
     "metadata": {},
     "output_type": "execute_result"
    }
   ],
   "source": [
    "df[df['Age'] > 30]"
   ]
  },
  {
   "cell_type": "code",
   "execution_count": 31,
   "id": "0bdec001-7041-4806-95f7-99203e67bda5",
   "metadata": {},
   "outputs": [
    {
     "data": {
      "text/html": [
       "<div>\n",
       "<style scoped>\n",
       "    .dataframe tbody tr th:only-of-type {\n",
       "        vertical-align: middle;\n",
       "    }\n",
       "\n",
       "    .dataframe tbody tr th {\n",
       "        vertical-align: top;\n",
       "    }\n",
       "\n",
       "    .dataframe thead th {\n",
       "        text-align: right;\n",
       "    }\n",
       "</style>\n",
       "<table border=\"1\" class=\"dataframe\">\n",
       "  <thead>\n",
       "    <tr style=\"text-align: right;\">\n",
       "      <th></th>\n",
       "      <th>Name</th>\n",
       "      <th>Age</th>\n",
       "      <th>Department</th>\n",
       "      <th>Salary</th>\n",
       "    </tr>\n",
       "  </thead>\n",
       "  <tbody>\n",
       "    <tr>\n",
       "      <th>emp2</th>\n",
       "      <td>Bob</td>\n",
       "      <td>30</td>\n",
       "      <td>IT</td>\n",
       "      <td>80000</td>\n",
       "    </tr>\n",
       "    <tr>\n",
       "      <th>emp5</th>\n",
       "      <td>Eve</td>\n",
       "      <td>32</td>\n",
       "      <td>IT</td>\n",
       "      <td>85000</td>\n",
       "    </tr>\n",
       "  </tbody>\n",
       "</table>\n",
       "</div>"
      ],
      "text/plain": [
       "     Name  Age Department  Salary\n",
       "emp2  Bob   30         IT   80000\n",
       "emp5  Eve   32         IT   85000"
      ]
     },
     "execution_count": 31,
     "metadata": {},
     "output_type": "execute_result"
    }
   ],
   "source": [
    "df[(df['Age'] > 25) & (df['Department'] == 'IT')]"
   ]
  },
  {
   "cell_type": "code",
   "execution_count": 32,
   "id": "6dd1518a-8e2a-49e4-8a30-c2bb82209c75",
   "metadata": {},
   "outputs": [
    {
     "data": {
      "text/html": [
       "<div>\n",
       "<style scoped>\n",
       "    .dataframe tbody tr th:only-of-type {\n",
       "        vertical-align: middle;\n",
       "    }\n",
       "\n",
       "    .dataframe tbody tr th {\n",
       "        vertical-align: top;\n",
       "    }\n",
       "\n",
       "    .dataframe thead th {\n",
       "        text-align: right;\n",
       "    }\n",
       "</style>\n",
       "<table border=\"1\" class=\"dataframe\">\n",
       "  <thead>\n",
       "    <tr style=\"text-align: right;\">\n",
       "      <th></th>\n",
       "      <th>Name</th>\n",
       "      <th>Age</th>\n",
       "      <th>Department</th>\n",
       "      <th>Salary</th>\n",
       "    </tr>\n",
       "  </thead>\n",
       "  <tbody>\n",
       "    <tr>\n",
       "      <th>emp2</th>\n",
       "      <td>Bob</td>\n",
       "      <td>30</td>\n",
       "      <td>IT</td>\n",
       "      <td>80000</td>\n",
       "    </tr>\n",
       "    <tr>\n",
       "      <th>emp3</th>\n",
       "      <td>Charlie</td>\n",
       "      <td>35</td>\n",
       "      <td>Finance</td>\n",
       "      <td>90000</td>\n",
       "    </tr>\n",
       "    <tr>\n",
       "      <th>emp4</th>\n",
       "      <td>Diana</td>\n",
       "      <td>28</td>\n",
       "      <td>HR</td>\n",
       "      <td>75000</td>\n",
       "    </tr>\n",
       "    <tr>\n",
       "      <th>emp5</th>\n",
       "      <td>Eve</td>\n",
       "      <td>32</td>\n",
       "      <td>IT</td>\n",
       "      <td>85000</td>\n",
       "    </tr>\n",
       "  </tbody>\n",
       "</table>\n",
       "</div>"
      ],
      "text/plain": [
       "         Name  Age Department  Salary\n",
       "emp2      Bob   30         IT   80000\n",
       "emp3  Charlie   35    Finance   90000\n",
       "emp4    Diana   28         HR   75000\n",
       "emp5      Eve   32         IT   85000"
      ]
     },
     "execution_count": 32,
     "metadata": {},
     "output_type": "execute_result"
    }
   ],
   "source": [
    "df[(df['Age'] > 25) | (df['Department'] == 'IT')]"
   ]
  },
  {
   "cell_type": "code",
   "execution_count": 33,
   "id": "0b602e1e-3d18-4525-bdc5-8333a5ae7c5b",
   "metadata": {},
   "outputs": [
    {
     "data": {
      "text/html": [
       "<div>\n",
       "<style scoped>\n",
       "    .dataframe tbody tr th:only-of-type {\n",
       "        vertical-align: middle;\n",
       "    }\n",
       "\n",
       "    .dataframe tbody tr th {\n",
       "        vertical-align: top;\n",
       "    }\n",
       "\n",
       "    .dataframe thead th {\n",
       "        text-align: right;\n",
       "    }\n",
       "</style>\n",
       "<table border=\"1\" class=\"dataframe\">\n",
       "  <thead>\n",
       "    <tr style=\"text-align: right;\">\n",
       "      <th></th>\n",
       "      <th>Name</th>\n",
       "      <th>Age</th>\n",
       "      <th>Department</th>\n",
       "      <th>Salary</th>\n",
       "    </tr>\n",
       "  </thead>\n",
       "  <tbody>\n",
       "    <tr>\n",
       "      <th>emp1</th>\n",
       "      <td>Alice</td>\n",
       "      <td>25</td>\n",
       "      <td>HR</td>\n",
       "      <td>70000</td>\n",
       "    </tr>\n",
       "    <tr>\n",
       "      <th>emp3</th>\n",
       "      <td>Charlie</td>\n",
       "      <td>35</td>\n",
       "      <td>Finance</td>\n",
       "      <td>90000</td>\n",
       "    </tr>\n",
       "    <tr>\n",
       "      <th>emp4</th>\n",
       "      <td>Diana</td>\n",
       "      <td>28</td>\n",
       "      <td>HR</td>\n",
       "      <td>75000</td>\n",
       "    </tr>\n",
       "  </tbody>\n",
       "</table>\n",
       "</div>"
      ],
      "text/plain": [
       "         Name  Age Department  Salary\n",
       "emp1    Alice   25         HR   70000\n",
       "emp3  Charlie   35    Finance   90000\n",
       "emp4    Diana   28         HR   75000"
      ]
     },
     "execution_count": 33,
     "metadata": {},
     "output_type": "execute_result"
    }
   ],
   "source": [
    "# Using isin() method\n",
    "departments = ['HR', 'Finance']\n",
    "df[df['Department'].isin(departments)]"
   ]
  },
  {
   "cell_type": "code",
   "execution_count": 37,
   "id": "776966ad-f890-4740-8f29-9ae10a95ab6f",
   "metadata": {},
   "outputs": [
    {
     "data": {
      "text/html": [
       "<div>\n",
       "<style scoped>\n",
       "    .dataframe tbody tr th:only-of-type {\n",
       "        vertical-align: middle;\n",
       "    }\n",
       "\n",
       "    .dataframe tbody tr th {\n",
       "        vertical-align: top;\n",
       "    }\n",
       "\n",
       "    .dataframe thead th {\n",
       "        text-align: right;\n",
       "    }\n",
       "</style>\n",
       "<table border=\"1\" class=\"dataframe\">\n",
       "  <thead>\n",
       "    <tr style=\"text-align: right;\">\n",
       "      <th></th>\n",
       "      <th>Name</th>\n",
       "      <th>Age</th>\n",
       "      <th>Department</th>\n",
       "      <th>Salary</th>\n",
       "    </tr>\n",
       "  </thead>\n",
       "  <tbody>\n",
       "    <tr>\n",
       "      <th>emp3</th>\n",
       "      <td>Charlie</td>\n",
       "      <td>35</td>\n",
       "      <td>Finance</td>\n",
       "      <td>90000</td>\n",
       "    </tr>\n",
       "    <tr>\n",
       "      <th>emp4</th>\n",
       "      <td>Diana</td>\n",
       "      <td>28</td>\n",
       "      <td>HR</td>\n",
       "      <td>75000</td>\n",
       "    </tr>\n",
       "  </tbody>\n",
       "</table>\n",
       "</div>"
      ],
      "text/plain": [
       "         Name  Age Department  Salary\n",
       "emp3  Charlie   35    Finance   90000\n",
       "emp4    Diana   28         HR   75000"
      ]
     },
     "execution_count": 37,
     "metadata": {},
     "output_type": "execute_result"
    }
   ],
   "source": [
    "# String operations in boolean indexing\n",
    "df[df['Name'].str.contains('a')]   # Names containing 'A'"
   ]
  },
  {
   "cell_type": "code",
   "execution_count": 36,
   "id": "99d06b7a-a875-4199-8e57-2d7e1f70138f",
   "metadata": {},
   "outputs": [
    {
     "data": {
      "text/html": [
       "<div>\n",
       "<style scoped>\n",
       "    .dataframe tbody tr th:only-of-type {\n",
       "        vertical-align: middle;\n",
       "    }\n",
       "\n",
       "    .dataframe tbody tr th {\n",
       "        vertical-align: top;\n",
       "    }\n",
       "\n",
       "    .dataframe thead th {\n",
       "        text-align: right;\n",
       "    }\n",
       "</style>\n",
       "<table border=\"1\" class=\"dataframe\">\n",
       "  <thead>\n",
       "    <tr style=\"text-align: right;\">\n",
       "      <th></th>\n",
       "      <th>Name</th>\n",
       "      <th>Age</th>\n",
       "      <th>Department</th>\n",
       "      <th>Salary</th>\n",
       "    </tr>\n",
       "  </thead>\n",
       "  <tbody>\n",
       "    <tr>\n",
       "      <th>emp1</th>\n",
       "      <td>Alice</td>\n",
       "      <td>25</td>\n",
       "      <td>HR</td>\n",
       "      <td>70000</td>\n",
       "    </tr>\n",
       "  </tbody>\n",
       "</table>\n",
       "</div>"
      ],
      "text/plain": [
       "       Name  Age Department  Salary\n",
       "emp1  Alice   25         HR   70000"
      ]
     },
     "execution_count": 36,
     "metadata": {},
     "output_type": "execute_result"
    }
   ],
   "source": [
    "df[df['Name'].str.startswith('A')]  # Names starting with 'A'"
   ]
  },
  {
   "cell_type": "code",
   "execution_count": 40,
   "id": "d6daed57-a7a4-4310-9ac7-32f7f07cea8b",
   "metadata": {},
   "outputs": [
    {
     "name": "stdout",
     "output_type": "stream",
     "text": [
      "         Name  Age Department  Salary\n",
      "emp3  Charlie   35    Finance   90000\n",
      "emp5      Eve   32         IT   85000\n"
     ]
    }
   ],
   "source": [
    "print(df.query('Age > 30'))"
   ]
  },
  {
   "cell_type": "code",
   "execution_count": 41,
   "id": "2ed4f565-dff5-4786-b7db-d1f1f8e16e8d",
   "metadata": {},
   "outputs": [
    {
     "name": "stdout",
     "output_type": "stream",
     "text": [
      "     Name  Age Department  Salary\n",
      "emp5  Eve   32         IT   85000\n"
     ]
    }
   ],
   "source": [
    "print(df.query('Age > 30 and Department == \"IT\"'))"
   ]
  },
  {
   "cell_type": "code",
   "execution_count": 42,
   "id": "f2070b36-fef7-441d-8f7f-2e2aeb74f43a",
   "metadata": {},
   "outputs": [],
   "source": [
    "data_with_na = {\n",
    "    'A': [1, 2, np.nan, 4, 5],\n",
    "    'B': [np.nan, 2, 3, 4, np.nan],\n",
    "    'C': ['x', 'y', None, 'w', 'z']\n",
    "}\n",
    "df_na = pd.DataFrame(data_with_na)"
   ]
  },
  {
   "cell_type": "code",
   "execution_count": 43,
   "id": "ec48bc70-00ef-4e15-9b79-416f3173f89d",
   "metadata": {},
   "outputs": [
    {
     "data": {
      "text/html": [
       "<div>\n",
       "<style scoped>\n",
       "    .dataframe tbody tr th:only-of-type {\n",
       "        vertical-align: middle;\n",
       "    }\n",
       "\n",
       "    .dataframe tbody tr th {\n",
       "        vertical-align: top;\n",
       "    }\n",
       "\n",
       "    .dataframe thead th {\n",
       "        text-align: right;\n",
       "    }\n",
       "</style>\n",
       "<table border=\"1\" class=\"dataframe\">\n",
       "  <thead>\n",
       "    <tr style=\"text-align: right;\">\n",
       "      <th></th>\n",
       "      <th>A</th>\n",
       "      <th>B</th>\n",
       "      <th>C</th>\n",
       "    </tr>\n",
       "  </thead>\n",
       "  <tbody>\n",
       "    <tr>\n",
       "      <th>0</th>\n",
       "      <td>1.0</td>\n",
       "      <td>NaN</td>\n",
       "      <td>x</td>\n",
       "    </tr>\n",
       "    <tr>\n",
       "      <th>1</th>\n",
       "      <td>2.0</td>\n",
       "      <td>2.0</td>\n",
       "      <td>y</td>\n",
       "    </tr>\n",
       "    <tr>\n",
       "      <th>2</th>\n",
       "      <td>NaN</td>\n",
       "      <td>3.0</td>\n",
       "      <td>None</td>\n",
       "    </tr>\n",
       "    <tr>\n",
       "      <th>3</th>\n",
       "      <td>4.0</td>\n",
       "      <td>4.0</td>\n",
       "      <td>w</td>\n",
       "    </tr>\n",
       "    <tr>\n",
       "      <th>4</th>\n",
       "      <td>5.0</td>\n",
       "      <td>NaN</td>\n",
       "      <td>z</td>\n",
       "    </tr>\n",
       "  </tbody>\n",
       "</table>\n",
       "</div>"
      ],
      "text/plain": [
       "     A    B     C\n",
       "0  1.0  NaN     x\n",
       "1  2.0  2.0     y\n",
       "2  NaN  3.0  None\n",
       "3  4.0  4.0     w\n",
       "4  5.0  NaN     z"
      ]
     },
     "execution_count": 43,
     "metadata": {},
     "output_type": "execute_result"
    }
   ],
   "source": [
    "df_na"
   ]
  },
  {
   "cell_type": "code",
   "execution_count": 44,
   "id": "727c2ac6-2013-445b-bc2c-4fee1800daeb",
   "metadata": {},
   "outputs": [
    {
     "data": {
      "text/plain": [
       "A    1\n",
       "B    2\n",
       "C    1\n",
       "dtype: int64"
      ]
     },
     "execution_count": 44,
     "metadata": {},
     "output_type": "execute_result"
    }
   ],
   "source": [
    "df_na.isnull().sum()"
   ]
  },
  {
   "cell_type": "code",
   "execution_count": 45,
   "id": "d2c73fbc-44ab-4266-bf40-ce67252b6bc4",
   "metadata": {},
   "outputs": [
    {
     "name": "stdout",
     "output_type": "stream",
     "text": [
      "       A      B      C\n",
      "0  False   True  False\n",
      "1  False  False  False\n",
      "2   True  False   True\n",
      "3  False  False  False\n",
      "4  False   True  False\n",
      "       A      B      C\n",
      "0   True  False   True\n",
      "1   True   True   True\n",
      "2  False   True  False\n",
      "3   True   True   True\n",
      "4   True  False   True\n",
      "A    1\n",
      "B    2\n",
      "C    1\n",
      "dtype: int64\n"
     ]
    }
   ],
   "source": [
    "# Check for missing values\n",
    "print(df_na.isnull())        # Boolean mask of missing values\n",
    "print(df_na.notnull())       # Boolean mask of non-missing values\n",
    "print(df_na.isnull().sum())  # Count of missing values per column\n"
   ]
  },
  {
   "cell_type": "code",
   "execution_count": 46,
   "id": "6d2bae53-fce0-464e-b5e8-8a180cc5bbb0",
   "metadata": {},
   "outputs": [
    {
     "name": "stdout",
     "output_type": "stream",
     "text": [
      "     A    B  C\n",
      "1  2.0  2.0  y\n",
      "3  4.0  4.0  w\n"
     ]
    }
   ],
   "source": [
    "# Drop missing values\n",
    "print(df_na.dropna())                    # Drop rows with any NaN"
   ]
  },
  {
   "cell_type": "code",
   "execution_count": 47,
   "id": "a926af88-d0ea-4c06-b2dd-96dc2264ab51",
   "metadata": {},
   "outputs": [
    {
     "name": "stdout",
     "output_type": "stream",
     "text": [
      "Empty DataFrame\n",
      "Columns: []\n",
      "Index: [0, 1, 2, 3, 4]\n"
     ]
    }
   ],
   "source": [
    "print(df_na.dropna(axis=1))              # Drop columns with any NaN"
   ]
  },
  {
   "cell_type": "code",
   "execution_count": 48,
   "id": "eb49ba42-5e39-4b49-a715-e09f42f98005",
   "metadata": {},
   "outputs": [
    {
     "name": "stdout",
     "output_type": "stream",
     "text": [
      "     A    B     C\n",
      "0  1.0  NaN     x\n",
      "1  2.0  2.0     y\n",
      "2  NaN  3.0  None\n",
      "3  4.0  4.0     w\n",
      "4  5.0  NaN     z\n"
     ]
    }
   ],
   "source": [
    "print(df_na.dropna(how='all'))           # Drop rows where all values are NaN"
   ]
  },
  {
   "cell_type": "code",
   "execution_count": 49,
   "id": "3da94405-7e48-4f62-8255-31cfd4f11622",
   "metadata": {},
   "outputs": [
    {
     "name": "stdout",
     "output_type": "stream",
     "text": [
      "     A    B  C\n",
      "0  1.0  NaN  x\n",
      "1  2.0  2.0  y\n",
      "3  4.0  4.0  w\n",
      "4  5.0  NaN  z\n"
     ]
    }
   ],
   "source": [
    "print(df_na.dropna(thresh=2))            # Drop rows with less than 2 non-NaN values"
   ]
  },
  {
   "cell_type": "code",
   "execution_count": 50,
   "id": "9bc6200e-7f54-4318-bc24-30ea7c2efdd2",
   "metadata": {},
   "outputs": [
    {
     "name": "stdout",
     "output_type": "stream",
     "text": [
      "     A    B  C\n",
      "0  1.0  0.0  x\n",
      "1  2.0  2.0  y\n",
      "2  0.0  3.0  0\n",
      "3  4.0  4.0  w\n",
      "4  5.0  0.0  z\n"
     ]
    }
   ],
   "source": [
    "# Fill missing values\n",
    "print(df_na.fillna(0))                   # Fill with constant value"
   ]
  },
  {
   "cell_type": "code",
   "execution_count": 51,
   "id": "29764952-c2ac-42f4-b8b4-a0ebdab3d54c",
   "metadata": {},
   "outputs": [
    {
     "name": "stdout",
     "output_type": "stream",
     "text": [
      "     A    B  C\n",
      "0  1.0  NaN  x\n",
      "1  2.0  2.0  y\n",
      "2  2.0  3.0  y\n",
      "3  4.0  4.0  w\n",
      "4  5.0  4.0  z\n"
     ]
    },
    {
     "name": "stderr",
     "output_type": "stream",
     "text": [
      "C:\\Users\\amitm\\AppData\\Local\\Temp\\ipykernel_10788\\1193987995.py:1: FutureWarning: DataFrame.fillna with 'method' is deprecated and will raise in a future version. Use obj.ffill() or obj.bfill() instead.\n",
      "  print(df_na.fillna(method='ffill'))      # Forward fill\n"
     ]
    }
   ],
   "source": [
    "print(df_na.fillna(method='ffill'))      # Forward fill"
   ]
  },
  {
   "cell_type": "code",
   "execution_count": 52,
   "id": "63ff56b3-706c-48cd-88ee-d239deeaedb8",
   "metadata": {},
   "outputs": [
    {
     "name": "stdout",
     "output_type": "stream",
     "text": [
      "     A    B  C\n",
      "0  1.0  2.0  x\n",
      "1  2.0  2.0  y\n",
      "2  4.0  3.0  w\n",
      "3  4.0  4.0  w\n",
      "4  5.0  NaN  z\n"
     ]
    },
    {
     "name": "stderr",
     "output_type": "stream",
     "text": [
      "C:\\Users\\amitm\\AppData\\Local\\Temp\\ipykernel_10788\\3349886045.py:1: FutureWarning: DataFrame.fillna with 'method' is deprecated and will raise in a future version. Use obj.ffill() or obj.bfill() instead.\n",
      "  print(df_na.fillna(method='bfill'))      # Backward fill\n"
     ]
    }
   ],
   "source": [
    "print(df_na.fillna(method='bfill'))      # Backward fill"
   ]
  },
  {
   "cell_type": "code",
   "execution_count": 54,
   "id": "657d0c68-c6fb-4147-a08e-920a324877a2",
   "metadata": {},
   "outputs": [
    {
     "name": "stdout",
     "output_type": "stream",
     "text": [
      "0    1.0\n",
      "1    2.0\n",
      "2    3.0\n",
      "3    4.0\n",
      "4    5.0\n",
      "Name: A, dtype: float64\n"
     ]
    }
   ],
   "source": [
    "print(df_na[\"A\"].fillna(df_na[\"A\"].mean()))        # Fill with mean (numeric columns only"
   ]
  },
  {
   "cell_type": "code",
   "execution_count": 55,
   "id": "6a6e2275-0d99-4211-b891-fb111ed1ed25",
   "metadata": {},
   "outputs": [],
   "source": [
    "df_types = pd.DataFrame({\n",
    "    'integers': ['1', '2', '3', '4'],\n",
    "    'floats': ['1.1', '2.2', '3.3', '4.4'],\n",
    "    'dates': ['2023-01-01', '2023-01-02', '2023-01-03', '2023-01-04'],\n",
    "    'categories': ['A', 'B', 'A', 'C']\n",
    "})"
   ]
  },
  {
   "cell_type": "code",
   "execution_count": 56,
   "id": "3f1575b3-3c7f-47ab-8037-4e9ba8a99f7c",
   "metadata": {},
   "outputs": [
    {
     "data": {
      "text/html": [
       "<div>\n",
       "<style scoped>\n",
       "    .dataframe tbody tr th:only-of-type {\n",
       "        vertical-align: middle;\n",
       "    }\n",
       "\n",
       "    .dataframe tbody tr th {\n",
       "        vertical-align: top;\n",
       "    }\n",
       "\n",
       "    .dataframe thead th {\n",
       "        text-align: right;\n",
       "    }\n",
       "</style>\n",
       "<table border=\"1\" class=\"dataframe\">\n",
       "  <thead>\n",
       "    <tr style=\"text-align: right;\">\n",
       "      <th></th>\n",
       "      <th>integers</th>\n",
       "      <th>floats</th>\n",
       "      <th>dates</th>\n",
       "      <th>categories</th>\n",
       "    </tr>\n",
       "  </thead>\n",
       "  <tbody>\n",
       "    <tr>\n",
       "      <th>0</th>\n",
       "      <td>1</td>\n",
       "      <td>1.1</td>\n",
       "      <td>2023-01-01</td>\n",
       "      <td>A</td>\n",
       "    </tr>\n",
       "    <tr>\n",
       "      <th>1</th>\n",
       "      <td>2</td>\n",
       "      <td>2.2</td>\n",
       "      <td>2023-01-02</td>\n",
       "      <td>B</td>\n",
       "    </tr>\n",
       "    <tr>\n",
       "      <th>2</th>\n",
       "      <td>3</td>\n",
       "      <td>3.3</td>\n",
       "      <td>2023-01-03</td>\n",
       "      <td>A</td>\n",
       "    </tr>\n",
       "    <tr>\n",
       "      <th>3</th>\n",
       "      <td>4</td>\n",
       "      <td>4.4</td>\n",
       "      <td>2023-01-04</td>\n",
       "      <td>C</td>\n",
       "    </tr>\n",
       "  </tbody>\n",
       "</table>\n",
       "</div>"
      ],
      "text/plain": [
       "  integers floats       dates categories\n",
       "0        1    1.1  2023-01-01          A\n",
       "1        2    2.2  2023-01-02          B\n",
       "2        3    3.3  2023-01-03          A\n",
       "3        4    4.4  2023-01-04          C"
      ]
     },
     "execution_count": 56,
     "metadata": {},
     "output_type": "execute_result"
    }
   ],
   "source": [
    "df_types"
   ]
  },
  {
   "cell_type": "code",
   "execution_count": 57,
   "id": "97ef5e43-2bee-4d40-8b79-54b3e832dce0",
   "metadata": {},
   "outputs": [
    {
     "data": {
      "text/plain": [
       "integers      object\n",
       "floats        object\n",
       "dates         object\n",
       "categories    object\n",
       "dtype: object"
      ]
     },
     "execution_count": 57,
     "metadata": {},
     "output_type": "execute_result"
    }
   ],
   "source": [
    "df_types.dtypes"
   ]
  },
  {
   "cell_type": "code",
   "execution_count": 58,
   "id": "da776dd5-3713-4b4b-8a1a-a8211f945e17",
   "metadata": {},
   "outputs": [],
   "source": [
    "# Convert data types\n",
    "df_types['integers'] = df_types['integers'].astype(int)"
   ]
  },
  {
   "cell_type": "code",
   "execution_count": 59,
   "id": "33ad2c9f-e41e-4705-bb7c-8af5b5d20b9a",
   "metadata": {},
   "outputs": [
    {
     "data": {
      "text/plain": [
       "dtype('int32')"
      ]
     },
     "execution_count": 59,
     "metadata": {},
     "output_type": "execute_result"
    }
   ],
   "source": [
    "df_types['integers'].dtype"
   ]
  },
  {
   "cell_type": "code",
   "execution_count": 62,
   "id": "5caca6f3-c8c2-4960-b806-ef30f06d2cc9",
   "metadata": {},
   "outputs": [],
   "source": [
    "df_types['floats']= df_types['floats'].astype(float)"
   ]
  },
  {
   "cell_type": "code",
   "execution_count": 67,
   "id": "d344a227-4c1d-44a3-81fc-5e24a194173a",
   "metadata": {},
   "outputs": [
    {
     "data": {
      "text/plain": [
       "integers               int32\n",
       "floats               float64\n",
       "dates         datetime64[ns]\n",
       "categories          category\n",
       "dtype: object"
      ]
     },
     "execution_count": 67,
     "metadata": {},
     "output_type": "execute_result"
    }
   ],
   "source": [
    "df_types.dtypes"
   ]
  },
  {
   "cell_type": "code",
   "execution_count": 64,
   "id": "c1218ab9-67c3-4eb5-b0e0-90f7af97b4fa",
   "metadata": {},
   "outputs": [],
   "source": [
    "df_types['dates'] = pd.to_datetime(df_types['dates'])"
   ]
  },
  {
   "cell_type": "code",
   "execution_count": 66,
   "id": "ccf34ec1-c7dd-4fc2-a973-c659e882e9d5",
   "metadata": {},
   "outputs": [],
   "source": [
    "df_types['categories'] = df_types['categories'].astype('category')"
   ]
  },
  {
   "cell_type": "code",
   "execution_count": 68,
   "id": "71cc5212-27f1-473c-83da-c7be96ee64ea",
   "metadata": {},
   "outputs": [],
   "source": [
    "df_mixed = pd.DataFrame({'col': ['1', '2', 'three', '4']})\n"
   ]
  },
  {
   "cell_type": "code",
   "execution_count": 69,
   "id": "716c3fdc-4318-4a51-8b1d-ff92862a7b0d",
   "metadata": {},
   "outputs": [
    {
     "data": {
      "text/html": [
       "<div>\n",
       "<style scoped>\n",
       "    .dataframe tbody tr th:only-of-type {\n",
       "        vertical-align: middle;\n",
       "    }\n",
       "\n",
       "    .dataframe tbody tr th {\n",
       "        vertical-align: top;\n",
       "    }\n",
       "\n",
       "    .dataframe thead th {\n",
       "        text-align: right;\n",
       "    }\n",
       "</style>\n",
       "<table border=\"1\" class=\"dataframe\">\n",
       "  <thead>\n",
       "    <tr style=\"text-align: right;\">\n",
       "      <th></th>\n",
       "      <th>col</th>\n",
       "    </tr>\n",
       "  </thead>\n",
       "  <tbody>\n",
       "    <tr>\n",
       "      <th>0</th>\n",
       "      <td>1</td>\n",
       "    </tr>\n",
       "    <tr>\n",
       "      <th>1</th>\n",
       "      <td>2</td>\n",
       "    </tr>\n",
       "    <tr>\n",
       "      <th>2</th>\n",
       "      <td>three</td>\n",
       "    </tr>\n",
       "    <tr>\n",
       "      <th>3</th>\n",
       "      <td>4</td>\n",
       "    </tr>\n",
       "  </tbody>\n",
       "</table>\n",
       "</div>"
      ],
      "text/plain": [
       "     col\n",
       "0      1\n",
       "1      2\n",
       "2  three\n",
       "3      4"
      ]
     },
     "execution_count": 69,
     "metadata": {},
     "output_type": "execute_result"
    }
   ],
   "source": [
    "df_mixed"
   ]
  },
  {
   "cell_type": "code",
   "execution_count": 70,
   "id": "9acbfafd-c053-4e3d-9ceb-502a1b074a0e",
   "metadata": {},
   "outputs": [
    {
     "ename": "ValueError",
     "evalue": "invalid literal for int() with base 10: 'three'",
     "output_type": "error",
     "traceback": [
      "\u001b[1;31m---------------------------------------------------------------------------\u001b[0m",
      "\u001b[1;31mValueError\u001b[0m                                Traceback (most recent call last)",
      "Cell \u001b[1;32mIn[70], line 1\u001b[0m\n\u001b[1;32m----> 1\u001b[0m df_mixed[\u001b[38;5;124m\"\u001b[39m\u001b[38;5;124mcol\u001b[39m\u001b[38;5;124m\"\u001b[39m]\u001b[38;5;241m.\u001b[39mastype(\u001b[38;5;28mint\u001b[39m)\n",
      "File \u001b[1;32m~\\anaconda3\\Lib\\site-packages\\pandas\\core\\generic.py:6534\u001b[0m, in \u001b[0;36mNDFrame.astype\u001b[1;34m(self, dtype, copy, errors)\u001b[0m\n\u001b[0;32m   6530\u001b[0m     results \u001b[38;5;241m=\u001b[39m [ser\u001b[38;5;241m.\u001b[39mastype(dtype, copy\u001b[38;5;241m=\u001b[39mcopy) \u001b[38;5;28;01mfor\u001b[39;00m _, ser \u001b[38;5;129;01min\u001b[39;00m \u001b[38;5;28mself\u001b[39m\u001b[38;5;241m.\u001b[39mitems()]\n\u001b[0;32m   6532\u001b[0m \u001b[38;5;28;01melse\u001b[39;00m:\n\u001b[0;32m   6533\u001b[0m     \u001b[38;5;66;03m# else, only a single dtype is given\u001b[39;00m\n\u001b[1;32m-> 6534\u001b[0m     new_data \u001b[38;5;241m=\u001b[39m \u001b[38;5;28mself\u001b[39m\u001b[38;5;241m.\u001b[39m_mgr\u001b[38;5;241m.\u001b[39mastype(dtype\u001b[38;5;241m=\u001b[39mdtype, copy\u001b[38;5;241m=\u001b[39mcopy, errors\u001b[38;5;241m=\u001b[39merrors)\n\u001b[0;32m   6535\u001b[0m     res \u001b[38;5;241m=\u001b[39m \u001b[38;5;28mself\u001b[39m\u001b[38;5;241m.\u001b[39m_constructor_from_mgr(new_data, axes\u001b[38;5;241m=\u001b[39mnew_data\u001b[38;5;241m.\u001b[39maxes)\n\u001b[0;32m   6536\u001b[0m     \u001b[38;5;28;01mreturn\u001b[39;00m res\u001b[38;5;241m.\u001b[39m__finalize__(\u001b[38;5;28mself\u001b[39m, method\u001b[38;5;241m=\u001b[39m\u001b[38;5;124m\"\u001b[39m\u001b[38;5;124mastype\u001b[39m\u001b[38;5;124m\"\u001b[39m)\n",
      "File \u001b[1;32m~\\anaconda3\\Lib\\site-packages\\pandas\\core\\internals\\managers.py:414\u001b[0m, in \u001b[0;36mBaseBlockManager.astype\u001b[1;34m(self, dtype, copy, errors)\u001b[0m\n\u001b[0;32m    411\u001b[0m \u001b[38;5;28;01melif\u001b[39;00m using_copy_on_write():\n\u001b[0;32m    412\u001b[0m     copy \u001b[38;5;241m=\u001b[39m \u001b[38;5;28;01mFalse\u001b[39;00m\n\u001b[1;32m--> 414\u001b[0m \u001b[38;5;28;01mreturn\u001b[39;00m \u001b[38;5;28mself\u001b[39m\u001b[38;5;241m.\u001b[39mapply(\n\u001b[0;32m    415\u001b[0m     \u001b[38;5;124m\"\u001b[39m\u001b[38;5;124mastype\u001b[39m\u001b[38;5;124m\"\u001b[39m,\n\u001b[0;32m    416\u001b[0m     dtype\u001b[38;5;241m=\u001b[39mdtype,\n\u001b[0;32m    417\u001b[0m     copy\u001b[38;5;241m=\u001b[39mcopy,\n\u001b[0;32m    418\u001b[0m     errors\u001b[38;5;241m=\u001b[39merrors,\n\u001b[0;32m    419\u001b[0m     using_cow\u001b[38;5;241m=\u001b[39musing_copy_on_write(),\n\u001b[0;32m    420\u001b[0m )\n",
      "File \u001b[1;32m~\\anaconda3\\Lib\\site-packages\\pandas\\core\\internals\\managers.py:354\u001b[0m, in \u001b[0;36mBaseBlockManager.apply\u001b[1;34m(self, f, align_keys, **kwargs)\u001b[0m\n\u001b[0;32m    352\u001b[0m         applied \u001b[38;5;241m=\u001b[39m b\u001b[38;5;241m.\u001b[39mapply(f, \u001b[38;5;241m*\u001b[39m\u001b[38;5;241m*\u001b[39mkwargs)\n\u001b[0;32m    353\u001b[0m     \u001b[38;5;28;01melse\u001b[39;00m:\n\u001b[1;32m--> 354\u001b[0m         applied \u001b[38;5;241m=\u001b[39m \u001b[38;5;28mgetattr\u001b[39m(b, f)(\u001b[38;5;241m*\u001b[39m\u001b[38;5;241m*\u001b[39mkwargs)\n\u001b[0;32m    355\u001b[0m     result_blocks \u001b[38;5;241m=\u001b[39m extend_blocks(applied, result_blocks)\n\u001b[0;32m    357\u001b[0m out \u001b[38;5;241m=\u001b[39m \u001b[38;5;28mtype\u001b[39m(\u001b[38;5;28mself\u001b[39m)\u001b[38;5;241m.\u001b[39mfrom_blocks(result_blocks, \u001b[38;5;28mself\u001b[39m\u001b[38;5;241m.\u001b[39maxes)\n",
      "File \u001b[1;32m~\\anaconda3\\Lib\\site-packages\\pandas\\core\\internals\\blocks.py:616\u001b[0m, in \u001b[0;36mBlock.astype\u001b[1;34m(self, dtype, copy, errors, using_cow)\u001b[0m\n\u001b[0;32m    596\u001b[0m \u001b[38;5;250m\u001b[39m\u001b[38;5;124;03m\"\"\"\u001b[39;00m\n\u001b[0;32m    597\u001b[0m \u001b[38;5;124;03mCoerce to the new dtype.\u001b[39;00m\n\u001b[0;32m    598\u001b[0m \n\u001b[1;32m   (...)\u001b[0m\n\u001b[0;32m    612\u001b[0m \u001b[38;5;124;03mBlock\u001b[39;00m\n\u001b[0;32m    613\u001b[0m \u001b[38;5;124;03m\"\"\"\u001b[39;00m\n\u001b[0;32m    614\u001b[0m values \u001b[38;5;241m=\u001b[39m \u001b[38;5;28mself\u001b[39m\u001b[38;5;241m.\u001b[39mvalues\n\u001b[1;32m--> 616\u001b[0m new_values \u001b[38;5;241m=\u001b[39m astype_array_safe(values, dtype, copy\u001b[38;5;241m=\u001b[39mcopy, errors\u001b[38;5;241m=\u001b[39merrors)\n\u001b[0;32m    618\u001b[0m new_values \u001b[38;5;241m=\u001b[39m maybe_coerce_values(new_values)\n\u001b[0;32m    620\u001b[0m refs \u001b[38;5;241m=\u001b[39m \u001b[38;5;28;01mNone\u001b[39;00m\n",
      "File \u001b[1;32m~\\anaconda3\\Lib\\site-packages\\pandas\\core\\dtypes\\astype.py:238\u001b[0m, in \u001b[0;36mastype_array_safe\u001b[1;34m(values, dtype, copy, errors)\u001b[0m\n\u001b[0;32m    235\u001b[0m     dtype \u001b[38;5;241m=\u001b[39m dtype\u001b[38;5;241m.\u001b[39mnumpy_dtype\n\u001b[0;32m    237\u001b[0m \u001b[38;5;28;01mtry\u001b[39;00m:\n\u001b[1;32m--> 238\u001b[0m     new_values \u001b[38;5;241m=\u001b[39m astype_array(values, dtype, copy\u001b[38;5;241m=\u001b[39mcopy)\n\u001b[0;32m    239\u001b[0m \u001b[38;5;28;01mexcept\u001b[39;00m (\u001b[38;5;167;01mValueError\u001b[39;00m, \u001b[38;5;167;01mTypeError\u001b[39;00m):\n\u001b[0;32m    240\u001b[0m     \u001b[38;5;66;03m# e.g. _astype_nansafe can fail on object-dtype of strings\u001b[39;00m\n\u001b[0;32m    241\u001b[0m     \u001b[38;5;66;03m#  trying to convert to float\u001b[39;00m\n\u001b[0;32m    242\u001b[0m     \u001b[38;5;28;01mif\u001b[39;00m errors \u001b[38;5;241m==\u001b[39m \u001b[38;5;124m\"\u001b[39m\u001b[38;5;124mignore\u001b[39m\u001b[38;5;124m\"\u001b[39m:\n",
      "File \u001b[1;32m~\\anaconda3\\Lib\\site-packages\\pandas\\core\\dtypes\\astype.py:183\u001b[0m, in \u001b[0;36mastype_array\u001b[1;34m(values, dtype, copy)\u001b[0m\n\u001b[0;32m    180\u001b[0m     values \u001b[38;5;241m=\u001b[39m values\u001b[38;5;241m.\u001b[39mastype(dtype, copy\u001b[38;5;241m=\u001b[39mcopy)\n\u001b[0;32m    182\u001b[0m \u001b[38;5;28;01melse\u001b[39;00m:\n\u001b[1;32m--> 183\u001b[0m     values \u001b[38;5;241m=\u001b[39m _astype_nansafe(values, dtype, copy\u001b[38;5;241m=\u001b[39mcopy)\n\u001b[0;32m    185\u001b[0m \u001b[38;5;66;03m# in pandas we don't store numpy str dtypes, so convert to object\u001b[39;00m\n\u001b[0;32m    186\u001b[0m \u001b[38;5;28;01mif\u001b[39;00m \u001b[38;5;28misinstance\u001b[39m(dtype, np\u001b[38;5;241m.\u001b[39mdtype) \u001b[38;5;129;01mand\u001b[39;00m \u001b[38;5;28missubclass\u001b[39m(values\u001b[38;5;241m.\u001b[39mdtype\u001b[38;5;241m.\u001b[39mtype, \u001b[38;5;28mstr\u001b[39m):\n",
      "File \u001b[1;32m~\\anaconda3\\Lib\\site-packages\\pandas\\core\\dtypes\\astype.py:134\u001b[0m, in \u001b[0;36m_astype_nansafe\u001b[1;34m(arr, dtype, copy, skipna)\u001b[0m\n\u001b[0;32m    130\u001b[0m     \u001b[38;5;28;01mraise\u001b[39;00m \u001b[38;5;167;01mValueError\u001b[39;00m(msg)\n\u001b[0;32m    132\u001b[0m \u001b[38;5;28;01mif\u001b[39;00m copy \u001b[38;5;129;01mor\u001b[39;00m arr\u001b[38;5;241m.\u001b[39mdtype \u001b[38;5;241m==\u001b[39m \u001b[38;5;28mobject\u001b[39m \u001b[38;5;129;01mor\u001b[39;00m dtype \u001b[38;5;241m==\u001b[39m \u001b[38;5;28mobject\u001b[39m:\n\u001b[0;32m    133\u001b[0m     \u001b[38;5;66;03m# Explicit copy, or required since NumPy can't view from / to object.\u001b[39;00m\n\u001b[1;32m--> 134\u001b[0m     \u001b[38;5;28;01mreturn\u001b[39;00m arr\u001b[38;5;241m.\u001b[39mastype(dtype, copy\u001b[38;5;241m=\u001b[39m\u001b[38;5;28;01mTrue\u001b[39;00m)\n\u001b[0;32m    136\u001b[0m \u001b[38;5;28;01mreturn\u001b[39;00m arr\u001b[38;5;241m.\u001b[39mastype(dtype, copy\u001b[38;5;241m=\u001b[39mcopy)\n",
      "\u001b[1;31mValueError\u001b[0m: invalid literal for int() with base 10: 'three'"
     ]
    }
   ],
   "source": [
    "df_mixed[\"col\"].astype(int)"
   ]
  },
  {
   "cell_type": "code",
   "execution_count": 71,
   "id": "85c8d010-1c40-4413-b997-414964097fd6",
   "metadata": {},
   "outputs": [
    {
     "data": {
      "text/html": [
       "<div>\n",
       "<style scoped>\n",
       "    .dataframe tbody tr th:only-of-type {\n",
       "        vertical-align: middle;\n",
       "    }\n",
       "\n",
       "    .dataframe tbody tr th {\n",
       "        vertical-align: top;\n",
       "    }\n",
       "\n",
       "    .dataframe thead th {\n",
       "        text-align: right;\n",
       "    }\n",
       "</style>\n",
       "<table border=\"1\" class=\"dataframe\">\n",
       "  <thead>\n",
       "    <tr style=\"text-align: right;\">\n",
       "      <th></th>\n",
       "      <th>col</th>\n",
       "      <th>col_numeric</th>\n",
       "    </tr>\n",
       "  </thead>\n",
       "  <tbody>\n",
       "    <tr>\n",
       "      <th>0</th>\n",
       "      <td>1</td>\n",
       "      <td>1.0</td>\n",
       "    </tr>\n",
       "    <tr>\n",
       "      <th>1</th>\n",
       "      <td>2</td>\n",
       "      <td>2.0</td>\n",
       "    </tr>\n",
       "    <tr>\n",
       "      <th>2</th>\n",
       "      <td>three</td>\n",
       "      <td>NaN</td>\n",
       "    </tr>\n",
       "    <tr>\n",
       "      <th>3</th>\n",
       "      <td>4</td>\n",
       "      <td>4.0</td>\n",
       "    </tr>\n",
       "  </tbody>\n",
       "</table>\n",
       "</div>"
      ],
      "text/plain": [
       "     col  col_numeric\n",
       "0      1          1.0\n",
       "1      2          2.0\n",
       "2  three          NaN\n",
       "3      4          4.0"
      ]
     },
     "execution_count": 71,
     "metadata": {},
     "output_type": "execute_result"
    }
   ],
   "source": [
    "df_mixed['col_numeric'] = pd.to_numeric(df_mixed['col'], errors='coerce')  # NaN for non-numeric\n",
    "df_mixed"
   ]
  },
  {
   "cell_type": "code",
   "execution_count": 72,
   "id": "009c5816-f4dc-42d9-bb7c-6465f16e0ea5",
   "metadata": {},
   "outputs": [],
   "source": [
    "# Create DataFrame with string data\n",
    "df_str = pd.DataFrame({\n",
    "    'names': ['  Alice  ', 'BOB', 'charlie', 'DIANA'],\n",
    "    'emails': ['alice@email.com', 'bob@COMPANY.COM', 'charlie@email.com', 'diana@company.com']\n",
    "})\n",
    "\n"
   ]
  },
  {
   "cell_type": "code",
   "execution_count": 73,
   "id": "8d85eae8-43a2-4fa1-9e2a-e97bf467aea3",
   "metadata": {},
   "outputs": [
    {
     "data": {
      "text/html": [
       "<div>\n",
       "<style scoped>\n",
       "    .dataframe tbody tr th:only-of-type {\n",
       "        vertical-align: middle;\n",
       "    }\n",
       "\n",
       "    .dataframe tbody tr th {\n",
       "        vertical-align: top;\n",
       "    }\n",
       "\n",
       "    .dataframe thead th {\n",
       "        text-align: right;\n",
       "    }\n",
       "</style>\n",
       "<table border=\"1\" class=\"dataframe\">\n",
       "  <thead>\n",
       "    <tr style=\"text-align: right;\">\n",
       "      <th></th>\n",
       "      <th>names</th>\n",
       "      <th>emails</th>\n",
       "    </tr>\n",
       "  </thead>\n",
       "  <tbody>\n",
       "    <tr>\n",
       "      <th>0</th>\n",
       "      <td>Alice</td>\n",
       "      <td>alice@email.com</td>\n",
       "    </tr>\n",
       "    <tr>\n",
       "      <th>1</th>\n",
       "      <td>BOB</td>\n",
       "      <td>bob@COMPANY.COM</td>\n",
       "    </tr>\n",
       "    <tr>\n",
       "      <th>2</th>\n",
       "      <td>charlie</td>\n",
       "      <td>charlie@email.com</td>\n",
       "    </tr>\n",
       "    <tr>\n",
       "      <th>3</th>\n",
       "      <td>DIANA</td>\n",
       "      <td>diana@company.com</td>\n",
       "    </tr>\n",
       "  </tbody>\n",
       "</table>\n",
       "</div>"
      ],
      "text/plain": [
       "       names             emails\n",
       "0    Alice      alice@email.com\n",
       "1        BOB    bob@COMPANY.COM\n",
       "2    charlie  charlie@email.com\n",
       "3      DIANA  diana@company.com"
      ]
     },
     "execution_count": 73,
     "metadata": {},
     "output_type": "execute_result"
    }
   ],
   "source": [
    "df_str"
   ]
  },
  {
   "cell_type": "code",
   "execution_count": 74,
   "id": "6a44995e-2a03-4f42-a607-8a30b5577baf",
   "metadata": {},
   "outputs": [
    {
     "name": "stdout",
     "output_type": "stream",
     "text": [
      "0      alice  \n",
      "1          bob\n",
      "2      charlie\n",
      "3        diana\n",
      "Name: names, dtype: object\n",
      "0      ALICE  \n",
      "1          BOB\n",
      "2      CHARLIE\n",
      "3        DIANA\n",
      "Name: names, dtype: object\n",
      "0      Alice  \n",
      "1          Bob\n",
      "2      Charlie\n",
      "3        Diana\n",
      "Name: names, dtype: object\n",
      "0      Alice\n",
      "1        BOB\n",
      "2    charlie\n",
      "3      DIANA\n",
      "Name: names, dtype: object\n",
      "0    9\n",
      "1    3\n",
      "2    7\n",
      "3    5\n",
      "Name: names, dtype: int64\n",
      "0      [alice, email.com]\n",
      "1      [bob, COMPANY.COM]\n",
      "2    [charlie, email.com]\n",
      "3    [diana, company.com]\n",
      "Name: emails, dtype: object\n",
      "         0            1\n",
      "0    alice    email.com\n",
      "1      bob  COMPANY.COM\n",
      "2  charlie    email.com\n",
      "3    diana  company.com\n",
      "   names             emails\n",
      "3  DIANA  diana@company.com\n",
      "Empty DataFrame\n",
      "Columns: [names, emails]\n",
      "Index: []\n",
      "       names             emails\n",
      "0    Alice      alice@email.com\n",
      "2    charlie  charlie@email.com\n",
      "3      DIANA  diana@company.com\n"
     ]
    }
   ],
   "source": [
    "# String methods (vectorized operations)\n",
    "print(df_str['names'].str.lower())       # Convert to lowercase\n",
    "print(df_str['names'].str.upper())       # Convert to uppercase\n",
    "print(df_str['names'].str.title())       # Title case\n",
    "print(df_str['names'].str.strip())       # Remove leading/trailing whitespace\n",
    "print(df_str['names'].str.len())         # Length of strings\n",
    "\n",
    "# String manipulation\n",
    "\n",
    "print(df_str['emails'].str.split('@'))          # Split strings\n",
    "print(df_str['emails'].str.split('@', expand=True))  # Split into columns\n",
    "\n",
    "# String filtering\n",
    "print(df_str[df_str['emails'].str.contains('company')])\n",
    "print(df_str[df_str['names'].str.startswith('A')])\n",
    "print(df_str[df_str['emails'].str.endswith('.com')])"
   ]
  },
  {
   "cell_type": "code",
   "execution_count": 75,
   "id": "5b14a2a9-6fc2-4ba7-8568-1ad9692ce40a",
   "metadata": {},
   "outputs": [
    {
     "data": {
      "text/plain": [
       "0    __Alice__\n",
       "1          BOB\n",
       "2      charlie\n",
       "3        DIANA\n",
       "Name: names, dtype: object"
      ]
     },
     "execution_count": 75,
     "metadata": {},
     "output_type": "execute_result"
    }
   ],
   "source": [
    "df_str['names'].str.replace(' ', '_')   # Replace characters"
   ]
  },
  {
   "cell_type": "code",
   "execution_count": 77,
   "id": "dde66c8c-f28a-4e24-b5ba-8d317fdb5655",
   "metadata": {},
   "outputs": [
    {
     "data": {
      "text/plain": [
       "0    1\n",
       "1    2\n",
       "2    3\n",
       "3    4\n",
       "Name: col, dtype: object"
      ]
     },
     "execution_count": 77,
     "metadata": {},
     "output_type": "execute_result"
    }
   ],
   "source": [
    "df_mixed[\"col\"].str.replace(\"three\", \"3\")"
   ]
  },
  {
   "cell_type": "code",
   "execution_count": 78,
   "id": "88af4df0-bdce-4d89-8e9b-cb1c0a328482",
   "metadata": {},
   "outputs": [],
   "source": [
    "df_dup = pd.DataFrame({\n",
    "    'A': [1, 2, 2, 3, 3, 3],\n",
    "    'B': ['x', 'y', 'y', 'z', 'z', 'w'],\n",
    "    'C': [10, 20, 20, 30, 30, 40]\n",
    "})"
   ]
  },
  {
   "cell_type": "code",
   "execution_count": 79,
   "id": "dc3b0485-60b1-44fe-89de-c05425ac5034",
   "metadata": {},
   "outputs": [
    {
     "data": {
      "text/html": [
       "<div>\n",
       "<style scoped>\n",
       "    .dataframe tbody tr th:only-of-type {\n",
       "        vertical-align: middle;\n",
       "    }\n",
       "\n",
       "    .dataframe tbody tr th {\n",
       "        vertical-align: top;\n",
       "    }\n",
       "\n",
       "    .dataframe thead th {\n",
       "        text-align: right;\n",
       "    }\n",
       "</style>\n",
       "<table border=\"1\" class=\"dataframe\">\n",
       "  <thead>\n",
       "    <tr style=\"text-align: right;\">\n",
       "      <th></th>\n",
       "      <th>A</th>\n",
       "      <th>B</th>\n",
       "      <th>C</th>\n",
       "    </tr>\n",
       "  </thead>\n",
       "  <tbody>\n",
       "    <tr>\n",
       "      <th>0</th>\n",
       "      <td>1</td>\n",
       "      <td>x</td>\n",
       "      <td>10</td>\n",
       "    </tr>\n",
       "    <tr>\n",
       "      <th>1</th>\n",
       "      <td>2</td>\n",
       "      <td>y</td>\n",
       "      <td>20</td>\n",
       "    </tr>\n",
       "    <tr>\n",
       "      <th>2</th>\n",
       "      <td>2</td>\n",
       "      <td>y</td>\n",
       "      <td>20</td>\n",
       "    </tr>\n",
       "    <tr>\n",
       "      <th>3</th>\n",
       "      <td>3</td>\n",
       "      <td>z</td>\n",
       "      <td>30</td>\n",
       "    </tr>\n",
       "    <tr>\n",
       "      <th>4</th>\n",
       "      <td>3</td>\n",
       "      <td>z</td>\n",
       "      <td>30</td>\n",
       "    </tr>\n",
       "    <tr>\n",
       "      <th>5</th>\n",
       "      <td>3</td>\n",
       "      <td>w</td>\n",
       "      <td>40</td>\n",
       "    </tr>\n",
       "  </tbody>\n",
       "</table>\n",
       "</div>"
      ],
      "text/plain": [
       "   A  B   C\n",
       "0  1  x  10\n",
       "1  2  y  20\n",
       "2  2  y  20\n",
       "3  3  z  30\n",
       "4  3  z  30\n",
       "5  3  w  40"
      ]
     },
     "execution_count": 79,
     "metadata": {},
     "output_type": "execute_result"
    }
   ],
   "source": [
    "df_dup"
   ]
  },
  {
   "cell_type": "code",
   "execution_count": 80,
   "id": "d5d830ca-062c-4e9d-85b9-1cfc353de6c9",
   "metadata": {},
   "outputs": [
    {
     "name": "stdout",
     "output_type": "stream",
     "text": [
      "0    False\n",
      "1    False\n",
      "2     True\n",
      "3    False\n",
      "4     True\n",
      "5    False\n",
      "dtype: bool\n"
     ]
    }
   ],
   "source": [
    "# Check for duplicates\n",
    "print(df_dup.duplicated())                    # Boolean mask\n"
   ]
  },
  {
   "cell_type": "code",
   "execution_count": 81,
   "id": "e92c08b1-9484-4d63-9b8c-fec724bd97ce",
   "metadata": {},
   "outputs": [
    {
     "name": "stdout",
     "output_type": "stream",
     "text": [
      "0    False\n",
      "1    False\n",
      "2     True\n",
      "3    False\n",
      "4     True\n",
      "5    False\n",
      "dtype: bool\n"
     ]
    }
   ],
   "source": [
    "print(df_dup.duplicated(subset=['A', 'B']))   # Check specific columns\n"
   ]
  },
  {
   "cell_type": "code",
   "execution_count": 82,
   "id": "37505499-fccf-4b4d-b652-70358c125e6f",
   "metadata": {},
   "outputs": [
    {
     "name": "stdout",
     "output_type": "stream",
     "text": [
      "0    False\n",
      "1     True\n",
      "2    False\n",
      "3     True\n",
      "4    False\n",
      "5    False\n",
      "dtype: bool\n"
     ]
    }
   ],
   "source": [
    "print(df_dup.duplicated(keep='last'))         # Mark first occurrence as duplicate"
   ]
  },
  {
   "cell_type": "code",
   "execution_count": 83,
   "id": "dd7b141b-eafc-4759-9816-6bcc0e2edd69",
   "metadata": {},
   "outputs": [
    {
     "name": "stdout",
     "output_type": "stream",
     "text": [
      "   A  B   C\n",
      "0  1  x  10\n",
      "1  2  y  20\n",
      "3  3  z  30\n",
      "5  3  w  40\n"
     ]
    }
   ],
   "source": [
    "# Remove duplicates\n",
    "print(df_dup.drop_duplicates())               # Remove duplicate rows"
   ]
  },
  {
   "cell_type": "code",
   "execution_count": 84,
   "id": "8d57f734-0e14-46a2-a42e-8eb50db87b70",
   "metadata": {},
   "outputs": [
    {
     "name": "stdout",
     "output_type": "stream",
     "text": [
      "   A  B   C\n",
      "0  1  x  10\n",
      "1  2  y  20\n",
      "3  3  z  30\n"
     ]
    }
   ],
   "source": [
    "print(df_dup.drop_duplicates(subset=['A']))   # Based on specific columns"
   ]
  },
  {
   "cell_type": "code",
   "execution_count": 85,
   "id": "e8809c94-668a-4bbf-9fba-b99cf54954d7",
   "metadata": {},
   "outputs": [
    {
     "name": "stdout",
     "output_type": "stream",
     "text": [
      "   A  B   C\n",
      "0  1  x  10\n",
      "2  2  y  20\n",
      "4  3  z  30\n",
      "5  3  w  40\n"
     ]
    }
   ],
   "source": [
    "print(df_dup.drop_duplicates(keep='last'))    # Keep last occurrence"
   ]
  },
  {
   "cell_type": "code",
   "execution_count": 86,
   "id": "51f33413-4801-4828-a557-6e0be51ddfe2",
   "metadata": {},
   "outputs": [],
   "source": [
    "# Create base DataFrame\n",
    "df = pd.DataFrame({\n",
    "    'Name': ['Alice', 'Bob', 'Charlie'],\n",
    "    'Age': [25, 30, 35],\n",
    "    'Salary': [70000, 80000, 90000]\n",
    "})"
   ]
  },
  {
   "cell_type": "code",
   "execution_count": 87,
   "id": "f437b50c-467a-4a88-ba15-bc6efd2dec7e",
   "metadata": {},
   "outputs": [
    {
     "data": {
      "text/html": [
       "<div>\n",
       "<style scoped>\n",
       "    .dataframe tbody tr th:only-of-type {\n",
       "        vertical-align: middle;\n",
       "    }\n",
       "\n",
       "    .dataframe tbody tr th {\n",
       "        vertical-align: top;\n",
       "    }\n",
       "\n",
       "    .dataframe thead th {\n",
       "        text-align: right;\n",
       "    }\n",
       "</style>\n",
       "<table border=\"1\" class=\"dataframe\">\n",
       "  <thead>\n",
       "    <tr style=\"text-align: right;\">\n",
       "      <th></th>\n",
       "      <th>Name</th>\n",
       "      <th>Age</th>\n",
       "      <th>Salary</th>\n",
       "    </tr>\n",
       "  </thead>\n",
       "  <tbody>\n",
       "    <tr>\n",
       "      <th>0</th>\n",
       "      <td>Alice</td>\n",
       "      <td>25</td>\n",
       "      <td>70000</td>\n",
       "    </tr>\n",
       "    <tr>\n",
       "      <th>1</th>\n",
       "      <td>Bob</td>\n",
       "      <td>30</td>\n",
       "      <td>80000</td>\n",
       "    </tr>\n",
       "    <tr>\n",
       "      <th>2</th>\n",
       "      <td>Charlie</td>\n",
       "      <td>35</td>\n",
       "      <td>90000</td>\n",
       "    </tr>\n",
       "  </tbody>\n",
       "</table>\n",
       "</div>"
      ],
      "text/plain": [
       "      Name  Age  Salary\n",
       "0    Alice   25   70000\n",
       "1      Bob   30   80000\n",
       "2  Charlie   35   90000"
      ]
     },
     "execution_count": 87,
     "metadata": {},
     "output_type": "execute_result"
    }
   ],
   "source": [
    "df"
   ]
  },
  {
   "cell_type": "code",
   "execution_count": 88,
   "id": "c14cc27f-076d-403a-9872-d72d4bd36d51",
   "metadata": {},
   "outputs": [],
   "source": [
    "df['Bonus'] = df['Salary'] * 0.1           # Calculated column"
   ]
  },
  {
   "cell_type": "code",
   "execution_count": 89,
   "id": "162cacbd-1005-47ba-b0b0-d5e6964bd64d",
   "metadata": {},
   "outputs": [
    {
     "data": {
      "text/html": [
       "<div>\n",
       "<style scoped>\n",
       "    .dataframe tbody tr th:only-of-type {\n",
       "        vertical-align: middle;\n",
       "    }\n",
       "\n",
       "    .dataframe tbody tr th {\n",
       "        vertical-align: top;\n",
       "    }\n",
       "\n",
       "    .dataframe thead th {\n",
       "        text-align: right;\n",
       "    }\n",
       "</style>\n",
       "<table border=\"1\" class=\"dataframe\">\n",
       "  <thead>\n",
       "    <tr style=\"text-align: right;\">\n",
       "      <th></th>\n",
       "      <th>Name</th>\n",
       "      <th>Age</th>\n",
       "      <th>Salary</th>\n",
       "      <th>Bonus</th>\n",
       "    </tr>\n",
       "  </thead>\n",
       "  <tbody>\n",
       "    <tr>\n",
       "      <th>0</th>\n",
       "      <td>Alice</td>\n",
       "      <td>25</td>\n",
       "      <td>70000</td>\n",
       "      <td>7000.0</td>\n",
       "    </tr>\n",
       "    <tr>\n",
       "      <th>1</th>\n",
       "      <td>Bob</td>\n",
       "      <td>30</td>\n",
       "      <td>80000</td>\n",
       "      <td>8000.0</td>\n",
       "    </tr>\n",
       "    <tr>\n",
       "      <th>2</th>\n",
       "      <td>Charlie</td>\n",
       "      <td>35</td>\n",
       "      <td>90000</td>\n",
       "      <td>9000.0</td>\n",
       "    </tr>\n",
       "  </tbody>\n",
       "</table>\n",
       "</div>"
      ],
      "text/plain": [
       "      Name  Age  Salary   Bonus\n",
       "0    Alice   25   70000  7000.0\n",
       "1      Bob   30   80000  8000.0\n",
       "2  Charlie   35   90000  9000.0"
      ]
     },
     "execution_count": 89,
     "metadata": {},
     "output_type": "execute_result"
    }
   ],
   "source": [
    "df"
   ]
  },
  {
   "cell_type": "code",
   "execution_count": 90,
   "id": "ef9b9731-6692-4b4c-bb45-5901fc827ab8",
   "metadata": {},
   "outputs": [],
   "source": [
    "df['Department'] = 'IT'                     # Constant value"
   ]
  },
  {
   "cell_type": "code",
   "execution_count": 91,
   "id": "77c356ba-33e1-4413-affe-21b6e6dcc8bd",
   "metadata": {},
   "outputs": [
    {
     "data": {
      "text/html": [
       "<div>\n",
       "<style scoped>\n",
       "    .dataframe tbody tr th:only-of-type {\n",
       "        vertical-align: middle;\n",
       "    }\n",
       "\n",
       "    .dataframe tbody tr th {\n",
       "        vertical-align: top;\n",
       "    }\n",
       "\n",
       "    .dataframe thead th {\n",
       "        text-align: right;\n",
       "    }\n",
       "</style>\n",
       "<table border=\"1\" class=\"dataframe\">\n",
       "  <thead>\n",
       "    <tr style=\"text-align: right;\">\n",
       "      <th></th>\n",
       "      <th>Name</th>\n",
       "      <th>Age</th>\n",
       "      <th>Salary</th>\n",
       "      <th>Bonus</th>\n",
       "      <th>Department</th>\n",
       "    </tr>\n",
       "  </thead>\n",
       "  <tbody>\n",
       "    <tr>\n",
       "      <th>0</th>\n",
       "      <td>Alice</td>\n",
       "      <td>25</td>\n",
       "      <td>70000</td>\n",
       "      <td>7000.0</td>\n",
       "      <td>IT</td>\n",
       "    </tr>\n",
       "    <tr>\n",
       "      <th>1</th>\n",
       "      <td>Bob</td>\n",
       "      <td>30</td>\n",
       "      <td>80000</td>\n",
       "      <td>8000.0</td>\n",
       "      <td>IT</td>\n",
       "    </tr>\n",
       "    <tr>\n",
       "      <th>2</th>\n",
       "      <td>Charlie</td>\n",
       "      <td>35</td>\n",
       "      <td>90000</td>\n",
       "      <td>9000.0</td>\n",
       "      <td>IT</td>\n",
       "    </tr>\n",
       "  </tbody>\n",
       "</table>\n",
       "</div>"
      ],
      "text/plain": [
       "      Name  Age  Salary   Bonus Department\n",
       "0    Alice   25   70000  7000.0         IT\n",
       "1      Bob   30   80000  8000.0         IT\n",
       "2  Charlie   35   90000  9000.0         IT"
      ]
     },
     "execution_count": 91,
     "metadata": {},
     "output_type": "execute_result"
    }
   ],
   "source": [
    "df"
   ]
  },
  {
   "cell_type": "code",
   "execution_count": 92,
   "id": "635dd6f1-80cd-4585-b97b-10567c43ac3f",
   "metadata": {},
   "outputs": [],
   "source": [
    "df['Full_Info'] = df['Name'] + ' (' + df['Age'].astype(str) + ')'  # String concatenation"
   ]
  },
  {
   "cell_type": "code",
   "execution_count": 93,
   "id": "fa72dadc-8b0f-430f-b3cc-78a6144077db",
   "metadata": {},
   "outputs": [
    {
     "data": {
      "text/html": [
       "<div>\n",
       "<style scoped>\n",
       "    .dataframe tbody tr th:only-of-type {\n",
       "        vertical-align: middle;\n",
       "    }\n",
       "\n",
       "    .dataframe tbody tr th {\n",
       "        vertical-align: top;\n",
       "    }\n",
       "\n",
       "    .dataframe thead th {\n",
       "        text-align: right;\n",
       "    }\n",
       "</style>\n",
       "<table border=\"1\" class=\"dataframe\">\n",
       "  <thead>\n",
       "    <tr style=\"text-align: right;\">\n",
       "      <th></th>\n",
       "      <th>Name</th>\n",
       "      <th>Age</th>\n",
       "      <th>Salary</th>\n",
       "      <th>Bonus</th>\n",
       "      <th>Department</th>\n",
       "      <th>Full_Info</th>\n",
       "    </tr>\n",
       "  </thead>\n",
       "  <tbody>\n",
       "    <tr>\n",
       "      <th>0</th>\n",
       "      <td>Alice</td>\n",
       "      <td>25</td>\n",
       "      <td>70000</td>\n",
       "      <td>7000.0</td>\n",
       "      <td>IT</td>\n",
       "      <td>Alice (25)</td>\n",
       "    </tr>\n",
       "    <tr>\n",
       "      <th>1</th>\n",
       "      <td>Bob</td>\n",
       "      <td>30</td>\n",
       "      <td>80000</td>\n",
       "      <td>8000.0</td>\n",
       "      <td>IT</td>\n",
       "      <td>Bob (30)</td>\n",
       "    </tr>\n",
       "    <tr>\n",
       "      <th>2</th>\n",
       "      <td>Charlie</td>\n",
       "      <td>35</td>\n",
       "      <td>90000</td>\n",
       "      <td>9000.0</td>\n",
       "      <td>IT</td>\n",
       "      <td>Charlie (35)</td>\n",
       "    </tr>\n",
       "  </tbody>\n",
       "</table>\n",
       "</div>"
      ],
      "text/plain": [
       "      Name  Age  Salary   Bonus Department     Full_Info\n",
       "0    Alice   25   70000  7000.0         IT    Alice (25)\n",
       "1      Bob   30   80000  8000.0         IT      Bob (30)\n",
       "2  Charlie   35   90000  9000.0         IT  Charlie (35)"
      ]
     },
     "execution_count": 93,
     "metadata": {},
     "output_type": "execute_result"
    }
   ],
   "source": [
    "df"
   ]
  },
  {
   "cell_type": "code",
   "execution_count": 94,
   "id": "d27e1ac3-29ae-4224-87d6-36dc131f4203",
   "metadata": {},
   "outputs": [],
   "source": [
    "# Insert column at specific position\n",
    "df.insert(1, 'Employee_ID', ['E001', 'E002', 'E003'])"
   ]
  },
  {
   "cell_type": "code",
   "execution_count": 95,
   "id": "7be3775f-1266-4b64-beb5-124b93513b32",
   "metadata": {},
   "outputs": [
    {
     "data": {
      "text/html": [
       "<div>\n",
       "<style scoped>\n",
       "    .dataframe tbody tr th:only-of-type {\n",
       "        vertical-align: middle;\n",
       "    }\n",
       "\n",
       "    .dataframe tbody tr th {\n",
       "        vertical-align: top;\n",
       "    }\n",
       "\n",
       "    .dataframe thead th {\n",
       "        text-align: right;\n",
       "    }\n",
       "</style>\n",
       "<table border=\"1\" class=\"dataframe\">\n",
       "  <thead>\n",
       "    <tr style=\"text-align: right;\">\n",
       "      <th></th>\n",
       "      <th>Name</th>\n",
       "      <th>Employee_ID</th>\n",
       "      <th>Age</th>\n",
       "      <th>Salary</th>\n",
       "      <th>Bonus</th>\n",
       "      <th>Department</th>\n",
       "      <th>Full_Info</th>\n",
       "    </tr>\n",
       "  </thead>\n",
       "  <tbody>\n",
       "    <tr>\n",
       "      <th>0</th>\n",
       "      <td>Alice</td>\n",
       "      <td>E001</td>\n",
       "      <td>25</td>\n",
       "      <td>70000</td>\n",
       "      <td>7000.0</td>\n",
       "      <td>IT</td>\n",
       "      <td>Alice (25)</td>\n",
       "    </tr>\n",
       "    <tr>\n",
       "      <th>1</th>\n",
       "      <td>Bob</td>\n",
       "      <td>E002</td>\n",
       "      <td>30</td>\n",
       "      <td>80000</td>\n",
       "      <td>8000.0</td>\n",
       "      <td>IT</td>\n",
       "      <td>Bob (30)</td>\n",
       "    </tr>\n",
       "    <tr>\n",
       "      <th>2</th>\n",
       "      <td>Charlie</td>\n",
       "      <td>E003</td>\n",
       "      <td>35</td>\n",
       "      <td>90000</td>\n",
       "      <td>9000.0</td>\n",
       "      <td>IT</td>\n",
       "      <td>Charlie (35)</td>\n",
       "    </tr>\n",
       "  </tbody>\n",
       "</table>\n",
       "</div>"
      ],
      "text/plain": [
       "      Name Employee_ID  Age  Salary   Bonus Department     Full_Info\n",
       "0    Alice        E001   25   70000  7000.0         IT    Alice (25)\n",
       "1      Bob        E002   30   80000  8000.0         IT      Bob (30)\n",
       "2  Charlie        E003   35   90000  9000.0         IT  Charlie (35)"
      ]
     },
     "execution_count": 95,
     "metadata": {},
     "output_type": "execute_result"
    }
   ],
   "source": [
    "df"
   ]
  },
  {
   "cell_type": "code",
   "execution_count": 97,
   "id": "5cf1da3d-9bf5-4704-a5f3-482870e261b9",
   "metadata": {},
   "outputs": [
    {
     "data": {
      "text/html": [
       "<div>\n",
       "<style scoped>\n",
       "    .dataframe tbody tr th:only-of-type {\n",
       "        vertical-align: middle;\n",
       "    }\n",
       "\n",
       "    .dataframe tbody tr th {\n",
       "        vertical-align: top;\n",
       "    }\n",
       "\n",
       "    .dataframe thead th {\n",
       "        text-align: right;\n",
       "    }\n",
       "</style>\n",
       "<table border=\"1\" class=\"dataframe\">\n",
       "  <thead>\n",
       "    <tr style=\"text-align: right;\">\n",
       "      <th></th>\n",
       "      <th>Name</th>\n",
       "      <th>Employee_ID</th>\n",
       "      <th>Age</th>\n",
       "      <th>Salary</th>\n",
       "      <th>Bonus</th>\n",
       "      <th>Full_Info</th>\n",
       "    </tr>\n",
       "  </thead>\n",
       "  <tbody>\n",
       "    <tr>\n",
       "      <th>0</th>\n",
       "      <td>Alice</td>\n",
       "      <td>E001</td>\n",
       "      <td>25</td>\n",
       "      <td>70000</td>\n",
       "      <td>7000.0</td>\n",
       "      <td>Alice (25)</td>\n",
       "    </tr>\n",
       "    <tr>\n",
       "      <th>1</th>\n",
       "      <td>Bob</td>\n",
       "      <td>E002</td>\n",
       "      <td>30</td>\n",
       "      <td>80000</td>\n",
       "      <td>8000.0</td>\n",
       "      <td>Bob (30)</td>\n",
       "    </tr>\n",
       "    <tr>\n",
       "      <th>2</th>\n",
       "      <td>Charlie</td>\n",
       "      <td>E003</td>\n",
       "      <td>35</td>\n",
       "      <td>90000</td>\n",
       "      <td>9000.0</td>\n",
       "      <td>Charlie (35)</td>\n",
       "    </tr>\n",
       "  </tbody>\n",
       "</table>\n",
       "</div>"
      ],
      "text/plain": [
       "      Name Employee_ID  Age  Salary   Bonus     Full_Info\n",
       "0    Alice        E001   25   70000  7000.0    Alice (25)\n",
       "1      Bob        E002   30   80000  8000.0      Bob (30)\n",
       "2  Charlie        E003   35   90000  9000.0  Charlie (35)"
      ]
     },
     "execution_count": 97,
     "metadata": {},
     "output_type": "execute_result"
    }
   ],
   "source": [
    "df.drop(\"Department\", axis = 1)"
   ]
  },
  {
   "cell_type": "code",
   "execution_count": 98,
   "id": "72f3ef7c-21cd-4bd4-802c-07ef3a12ae69",
   "metadata": {},
   "outputs": [
    {
     "data": {
      "text/html": [
       "<div>\n",
       "<style scoped>\n",
       "    .dataframe tbody tr th:only-of-type {\n",
       "        vertical-align: middle;\n",
       "    }\n",
       "\n",
       "    .dataframe tbody tr th {\n",
       "        vertical-align: top;\n",
       "    }\n",
       "\n",
       "    .dataframe thead th {\n",
       "        text-align: right;\n",
       "    }\n",
       "</style>\n",
       "<table border=\"1\" class=\"dataframe\">\n",
       "  <thead>\n",
       "    <tr style=\"text-align: right;\">\n",
       "      <th></th>\n",
       "      <th>Name</th>\n",
       "      <th>Employee_ID</th>\n",
       "      <th>Age</th>\n",
       "      <th>Salary</th>\n",
       "      <th>Bonus</th>\n",
       "      <th>Department</th>\n",
       "      <th>Full_Info</th>\n",
       "    </tr>\n",
       "  </thead>\n",
       "  <tbody>\n",
       "    <tr>\n",
       "      <th>0</th>\n",
       "      <td>Alice</td>\n",
       "      <td>E001</td>\n",
       "      <td>25</td>\n",
       "      <td>70000</td>\n",
       "      <td>7000.0</td>\n",
       "      <td>IT</td>\n",
       "      <td>Alice (25)</td>\n",
       "    </tr>\n",
       "    <tr>\n",
       "      <th>1</th>\n",
       "      <td>Bob</td>\n",
       "      <td>E002</td>\n",
       "      <td>30</td>\n",
       "      <td>80000</td>\n",
       "      <td>8000.0</td>\n",
       "      <td>IT</td>\n",
       "      <td>Bob (30)</td>\n",
       "    </tr>\n",
       "    <tr>\n",
       "      <th>2</th>\n",
       "      <td>Charlie</td>\n",
       "      <td>E003</td>\n",
       "      <td>35</td>\n",
       "      <td>90000</td>\n",
       "      <td>9000.0</td>\n",
       "      <td>IT</td>\n",
       "      <td>Charlie (35)</td>\n",
       "    </tr>\n",
       "  </tbody>\n",
       "</table>\n",
       "</div>"
      ],
      "text/plain": [
       "      Name Employee_ID  Age  Salary   Bonus Department     Full_Info\n",
       "0    Alice        E001   25   70000  7000.0         IT    Alice (25)\n",
       "1      Bob        E002   30   80000  8000.0         IT      Bob (30)\n",
       "2  Charlie        E003   35   90000  9000.0         IT  Charlie (35)"
      ]
     },
     "execution_count": 98,
     "metadata": {},
     "output_type": "execute_result"
    }
   ],
   "source": [
    "df"
   ]
  },
  {
   "cell_type": "code",
   "execution_count": 99,
   "id": "70d5765b-1734-4c00-9cea-5ea44d1b2954",
   "metadata": {},
   "outputs": [],
   "source": [
    "df.drop(\"Department\", axis = 1, inplace= True)"
   ]
  },
  {
   "cell_type": "code",
   "execution_count": 100,
   "id": "f9462a4c-ee64-459f-a73c-a4067189f1b9",
   "metadata": {},
   "outputs": [
    {
     "data": {
      "text/html": [
       "<div>\n",
       "<style scoped>\n",
       "    .dataframe tbody tr th:only-of-type {\n",
       "        vertical-align: middle;\n",
       "    }\n",
       "\n",
       "    .dataframe tbody tr th {\n",
       "        vertical-align: top;\n",
       "    }\n",
       "\n",
       "    .dataframe thead th {\n",
       "        text-align: right;\n",
       "    }\n",
       "</style>\n",
       "<table border=\"1\" class=\"dataframe\">\n",
       "  <thead>\n",
       "    <tr style=\"text-align: right;\">\n",
       "      <th></th>\n",
       "      <th>Name</th>\n",
       "      <th>Employee_ID</th>\n",
       "      <th>Age</th>\n",
       "      <th>Salary</th>\n",
       "      <th>Bonus</th>\n",
       "      <th>Full_Info</th>\n",
       "    </tr>\n",
       "  </thead>\n",
       "  <tbody>\n",
       "    <tr>\n",
       "      <th>0</th>\n",
       "      <td>Alice</td>\n",
       "      <td>E001</td>\n",
       "      <td>25</td>\n",
       "      <td>70000</td>\n",
       "      <td>7000.0</td>\n",
       "      <td>Alice (25)</td>\n",
       "    </tr>\n",
       "    <tr>\n",
       "      <th>1</th>\n",
       "      <td>Bob</td>\n",
       "      <td>E002</td>\n",
       "      <td>30</td>\n",
       "      <td>80000</td>\n",
       "      <td>8000.0</td>\n",
       "      <td>Bob (30)</td>\n",
       "    </tr>\n",
       "    <tr>\n",
       "      <th>2</th>\n",
       "      <td>Charlie</td>\n",
       "      <td>E003</td>\n",
       "      <td>35</td>\n",
       "      <td>90000</td>\n",
       "      <td>9000.0</td>\n",
       "      <td>Charlie (35)</td>\n",
       "    </tr>\n",
       "  </tbody>\n",
       "</table>\n",
       "</div>"
      ],
      "text/plain": [
       "      Name Employee_ID  Age  Salary   Bonus     Full_Info\n",
       "0    Alice        E001   25   70000  7000.0    Alice (25)\n",
       "1      Bob        E002   30   80000  8000.0      Bob (30)\n",
       "2  Charlie        E003   35   90000  9000.0  Charlie (35)"
      ]
     },
     "execution_count": 100,
     "metadata": {},
     "output_type": "execute_result"
    }
   ],
   "source": [
    "df"
   ]
  },
  {
   "cell_type": "code",
   "execution_count": 101,
   "id": "8ad7571d-52f3-49ea-81c8-3c556d14b2c9",
   "metadata": {},
   "outputs": [
    {
     "data": {
      "text/html": [
       "<div>\n",
       "<style scoped>\n",
       "    .dataframe tbody tr th:only-of-type {\n",
       "        vertical-align: middle;\n",
       "    }\n",
       "\n",
       "    .dataframe tbody tr th {\n",
       "        vertical-align: top;\n",
       "    }\n",
       "\n",
       "    .dataframe thead th {\n",
       "        text-align: right;\n",
       "    }\n",
       "</style>\n",
       "<table border=\"1\" class=\"dataframe\">\n",
       "  <thead>\n",
       "    <tr style=\"text-align: right;\">\n",
       "      <th></th>\n",
       "      <th>Name</th>\n",
       "      <th>Employee_ID</th>\n",
       "      <th>Age</th>\n",
       "      <th>Salary</th>\n",
       "      <th>Bonus</th>\n",
       "      <th>Full_Info</th>\n",
       "    </tr>\n",
       "  </thead>\n",
       "  <tbody>\n",
       "    <tr>\n",
       "      <th>1</th>\n",
       "      <td>Bob</td>\n",
       "      <td>E002</td>\n",
       "      <td>30</td>\n",
       "      <td>80000</td>\n",
       "      <td>8000.0</td>\n",
       "      <td>Bob (30)</td>\n",
       "    </tr>\n",
       "    <tr>\n",
       "      <th>2</th>\n",
       "      <td>Charlie</td>\n",
       "      <td>E003</td>\n",
       "      <td>35</td>\n",
       "      <td>90000</td>\n",
       "      <td>9000.0</td>\n",
       "      <td>Charlie (35)</td>\n",
       "    </tr>\n",
       "  </tbody>\n",
       "</table>\n",
       "</div>"
      ],
      "text/plain": [
       "      Name Employee_ID  Age  Salary   Bonus     Full_Info\n",
       "1      Bob        E002   30   80000  8000.0      Bob (30)\n",
       "2  Charlie        E003   35   90000  9000.0  Charlie (35)"
      ]
     },
     "execution_count": 101,
     "metadata": {},
     "output_type": "execute_result"
    }
   ],
   "source": [
    "df.drop(0)"
   ]
  },
  {
   "cell_type": "code",
   "execution_count": null,
   "id": "d55a4e04-d640-48b8-9cac-8c1526c24dcf",
   "metadata": {},
   "outputs": [],
   "source": []
  },
  {
   "cell_type": "code",
   "execution_count": 102,
   "id": "9d3603a7-9d58-430a-8ca4-35530c349f79",
   "metadata": {},
   "outputs": [],
   "source": [
    "# Rename specific columns\n",
    "df_renamed = df.rename(columns={'Name': 'Employee_Name', 'Age': 'Employee_Age'})"
   ]
  },
  {
   "cell_type": "code",
   "execution_count": 103,
   "id": "a25bb974-29f9-44a1-a5fb-d6ff72c47b06",
   "metadata": {},
   "outputs": [
    {
     "data": {
      "text/html": [
       "<div>\n",
       "<style scoped>\n",
       "    .dataframe tbody tr th:only-of-type {\n",
       "        vertical-align: middle;\n",
       "    }\n",
       "\n",
       "    .dataframe tbody tr th {\n",
       "        vertical-align: top;\n",
       "    }\n",
       "\n",
       "    .dataframe thead th {\n",
       "        text-align: right;\n",
       "    }\n",
       "</style>\n",
       "<table border=\"1\" class=\"dataframe\">\n",
       "  <thead>\n",
       "    <tr style=\"text-align: right;\">\n",
       "      <th></th>\n",
       "      <th>Employee_Name</th>\n",
       "      <th>Employee_ID</th>\n",
       "      <th>Employee_Age</th>\n",
       "      <th>Salary</th>\n",
       "      <th>Bonus</th>\n",
       "      <th>Full_Info</th>\n",
       "    </tr>\n",
       "  </thead>\n",
       "  <tbody>\n",
       "    <tr>\n",
       "      <th>0</th>\n",
       "      <td>Alice</td>\n",
       "      <td>E001</td>\n",
       "      <td>25</td>\n",
       "      <td>70000</td>\n",
       "      <td>7000.0</td>\n",
       "      <td>Alice (25)</td>\n",
       "    </tr>\n",
       "    <tr>\n",
       "      <th>1</th>\n",
       "      <td>Bob</td>\n",
       "      <td>E002</td>\n",
       "      <td>30</td>\n",
       "      <td>80000</td>\n",
       "      <td>8000.0</td>\n",
       "      <td>Bob (30)</td>\n",
       "    </tr>\n",
       "    <tr>\n",
       "      <th>2</th>\n",
       "      <td>Charlie</td>\n",
       "      <td>E003</td>\n",
       "      <td>35</td>\n",
       "      <td>90000</td>\n",
       "      <td>9000.0</td>\n",
       "      <td>Charlie (35)</td>\n",
       "    </tr>\n",
       "  </tbody>\n",
       "</table>\n",
       "</div>"
      ],
      "text/plain": [
       "  Employee_Name Employee_ID  Employee_Age  Salary   Bonus     Full_Info\n",
       "0         Alice        E001            25   70000  7000.0    Alice (25)\n",
       "1           Bob        E002            30   80000  8000.0      Bob (30)\n",
       "2       Charlie        E003            35   90000  9000.0  Charlie (35)"
      ]
     },
     "execution_count": 103,
     "metadata": {},
     "output_type": "execute_result"
    }
   ],
   "source": [
    "df_renamed"
   ]
  },
  {
   "cell_type": "code",
   "execution_count": 104,
   "id": "5bcc2032-47a7-4e97-8db0-f75c77ad3019",
   "metadata": {},
   "outputs": [],
   "source": [
    "# Create sample data for sorting\n",
    "df_sort = pd.DataFrame({\n",
    "    'Name': ['Alice', 'Bob', 'Charlie', 'Diana'],\n",
    "    'Age': [25, 35, 30, 28],\n",
    "    'Salary': [70000, 90000, 80000, 75000],\n",
    "    'Department': ['HR', 'IT', 'Finance', 'HR']\n",
    "})"
   ]
  },
  {
   "cell_type": "code",
   "execution_count": 105,
   "id": "21e478ff-db24-4cd1-8db1-5daa323393b1",
   "metadata": {},
   "outputs": [
    {
     "data": {
      "text/html": [
       "<div>\n",
       "<style scoped>\n",
       "    .dataframe tbody tr th:only-of-type {\n",
       "        vertical-align: middle;\n",
       "    }\n",
       "\n",
       "    .dataframe tbody tr th {\n",
       "        vertical-align: top;\n",
       "    }\n",
       "\n",
       "    .dataframe thead th {\n",
       "        text-align: right;\n",
       "    }\n",
       "</style>\n",
       "<table border=\"1\" class=\"dataframe\">\n",
       "  <thead>\n",
       "    <tr style=\"text-align: right;\">\n",
       "      <th></th>\n",
       "      <th>Name</th>\n",
       "      <th>Age</th>\n",
       "      <th>Salary</th>\n",
       "      <th>Department</th>\n",
       "    </tr>\n",
       "  </thead>\n",
       "  <tbody>\n",
       "    <tr>\n",
       "      <th>0</th>\n",
       "      <td>Alice</td>\n",
       "      <td>25</td>\n",
       "      <td>70000</td>\n",
       "      <td>HR</td>\n",
       "    </tr>\n",
       "    <tr>\n",
       "      <th>1</th>\n",
       "      <td>Bob</td>\n",
       "      <td>35</td>\n",
       "      <td>90000</td>\n",
       "      <td>IT</td>\n",
       "    </tr>\n",
       "    <tr>\n",
       "      <th>2</th>\n",
       "      <td>Charlie</td>\n",
       "      <td>30</td>\n",
       "      <td>80000</td>\n",
       "      <td>Finance</td>\n",
       "    </tr>\n",
       "    <tr>\n",
       "      <th>3</th>\n",
       "      <td>Diana</td>\n",
       "      <td>28</td>\n",
       "      <td>75000</td>\n",
       "      <td>HR</td>\n",
       "    </tr>\n",
       "  </tbody>\n",
       "</table>\n",
       "</div>"
      ],
      "text/plain": [
       "      Name  Age  Salary Department\n",
       "0    Alice   25   70000         HR\n",
       "1      Bob   35   90000         IT\n",
       "2  Charlie   30   80000    Finance\n",
       "3    Diana   28   75000         HR"
      ]
     },
     "execution_count": 105,
     "metadata": {},
     "output_type": "execute_result"
    }
   ],
   "source": [
    "df_sort"
   ]
  },
  {
   "cell_type": "code",
   "execution_count": null,
   "id": "27ba2cbc-9efa-4923-a35c-a1d1ba3f915f",
   "metadata": {},
   "outputs": [],
   "source": [
    "# Sort by single column\n",
    "print(df_sort.sort_values('Age'))                    # Ascending\n",
    "print(df_sort.sort_values('Age', ascending=False))   # Descending"
   ]
  }
 ],
 "metadata": {
  "kernelspec": {
   "display_name": "Python 3 (ipykernel)",
   "language": "python",
   "name": "python3"
  },
  "language_info": {
   "codemirror_mode": {
    "name": "ipython",
    "version": 3
   },
   "file_extension": ".py",
   "mimetype": "text/x-python",
   "name": "python",
   "nbconvert_exporter": "python",
   "pygments_lexer": "ipython3",
   "version": "3.11.7"
  }
 },
 "nbformat": 4,
 "nbformat_minor": 5
}
