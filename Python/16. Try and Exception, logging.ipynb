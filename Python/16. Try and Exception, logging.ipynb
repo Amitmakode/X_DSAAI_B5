{
 "cells": [
  {
   "cell_type": "markdown",
   "id": "d661cb66-93df-4848-a358-721654ded848",
   "metadata": {},
   "source": [
    "## Exception handling"
   ]
  },
  {
   "cell_type": "code",
   "execution_count": 1,
   "id": "27ffca53-3f3a-441d-aef0-8ee89262a0e6",
   "metadata": {},
   "outputs": [
    {
     "ename": "NameError",
     "evalue": "name 'a' is not defined",
     "output_type": "error",
     "traceback": [
      "\u001b[1;31m---------------------------------------------------------------------------\u001b[0m",
      "\u001b[1;31mNameError\u001b[0m                                 Traceback (most recent call last)",
      "Cell \u001b[1;32mIn[1], line 1\u001b[0m\n\u001b[1;32m----> 1\u001b[0m a\n",
      "\u001b[1;31mNameError\u001b[0m: name 'a' is not defined"
     ]
    }
   ],
   "source": [
    "a"
   ]
  },
  {
   "cell_type": "code",
   "execution_count": 2,
   "id": "4d9dae81-ca7a-4455-a073-08f9bce2f3ae",
   "metadata": {},
   "outputs": [
    {
     "ename": "FileNotFoundError",
     "evalue": "[Errno 2] No such file or directory: 'demo.txt'",
     "output_type": "error",
     "traceback": [
      "\u001b[1;31m---------------------------------------------------------------------------\u001b[0m",
      "\u001b[1;31mFileNotFoundError\u001b[0m                         Traceback (most recent call last)",
      "Cell \u001b[1;32mIn[2], line 1\u001b[0m\n\u001b[1;32m----> 1\u001b[0m \u001b[38;5;28mopen\u001b[39m(\u001b[38;5;124m\"\u001b[39m\u001b[38;5;124mdemo.txt\u001b[39m\u001b[38;5;124m\"\u001b[39m, \u001b[38;5;124m\"\u001b[39m\u001b[38;5;124mr\u001b[39m\u001b[38;5;124m\"\u001b[39m)\n",
      "File \u001b[1;32m~\\anaconda3\\Lib\\site-packages\\IPython\\core\\interactiveshell.py:310\u001b[0m, in \u001b[0;36m_modified_open\u001b[1;34m(file, *args, **kwargs)\u001b[0m\n\u001b[0;32m    303\u001b[0m \u001b[38;5;28;01mif\u001b[39;00m file \u001b[38;5;129;01min\u001b[39;00m {\u001b[38;5;241m0\u001b[39m, \u001b[38;5;241m1\u001b[39m, \u001b[38;5;241m2\u001b[39m}:\n\u001b[0;32m    304\u001b[0m     \u001b[38;5;28;01mraise\u001b[39;00m \u001b[38;5;167;01mValueError\u001b[39;00m(\n\u001b[0;32m    305\u001b[0m         \u001b[38;5;124mf\u001b[39m\u001b[38;5;124m\"\u001b[39m\u001b[38;5;124mIPython won\u001b[39m\u001b[38;5;124m'\u001b[39m\u001b[38;5;124mt let you open fd=\u001b[39m\u001b[38;5;132;01m{\u001b[39;00mfile\u001b[38;5;132;01m}\u001b[39;00m\u001b[38;5;124m by default \u001b[39m\u001b[38;5;124m\"\u001b[39m\n\u001b[0;32m    306\u001b[0m         \u001b[38;5;124m\"\u001b[39m\u001b[38;5;124mas it is likely to crash IPython. If you know what you are doing, \u001b[39m\u001b[38;5;124m\"\u001b[39m\n\u001b[0;32m    307\u001b[0m         \u001b[38;5;124m\"\u001b[39m\u001b[38;5;124myou can use builtins\u001b[39m\u001b[38;5;124m'\u001b[39m\u001b[38;5;124m open.\u001b[39m\u001b[38;5;124m\"\u001b[39m\n\u001b[0;32m    308\u001b[0m     )\n\u001b[1;32m--> 310\u001b[0m \u001b[38;5;28;01mreturn\u001b[39;00m io_open(file, \u001b[38;5;241m*\u001b[39margs, \u001b[38;5;241m*\u001b[39m\u001b[38;5;241m*\u001b[39mkwargs)\n",
      "\u001b[1;31mFileNotFoundError\u001b[0m: [Errno 2] No such file or directory: 'demo.txt'"
     ]
    }
   ],
   "source": [
    "open(\"demo.txt\", \"r\")"
   ]
  },
  {
   "cell_type": "code",
   "execution_count": 3,
   "id": "5b8b6adb-3451-41c2-a3af-627ea19438c3",
   "metadata": {},
   "outputs": [
    {
     "ename": "TypeError",
     "evalue": "len() takes exactly one argument (0 given)",
     "output_type": "error",
     "traceback": [
      "\u001b[1;31m---------------------------------------------------------------------------\u001b[0m",
      "\u001b[1;31mTypeError\u001b[0m                                 Traceback (most recent call last)",
      "Cell \u001b[1;32mIn[3], line 1\u001b[0m\n\u001b[1;32m----> 1\u001b[0m \u001b[38;5;28mlen\u001b[39m()\n",
      "\u001b[1;31mTypeError\u001b[0m: len() takes exactly one argument (0 given)"
     ]
    }
   ],
   "source": [
    "len()"
   ]
  },
  {
   "cell_type": "code",
   "execution_count": 4,
   "id": "1d090119-4712-4316-acb1-a2d22fa15d3b",
   "metadata": {},
   "outputs": [
    {
     "ename": "ZeroDivisionError",
     "evalue": "division by zero",
     "output_type": "error",
     "traceback": [
      "\u001b[1;31m---------------------------------------------------------------------------\u001b[0m",
      "\u001b[1;31mZeroDivisionError\u001b[0m                         Traceback (most recent call last)",
      "Cell \u001b[1;32mIn[4], line 1\u001b[0m\n\u001b[1;32m----> 1\u001b[0m \u001b[38;5;241m4\u001b[39m\u001b[38;5;241m/\u001b[39m\u001b[38;5;241m0\u001b[39m\n",
      "\u001b[1;31mZeroDivisionError\u001b[0m: division by zero"
     ]
    }
   ],
   "source": [
    "4/0"
   ]
  },
  {
   "cell_type": "code",
   "execution_count": 5,
   "id": "825edbcb-6389-4cc4-9426-50cf91fbe71f",
   "metadata": {},
   "outputs": [
    {
     "name": "stdout",
     "output_type": "stream",
     "text": [
      "hello\n",
      "world\n",
      "!\n"
     ]
    }
   ],
   "source": [
    "print(\"hello\")\n",
    "print(\"world\")\n",
    "print(\"!\")"
   ]
  },
  {
   "cell_type": "code",
   "execution_count": 6,
   "id": "72bebaff-123e-4b64-a96d-de91e2b5abfe",
   "metadata": {},
   "outputs": [
    {
     "name": "stdout",
     "output_type": "stream",
     "text": [
      "hello\n"
     ]
    },
    {
     "ename": "ZeroDivisionError",
     "evalue": "division by zero",
     "output_type": "error",
     "traceback": [
      "\u001b[1;31m---------------------------------------------------------------------------\u001b[0m",
      "\u001b[1;31mZeroDivisionError\u001b[0m                         Traceback (most recent call last)",
      "Cell \u001b[1;32mIn[6], line 2\u001b[0m\n\u001b[0;32m      1\u001b[0m \u001b[38;5;28mprint\u001b[39m(\u001b[38;5;124m\"\u001b[39m\u001b[38;5;124mhello\u001b[39m\u001b[38;5;124m\"\u001b[39m)\n\u001b[1;32m----> 2\u001b[0m \u001b[38;5;28mprint\u001b[39m(\u001b[38;5;241m4\u001b[39m\u001b[38;5;241m/\u001b[39m\u001b[38;5;241m0\u001b[39m)\n\u001b[0;32m      3\u001b[0m \u001b[38;5;28mprint\u001b[39m(\u001b[38;5;124m\"\u001b[39m\u001b[38;5;124mworld\u001b[39m\u001b[38;5;124m\"\u001b[39m)\n\u001b[0;32m      4\u001b[0m \u001b[38;5;28mprint\u001b[39m(\u001b[38;5;124m\"\u001b[39m\u001b[38;5;124m!\u001b[39m\u001b[38;5;124m\"\u001b[39m)\n",
      "\u001b[1;31mZeroDivisionError\u001b[0m: division by zero"
     ]
    }
   ],
   "source": [
    "print(\"hello\")\n",
    "print(4/0)\n",
    "print(\"world\")\n",
    "print(\"!\")"
   ]
  },
  {
   "cell_type": "code",
   "execution_count": 7,
   "id": "fb612cd8-d016-4ebe-a098-e7ee163a21f1",
   "metadata": {},
   "outputs": [
    {
     "name": "stdout",
     "output_type": "stream",
     "text": [
      "hello\n",
      "division by zero\n",
      "world\n",
      "!\n"
     ]
    }
   ],
   "source": [
    "print(\"hello\")\n",
    "try:\n",
    "    print(4/0)\n",
    "except Exception as e:\n",
    "    print(e)\n",
    "print(\"world\")\n",
    "print(\"!\")"
   ]
  },
  {
   "cell_type": "code",
   "execution_count": 29,
   "id": "f8f1db15-dbb3-40d3-951c-5e07dbe24c00",
   "metadata": {},
   "outputs": [
    {
     "name": "stdin",
     "output_type": "stream",
     "text": [
      "Enter a number:  0\n"
     ]
    },
    {
     "name": "stdout",
     "output_type": "stream",
     "text": [
      "Error occurred: division by zero\n",
      "Execution completed.\n"
     ]
    }
   ],
   "source": [
    "try:\n",
    "    x = int(input(\"Enter a number: \"))\n",
    "    y = 10 / x\n",
    "    print(f\"Result: {y}\")\n",
    "except Exception as e:\n",
    "    print(f\"Error occurred: {e}\")\n",
    "else:\n",
    "    print(\"No exceptions occurred.\")\n",
    "finally:\n",
    "    print(\"Execution completed.\")"
   ]
  },
  {
   "cell_type": "code",
   "execution_count": 13,
   "id": "b6ad624a-c9a2-4361-8bd8-8d7dc15dbed1",
   "metadata": {},
   "outputs": [
    {
     "name": "stdin",
     "output_type": "stream",
     "text": [
      "Enter a number:  0\n"
     ]
    },
    {
     "name": "stdout",
     "output_type": "stream",
     "text": [
      "Cannot divide by zero. Please enter a non-zero number.\n",
      "Execution completed.\n"
     ]
    }
   ],
   "source": [
    "try:\n",
    "    x = int(input(\"Enter a number: \"))\n",
    "    y = 10 / x\n",
    "    print(f\"Result: {y}\")\n",
    "except ValueError:\n",
    "    print(\"Invalid input. Please enter a valid integer.\")\n",
    "except ZeroDivisionError:\n",
    "    print(\"Cannot divide by zero. Please enter a non-zero number.\")\n",
    "except Exception as e:\n",
    "    print(f\"Error occurred: {e}\")\n",
    "else:\n",
    "    print(\"No exceptions occurred.\")\n",
    "finally:\n",
    "    print(\"Execution completed.\")"
   ]
  },
  {
   "cell_type": "code",
   "execution_count": 14,
   "id": "0bfe81ae-58c5-414a-8781-e6adea85f7d6",
   "metadata": {},
   "outputs": [],
   "source": [
    "def fun1():\n",
    "    try:\n",
    "        x = int(input(\"Enter a number: \"))\n",
    "        y = 10 / x\n",
    "        print(f\"Result: {y}\")\n",
    "    except Exception as e:\n",
    "        print(f\"Error occurred: {e}\")"
   ]
  },
  {
   "cell_type": "code",
   "execution_count": 16,
   "id": "9653222e-3dc6-41ce-ae71-3b410ca8db28",
   "metadata": {},
   "outputs": [
    {
     "name": "stdin",
     "output_type": "stream",
     "text": [
      "Enter a number:  0\n"
     ]
    },
    {
     "name": "stdout",
     "output_type": "stream",
     "text": [
      "Error occurred: division by zero\n"
     ]
    }
   ],
   "source": [
    "fun1()"
   ]
  },
  {
   "cell_type": "markdown",
   "id": "0c12fa71-ef9a-43ef-b217-c9a8acea2266",
   "metadata": {},
   "source": [
    "## Logging"
   ]
  },
  {
   "cell_type": "code",
   "execution_count": 18,
   "id": "ef6de34f-2ecf-4f2d-9088-d8acfaab98e4",
   "metadata": {},
   "outputs": [],
   "source": [
    "import logging"
   ]
  },
  {
   "cell_type": "code",
   "execution_count": null,
   "id": "4fde5ce2-050b-49aa-aa23-be5171cb57fe",
   "metadata": {},
   "outputs": [],
   "source": [
    "DEBUG = 10\n",
    "Info = 20\n",
    "Warning = 30\n",
    "Error = 40\n",
    "Critical = 50"
   ]
  },
  {
   "cell_type": "code",
   "execution_count": null,
   "id": "9b43d2d6-2b38-400b-b651-2176a2c21014",
   "metadata": {},
   "outputs": [],
   "source": [
    "logging.DEBUG\n",
    "logging.info\n",
    "logging.warning\n",
    "logging.error\n",
    "logging.critical"
   ]
  },
  {
   "cell_type": "code",
   "execution_count": 19,
   "id": "e414c5bb-e929-460b-a495-85f87f35058b",
   "metadata": {},
   "outputs": [],
   "source": [
    "logging.basicConfig(filename= \"logfile.txt\", level= logging.DEBUG, format= \"%(asctime)s %(levelname)s %(message)s\")"
   ]
  },
  {
   "cell_type": "code",
   "execution_count": 20,
   "id": "89b3cebd-e41e-4382-b7e7-562c430ec028",
   "metadata": {},
   "outputs": [
    {
     "name": "stdout",
     "output_type": "stream",
     "text": [
      "basic file confrigation\n"
     ]
    }
   ],
   "source": [
    "var = \"basic file confrigation\"\n",
    "logging.info(\"my first log\")\n",
    "print(var)"
   ]
  },
  {
   "cell_type": "code",
   "execution_count": 21,
   "id": "76e7df99-531d-477b-8c6f-ec67235164ec",
   "metadata": {},
   "outputs": [],
   "source": [
    "l = [[1, 2, 3, 4], (2, 3, 4, 5, 6), (3, 4, 5, 6, 7), [23, 4, 5, 45, 4, 3, 5, 45, 45, 4, 5]]"
   ]
  },
  {
   "cell_type": "code",
   "execution_count": 22,
   "id": "7819e8bd-08e1-445d-82c1-b9d9307d0bba",
   "metadata": {},
   "outputs": [
    {
     "name": "stdout",
     "output_type": "stream",
     "text": [
      "[1, 2, 3, 4]\n",
      "[23, 4, 5, 45, 4, 3, 5, 45, 45, 4, 5]\n"
     ]
    }
   ],
   "source": [
    "try:\n",
    "    for i in l:\n",
    "        logging.info(\"Loop begin\")\n",
    "        if type(i) == list:\n",
    "            print(i)\n",
    "            logging.info(\"Output is there\")\n",
    "except Exception as e:\n",
    "    print(e)\n",
    "    logging.exception(e, \" Please enter iterable collections like :- lists, tuples, set, dictionary\")"
   ]
  },
  {
   "cell_type": "code",
   "execution_count": 23,
   "id": "8e885d90-801b-461e-aa06-02ce5f93f35d",
   "metadata": {},
   "outputs": [],
   "source": [
    "l1 = [[1, 2, 3, 4], (2, 3, 4, 5, 6), (3, 4, 5, 6, 7), [23, 4, 5, 45, 45, 4, 5], \"ineuron\"]"
   ]
  },
  {
   "cell_type": "code",
   "execution_count": 24,
   "id": "680c1921-5701-42a3-980e-c5abaf0a1adb",
   "metadata": {},
   "outputs": [
    {
     "name": "stdout",
     "output_type": "stream",
     "text": [
      "3\n",
      "3\n",
      "3\n",
      "ineuron\n",
      "ineuron\n",
      "ineuron\n",
      "ineuron\n",
      "ineuron\n"
     ]
    }
   ],
   "source": [
    "for i in l1:\n",
    "    logging.info(\"My first loop is begin start\")\n",
    "    if type(i) != dict:\n",
    "        for j in i:\n",
    "            logging.info(\"second loop start\")\n",
    "            if j == 3:\n",
    "                logging.info(\"value of j = 3\")\n",
    "                print(j)\n",
    "else:\n",
    "    for j in l1:\n",
    "        logging.info(\"It is else block loop\")\n",
    "        if i== 'ineuron':\n",
    "            logging.info(i)\n",
    "            print (i)"
   ]
  },
  {
   "cell_type": "code",
   "execution_count": 26,
   "id": "7c29308b-b658-40cc-8df0-4112ccb37b0d",
   "metadata": {},
   "outputs": [
    {
     "name": "stdin",
     "output_type": "stream",
     "text": [
      "Enter a number:  0\n"
     ]
    },
    {
     "name": "stdout",
     "output_type": "stream",
     "text": [
      "Error occurred: division by zero\n"
     ]
    }
   ],
   "source": [
    "try:\n",
    "    x = int(input(\"Enter a number: \"))\n",
    "    logging.debug(\"this input msg\")\n",
    "    y = 10 / x\n",
    "    logging.error(\"this logic\")\n",
    "    print(f\"Result: {y}\")\n",
    "except Exception as e:\n",
    "    print(f\"Error occurred: {e}\")\n",
    "    logging.info(e)"
   ]
  },
  {
   "cell_type": "code",
   "execution_count": null,
   "id": "2c9c11ba-0492-4ac8-9df1-3c3bdaa37426",
   "metadata": {},
   "outputs": [],
   "source": []
  }
 ],
 "metadata": {
  "kernelspec": {
   "display_name": "Python 3 (ipykernel)",
   "language": "python",
   "name": "python3"
  },
  "language_info": {
   "codemirror_mode": {
    "name": "ipython",
    "version": 3
   },
   "file_extension": ".py",
   "mimetype": "text/x-python",
   "name": "python",
   "nbconvert_exporter": "python",
   "pygments_lexer": "ipython3",
   "version": "3.11.7"
  }
 },
 "nbformat": 4,
 "nbformat_minor": 5
}
