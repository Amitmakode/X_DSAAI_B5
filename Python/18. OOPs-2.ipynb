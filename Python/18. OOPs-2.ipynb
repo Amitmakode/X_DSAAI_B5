{
 "cells": [
  {
   "cell_type": "code",
   "execution_count": null,
   "id": "c732b759-3783-48a2-8b83-3c356665fce1",
   "metadata": {},
   "outputs": [],
   "source": [
    "#hirerchical inheritence"
   ]
  },
  {
   "cell_type": "code",
   "execution_count": 3,
   "id": "aac722e5-3941-4b55-9845-f132fe8f0893",
   "metadata": {},
   "outputs": [],
   "source": [
    "# Parent class\n",
    "class Vehicle:\n",
    "    def start(self):\n",
    "        print(\"Vehicle started\")\n",
    "\n",
    "# Child class 1\n",
    "class Car(Vehicle):\n",
    "    def drive(self):\n",
    "        print(\"Driving a car\")\n",
    "\n",
    "# Child class 2\n",
    "class Bike(Vehicle):\n",
    "    def ride(self):\n",
    "        print(\"Riding a bike\")"
   ]
  },
  {
   "cell_type": "code",
   "execution_count": 5,
   "id": "4f2887a2-49c4-4ef9-89b4-35e40a66f029",
   "metadata": {},
   "outputs": [],
   "source": [
    "obj = Car()"
   ]
  },
  {
   "cell_type": "code",
   "execution_count": 6,
   "id": "77ae486b-4901-4798-be0e-c823c5d4ae6c",
   "metadata": {},
   "outputs": [
    {
     "name": "stdout",
     "output_type": "stream",
     "text": [
      "Vehicle started\n"
     ]
    }
   ],
   "source": [
    "obj.start()"
   ]
  },
  {
   "cell_type": "code",
   "execution_count": null,
   "id": "57c53887-5c88-4093-8e00-6ed1226d51e7",
   "metadata": {},
   "outputs": [],
   "source": []
  },
  {
   "cell_type": "code",
   "execution_count": null,
   "id": "a02e1953-0368-49e6-bbc9-edcb3bb88076",
   "metadata": {},
   "outputs": [],
   "source": [
    "#hybrid inheritence"
   ]
  },
  {
   "cell_type": "code",
   "execution_count": 7,
   "id": "6a0ec685-f2a1-4167-94cc-c08272955b5e",
   "metadata": {},
   "outputs": [],
   "source": [
    "# Parent class\n",
    "class Vehicle:\n",
    "    def general_info(self):\n",
    "        print(\"Vehicles are used for transportation.\")\n",
    "\n",
    "# Child class 1 (inherits from Vehicle)\n",
    "class Car(Vehicle):\n",
    "    def car_info(self):\n",
    "        print(\"Car has 4 wheels.\")\n",
    "\n",
    "# Child class 2 (inherits from Vehicle)\n",
    "class Bike(Vehicle):\n",
    "    def bike_info(self):\n",
    "        print(\"Bike has 2 wheels.\")\n",
    "\n",
    "# Grandchild class (inherits from both Car and Bike)\n",
    "class Electricvehical(Car, Bike):\n",
    "    def electric_info(self):\n",
    "        print(\"Electric bike runs on battery.\")"
   ]
  },
  {
   "cell_type": "code",
   "execution_count": 8,
   "id": "cf5fb2ad-a4f5-4473-b185-2e6e180c044a",
   "metadata": {},
   "outputs": [],
   "source": [
    "obj = Electricvehical()"
   ]
  },
  {
   "cell_type": "code",
   "execution_count": 9,
   "id": "547ea0a7-9c01-4cf4-be6c-ed87e9d8dbb0",
   "metadata": {},
   "outputs": [
    {
     "name": "stdout",
     "output_type": "stream",
     "text": [
      "Vehicles are used for transportation.\n"
     ]
    }
   ],
   "source": [
    "obj.general_info()"
   ]
  },
  {
   "cell_type": "code",
   "execution_count": null,
   "id": "cdf064a0-16e1-427b-82c7-9a79aa37f987",
   "metadata": {},
   "outputs": [],
   "source": [
    "# method resolution order MRO & methid rquired order"
   ]
  },
  {
   "cell_type": "code",
   "execution_count": null,
   "id": "3ea41f70-36d9-4b15-acbd-854bfdbf6782",
   "metadata": {},
   "outputs": [],
   "source": []
  },
  {
   "cell_type": "code",
   "execution_count": 10,
   "id": "1310a967-d197-46ad-919d-fd4f5bc501e6",
   "metadata": {},
   "outputs": [
    {
     "data": {
      "text/plain": [
       "[__main__.Electricvehical,\n",
       " __main__.Car,\n",
       " __main__.Bike,\n",
       " __main__.Vehicle,\n",
       " object]"
      ]
     },
     "execution_count": 10,
     "metadata": {},
     "output_type": "execute_result"
    }
   ],
   "source": [
    "Electricvehical.mro()"
   ]
  },
  {
   "cell_type": "code",
   "execution_count": 11,
   "id": "1ea66373-1aad-4861-a706-b90011fda736",
   "metadata": {},
   "outputs": [
    {
     "data": {
      "text/plain": [
       "[__main__.Car, __main__.Vehicle, object]"
      ]
     },
     "execution_count": 11,
     "metadata": {},
     "output_type": "execute_result"
    }
   ],
   "source": [
    "Car.mro()"
   ]
  },
  {
   "cell_type": "code",
   "execution_count": null,
   "id": "57ae8e9e-2cd9-44d4-a4be-70adc1bc4286",
   "metadata": {},
   "outputs": [],
   "source": []
  },
  {
   "cell_type": "code",
   "execution_count": 12,
   "id": "fba54b9e-92b5-40a4-8865-fc7a9da5c095",
   "metadata": {},
   "outputs": [],
   "source": [
    "#Encapsulation\n",
    "\n",
    "class Car:\n",
    "    def __init__(self, brand, speed=0):\n",
    "        self.__brand = brand  # Private attribute\n",
    "        self.__speed = speed  # Private attribute\n",
    "\n",
    "    def accelerate(self, increase):\n",
    "        self.__speed += increase\n",
    "\n",
    "    def get_speed(self):\n",
    "        return self.__speed\n",
    "\n",
    "    def get_brand(self):\n",
    "        return self.__brand\n"
   ]
  },
  {
   "cell_type": "code",
   "execution_count": 15,
   "id": "51f562f5-059b-4f81-9d77-941bcab1d7ad",
   "metadata": {},
   "outputs": [],
   "source": [
    "obj = Car(\"TATA\", speed =40 )"
   ]
  },
  {
   "cell_type": "code",
   "execution_count": 16,
   "id": "c7c7a9d6-1c1c-40d8-ab20-2a509741713b",
   "metadata": {},
   "outputs": [
    {
     "data": {
      "text/plain": [
       "40"
      ]
     },
     "execution_count": 16,
     "metadata": {},
     "output_type": "execute_result"
    }
   ],
   "source": [
    "obj.get_speed()"
   ]
  },
  {
   "cell_type": "code",
   "execution_count": 17,
   "id": "9b4cdafb-1a32-4198-91f4-09b9aac49ac0",
   "metadata": {},
   "outputs": [
    {
     "data": {
      "text/plain": [
       "'TATA'"
      ]
     },
     "execution_count": 17,
     "metadata": {},
     "output_type": "execute_result"
    }
   ],
   "source": [
    "obj._Car__brand"
   ]
  },
  {
   "cell_type": "code",
   "execution_count": 18,
   "id": "d11e33ef-d5e2-4685-a272-58a739f991d5",
   "metadata": {},
   "outputs": [
    {
     "data": {
      "text/plain": [
       "'TATA'"
      ]
     },
     "execution_count": 18,
     "metadata": {},
     "output_type": "execute_result"
    }
   ],
   "source": [
    "obj.get_brand()"
   ]
  },
  {
   "cell_type": "code",
   "execution_count": null,
   "id": "e164d8ce-d7d5-4de1-baa5-1817d7065acc",
   "metadata": {},
   "outputs": [],
   "source": []
  },
  {
   "cell_type": "code",
   "execution_count": 19,
   "id": "5a72ac92-1808-46b3-8532-50853e97eae0",
   "metadata": {},
   "outputs": [],
   "source": [
    "class Car:\n",
    "    def __init__(self, brand, speed=0):\n",
    "        self.__brand = brand\n",
    "        self.__speed = speed\n",
    "\n",
    "    def accelerate(self, increase):\n",
    "        if increase < 0:\n",
    "            raise ValueError(\"Increase must be positive\")\n",
    "        self.__speed += increase\n",
    "        if self.__speed > 200:\n",
    "            self.__speed = 200  # Cap maximum speed\n",
    "            print(\"Warning: Maximum speed reached\")\n",
    "\n",
    "    def get_speed(self):\n",
    "        return self.__speed\n",
    "\n",
    "    def get_brand(self):\n",
    "        return self.__brand.upper()   "
   ]
  },
  {
   "cell_type": "code",
   "execution_count": 20,
   "id": "5967675f-1f5a-4ada-9d62-a6bac5bea630",
   "metadata": {},
   "outputs": [],
   "source": [
    "obj = Car(\"tata\")"
   ]
  },
  {
   "cell_type": "code",
   "execution_count": 21,
   "id": "684a5ee5-b71b-4627-82de-1795f91edf37",
   "metadata": {},
   "outputs": [
    {
     "ename": "ValueError",
     "evalue": "Increase must be positive",
     "output_type": "error",
     "traceback": [
      "\u001b[1;31m---------------------------------------------------------------------------\u001b[0m",
      "\u001b[1;31mValueError\u001b[0m                                Traceback (most recent call last)",
      "Cell \u001b[1;32mIn[21], line 1\u001b[0m\n\u001b[1;32m----> 1\u001b[0m obj\u001b[38;5;241m.\u001b[39maccelerate(\u001b[38;5;241m-\u001b[39m\u001b[38;5;241m10\u001b[39m)\n",
      "Cell \u001b[1;32mIn[19], line 8\u001b[0m, in \u001b[0;36mCar.accelerate\u001b[1;34m(self, increase)\u001b[0m\n\u001b[0;32m      6\u001b[0m \u001b[38;5;28;01mdef\u001b[39;00m \u001b[38;5;21maccelerate\u001b[39m(\u001b[38;5;28mself\u001b[39m, increase):\n\u001b[0;32m      7\u001b[0m     \u001b[38;5;28;01mif\u001b[39;00m increase \u001b[38;5;241m<\u001b[39m \u001b[38;5;241m0\u001b[39m:\n\u001b[1;32m----> 8\u001b[0m         \u001b[38;5;28;01mraise\u001b[39;00m \u001b[38;5;167;01mValueError\u001b[39;00m(\u001b[38;5;124m\"\u001b[39m\u001b[38;5;124mIncrease must be positive\u001b[39m\u001b[38;5;124m\"\u001b[39m)\n\u001b[0;32m      9\u001b[0m     \u001b[38;5;28mself\u001b[39m\u001b[38;5;241m.\u001b[39m__speed \u001b[38;5;241m+\u001b[39m\u001b[38;5;241m=\u001b[39m increase\n\u001b[0;32m     10\u001b[0m     \u001b[38;5;28;01mif\u001b[39;00m \u001b[38;5;28mself\u001b[39m\u001b[38;5;241m.\u001b[39m__speed \u001b[38;5;241m>\u001b[39m \u001b[38;5;241m200\u001b[39m:\n",
      "\u001b[1;31mValueError\u001b[0m: Increase must be positive"
     ]
    }
   ],
   "source": [
    "obj.accelerate(-10)"
   ]
  },
  {
   "cell_type": "code",
   "execution_count": 22,
   "id": "7f3542e8-e987-4bb6-83f6-538bc2868304",
   "metadata": {},
   "outputs": [],
   "source": [
    "obj.accelerate(60)"
   ]
  },
  {
   "cell_type": "code",
   "execution_count": 23,
   "id": "256a00da-4611-4360-8b5e-7c58650e55cd",
   "metadata": {},
   "outputs": [
    {
     "data": {
      "text/plain": [
       "60"
      ]
     },
     "execution_count": 23,
     "metadata": {},
     "output_type": "execute_result"
    }
   ],
   "source": [
    "obj.get_speed()"
   ]
  },
  {
   "cell_type": "code",
   "execution_count": 24,
   "id": "37d6c510-44ef-46e4-871f-2e37e5805856",
   "metadata": {},
   "outputs": [
    {
     "name": "stdout",
     "output_type": "stream",
     "text": [
      "Warning: Maximum speed reached\n"
     ]
    }
   ],
   "source": [
    "obj.accelerate(210)"
   ]
  },
  {
   "cell_type": "code",
   "execution_count": 25,
   "id": "4fd0fa5b-f8a9-4080-ab27-a551d2423afd",
   "metadata": {},
   "outputs": [
    {
     "data": {
      "text/plain": [
       "200"
      ]
     },
     "execution_count": 25,
     "metadata": {},
     "output_type": "execute_result"
    }
   ],
   "source": [
    "obj.get_speed()"
   ]
  },
  {
   "cell_type": "code",
   "execution_count": null,
   "id": "3e13ac8b-61c7-4099-bece-59c68e985952",
   "metadata": {},
   "outputs": [],
   "source": []
  },
  {
   "cell_type": "code",
   "execution_count": 26,
   "id": "424b6e85-8767-4fda-ad59-33d697032d2d",
   "metadata": {},
   "outputs": [],
   "source": [
    "#Polymorphism             \n",
    "\n",
    "class Vehicle:\n",
    "    def move(self):\n",
    "        return \"Vehicle is moving.\"\n",
    "\n",
    "class Car(Vehicle):\n",
    "    def move(self):  # Overrides parent method\n",
    "        return \"Car is driving on the road.\"\n",
    "\n",
    "class Boat(Vehicle):\n",
    "    def move(self):  # Overrides parent method\n",
    "        return \"Boat is sailing on water.\"\n"
   ]
  },
  {
   "cell_type": "code",
   "execution_count": 27,
   "id": "8f2e4186-ce46-4d00-a1d1-206cb99161e8",
   "metadata": {},
   "outputs": [],
   "source": [
    "obj = Car()"
   ]
  },
  {
   "cell_type": "code",
   "execution_count": 28,
   "id": "2f58bd47-4e49-4638-ac7e-04b1526dd9af",
   "metadata": {},
   "outputs": [
    {
     "data": {
      "text/plain": [
       "'Car is driving on the road.'"
      ]
     },
     "execution_count": 28,
     "metadata": {},
     "output_type": "execute_result"
    }
   ],
   "source": [
    "obj.move()"
   ]
  },
  {
   "cell_type": "code",
   "execution_count": 29,
   "id": "c08d1d44-2ce9-4306-bec8-10815d03165e",
   "metadata": {},
   "outputs": [],
   "source": [
    "obj1 = Vehicle()"
   ]
  },
  {
   "cell_type": "code",
   "execution_count": 30,
   "id": "7122053a-a040-43bc-9214-3e31ce400dcd",
   "metadata": {},
   "outputs": [
    {
     "data": {
      "text/plain": [
       "'Vehicle is moving.'"
      ]
     },
     "execution_count": 30,
     "metadata": {},
     "output_type": "execute_result"
    }
   ],
   "source": [
    "obj1.move()"
   ]
  },
  {
   "cell_type": "code",
   "execution_count": 31,
   "id": "c66e4877-9a4f-492c-9da6-b36f138bf5db",
   "metadata": {},
   "outputs": [
    {
     "name": "stdout",
     "output_type": "stream",
     "text": [
      "Car is driving on the road.\n",
      "Boat is sailing on water.\n"
     ]
    }
   ],
   "source": [
    "# Usage\n",
    "vehicles = [Car(), Boat()]\n",
    "for i in vehicles:\n",
    "    print(i.move())"
   ]
  },
  {
   "cell_type": "code",
   "execution_count": 37,
   "id": "ac65fe86-7a30-4a66-8ace-16d467a3d3f4",
   "metadata": {},
   "outputs": [],
   "source": [
    "def newvehical(o1, o2):\n",
    "    print(o1.move())\n",
    "    print(o2.move())\n",
    "    "
   ]
  },
  {
   "cell_type": "code",
   "execution_count": 38,
   "id": "c938c90f-9b96-4cab-a962-62786ff66212",
   "metadata": {},
   "outputs": [
    {
     "name": "stdout",
     "output_type": "stream",
     "text": [
      "Car is driving on the road.\n",
      "Vehicle is moving.\n"
     ]
    }
   ],
   "source": [
    "newvehical(obj, obj1)"
   ]
  },
  {
   "cell_type": "code",
   "execution_count": null,
   "id": "84d95aff-2cdc-409b-8377-d179069f7a32",
   "metadata": {},
   "outputs": [],
   "source": []
  }
 ],
 "metadata": {
  "kernelspec": {
   "display_name": "Python 3 (ipykernel)",
   "language": "python",
   "name": "python3"
  },
  "language_info": {
   "codemirror_mode": {
    "name": "ipython",
    "version": 3
   },
   "file_extension": ".py",
   "mimetype": "text/x-python",
   "name": "python",
   "nbconvert_exporter": "python",
   "pygments_lexer": "ipython3",
   "version": "3.11.7"
  }
 },
 "nbformat": 4,
 "nbformat_minor": 5
}
