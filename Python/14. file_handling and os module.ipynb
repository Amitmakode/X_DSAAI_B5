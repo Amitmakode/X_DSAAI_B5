{
 "cells": [
  {
   "cell_type": "code",
   "execution_count": 1,
   "id": "f98e6009-2078-4d6b-abdb-1cf26fcc1ffa",
   "metadata": {},
   "outputs": [
    {
     "ename": "FileNotFoundError",
     "evalue": "[Errno 2] No such file or directory: 'test.txt'",
     "output_type": "error",
     "traceback": [
      "\u001b[1;31m---------------------------------------------------------------------------\u001b[0m",
      "\u001b[1;31mFileNotFoundError\u001b[0m                         Traceback (most recent call last)",
      "Cell \u001b[1;32mIn[1], line 1\u001b[0m\n\u001b[1;32m----> 1\u001b[0m \u001b[38;5;28mopen\u001b[39m(\u001b[38;5;124m\"\u001b[39m\u001b[38;5;124mtest.txt\u001b[39m\u001b[38;5;124m\"\u001b[39m, \u001b[38;5;124m\"\u001b[39m\u001b[38;5;124mr\u001b[39m\u001b[38;5;124m\"\u001b[39m)\n",
      "File \u001b[1;32m~\\anaconda3\\Lib\\site-packages\\IPython\\core\\interactiveshell.py:310\u001b[0m, in \u001b[0;36m_modified_open\u001b[1;34m(file, *args, **kwargs)\u001b[0m\n\u001b[0;32m    303\u001b[0m \u001b[38;5;28;01mif\u001b[39;00m file \u001b[38;5;129;01min\u001b[39;00m {\u001b[38;5;241m0\u001b[39m, \u001b[38;5;241m1\u001b[39m, \u001b[38;5;241m2\u001b[39m}:\n\u001b[0;32m    304\u001b[0m     \u001b[38;5;28;01mraise\u001b[39;00m \u001b[38;5;167;01mValueError\u001b[39;00m(\n\u001b[0;32m    305\u001b[0m         \u001b[38;5;124mf\u001b[39m\u001b[38;5;124m\"\u001b[39m\u001b[38;5;124mIPython won\u001b[39m\u001b[38;5;124m'\u001b[39m\u001b[38;5;124mt let you open fd=\u001b[39m\u001b[38;5;132;01m{\u001b[39;00mfile\u001b[38;5;132;01m}\u001b[39;00m\u001b[38;5;124m by default \u001b[39m\u001b[38;5;124m\"\u001b[39m\n\u001b[0;32m    306\u001b[0m         \u001b[38;5;124m\"\u001b[39m\u001b[38;5;124mas it is likely to crash IPython. If you know what you are doing, \u001b[39m\u001b[38;5;124m\"\u001b[39m\n\u001b[0;32m    307\u001b[0m         \u001b[38;5;124m\"\u001b[39m\u001b[38;5;124myou can use builtins\u001b[39m\u001b[38;5;124m'\u001b[39m\u001b[38;5;124m open.\u001b[39m\u001b[38;5;124m\"\u001b[39m\n\u001b[0;32m    308\u001b[0m     )\n\u001b[1;32m--> 310\u001b[0m \u001b[38;5;28;01mreturn\u001b[39;00m io_open(file, \u001b[38;5;241m*\u001b[39margs, \u001b[38;5;241m*\u001b[39m\u001b[38;5;241m*\u001b[39mkwargs)\n",
      "\u001b[1;31mFileNotFoundError\u001b[0m: [Errno 2] No such file or directory: 'test.txt'"
     ]
    }
   ],
   "source": [
    "open(\"test.txt\", \"r\")"
   ]
  },
  {
   "cell_type": "code",
   "execution_count": null,
   "id": "3bef6468-6c09-4d9a-8734-02d49e196ed8",
   "metadata": {},
   "outputs": [],
   "source": [
    "# x, w, r, r+, a"
   ]
  },
  {
   "cell_type": "code",
   "execution_count": 3,
   "id": "a7ae9669-fbdd-4b03-b555-88e3e6d98d2c",
   "metadata": {},
   "outputs": [
    {
     "ename": "FileExistsError",
     "evalue": "[Errno 17] File exists: 'test.txt'",
     "output_type": "error",
     "traceback": [
      "\u001b[1;31m---------------------------------------------------------------------------\u001b[0m",
      "\u001b[1;31mFileExistsError\u001b[0m                           Traceback (most recent call last)",
      "Cell \u001b[1;32mIn[3], line 1\u001b[0m\n\u001b[1;32m----> 1\u001b[0m f \u001b[38;5;241m=\u001b[39m \u001b[38;5;28mopen\u001b[39m(\u001b[38;5;124m\"\u001b[39m\u001b[38;5;124mtest.txt\u001b[39m\u001b[38;5;124m\"\u001b[39m, \u001b[38;5;124m\"\u001b[39m\u001b[38;5;124mx\u001b[39m\u001b[38;5;124m\"\u001b[39m)\n",
      "File \u001b[1;32m~\\anaconda3\\Lib\\site-packages\\IPython\\core\\interactiveshell.py:310\u001b[0m, in \u001b[0;36m_modified_open\u001b[1;34m(file, *args, **kwargs)\u001b[0m\n\u001b[0;32m    303\u001b[0m \u001b[38;5;28;01mif\u001b[39;00m file \u001b[38;5;129;01min\u001b[39;00m {\u001b[38;5;241m0\u001b[39m, \u001b[38;5;241m1\u001b[39m, \u001b[38;5;241m2\u001b[39m}:\n\u001b[0;32m    304\u001b[0m     \u001b[38;5;28;01mraise\u001b[39;00m \u001b[38;5;167;01mValueError\u001b[39;00m(\n\u001b[0;32m    305\u001b[0m         \u001b[38;5;124mf\u001b[39m\u001b[38;5;124m\"\u001b[39m\u001b[38;5;124mIPython won\u001b[39m\u001b[38;5;124m'\u001b[39m\u001b[38;5;124mt let you open fd=\u001b[39m\u001b[38;5;132;01m{\u001b[39;00mfile\u001b[38;5;132;01m}\u001b[39;00m\u001b[38;5;124m by default \u001b[39m\u001b[38;5;124m\"\u001b[39m\n\u001b[0;32m    306\u001b[0m         \u001b[38;5;124m\"\u001b[39m\u001b[38;5;124mas it is likely to crash IPython. If you know what you are doing, \u001b[39m\u001b[38;5;124m\"\u001b[39m\n\u001b[0;32m    307\u001b[0m         \u001b[38;5;124m\"\u001b[39m\u001b[38;5;124myou can use builtins\u001b[39m\u001b[38;5;124m'\u001b[39m\u001b[38;5;124m open.\u001b[39m\u001b[38;5;124m\"\u001b[39m\n\u001b[0;32m    308\u001b[0m     )\n\u001b[1;32m--> 310\u001b[0m \u001b[38;5;28;01mreturn\u001b[39;00m io_open(file, \u001b[38;5;241m*\u001b[39margs, \u001b[38;5;241m*\u001b[39m\u001b[38;5;241m*\u001b[39mkwargs)\n",
      "\u001b[1;31mFileExistsError\u001b[0m: [Errno 17] File exists: 'test.txt'"
     ]
    }
   ],
   "source": [
    "f = open(\"test.txt\", \"x\")"
   ]
  },
  {
   "cell_type": "code",
   "execution_count": 4,
   "id": "4897de7c-c0dc-4863-a316-93c9c3609e54",
   "metadata": {},
   "outputs": [
    {
     "ename": "NameError",
     "evalue": "name 'f' is not defined",
     "output_type": "error",
     "traceback": [
      "\u001b[1;31m---------------------------------------------------------------------------\u001b[0m",
      "\u001b[1;31mNameError\u001b[0m                                 Traceback (most recent call last)",
      "Cell \u001b[1;32mIn[4], line 1\u001b[0m\n\u001b[1;32m----> 1\u001b[0m f\u001b[38;5;241m.\u001b[39mclose()\n",
      "\u001b[1;31mNameError\u001b[0m: name 'f' is not defined"
     ]
    }
   ],
   "source": [
    "f.close()"
   ]
  },
  {
   "cell_type": "code",
   "execution_count": 6,
   "id": "7e0d4f1d-d517-4654-b8f6-017e0dc451cc",
   "metadata": {},
   "outputs": [],
   "source": [
    "f1  = open(\"test1.txt\", \"w\")"
   ]
  },
  {
   "cell_type": "code",
   "execution_count": 7,
   "id": "55ca0081-077a-431b-83f1-e2fd4522cdb1",
   "metadata": {},
   "outputs": [
    {
     "data": {
      "text/plain": [
       "34"
      ]
     },
     "execution_count": 7,
     "metadata": {},
     "output_type": "execute_result"
    }
   ],
   "source": [
    "f1.write(\"NameError: name 'f' is not defined\")"
   ]
  },
  {
   "cell_type": "code",
   "execution_count": 8,
   "id": "42e9e354-8448-480f-ab24-9f327f8735cc",
   "metadata": {},
   "outputs": [],
   "source": [
    "f1.close()"
   ]
  },
  {
   "cell_type": "code",
   "execution_count": 10,
   "id": "405029e5-1300-4ff5-b5b0-1983a4825360",
   "metadata": {},
   "outputs": [],
   "source": [
    "f2= open(\"test1.txt\", \"r\")"
   ]
  },
  {
   "cell_type": "code",
   "execution_count": 11,
   "id": "36ab1d60-48d7-4966-8d77-e2ba52637ebc",
   "metadata": {},
   "outputs": [
    {
     "data": {
      "text/plain": [
       "\"NameError: name 'f' is not defined\""
      ]
     },
     "execution_count": 11,
     "metadata": {},
     "output_type": "execute_result"
    }
   ],
   "source": [
    "f2.read()"
   ]
  },
  {
   "cell_type": "code",
   "execution_count": 12,
   "id": "51dc9de5-39a1-4044-8d1d-1c1debb1140c",
   "metadata": {},
   "outputs": [
    {
     "data": {
      "text/plain": [
       "''"
      ]
     },
     "execution_count": 12,
     "metadata": {},
     "output_type": "execute_result"
    }
   ],
   "source": [
    "f2.read()"
   ]
  },
  {
   "cell_type": "code",
   "execution_count": 13,
   "id": "c31b8d63-6731-41b3-8cdc-451f036b90d4",
   "metadata": {},
   "outputs": [
    {
     "ename": "UnsupportedOperation",
     "evalue": "not writable",
     "output_type": "error",
     "traceback": [
      "\u001b[1;31m---------------------------------------------------------------------------\u001b[0m",
      "\u001b[1;31mUnsupportedOperation\u001b[0m                      Traceback (most recent call last)",
      "Cell \u001b[1;32mIn[13], line 1\u001b[0m\n\u001b[1;32m----> 1\u001b[0m f2\u001b[38;5;241m.\u001b[39mwrite(\u001b[38;5;124m\"\u001b[39m\u001b[38;5;124mname \u001b[39m\u001b[38;5;124m'\u001b[39m\u001b[38;5;124mf\u001b[39m\u001b[38;5;124m'\u001b[39m\u001b[38;5;124m is not defined\u001b[39m\u001b[38;5;124m\"\u001b[39m)\n",
      "\u001b[1;31mUnsupportedOperation\u001b[0m: not writable"
     ]
    }
   ],
   "source": [
    "f2.write(\"name 'f' is not defined\")"
   ]
  },
  {
   "cell_type": "code",
   "execution_count": 14,
   "id": "89c9a2eb-83bc-49c4-85ff-3abc03fe74ad",
   "metadata": {},
   "outputs": [],
   "source": [
    "f2.close()"
   ]
  },
  {
   "cell_type": "code",
   "execution_count": 15,
   "id": "a456926f-8049-45bd-bf73-5f057f7d1684",
   "metadata": {},
   "outputs": [],
   "source": [
    "f3 = open(\"test1.txt\", \"r+\")"
   ]
  },
  {
   "cell_type": "code",
   "execution_count": 16,
   "id": "0df1bdc0-5e1c-4d32-800f-9e3649bf853d",
   "metadata": {},
   "outputs": [
    {
     "data": {
      "text/plain": [
       "\"NameError: name 'f' is not defined\""
      ]
     },
     "execution_count": 16,
     "metadata": {},
     "output_type": "execute_result"
    }
   ],
   "source": [
    "f3.read()"
   ]
  },
  {
   "cell_type": "code",
   "execution_count": 17,
   "id": "dfad1175-bfc4-4d02-94c1-d35aaf9a2572",
   "metadata": {},
   "outputs": [
    {
     "data": {
      "text/plain": [
       "37"
      ]
     },
     "execution_count": 17,
     "metadata": {},
     "output_type": "execute_result"
    }
   ],
   "source": [
    "f3.write(\"  -UnsupportedOperation: not writable\")   "
   ]
  },
  {
   "cell_type": "code",
   "execution_count": 18,
   "id": "99914d3a-2070-41ad-a6e6-1c7dc2e6f909",
   "metadata": {},
   "outputs": [],
   "source": [
    "f3.close()"
   ]
  },
  {
   "cell_type": "code",
   "execution_count": 19,
   "id": "a0cc3551-681f-431d-a8f7-41dc569eb28c",
   "metadata": {},
   "outputs": [],
   "source": [
    "f4= open(\"test1.txt\", \"w\")"
   ]
  },
  {
   "cell_type": "code",
   "execution_count": 20,
   "id": "aaade0cc-7641-43ce-8119-517e2dadccb8",
   "metadata": {},
   "outputs": [
    {
     "data": {
      "text/plain": [
       "8"
      ]
     },
     "execution_count": 20,
     "metadata": {},
     "output_type": "execute_result"
    }
   ],
   "source": [
    "f4.write(\"hello!  \")"
   ]
  },
  {
   "cell_type": "code",
   "execution_count": 21,
   "id": "f1865f6d-093c-4216-a1bd-727de8b4115f",
   "metadata": {},
   "outputs": [],
   "source": [
    "f4.close()"
   ]
  },
  {
   "cell_type": "code",
   "execution_count": 22,
   "id": "72132d21-2975-4977-8f3f-7e3131aa4299",
   "metadata": {},
   "outputs": [],
   "source": [
    "f5 = open(\"test1.txt\", \"a\")"
   ]
  },
  {
   "cell_type": "code",
   "execution_count": 23,
   "id": "f6419436-2add-4267-a8ab-4c0539b555e6",
   "metadata": {},
   "outputs": [
    {
     "data": {
      "text/plain": [
       "6"
      ]
     },
     "execution_count": 23,
     "metadata": {},
     "output_type": "execute_result"
    }
   ],
   "source": [
    "f5.write(\" world\")"
   ]
  },
  {
   "cell_type": "code",
   "execution_count": 24,
   "id": "c3caa938-c12f-4aab-a7fb-7b12ddc452a4",
   "metadata": {},
   "outputs": [],
   "source": [
    "f5.close()"
   ]
  },
  {
   "cell_type": "code",
   "execution_count": 25,
   "id": "c286aca1-8478-4b41-8beb-4650967efcda",
   "metadata": {},
   "outputs": [
    {
     "name": "stdout",
     "output_type": "stream",
     "text": [
      "Writing demo1.ipynb\n"
     ]
    }
   ],
   "source": [
    "%%writefile demo1.ipynb\n",
    "my name is amit "
   ]
  },
  {
   "cell_type": "code",
   "execution_count": 26,
   "id": "d42e1259-c40b-45be-8929-0da1b9171e35",
   "metadata": {},
   "outputs": [
    {
     "name": "stdout",
     "output_type": "stream",
     "text": [
      "Writing demo.txt\n"
     ]
    }
   ],
   "source": [
    "%%writefile demo.txt\n",
    "my name is amit "
   ]
  },
  {
   "cell_type": "code",
   "execution_count": 27,
   "id": "6e7cc541-799e-4cfa-92a4-f94927128a07",
   "metadata": {},
   "outputs": [
    {
     "name": "stdout",
     "output_type": "stream",
     "text": [
      "hello!   world\n"
     ]
    }
   ],
   "source": [
    "with open(\"test1.txt\") as f:\n",
    "    lines = f.read()\n",
    "    print(lines)"
   ]
  },
  {
   "cell_type": "code",
   "execution_count": null,
   "id": "66a84f11-8684-4482-ad66-091133a87519",
   "metadata": {},
   "outputs": [],
   "source": [
    "with open(\"test1.txt\", \"w\") as f:\n",
    "    lines = f.read()\n",
    "    print(lines)"
   ]
  },
  {
   "cell_type": "code",
   "execution_count": 28,
   "id": "5978c638-b49b-49fa-b06b-4b99fcb9070b",
   "metadata": {},
   "outputs": [],
   "source": [
    "lines = [\"Line 1\\n\", \"Line 2\\n\", \"Line 3\\n\"]\n",
    "file = open(\"example.txt\", \"w\")\n",
    "file.writelines(lines)\n",
    "file.close()"
   ]
  },
  {
   "cell_type": "code",
   "execution_count": 30,
   "id": "220bc2ff-1217-4bdc-b8b4-6fcd36418986",
   "metadata": {},
   "outputs": [
    {
     "name": "stdout",
     "output_type": "stream",
     "text": [
      "Line 1\n",
      "\n"
     ]
    }
   ],
   "source": [
    "file = open(\"example.txt\", \"r\")\n",
    "line = file.readline()\n",
    "print(line)\n",
    "file.close()"
   ]
  },
  {
   "cell_type": "code",
   "execution_count": 31,
   "id": "167ea5bd-c1a3-495a-bee2-1f7e47143fd5",
   "metadata": {},
   "outputs": [
    {
     "name": "stdout",
     "output_type": "stream",
     "text": [
      "['Line 1\\n', 'Line 2\\n', 'Line 3\\n']\n"
     ]
    }
   ],
   "source": [
    "file = open(\"example.txt\", \"r\")\n",
    "lines = file.readlines()\n",
    "print(lines)\n",
    "file.close()"
   ]
  },
  {
   "cell_type": "code",
   "execution_count": 32,
   "id": "1ef1a8e8-b8b5-4e3f-9a29-a8d92ba3a69a",
   "metadata": {},
   "outputs": [
    {
     "name": "stdout",
     "output_type": "stream",
     "text": [
      " Volume in drive C is Local Disk\n",
      " Volume Serial Number is C685-8258\n",
      "\n",
      " Directory of C:\\Users\\amitm\\Class\\02. DS_11_30_AM\n",
      "\n",
      "09-10-2025  12:14    <DIR>          .\n",
      "05-10-2025  00:52    <DIR>          ..\n",
      "09-10-2025  12:11    <DIR>          .ipynb_checkpoints\n",
      "22-09-2025  12:44            37,450 Basic-1.ipynb\n",
      "23-09-2025  12:40             8,693 Basics-2.ipynb\n",
      "27-09-2025  12:17            17,267 Basics-3.ipynb\n",
      "01-10-2025  12:40            10,876 Conditional_statement.ipynb\n",
      "01-10-2025  12:22            21,184 Conditions-2.ipynb\n",
      "09-10-2025  12:07                18 demo.txt\n",
      "09-10-2025  12:06                18 demo1.ipynb\n",
      "09-10-2025  12:11                24 example.txt\n",
      "26-09-2025  12:26            28,524 List and Tuple.ipynb\n",
      "06-10-2025  12:52            11,466 Loop_Pattern.ipynb\n",
      "03-10-2025  12:46            12,918 Loops.ipynb\n",
      "04-10-2025  12:51            42,326 Revision-1.ipynb\n",
      "27-09-2025  11:57             3,188 Set and Dict.ipynb\n",
      "25-09-2025  12:22            25,513 String and Operations.ipynb\n",
      "09-10-2025  11:54                 0 test.txt\n",
      "09-10-2025  12:02                14 test1.txt\n",
      "18-09-2025  12:22            32,119 Untitled.ipynb\n",
      "19-09-2025  12:39            18,177 Untitled1.ipynb\n",
      "30-09-2025  12:31            42,740 Untitled2.ipynb\n",
      "09-10-2025  12:14            14,277 Untitled3.ipynb\n",
      "08-10-2025  12:29            21,544 User Define function.ipynb\n",
      "08-10-2025  12:38            17,449 user_defined_function2.ipynb\n",
      "              22 File(s)        365,785 bytes\n",
      "               3 Dir(s)  148,702,195,712 bytes free\n"
     ]
    }
   ],
   "source": [
    "ls"
   ]
  },
  {
   "cell_type": "code",
   "execution_count": 33,
   "id": "0d94df93-bd1b-450a-81bb-756c3156a482",
   "metadata": {},
   "outputs": [],
   "source": [
    "import os"
   ]
  },
  {
   "cell_type": "code",
   "execution_count": 34,
   "id": "b413396e-a694-4ef2-b93c-5989cec09949",
   "metadata": {},
   "outputs": [
    {
     "data": {
      "text/plain": [
       "'C:\\\\Users\\\\amitm\\\\Class\\\\02. DS_11_30_AM'"
      ]
     },
     "execution_count": 34,
     "metadata": {},
     "output_type": "execute_result"
    }
   ],
   "source": [
    "os.getcwd()"
   ]
  },
  {
   "cell_type": "code",
   "execution_count": 35,
   "id": "596324a2-6b0c-42aa-9ed5-74ab9e3e38bd",
   "metadata": {},
   "outputs": [
    {
     "data": {
      "text/plain": [
       "['.ipynb_checkpoints',\n",
       " 'Basic-1.ipynb',\n",
       " 'Basics-2.ipynb',\n",
       " 'Basics-3.ipynb',\n",
       " 'Conditional_statement.ipynb',\n",
       " 'Conditions-2.ipynb',\n",
       " 'demo.txt',\n",
       " 'demo1.ipynb',\n",
       " 'example.txt',\n",
       " 'List and Tuple.ipynb',\n",
       " 'Loops.ipynb',\n",
       " 'Loop_Pattern.ipynb',\n",
       " 'Revision-1.ipynb',\n",
       " 'Set and Dict.ipynb',\n",
       " 'String and Operations.ipynb',\n",
       " 'test.txt',\n",
       " 'test1.txt',\n",
       " 'Untitled.ipynb',\n",
       " 'Untitled1.ipynb',\n",
       " 'Untitled2.ipynb',\n",
       " 'Untitled3.ipynb',\n",
       " 'User Define function.ipynb',\n",
       " 'user_defined_function2.ipynb']"
      ]
     },
     "execution_count": 35,
     "metadata": {},
     "output_type": "execute_result"
    }
   ],
   "source": [
    "os.listdir()"
   ]
  },
  {
   "cell_type": "code",
   "execution_count": 36,
   "id": "065c79b1-f91d-4c44-878c-05a618a374df",
   "metadata": {},
   "outputs": [],
   "source": [
    "os.chdir(\"C:\\\\Users\\\\amitm/Downloads\")"
   ]
  },
  {
   "cell_type": "code",
   "execution_count": 37,
   "id": "065f0a50-dad8-4313-974f-bb49dfd7793a",
   "metadata": {},
   "outputs": [
    {
     "data": {
      "text/plain": [
       "'C:\\\\Users\\\\amitm\\\\Downloads'"
      ]
     },
     "execution_count": 37,
     "metadata": {},
     "output_type": "execute_result"
    }
   ],
   "source": [
    "os.getcwd()"
   ]
  },
  {
   "cell_type": "code",
   "execution_count": 38,
   "id": "02c476b2-0432-4060-a9a9-75354149d013",
   "metadata": {},
   "outputs": [
    {
     "data": {
      "text/plain": [
       "['01. intro of stats.pdf',\n",
       " '01. NLP_simple_RNN.ipynb',\n",
       " '02. center tendency, dispersion.pdf',\n",
       " '02. text_preprocessing.ipynb',\n",
       " '03. variables.pdf',\n",
       " '04. covariance.pdf',\n",
       " '05. List and Set.ipynb',\n",
       " '06. Conditions.ipynb',\n",
       " '07. Loops.ipynb',\n",
       " '08. Conditions-2.ipynb',\n",
       " '08. Loop_patterns.ipynb',\n",
       " '09. Loops.ipynb',\n",
       " '09. User Define Function.ipynb',\n",
       " '10. DCL, TCL and Dense_rank.sql',\n",
       " '10. Revision-1.ipynb',\n",
       " '10. user_defined_function_2.ipynb',\n",
       " '10.pdf',\n",
       " '11. Loop_Pattern.ipynb',\n",
       " '11. Python with mysql.ipynb',\n",
       " '12. User Define function.ipynb',\n",
       " '13. user_defined_function2.ipynb',\n",
       " '23. Gradient Boosting.ipynb',\n",
       " '24. Gradient Boosting Classifier.ipynb',\n",
       " '25. Gradient Boosting Regressor.ipynb',\n",
       " '27. XGBoost Regression.ipynb',\n",
       " 'A-Simple-Deep-Learning-Based-Chatbot-master',\n",
       " 'A-Simple-Deep-Learning-Based-Chatbot-master.zip',\n",
       " 'deep_sort_pytorch-20230517T185925Z-001.zip',\n",
       " 'desktop.ini',\n",
       " 'End-to-end-Sign-Language-Detection-main (1) (1).zip',\n",
       " 'End-to-end-Sign-Language-Detection-main (1).zip',\n",
       " 'End-to-end-Sign-Language-Detection-main.zip',\n",
       " 'End-to-end-Text-Summarizer-main.zip',\n",
       " 'FinanceProject.ipynb',\n",
       " 'GoogleNet Inception V1.txt',\n",
       " 'googlenet_ppt.tsx',\n",
       " 'Helio clinic',\n",
       " 'Horse.jpeg',\n",
       " 'library.htm',\n",
       " 'Memory',\n",
       " 'nception-v3-model-architecture.png',\n",
       " 'Open_Source_API-master.zip',\n",
       " 'Project pipe line.png',\n",
       " 'Revision-1 (1).ipynb',\n",
       " 'Trainers Interview Feedback.xlsx',\n",
       " 'Untitled#02.png',\n",
       " 'Untitled#03.png',\n",
       " 'Untitled#04.png']"
      ]
     },
     "execution_count": 38,
     "metadata": {},
     "output_type": "execute_result"
    }
   ],
   "source": [
    "os.listdir()"
   ]
  },
  {
   "cell_type": "code",
   "execution_count": 39,
   "id": "689f7c28-9328-46e6-abc6-c8a8d80330fe",
   "metadata": {},
   "outputs": [],
   "source": [
    "os.mkdir(\"new_folder\")"
   ]
  },
  {
   "cell_type": "code",
   "execution_count": 40,
   "id": "f9fa5b78-988a-4565-83ce-21503b8d2303",
   "metadata": {},
   "outputs": [
    {
     "data": {
      "text/plain": [
       "['01. intro of stats.pdf',\n",
       " '01. NLP_simple_RNN.ipynb',\n",
       " '02. center tendency, dispersion.pdf',\n",
       " '02. text_preprocessing.ipynb',\n",
       " '03. variables.pdf',\n",
       " '04. covariance.pdf',\n",
       " '05. List and Set.ipynb',\n",
       " '06. Conditions.ipynb',\n",
       " '07. Loops.ipynb',\n",
       " '08. Conditions-2.ipynb',\n",
       " '08. Loop_patterns.ipynb',\n",
       " '09. Loops.ipynb',\n",
       " '09. User Define Function.ipynb',\n",
       " '10. DCL, TCL and Dense_rank.sql',\n",
       " '10. Revision-1.ipynb',\n",
       " '10. user_defined_function_2.ipynb',\n",
       " '10.pdf',\n",
       " '11. Loop_Pattern.ipynb',\n",
       " '11. Python with mysql.ipynb',\n",
       " '12. User Define function.ipynb',\n",
       " '13. user_defined_function2.ipynb',\n",
       " '23. Gradient Boosting.ipynb',\n",
       " '24. Gradient Boosting Classifier.ipynb',\n",
       " '25. Gradient Boosting Regressor.ipynb',\n",
       " '27. XGBoost Regression.ipynb',\n",
       " 'A-Simple-Deep-Learning-Based-Chatbot-master',\n",
       " 'A-Simple-Deep-Learning-Based-Chatbot-master.zip',\n",
       " 'deep_sort_pytorch-20230517T185925Z-001.zip',\n",
       " 'desktop.ini',\n",
       " 'End-to-end-Sign-Language-Detection-main (1) (1).zip',\n",
       " 'End-to-end-Sign-Language-Detection-main (1).zip',\n",
       " 'End-to-end-Sign-Language-Detection-main.zip',\n",
       " 'End-to-end-Text-Summarizer-main.zip',\n",
       " 'FinanceProject.ipynb',\n",
       " 'GoogleNet Inception V1.txt',\n",
       " 'googlenet_ppt.tsx',\n",
       " 'Helio clinic',\n",
       " 'Horse.jpeg',\n",
       " 'library.htm',\n",
       " 'Memory',\n",
       " 'nception-v3-model-architecture.png',\n",
       " 'new_folder',\n",
       " 'Open_Source_API-master.zip',\n",
       " 'Project pipe line.png',\n",
       " 'Revision-1 (1).ipynb',\n",
       " 'Trainers Interview Feedback.xlsx',\n",
       " 'Untitled#02.png',\n",
       " 'Untitled#03.png',\n",
       " 'Untitled#04.png']"
      ]
     },
     "execution_count": 40,
     "metadata": {},
     "output_type": "execute_result"
    }
   ],
   "source": [
    "os.listdir()"
   ]
  },
  {
   "cell_type": "code",
   "execution_count": 41,
   "id": "fccd8542-4616-4f59-aa52-e7b7d9b974c2",
   "metadata": {},
   "outputs": [],
   "source": [
    "os.chdir(\"C:\\\\Users\\\\amitm/Downloads/new_folder\")"
   ]
  },
  {
   "cell_type": "code",
   "execution_count": 42,
   "id": "b4f13173-93c9-4d5a-b5a5-94076fd7cfeb",
   "metadata": {},
   "outputs": [
    {
     "data": {
      "text/plain": [
       "[]"
      ]
     },
     "execution_count": 42,
     "metadata": {},
     "output_type": "execute_result"
    }
   ],
   "source": [
    "os.listdir()"
   ]
  },
  {
   "cell_type": "code",
   "execution_count": 43,
   "id": "bc337b93-6d5e-4f5b-a84b-4667ff6e7a88",
   "metadata": {},
   "outputs": [
    {
     "name": "stdout",
     "output_type": "stream",
     "text": [
      "Writing first.txt\n"
     ]
    }
   ],
   "source": [
    "%%writefile first.txt\n",
    "this is my first file"
   ]
  },
  {
   "cell_type": "code",
   "execution_count": 44,
   "id": "2d66ac83-e94e-4bda-8623-a3b9cafcfd80",
   "metadata": {},
   "outputs": [
    {
     "data": {
      "text/plain": [
       "['first.txt']"
      ]
     },
     "execution_count": 44,
     "metadata": {},
     "output_type": "execute_result"
    }
   ],
   "source": [
    "os.listdir()"
   ]
  },
  {
   "cell_type": "code",
   "execution_count": 45,
   "id": "2f374815-8a3e-4162-817f-02f27952f7ae",
   "metadata": {},
   "outputs": [],
   "source": [
    "os.remove(\"first.txt\")"
   ]
  },
  {
   "cell_type": "code",
   "execution_count": 46,
   "id": "b53a1653-e626-4dbe-9c35-2eeaf972cfc0",
   "metadata": {},
   "outputs": [
    {
     "data": {
      "text/plain": [
       "[]"
      ]
     },
     "execution_count": 46,
     "metadata": {},
     "output_type": "execute_result"
    }
   ],
   "source": [
    "os.listdir()"
   ]
  },
  {
   "cell_type": "code",
   "execution_count": 47,
   "id": "910dcd41-310a-4331-a4a0-481084ee94ab",
   "metadata": {},
   "outputs": [],
   "source": [
    "os.chdir(\"C:\\\\Users\\\\amitm/Downloads\")"
   ]
  },
  {
   "cell_type": "code",
   "execution_count": 48,
   "id": "58ab2f07-c355-470e-915e-7536411e4a5e",
   "metadata": {},
   "outputs": [
    {
     "data": {
      "text/plain": [
       "['01. intro of stats.pdf',\n",
       " '01. NLP_simple_RNN.ipynb',\n",
       " '02. center tendency, dispersion.pdf',\n",
       " '02. text_preprocessing.ipynb',\n",
       " '03. variables.pdf',\n",
       " '04. covariance.pdf',\n",
       " '05. List and Set.ipynb',\n",
       " '06. Conditions.ipynb',\n",
       " '07. Loops.ipynb',\n",
       " '08. Conditions-2.ipynb',\n",
       " '08. Loop_patterns.ipynb',\n",
       " '09. Loops.ipynb',\n",
       " '09. User Define Function.ipynb',\n",
       " '10. DCL, TCL and Dense_rank.sql',\n",
       " '10. Revision-1.ipynb',\n",
       " '10. user_defined_function_2.ipynb',\n",
       " '10.pdf',\n",
       " '11. Loop_Pattern.ipynb',\n",
       " '11. Python with mysql.ipynb',\n",
       " '12. User Define function.ipynb',\n",
       " '13. user_defined_function2.ipynb',\n",
       " '23. Gradient Boosting.ipynb',\n",
       " '24. Gradient Boosting Classifier.ipynb',\n",
       " '25. Gradient Boosting Regressor.ipynb',\n",
       " '27. XGBoost Regression.ipynb',\n",
       " 'A-Simple-Deep-Learning-Based-Chatbot-master',\n",
       " 'A-Simple-Deep-Learning-Based-Chatbot-master.zip',\n",
       " 'deep_sort_pytorch-20230517T185925Z-001.zip',\n",
       " 'desktop.ini',\n",
       " 'End-to-end-Sign-Language-Detection-main (1) (1).zip',\n",
       " 'End-to-end-Sign-Language-Detection-main (1).zip',\n",
       " 'End-to-end-Sign-Language-Detection-main.zip',\n",
       " 'End-to-end-Text-Summarizer-main.zip',\n",
       " 'FinanceProject.ipynb',\n",
       " 'GoogleNet Inception V1.txt',\n",
       " 'googlenet_ppt.tsx',\n",
       " 'Helio clinic',\n",
       " 'Horse.jpeg',\n",
       " 'library.htm',\n",
       " 'Memory',\n",
       " 'nception-v3-model-architecture.png',\n",
       " 'new_folder',\n",
       " 'Open_Source_API-master.zip',\n",
       " 'Project pipe line.png',\n",
       " 'Revision-1 (1).ipynb',\n",
       " 'Trainers Interview Feedback.xlsx',\n",
       " 'Untitled#02.png',\n",
       " 'Untitled#03.png',\n",
       " 'Untitled#04.png']"
      ]
     },
     "execution_count": 48,
     "metadata": {},
     "output_type": "execute_result"
    }
   ],
   "source": [
    "os.listdir()"
   ]
  },
  {
   "cell_type": "code",
   "execution_count": 49,
   "id": "808069eb-f19e-4330-a9b0-bde847dc0a6a",
   "metadata": {},
   "outputs": [],
   "source": [
    "os.rmdir(\"new_folder\")"
   ]
  },
  {
   "cell_type": "code",
   "execution_count": 50,
   "id": "2c26c349-cbb0-405f-bbfb-68749a36110c",
   "metadata": {},
   "outputs": [
    {
     "data": {
      "text/plain": [
       "['01. intro of stats.pdf',\n",
       " '01. NLP_simple_RNN.ipynb',\n",
       " '02. center tendency, dispersion.pdf',\n",
       " '02. text_preprocessing.ipynb',\n",
       " '03. variables.pdf',\n",
       " '04. covariance.pdf',\n",
       " '05. List and Set.ipynb',\n",
       " '06. Conditions.ipynb',\n",
       " '07. Loops.ipynb',\n",
       " '08. Conditions-2.ipynb',\n",
       " '08. Loop_patterns.ipynb',\n",
       " '09. Loops.ipynb',\n",
       " '09. User Define Function.ipynb',\n",
       " '10. DCL, TCL and Dense_rank.sql',\n",
       " '10. Revision-1.ipynb',\n",
       " '10. user_defined_function_2.ipynb',\n",
       " '10.pdf',\n",
       " '11. Loop_Pattern.ipynb',\n",
       " '11. Python with mysql.ipynb',\n",
       " '12. User Define function.ipynb',\n",
       " '13. user_defined_function2.ipynb',\n",
       " '23. Gradient Boosting.ipynb',\n",
       " '24. Gradient Boosting Classifier.ipynb',\n",
       " '25. Gradient Boosting Regressor.ipynb',\n",
       " '27. XGBoost Regression.ipynb',\n",
       " 'A-Simple-Deep-Learning-Based-Chatbot-master',\n",
       " 'A-Simple-Deep-Learning-Based-Chatbot-master.zip',\n",
       " 'deep_sort_pytorch-20230517T185925Z-001.zip',\n",
       " 'desktop.ini',\n",
       " 'End-to-end-Sign-Language-Detection-main (1) (1).zip',\n",
       " 'End-to-end-Sign-Language-Detection-main (1).zip',\n",
       " 'End-to-end-Sign-Language-Detection-main.zip',\n",
       " 'End-to-end-Text-Summarizer-main.zip',\n",
       " 'FinanceProject.ipynb',\n",
       " 'GoogleNet Inception V1.txt',\n",
       " 'googlenet_ppt.tsx',\n",
       " 'Helio clinic',\n",
       " 'Horse.jpeg',\n",
       " 'library.htm',\n",
       " 'Memory',\n",
       " 'nception-v3-model-architecture.png',\n",
       " 'Open_Source_API-master.zip',\n",
       " 'Project pipe line.png',\n",
       " 'Revision-1 (1).ipynb',\n",
       " 'Trainers Interview Feedback.xlsx',\n",
       " 'Untitled#02.png',\n",
       " 'Untitled#03.png',\n",
       " 'Untitled#04.png']"
      ]
     },
     "execution_count": 50,
     "metadata": {},
     "output_type": "execute_result"
    }
   ],
   "source": [
    "os.listdir()"
   ]
  },
  {
   "cell_type": "code",
   "execution_count": 51,
   "id": "5b17d5d5-a7b2-4c75-9fd3-41891cec4780",
   "metadata": {},
   "outputs": [],
   "source": [
    "os.chdir('C:\\\\Users\\\\amitm\\\\Class\\\\02. DS_11_30_AM')"
   ]
  },
  {
   "cell_type": "code",
   "execution_count": 52,
   "id": "34c2091c-16ef-4cf7-91a8-cbbac5d2de60",
   "metadata": {},
   "outputs": [
    {
     "data": {
      "text/plain": [
       "['.ipynb_checkpoints',\n",
       " 'Basic-1.ipynb',\n",
       " 'Basics-2.ipynb',\n",
       " 'Basics-3.ipynb',\n",
       " 'Conditional_statement.ipynb',\n",
       " 'Conditions-2.ipynb',\n",
       " 'demo.txt',\n",
       " 'demo1.ipynb',\n",
       " 'example.txt',\n",
       " 'List and Tuple.ipynb',\n",
       " 'Loops.ipynb',\n",
       " 'Loop_Pattern.ipynb',\n",
       " 'Revision-1.ipynb',\n",
       " 'Set and Dict.ipynb',\n",
       " 'String and Operations.ipynb',\n",
       " 'test.txt',\n",
       " 'test1.txt',\n",
       " 'Untitled.ipynb',\n",
       " 'Untitled1.ipynb',\n",
       " 'Untitled2.ipynb',\n",
       " 'Untitled3.ipynb',\n",
       " 'User Define function.ipynb',\n",
       " 'user_defined_function2.ipynb']"
      ]
     },
     "execution_count": 52,
     "metadata": {},
     "output_type": "execute_result"
    }
   ],
   "source": [
    "os.listdir()"
   ]
  },
  {
   "cell_type": "code",
   "execution_count": 53,
   "id": "531aa6f6-1b3e-48a5-9736-dbe536633cf7",
   "metadata": {},
   "outputs": [],
   "source": [
    "for i in range(1, 11):\n",
    "    with open(f'file{i}.txt', 'w') as f:\n",
    "        f.write(f'This is file number {i}')"
   ]
  },
  {
   "cell_type": "code",
   "execution_count": null,
   "id": "e7e9ead7-0ada-4b41-8928-ce01d65a6158",
   "metadata": {},
   "outputs": [],
   "source": []
  },
  {
   "cell_type": "code",
   "execution_count": 54,
   "id": "ef7f4d59-9bb0-4933-a3e5-fc07389ce521",
   "metadata": {},
   "outputs": [
    {
     "name": "stdout",
     "output_type": "stream",
     "text": [
      "Deleted file1.txt\n",
      "Deleted file2.txt\n",
      "Deleted file3.txt\n",
      "Deleted file4.txt\n",
      "Deleted file5.txt\n",
      "Deleted file6.txt\n",
      "Deleted file7.txt\n",
      "Deleted file8.txt\n",
      "Deleted file9.txt\n",
      "Deleted file10.txt\n"
     ]
    }
   ],
   "source": [
    "i = 1\n",
    "while i <= 10:\n",
    "    file_name = f'file{i}.txt'\n",
    "    if os.path.exists(file_name):\n",
    "        os.remove(file_name)\n",
    "        print(f'Deleted {file_name}')\n",
    "    else:\n",
    "        print(f'{file_name} does not exist')\n",
    "    i += 1"
   ]
  },
  {
   "cell_type": "code",
   "execution_count": 56,
   "id": "7c3db88c-7a35-46c3-84d7-57e6365f361d",
   "metadata": {},
   "outputs": [],
   "source": [
    "lisdir = os.listdir()"
   ]
  },
  {
   "cell_type": "code",
   "execution_count": 57,
   "id": "d105d1b1-2f71-4b94-a2fe-65c759a7b156",
   "metadata": {},
   "outputs": [
    {
     "data": {
      "text/plain": [
       "['.ipynb_checkpoints',\n",
       " 'Basic-1.ipynb',\n",
       " 'Basics-2.ipynb',\n",
       " 'Basics-3.ipynb',\n",
       " 'Conditional_statement.ipynb',\n",
       " 'Conditions-2.ipynb',\n",
       " 'demo.txt',\n",
       " 'demo1.ipynb',\n",
       " 'example.txt',\n",
       " 'List and Tuple.ipynb',\n",
       " 'Loops.ipynb',\n",
       " 'Loop_Pattern.ipynb',\n",
       " 'Revision-1.ipynb',\n",
       " 'Set and Dict.ipynb',\n",
       " 'String and Operations.ipynb',\n",
       " 'test.txt',\n",
       " 'test1.txt',\n",
       " 'Untitled.ipynb',\n",
       " 'Untitled1.ipynb',\n",
       " 'Untitled2.ipynb',\n",
       " 'Untitled3.ipynb',\n",
       " 'User Define function.ipynb',\n",
       " 'user_defined_function2.ipynb']"
      ]
     },
     "execution_count": 57,
     "metadata": {},
     "output_type": "execute_result"
    }
   ],
   "source": [
    "lisdir"
   ]
  },
  {
   "cell_type": "code",
   "execution_count": null,
   "id": "bf8c5150-ac4d-4bf6-b7d8-18a9106f75c4",
   "metadata": {},
   "outputs": [],
   "source": []
  }
 ],
 "metadata": {
  "kernelspec": {
   "display_name": "Python 3 (ipykernel)",
   "language": "python",
   "name": "python3"
  },
  "language_info": {
   "codemirror_mode": {
    "name": "ipython",
    "version": 3
   },
   "file_extension": ".py",
   "mimetype": "text/x-python",
   "name": "python",
   "nbconvert_exporter": "python",
   "pygments_lexer": "ipython3",
   "version": "3.11.7"
  }
 },
 "nbformat": 4,
 "nbformat_minor": 5
}
