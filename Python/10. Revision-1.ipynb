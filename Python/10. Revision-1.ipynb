{
 "cells": [
  {
   "cell_type": "markdown",
   "id": "db50e34a-40b3-4085-a5de-bba12043fa7b",
   "metadata": {},
   "source": [
    "### inbuilt function"
   ]
  },
  {
   "cell_type": "code",
   "execution_count": 1,
   "id": "b98b9d30-cbed-46fa-a9de-27a4c80783db",
   "metadata": {},
   "outputs": [
    {
     "name": "stdout",
     "output_type": "stream",
     "text": [
      "23 4564\n"
     ]
    }
   ],
   "source": [
    "print(23,4564)"
   ]
  },
  {
   "cell_type": "code",
   "execution_count": 2,
   "id": "223c470a-1b4a-45ac-b66c-9163eb96f4dc",
   "metadata": {},
   "outputs": [
    {
     "name": "stdin",
     "output_type": "stream",
     "text": [
      " 345\n"
     ]
    },
    {
     "data": {
      "text/plain": [
       "'345'"
      ]
     },
     "execution_count": 2,
     "metadata": {},
     "output_type": "execute_result"
    }
   ],
   "source": [
    "input()"
   ]
  },
  {
   "cell_type": "code",
   "execution_count": 3,
   "id": "ea607035-243f-47a4-a28d-bd2b85f20315",
   "metadata": {},
   "outputs": [
    {
     "name": "stdin",
     "output_type": "stream",
     "text": [
      " 565\n"
     ]
    },
    {
     "data": {
      "text/plain": [
       "565"
      ]
     },
     "execution_count": 3,
     "metadata": {},
     "output_type": "execute_result"
    }
   ],
   "source": [
    "int(input())"
   ]
  },
  {
   "cell_type": "code",
   "execution_count": 5,
   "id": "e432a999-0a49-44e7-81cd-e19b5db609bf",
   "metadata": {},
   "outputs": [
    {
     "name": "stdin",
     "output_type": "stream",
     "text": [
      " 3+8\n"
     ]
    },
    {
     "data": {
      "text/plain": [
       "11"
      ]
     },
     "execution_count": 5,
     "metadata": {},
     "output_type": "execute_result"
    }
   ],
   "source": [
    "eval(input())"
   ]
  },
  {
   "cell_type": "code",
   "execution_count": 7,
   "id": "aeff1bc1-0d98-4d52-8e7e-f62d266ecb1c",
   "metadata": {},
   "outputs": [
    {
     "data": {
      "text/plain": [
       "[0, 1, 2, 3, 4, 5]"
      ]
     },
     "execution_count": 7,
     "metadata": {},
     "output_type": "execute_result"
    }
   ],
   "source": [
    "list(range(6))"
   ]
  },
  {
   "cell_type": "code",
   "execution_count": 8,
   "id": "10ca4c98-4807-4082-b4d6-84769ebdef6f",
   "metadata": {},
   "outputs": [
    {
     "data": {
      "text/plain": [
       "[0, 4, 8, 12, 16]"
      ]
     },
     "execution_count": 8,
     "metadata": {},
     "output_type": "execute_result"
    }
   ],
   "source": [
    "list(range(0,20, 4))"
   ]
  },
  {
   "cell_type": "code",
   "execution_count": 9,
   "id": "4b406c8c-c8af-489e-982e-8512eb4f8e06",
   "metadata": {},
   "outputs": [
    {
     "data": {
      "text/plain": [
       "71"
      ]
     },
     "execution_count": 9,
     "metadata": {},
     "output_type": "execute_result"
    }
   ],
   "source": [
    "ord(\"G\")"
   ]
  },
  {
   "cell_type": "code",
   "execution_count": 10,
   "id": "28c83c2d-55a8-4aab-890a-44c58ad6eade",
   "metadata": {},
   "outputs": [
    {
     "data": {
      "text/plain": [
       "'C'"
      ]
     },
     "execution_count": 10,
     "metadata": {},
     "output_type": "execute_result"
    }
   ],
   "source": [
    "chr(67)"
   ]
  },
  {
   "cell_type": "code",
   "execution_count": 12,
   "id": "4414a129-a9d8-4f64-b4e2-022b58d82a21",
   "metadata": {},
   "outputs": [
    {
     "data": {
      "text/plain": [
       "[(0, 'p'), (1, 'y'), (2, 't'), (3, 'h'), (4, 'o'), (5, 'n')]"
      ]
     },
     "execution_count": 12,
     "metadata": {},
     "output_type": "execute_result"
    }
   ],
   "source": [
    "list(enumerate(\"python\"))"
   ]
  },
  {
   "cell_type": "code",
   "execution_count": 13,
   "id": "ca28e11b-a42f-4315-a8b6-6f9237a3ba33",
   "metadata": {},
   "outputs": [
    {
     "data": {
      "text/plain": [
       "81"
      ]
     },
     "execution_count": 13,
     "metadata": {},
     "output_type": "execute_result"
    }
   ],
   "source": [
    "pow(3, 4)"
   ]
  },
  {
   "cell_type": "code",
   "execution_count": 14,
   "id": "377d9deb-0c0a-47f4-beea-8a9cde45b597",
   "metadata": {},
   "outputs": [
    {
     "data": {
      "text/plain": [
       "2.88"
      ]
     },
     "execution_count": 14,
     "metadata": {},
     "output_type": "execute_result"
    }
   ],
   "source": [
    "round(2.876756, 2)"
   ]
  },
  {
   "cell_type": "code",
   "execution_count": 16,
   "id": "73b495d9-c9dd-4d0b-a0ac-8caa6f58fa64",
   "metadata": {},
   "outputs": [
    {
     "data": {
      "text/plain": [
       "4"
      ]
     },
     "execution_count": 16,
     "metadata": {},
     "output_type": "execute_result"
    }
   ],
   "source": [
    "round(4.098234)"
   ]
  },
  {
   "cell_type": "code",
   "execution_count": 18,
   "id": "ad073e71-f8ef-4501-95a1-a1eed8949f20",
   "metadata": {},
   "outputs": [
    {
     "data": {
      "text/plain": [
       "5"
      ]
     },
     "execution_count": 18,
     "metadata": {},
     "output_type": "execute_result"
    }
   ],
   "source": [
    "len(\"dat a\")"
   ]
  },
  {
   "cell_type": "code",
   "execution_count": 19,
   "id": "47657873-24a3-4c81-9c59-afb22c78264f",
   "metadata": {},
   "outputs": [
    {
     "data": {
      "text/plain": [
       "bool"
      ]
     },
     "execution_count": 19,
     "metadata": {},
     "output_type": "execute_result"
    }
   ],
   "source": [
    "type(True)"
   ]
  },
  {
   "cell_type": "code",
   "execution_count": 21,
   "id": "15084ddb-2e9c-4acd-9b90-6537ac4152bf",
   "metadata": {},
   "outputs": [
    {
     "data": {
      "text/plain": [
       "False"
      ]
     },
     "execution_count": 21,
     "metadata": {},
     "output_type": "execute_result"
    }
   ],
   "source": [
    "isinstance(False, float)"
   ]
  },
  {
   "cell_type": "markdown",
   "id": "373687d5-e215-43b0-9264-da754c0f6c5b",
   "metadata": {},
   "source": [
    "### String"
   ]
  },
  {
   "cell_type": "code",
   "execution_count": 22,
   "id": "4376fe0f-2eee-4476-801c-b0f1f52d0c08",
   "metadata": {},
   "outputs": [],
   "source": [
    "var = \"hello! python\""
   ]
  },
  {
   "cell_type": "code",
   "execution_count": 23,
   "id": "b6ad6392-ac62-4a73-9215-6c963b501d6d",
   "metadata": {},
   "outputs": [
    {
     "data": {
      "text/plain": [
       "'hello! python'"
      ]
     },
     "execution_count": 23,
     "metadata": {},
     "output_type": "execute_result"
    }
   ],
   "source": [
    "var"
   ]
  },
  {
   "cell_type": "code",
   "execution_count": 24,
   "id": "878317bd-672b-4746-81da-0a24945f6253",
   "metadata": {},
   "outputs": [
    {
     "data": {
      "text/plain": [
       "'l'"
      ]
     },
     "execution_count": 24,
     "metadata": {},
     "output_type": "execute_result"
    }
   ],
   "source": [
    "var[3]"
   ]
  },
  {
   "cell_type": "code",
   "execution_count": 25,
   "id": "9cbe8c50-949c-4c19-9901-c218c6f1b152",
   "metadata": {},
   "outputs": [
    {
     "data": {
      "text/plain": [
       "'o'"
      ]
     },
     "execution_count": 25,
     "metadata": {},
     "output_type": "execute_result"
    }
   ],
   "source": [
    "var[-2]"
   ]
  },
  {
   "cell_type": "code",
   "execution_count": 26,
   "id": "8fcede4e-5b13-46b2-85dd-a401063d28cb",
   "metadata": {},
   "outputs": [
    {
     "data": {
      "text/plain": [
       "'hello! '"
      ]
     },
     "execution_count": 26,
     "metadata": {},
     "output_type": "execute_result"
    }
   ],
   "source": [
    "var[:7]"
   ]
  },
  {
   "cell_type": "code",
   "execution_count": 28,
   "id": "663bafc4-785a-46dc-83a3-40cadb293395",
   "metadata": {},
   "outputs": [
    {
     "data": {
      "text/plain": [
       "'hello! python hello! python'"
      ]
     },
     "execution_count": 28,
     "metadata": {},
     "output_type": "execute_result"
    }
   ],
   "source": [
    "var + \" \"+ var"
   ]
  },
  {
   "cell_type": "code",
   "execution_count": 31,
   "id": "11f9a2fd-88b5-4264-bd3e-fc1076036409",
   "metadata": {},
   "outputs": [
    {
     "data": {
      "text/plain": [
       "'hello! python hello! python hello! python '"
      ]
     },
     "execution_count": 31,
     "metadata": {},
     "output_type": "execute_result"
    }
   ],
   "source": [
    "(var + \" \")*3"
   ]
  },
  {
   "cell_type": "code",
   "execution_count": 34,
   "id": "4818a19b-7629-45e4-86e0-5985bfeaa841",
   "metadata": {},
   "outputs": [
    {
     "ename": "TypeError",
     "evalue": "'str' object does not support item assignment",
     "output_type": "error",
     "traceback": [
      "\u001b[1;31m---------------------------------------------------------------------------\u001b[0m",
      "\u001b[1;31mTypeError\u001b[0m                                 Traceback (most recent call last)",
      "Cell \u001b[1;32mIn[34], line 1\u001b[0m\n\u001b[1;32m----> 1\u001b[0m var[\u001b[38;5;241m1\u001b[39m] \u001b[38;5;241m=\u001b[39m \u001b[38;5;124m\"\u001b[39m\u001b[38;5;124mE\u001b[39m\u001b[38;5;124m\"\u001b[39m\n",
      "\u001b[1;31mTypeError\u001b[0m: 'str' object does not support item assignment"
     ]
    }
   ],
   "source": [
    "var[1] = \"E\""
   ]
  },
  {
   "cell_type": "code",
   "execution_count": 35,
   "id": "02799ffe-2904-4476-95b4-b45ab66f7997",
   "metadata": {},
   "outputs": [
    {
     "data": {
      "text/plain": [
       "'HELLO! PYTHON'"
      ]
     },
     "execution_count": 35,
     "metadata": {},
     "output_type": "execute_result"
    }
   ],
   "source": [
    "var.upper()"
   ]
  },
  {
   "cell_type": "code",
   "execution_count": 36,
   "id": "fd9dd67c-d247-475f-ada3-ce4b009037bb",
   "metadata": {},
   "outputs": [
    {
     "data": {
      "text/plain": [
       "'hello! python'"
      ]
     },
     "execution_count": 36,
     "metadata": {},
     "output_type": "execute_result"
    }
   ],
   "source": [
    "var.lower()"
   ]
  },
  {
   "cell_type": "code",
   "execution_count": 37,
   "id": "96b2a3d4-46ed-4887-b3bb-dbc618ee59c2",
   "metadata": {},
   "outputs": [
    {
     "data": {
      "text/plain": [
       "'Hello! python'"
      ]
     },
     "execution_count": 37,
     "metadata": {},
     "output_type": "execute_result"
    }
   ],
   "source": [
    "var.capitalize()"
   ]
  },
  {
   "cell_type": "code",
   "execution_count": 38,
   "id": "4d2e0697-4aa1-4f22-beb1-5fb3c585d7a7",
   "metadata": {},
   "outputs": [
    {
     "data": {
      "text/plain": [
       "'Hello! Python'"
      ]
     },
     "execution_count": 38,
     "metadata": {},
     "output_type": "execute_result"
    }
   ],
   "source": [
    "var.title()"
   ]
  },
  {
   "cell_type": "code",
   "execution_count": 39,
   "id": "5e3dc5ab-7c56-427d-97c0-20bdd57362ba",
   "metadata": {},
   "outputs": [
    {
     "data": {
      "text/plain": [
       "'                                 hello! python                                  '"
      ]
     },
     "execution_count": 39,
     "metadata": {},
     "output_type": "execute_result"
    }
   ],
   "source": [
    "var.center(80)"
   ]
  },
  {
   "cell_type": "code",
   "execution_count": 40,
   "id": "392807f2-8658-4715-ae6c-d02e04194154",
   "metadata": {},
   "outputs": [
    {
     "data": {
      "text/plain": [
       "True"
      ]
     },
     "execution_count": 40,
     "metadata": {},
     "output_type": "execute_result"
    }
   ],
   "source": [
    "var.islower()"
   ]
  },
  {
   "cell_type": "code",
   "execution_count": 41,
   "id": "8d0bd454-eca2-46fb-8bfe-315fdff976fb",
   "metadata": {},
   "outputs": [
    {
     "data": {
      "text/plain": [
       "False"
      ]
     },
     "execution_count": 41,
     "metadata": {},
     "output_type": "execute_result"
    }
   ],
   "source": [
    "var.isupper()"
   ]
  },
  {
   "cell_type": "code",
   "execution_count": 42,
   "id": "1133d413-c750-46d5-932e-c892d99a3c1d",
   "metadata": {},
   "outputs": [
    {
     "data": {
      "text/plain": [
       "False"
      ]
     },
     "execution_count": 42,
     "metadata": {},
     "output_type": "execute_result"
    }
   ],
   "source": [
    "var.isnumeric()"
   ]
  },
  {
   "cell_type": "code",
   "execution_count": 43,
   "id": "ba052a5a-ac56-478e-915c-a27978f1fa79",
   "metadata": {},
   "outputs": [
    {
     "data": {
      "text/plain": [
       "False"
      ]
     },
     "execution_count": 43,
     "metadata": {},
     "output_type": "execute_result"
    }
   ],
   "source": [
    "var.isalpha()"
   ]
  },
  {
   "cell_type": "code",
   "execution_count": 44,
   "id": "e78efdf5-1cbc-49ed-b2e8-32d25640cf7d",
   "metadata": {},
   "outputs": [
    {
     "data": {
      "text/plain": [
       "False"
      ]
     },
     "execution_count": 44,
     "metadata": {},
     "output_type": "execute_result"
    }
   ],
   "source": [
    "var.isalnum()"
   ]
  },
  {
   "cell_type": "code",
   "execution_count": 46,
   "id": "0412a3fa-a302-4ab1-b873-8aaf7c91668c",
   "metadata": {},
   "outputs": [
    {
     "data": {
      "text/plain": [
       "False"
      ]
     },
     "execution_count": 46,
     "metadata": {},
     "output_type": "execute_result"
    }
   ],
   "source": [
    "\"!   \".isspace()"
   ]
  },
  {
   "cell_type": "code",
   "execution_count": 47,
   "id": "8ae69e53-4d78-4651-8d9b-6b7662252719",
   "metadata": {},
   "outputs": [
    {
     "data": {
      "text/plain": [
       "'hello! python'"
      ]
     },
     "execution_count": 47,
     "metadata": {},
     "output_type": "execute_result"
    }
   ],
   "source": [
    "var"
   ]
  },
  {
   "cell_type": "code",
   "execution_count": 48,
   "id": "f0b053a4-f820-4dec-bce6-862fe07842c0",
   "metadata": {},
   "outputs": [
    {
     "data": {
      "text/plain": [
       "('hello!', ' ', 'python')"
      ]
     },
     "execution_count": 48,
     "metadata": {},
     "output_type": "execute_result"
    }
   ],
   "source": [
    "var.partition(\" \")"
   ]
  },
  {
   "cell_type": "code",
   "execution_count": 49,
   "id": "1fe73a7a-9591-4f94-9253-29e1779c1817",
   "metadata": {},
   "outputs": [
    {
     "data": {
      "text/plain": [
       "['hello!', 'python']"
      ]
     },
     "execution_count": 49,
     "metadata": {},
     "output_type": "execute_result"
    }
   ],
   "source": [
    "var.split()"
   ]
  },
  {
   "cell_type": "code",
   "execution_count": 50,
   "id": "c12c3347-383a-48fe-9e3c-a2edab433ae1",
   "metadata": {},
   "outputs": [
    {
     "data": {
      "text/plain": [
       "['hello', ' python']"
      ]
     },
     "execution_count": 50,
     "metadata": {},
     "output_type": "execute_result"
    }
   ],
   "source": [
    "var.split(\"!\")"
   ]
  },
  {
   "cell_type": "code",
   "execution_count": 51,
   "id": "7c47d98b-c624-4a33-a38c-3ea9842b4baf",
   "metadata": {},
   "outputs": [
    {
     "data": {
      "text/plain": [
       "'o! python'"
      ]
     },
     "execution_count": 51,
     "metadata": {},
     "output_type": "execute_result"
    }
   ],
   "source": [
    "var.removeprefix(\"hell\")"
   ]
  },
  {
   "cell_type": "code",
   "execution_count": 52,
   "id": "f1ca46f8-fb74-48bc-929b-39af01fa96df",
   "metadata": {},
   "outputs": [
    {
     "data": {
      "text/plain": [
       "'hello! py'"
      ]
     },
     "execution_count": 52,
     "metadata": {},
     "output_type": "execute_result"
    }
   ],
   "source": [
    "var.removesuffix(\"thon\")"
   ]
  },
  {
   "cell_type": "code",
   "execution_count": 53,
   "id": "2e88c22d-a0bc-45d7-899e-a47af2554074",
   "metadata": {},
   "outputs": [
    {
     "data": {
      "text/plain": [
       "'heLLo! python'"
      ]
     },
     "execution_count": 53,
     "metadata": {},
     "output_type": "execute_result"
    }
   ],
   "source": [
    "var.replace(\"l\", \"L\")"
   ]
  },
  {
   "cell_type": "code",
   "execution_count": 54,
   "id": "0628b132-02b2-46e3-9e0e-a7d264de1663",
   "metadata": {},
   "outputs": [
    {
     "data": {
      "text/plain": [
       "'jAvA'"
      ]
     },
     "execution_count": 54,
     "metadata": {},
     "output_type": "execute_result"
    }
   ],
   "source": [
    "\"JaVa\".swapcase()"
   ]
  },
  {
   "cell_type": "code",
   "execution_count": 57,
   "id": "3275f9ed-e139-4f76-8cdb-aea2ebd5ea70",
   "metadata": {},
   "outputs": [],
   "source": [
    "t1 = (\"red\", \"white\", \"black\", \"blue\", \"yellow\")"
   ]
  },
  {
   "cell_type": "code",
   "execution_count": 58,
   "id": "47b59189-6d14-4edd-9fdd-16c406ef30f6",
   "metadata": {},
   "outputs": [
    {
     "data": {
      "text/plain": [
       "'red white black blue yellow'"
      ]
     },
     "execution_count": 58,
     "metadata": {},
     "output_type": "execute_result"
    }
   ],
   "source": [
    "\" \".join(t1)"
   ]
  },
  {
   "cell_type": "code",
   "execution_count": 59,
   "id": "2c730656-63b4-4df6-bd06-8ae268fcc3a1",
   "metadata": {},
   "outputs": [],
   "source": [
    "var1= \"   java    \""
   ]
  },
  {
   "cell_type": "code",
   "execution_count": 61,
   "id": "f0af2096-5a52-44e2-be0d-80ba08f64469",
   "metadata": {},
   "outputs": [
    {
     "data": {
      "text/plain": [
       "'java    '"
      ]
     },
     "execution_count": 61,
     "metadata": {},
     "output_type": "execute_result"
    }
   ],
   "source": [
    "var1.lstrip()"
   ]
  },
  {
   "cell_type": "code",
   "execution_count": 62,
   "id": "b4d80e9b-4c0b-43e0-9c1c-7d4e377a84cd",
   "metadata": {},
   "outputs": [
    {
     "data": {
      "text/plain": [
       "'   java'"
      ]
     },
     "execution_count": 62,
     "metadata": {},
     "output_type": "execute_result"
    }
   ],
   "source": [
    "var1.rstrip()"
   ]
  },
  {
   "cell_type": "code",
   "execution_count": 63,
   "id": "47535cdc-2490-4d3f-bf0c-c861e867166c",
   "metadata": {},
   "outputs": [
    {
     "data": {
      "text/plain": [
       "'java'"
      ]
     },
     "execution_count": 63,
     "metadata": {},
     "output_type": "execute_result"
    }
   ],
   "source": [
    "var1.strip()"
   ]
  },
  {
   "cell_type": "code",
   "execution_count": 64,
   "id": "44cd094f-c029-4cbe-8556-d4c9e3b37611",
   "metadata": {},
   "outputs": [],
   "source": [
    "var1= \"   java@@@    \""
   ]
  },
  {
   "cell_type": "code",
   "execution_count": 66,
   "id": "b0c6373d-ccef-41f5-be8e-53a70ae66fde",
   "metadata": {},
   "outputs": [
    {
     "data": {
      "text/plain": [
       "'java'"
      ]
     },
     "execution_count": 66,
     "metadata": {},
     "output_type": "execute_result"
    }
   ],
   "source": [
    "var1.strip(\"@ \")"
   ]
  },
  {
   "cell_type": "code",
   "execution_count": 67,
   "id": "ac77d706-d28f-4bfe-b8ca-f6b326fa7b27",
   "metadata": {},
   "outputs": [
    {
     "data": {
      "text/plain": [
       "'l'"
      ]
     },
     "execution_count": 67,
     "metadata": {},
     "output_type": "execute_result"
    }
   ],
   "source": [
    "var[3]"
   ]
  },
  {
   "cell_type": "code",
   "execution_count": 68,
   "id": "e629afd8-11a1-4c94-b9ec-3d97201ec556",
   "metadata": {},
   "outputs": [
    {
     "data": {
      "text/plain": [
       "5"
      ]
     },
     "execution_count": 68,
     "metadata": {},
     "output_type": "execute_result"
    }
   ],
   "source": [
    "var.index(\"!\")"
   ]
  },
  {
   "cell_type": "code",
   "execution_count": 69,
   "id": "60ee4725-3554-4604-9068-65538040fbb7",
   "metadata": {},
   "outputs": [
    {
     "data": {
      "text/plain": [
       "2"
      ]
     },
     "execution_count": 69,
     "metadata": {},
     "output_type": "execute_result"
    }
   ],
   "source": [
    "var.count(\"l\")"
   ]
  },
  {
   "cell_type": "markdown",
   "id": "91648f94-6ef0-421f-a817-058a53f8d998",
   "metadata": {},
   "source": [
    "### Tuple"
   ]
  },
  {
   "cell_type": "code",
   "execution_count": 71,
   "id": "f89734a2-e304-47e9-acaf-6d3bb9abb114",
   "metadata": {},
   "outputs": [],
   "source": [
    "t1 = (\"red\", \"white\", \"black\", \"blue\", \"yellow\")"
   ]
  },
  {
   "cell_type": "code",
   "execution_count": 72,
   "id": "3d5b7084-5577-499e-9926-655c7eccba96",
   "metadata": {},
   "outputs": [
    {
     "data": {
      "text/plain": [
       "'yellow'"
      ]
     },
     "execution_count": 72,
     "metadata": {},
     "output_type": "execute_result"
    }
   ],
   "source": [
    "t1[4]"
   ]
  },
  {
   "cell_type": "code",
   "execution_count": 73,
   "id": "fdb81480-8c89-4df4-a596-c0bb70984149",
   "metadata": {},
   "outputs": [
    {
     "data": {
      "text/plain": [
       "'black'"
      ]
     },
     "execution_count": 73,
     "metadata": {},
     "output_type": "execute_result"
    }
   ],
   "source": [
    "t1[-3]"
   ]
  },
  {
   "cell_type": "code",
   "execution_count": 76,
   "id": "e2fd591a-58f3-4b79-8724-2ec9337902b3",
   "metadata": {},
   "outputs": [
    {
     "data": {
      "text/plain": [
       "('white', 'black')"
      ]
     },
     "execution_count": 76,
     "metadata": {},
     "output_type": "execute_result"
    }
   ],
   "source": [
    "t1[1:3]"
   ]
  },
  {
   "cell_type": "code",
   "execution_count": 77,
   "id": "5c3226b0-9f84-4ee7-a02c-dab3120a1be3",
   "metadata": {},
   "outputs": [
    {
     "data": {
      "text/plain": [
       "('red',\n",
       " 'white',\n",
       " 'black',\n",
       " 'blue',\n",
       " 'yellow',\n",
       " 'red',\n",
       " 'white',\n",
       " 'black',\n",
       " 'blue',\n",
       " 'yellow')"
      ]
     },
     "execution_count": 77,
     "metadata": {},
     "output_type": "execute_result"
    }
   ],
   "source": [
    "t1 + t1"
   ]
  },
  {
   "cell_type": "code",
   "execution_count": 79,
   "id": "c37fbf99-97bd-4c41-99c7-09cfd8289262",
   "metadata": {},
   "outputs": [
    {
     "data": {
      "text/plain": [
       "('red',\n",
       " 'white',\n",
       " 'black',\n",
       " 'blue',\n",
       " 'yellow',\n",
       " 'red',\n",
       " 'white',\n",
       " 'black',\n",
       " 'blue',\n",
       " 'yellow',\n",
       " 'red',\n",
       " 'white',\n",
       " 'black',\n",
       " 'blue',\n",
       " 'yellow')"
      ]
     },
     "execution_count": 79,
     "metadata": {},
     "output_type": "execute_result"
    }
   ],
   "source": [
    "t1*3"
   ]
  },
  {
   "cell_type": "code",
   "execution_count": 80,
   "id": "b52bc8e7-19ae-4bc7-ac12-6e3f255317fc",
   "metadata": {},
   "outputs": [
    {
     "ename": "TypeError",
     "evalue": "can only concatenate tuple (not \"str\") to tuple",
     "output_type": "error",
     "traceback": [
      "\u001b[1;31m---------------------------------------------------------------------------\u001b[0m",
      "\u001b[1;31mTypeError\u001b[0m                                 Traceback (most recent call last)",
      "Cell \u001b[1;32mIn[80], line 1\u001b[0m\n\u001b[1;32m----> 1\u001b[0m t1 \u001b[38;5;241m+\u001b[39m var\n",
      "\u001b[1;31mTypeError\u001b[0m: can only concatenate tuple (not \"str\") to tuple"
     ]
    }
   ],
   "source": [
    "t1 + var"
   ]
  },
  {
   "cell_type": "code",
   "execution_count": 82,
   "id": "04191b59-99e9-48e6-91b5-9148fa8d2da8",
   "metadata": {},
   "outputs": [
    {
     "ename": "TypeError",
     "evalue": "'tuple' object does not support item assignment",
     "output_type": "error",
     "traceback": [
      "\u001b[1;31m---------------------------------------------------------------------------\u001b[0m",
      "\u001b[1;31mTypeError\u001b[0m                                 Traceback (most recent call last)",
      "Cell \u001b[1;32mIn[82], line 1\u001b[0m\n\u001b[1;32m----> 1\u001b[0m t1[\u001b[38;5;241m2\u001b[39m]  \u001b[38;5;241m=\u001b[39m \u001b[38;5;124m\"\u001b[39m\u001b[38;5;124mdark black\u001b[39m\u001b[38;5;124m\"\u001b[39m\n",
      "\u001b[1;31mTypeError\u001b[0m: 'tuple' object does not support item assignment"
     ]
    }
   ],
   "source": [
    "t1[2]  = \"dark black\""
   ]
  },
  {
   "cell_type": "code",
   "execution_count": 83,
   "id": "c1c4793e-5fb2-4c49-8f61-991ece66196f",
   "metadata": {},
   "outputs": [
    {
     "data": {
      "text/plain": [
       "1"
      ]
     },
     "execution_count": 83,
     "metadata": {},
     "output_type": "execute_result"
    }
   ],
   "source": [
    "t1.count(\"black\")"
   ]
  },
  {
   "cell_type": "code",
   "execution_count": 84,
   "id": "dc76b4c4-a220-4f76-91b0-e70e0d2a99b6",
   "metadata": {},
   "outputs": [
    {
     "data": {
      "text/plain": [
       "1"
      ]
     },
     "execution_count": 84,
     "metadata": {},
     "output_type": "execute_result"
    }
   ],
   "source": [
    "t1.index(\"white\")"
   ]
  },
  {
   "cell_type": "markdown",
   "id": "1fbc4692-baf5-4f0b-a3b6-ce57d7c3a140",
   "metadata": {},
   "source": [
    "### List"
   ]
  },
  {
   "cell_type": "code",
   "execution_count": 85,
   "id": "e678e1aa-6ed3-4aec-9e92-407db779d0af",
   "metadata": {},
   "outputs": [],
   "source": [
    "my_list = [45, 62, 38, 52, 18, 76, 64, 28]"
   ]
  },
  {
   "cell_type": "code",
   "execution_count": 86,
   "id": "8e8b1623-8123-43ec-881f-f1ec92fbf7e6",
   "metadata": {},
   "outputs": [
    {
     "data": {
      "text/plain": [
       "52"
      ]
     },
     "execution_count": 86,
     "metadata": {},
     "output_type": "execute_result"
    }
   ],
   "source": [
    "my_list[3]"
   ]
  },
  {
   "cell_type": "code",
   "execution_count": 87,
   "id": "c4b794b7-3e1b-4d6e-abce-825bf1aa21fb",
   "metadata": {},
   "outputs": [
    {
     "data": {
      "text/plain": [
       "[45, 62, 38, 52, 18, 76, 64, 28]"
      ]
     },
     "execution_count": 87,
     "metadata": {},
     "output_type": "execute_result"
    }
   ],
   "source": [
    "my_list[:]"
   ]
  },
  {
   "cell_type": "code",
   "execution_count": 88,
   "id": "f81b2ca1-76ce-4fcc-b6db-e7a6e11aa621",
   "metadata": {},
   "outputs": [
    {
     "data": {
      "text/plain": [
       "[45, 62, 38, 52, 18, 76, 64, 28, 45, 62, 38, 52, 18, 76, 64, 28]"
      ]
     },
     "execution_count": 88,
     "metadata": {},
     "output_type": "execute_result"
    }
   ],
   "source": [
    "my_list + my_list"
   ]
  },
  {
   "cell_type": "code",
   "execution_count": 89,
   "id": "4ccb9b93-e63a-4483-8077-e4810958e37e",
   "metadata": {},
   "outputs": [
    {
     "data": {
      "text/plain": [
       "[45,\n",
       " 62,\n",
       " 38,\n",
       " 52,\n",
       " 18,\n",
       " 76,\n",
       " 64,\n",
       " 28,\n",
       " 45,\n",
       " 62,\n",
       " 38,\n",
       " 52,\n",
       " 18,\n",
       " 76,\n",
       " 64,\n",
       " 28,\n",
       " 45,\n",
       " 62,\n",
       " 38,\n",
       " 52,\n",
       " 18,\n",
       " 76,\n",
       " 64,\n",
       " 28]"
      ]
     },
     "execution_count": 89,
     "metadata": {},
     "output_type": "execute_result"
    }
   ],
   "source": [
    "my_list*3"
   ]
  },
  {
   "cell_type": "code",
   "execution_count": 91,
   "id": "b494f9e9-a02b-4b30-8e4e-4af725ec475b",
   "metadata": {},
   "outputs": [],
   "source": [
    "my_list[2] = 33"
   ]
  },
  {
   "cell_type": "code",
   "execution_count": 92,
   "id": "51404e44-7c1b-4851-b110-b5635111cf23",
   "metadata": {},
   "outputs": [
    {
     "data": {
      "text/plain": [
       "[45, 62, 33, 52, 18, 76, 64, 28]"
      ]
     },
     "execution_count": 92,
     "metadata": {},
     "output_type": "execute_result"
    }
   ],
   "source": [
    "my_list"
   ]
  },
  {
   "cell_type": "code",
   "execution_count": 93,
   "id": "501a529c-208c-4004-8292-a61640b81047",
   "metadata": {},
   "outputs": [],
   "source": [
    "my_list.append(55)"
   ]
  },
  {
   "cell_type": "code",
   "execution_count": 95,
   "id": "8c1b449f-72f7-4d34-8af6-187c00932cc7",
   "metadata": {},
   "outputs": [],
   "source": [
    "my_list.append([22,33])"
   ]
  },
  {
   "cell_type": "code",
   "execution_count": 96,
   "id": "125dd01c-3f84-4cc1-98f2-82596887fb19",
   "metadata": {},
   "outputs": [
    {
     "data": {
      "text/plain": [
       "[45, 62, 33, 52, 18, 76, 64, 28, 55, [22, 33]]"
      ]
     },
     "execution_count": 96,
     "metadata": {},
     "output_type": "execute_result"
    }
   ],
   "source": [
    "my_list"
   ]
  },
  {
   "cell_type": "code",
   "execution_count": 97,
   "id": "d2e62275-6e32-48ec-ac9e-674d40f78d54",
   "metadata": {},
   "outputs": [],
   "source": [
    "my_list.extend([22,33])"
   ]
  },
  {
   "cell_type": "code",
   "execution_count": 98,
   "id": "38b037d1-6e79-4ab6-a45e-c8db57d86fce",
   "metadata": {},
   "outputs": [
    {
     "data": {
      "text/plain": [
       "[45, 62, 33, 52, 18, 76, 64, 28, 55, [22, 33], 22, 33]"
      ]
     },
     "execution_count": 98,
     "metadata": {},
     "output_type": "execute_result"
    }
   ],
   "source": [
    "my_list"
   ]
  },
  {
   "cell_type": "code",
   "execution_count": 99,
   "id": "73499fac-b1af-4617-a727-1c296a058277",
   "metadata": {},
   "outputs": [],
   "source": [
    "my_list.insert(5, 555)"
   ]
  },
  {
   "cell_type": "code",
   "execution_count": 100,
   "id": "53c893ae-b633-48f1-9be2-086a0728ca7a",
   "metadata": {},
   "outputs": [
    {
     "data": {
      "text/plain": [
       "[45, 62, 33, 52, 18, 555, 76, 64, 28, 55, [22, 33], 22, 33]"
      ]
     },
     "execution_count": 100,
     "metadata": {},
     "output_type": "execute_result"
    }
   ],
   "source": [
    "my_list"
   ]
  },
  {
   "cell_type": "code",
   "execution_count": 105,
   "id": "04610742-57ab-40b3-8cc0-ed383b9eb65a",
   "metadata": {},
   "outputs": [
    {
     "data": {
      "text/plain": [
       "[22, 33]"
      ]
     },
     "execution_count": 105,
     "metadata": {},
     "output_type": "execute_result"
    }
   ],
   "source": [
    "my_list.pop()"
   ]
  },
  {
   "cell_type": "code",
   "execution_count": 108,
   "id": "df5bb20d-6f57-41b9-9955-9e4c38158c5a",
   "metadata": {},
   "outputs": [
    {
     "ename": "ValueError",
     "evalue": "list.remove(x): x not in list",
     "output_type": "error",
     "traceback": [
      "\u001b[1;31m---------------------------------------------------------------------------\u001b[0m",
      "\u001b[1;31mValueError\u001b[0m                                Traceback (most recent call last)",
      "Cell \u001b[1;32mIn[108], line 1\u001b[0m\n\u001b[1;32m----> 1\u001b[0m my_list\u001b[38;5;241m.\u001b[39mremove(\u001b[38;5;241m555\u001b[39m)\n",
      "\u001b[1;31mValueError\u001b[0m: list.remove(x): x not in list"
     ]
    }
   ],
   "source": [
    "my_list.remove(555)"
   ]
  },
  {
   "cell_type": "code",
   "execution_count": 109,
   "id": "1f72ff34-62df-4e18-80e8-3fb649f54702",
   "metadata": {},
   "outputs": [
    {
     "data": {
      "text/plain": [
       "[45, 62, 33, 52, 18, 76, 64, 28, 55]"
      ]
     },
     "execution_count": 109,
     "metadata": {},
     "output_type": "execute_result"
    }
   ],
   "source": [
    "my_list"
   ]
  },
  {
   "cell_type": "code",
   "execution_count": 110,
   "id": "e54b3d7f-30e6-431d-b5b0-02640b6ea994",
   "metadata": {},
   "outputs": [],
   "source": [
    "l2 = my_list.copy()"
   ]
  },
  {
   "cell_type": "code",
   "execution_count": 114,
   "id": "df75e0c7-dde6-427d-92a0-d1491ca44810",
   "metadata": {},
   "outputs": [],
   "source": [
    "l2.sort(reverse=True)"
   ]
  },
  {
   "cell_type": "code",
   "execution_count": 115,
   "id": "ff17e998-a76f-4e8d-bffb-1132337b0db2",
   "metadata": {},
   "outputs": [
    {
     "data": {
      "text/plain": [
       "[76, 64, 62, 55, 52, 45, 33, 28, 18]"
      ]
     },
     "execution_count": 115,
     "metadata": {},
     "output_type": "execute_result"
    }
   ],
   "source": [
    "l2"
   ]
  },
  {
   "cell_type": "code",
   "execution_count": 116,
   "id": "59dddf19-81b0-4497-b80e-28b5c18466e6",
   "metadata": {},
   "outputs": [],
   "source": [
    "l2.reverse()"
   ]
  },
  {
   "cell_type": "code",
   "execution_count": 117,
   "id": "04641ec0-ed54-4aa0-a1db-dc6b1c35b3f3",
   "metadata": {},
   "outputs": [
    {
     "data": {
      "text/plain": [
       "[18, 28, 33, 45, 52, 55, 62, 64, 76]"
      ]
     },
     "execution_count": 117,
     "metadata": {},
     "output_type": "execute_result"
    }
   ],
   "source": [
    "l2"
   ]
  },
  {
   "cell_type": "code",
   "execution_count": 118,
   "id": "e679fce1-191b-4578-ae99-4be27f22a2db",
   "metadata": {},
   "outputs": [
    {
     "data": {
      "text/plain": [
       "[76, 64, 62, 55, 52, 45, 33, 28, 18]"
      ]
     },
     "execution_count": 118,
     "metadata": {},
     "output_type": "execute_result"
    }
   ],
   "source": [
    "l2[::-1]"
   ]
  },
  {
   "cell_type": "markdown",
   "id": "c10a345d-2488-40c2-93e6-a8d39e7a26ea",
   "metadata": {},
   "source": [
    "### Loop"
   ]
  },
  {
   "cell_type": "code",
   "execution_count": null,
   "id": "e07a5e06-5c9c-426b-bf66-791a856c0aca",
   "metadata": {},
   "outputs": [],
   "source": [
    "for\n",
    "while"
   ]
  },
  {
   "cell_type": "code",
   "execution_count": 119,
   "id": "3adc2d76-9d46-4d10-abdf-2d086ab7d50d",
   "metadata": {},
   "outputs": [
    {
     "name": "stdout",
     "output_type": "stream",
     "text": [
      "0\n",
      "10\n",
      "20\n",
      "30\n",
      "40\n",
      "50\n",
      "60\n",
      "70\n",
      "80\n",
      "90\n"
     ]
    }
   ],
   "source": [
    "for i in range(0, 100, 10):\n",
    "    print(i)"
   ]
  },
  {
   "cell_type": "code",
   "execution_count": 120,
   "id": "784badc9-2372-4410-a5d0-7184a766f680",
   "metadata": {},
   "outputs": [
    {
     "name": "stdout",
     "output_type": "stream",
     "text": [
      "45\n",
      "62\n",
      "33\n",
      "52\n",
      "18\n",
      "76\n",
      "64\n",
      "28\n",
      "55\n"
     ]
    }
   ],
   "source": [
    "for i in my_list:\n",
    "    print(i)"
   ]
  },
  {
   "cell_type": "code",
   "execution_count": 122,
   "id": "a64fca45-d8d9-4b7d-848d-9b7f8b87b0a7",
   "metadata": {},
   "outputs": [
    {
     "data": {
      "text/plain": [
       "'hello! python'"
      ]
     },
     "execution_count": 122,
     "metadata": {},
     "output_type": "execute_result"
    }
   ],
   "source": [
    "var"
   ]
  },
  {
   "cell_type": "code",
   "execution_count": 121,
   "id": "136cde80-95a6-48b2-9dc6-9bc7c29523b9",
   "metadata": {},
   "outputs": [
    {
     "name": "stdout",
     "output_type": "stream",
     "text": [
      "h\n",
      "e\n",
      "l\n",
      "l\n",
      "o\n",
      "!\n",
      " \n",
      "p\n",
      "y\n",
      "t\n",
      "h\n",
      "o\n",
      "n\n"
     ]
    }
   ],
   "source": [
    "for i in var:\n",
    "    print(i)"
   ]
  },
  {
   "cell_type": "code",
   "execution_count": 123,
   "id": "4a66a0ab-bb7c-4681-be05-4675a2998fec",
   "metadata": {},
   "outputs": [
    {
     "name": "stdout",
     "output_type": "stream",
     "text": [
      "hello! python\n",
      "hello! python\n",
      "hello! python\n",
      "hello! python\n",
      "hello! python\n"
     ]
    }
   ],
   "source": [
    "for i in range(5):\n",
    "    print(var)"
   ]
  },
  {
   "cell_type": "code",
   "execution_count": 124,
   "id": "a685e664-7462-45c0-98bd-85299a3ea40c",
   "metadata": {},
   "outputs": [
    {
     "ename": "TypeError",
     "evalue": "'int' object is not iterable",
     "output_type": "error",
     "traceback": [
      "\u001b[1;31m---------------------------------------------------------------------------\u001b[0m",
      "\u001b[1;31mTypeError\u001b[0m                                 Traceback (most recent call last)",
      "Cell \u001b[1;32mIn[124], line 1\u001b[0m\n\u001b[1;32m----> 1\u001b[0m \u001b[38;5;28;01mfor\u001b[39;00m i \u001b[38;5;129;01min\u001b[39;00m \u001b[38;5;241m765465\u001b[39m:\n\u001b[0;32m      2\u001b[0m     \u001b[38;5;28mprint\u001b[39m(i)\n",
      "\u001b[1;31mTypeError\u001b[0m: 'int' object is not iterable"
     ]
    }
   ],
   "source": [
    "for i in 765465:\n",
    "    print(i)"
   ]
  },
  {
   "cell_type": "code",
   "execution_count": 125,
   "id": "557c11c2-92d3-4dcd-9361-351e097cecaa",
   "metadata": {},
   "outputs": [
    {
     "name": "stdout",
     "output_type": "stream",
     "text": [
      "7\n",
      "6\n",
      "5\n",
      "4\n",
      "6\n",
      "5\n"
     ]
    }
   ],
   "source": [
    "for i in \"765465\":\n",
    "    print(i)"
   ]
  },
  {
   "cell_type": "code",
   "execution_count": 126,
   "id": "5b88c831-6a31-42d8-8aa0-ca27e71fdd34",
   "metadata": {},
   "outputs": [
    {
     "name": "stdout",
     "output_type": "stream",
     "text": [
      "7 6 5 4 6 5 "
     ]
    }
   ],
   "source": [
    "for i in \"765465\":\n",
    "    print(i, end = \" \")"
   ]
  },
  {
   "cell_type": "code",
   "execution_count": 128,
   "id": "6420fca6-9ffc-41d4-936b-8e17e7fa9bec",
   "metadata": {},
   "outputs": [
    {
     "name": "stdout",
     "output_type": "stream",
     "text": [
      "j\n"
     ]
    }
   ],
   "source": [
    "for i in \"abcdefghijkl\":\n",
    "    if i == \"j\":\n",
    "        pass\n",
    "        print(i)"
   ]
  },
  {
   "cell_type": "code",
   "execution_count": 130,
   "id": "d2b34a1a-bf43-4e70-9409-b2536dab6561",
   "metadata": {},
   "outputs": [
    {
     "name": "stdout",
     "output_type": "stream",
     "text": [
      "a\n",
      "b\n",
      "c\n",
      "d\n",
      "e\n",
      "f\n",
      "g\n",
      "h\n",
      "i\n"
     ]
    }
   ],
   "source": [
    "for i in \"abcdefghijkl\":\n",
    "    if i == \"j\":\n",
    "        break\n",
    "    print(i)"
   ]
  },
  {
   "cell_type": "code",
   "execution_count": 131,
   "id": "1d952ac3-65d8-42d0-8513-0a312992a838",
   "metadata": {},
   "outputs": [
    {
     "name": "stdout",
     "output_type": "stream",
     "text": [
      "a\n",
      "b\n",
      "c\n",
      "d\n",
      "e\n",
      "f\n",
      "h\n",
      "i\n",
      "j\n",
      "k\n",
      "l\n"
     ]
    }
   ],
   "source": [
    "for i in \"abcdefghijkl\":\n",
    "    if i == \"g\":\n",
    "        continue\n",
    "    print(i)"
   ]
  },
  {
   "cell_type": "code",
   "execution_count": 132,
   "id": "563fc67d-c5a0-4a58-860a-58c0d1ddcdb1",
   "metadata": {},
   "outputs": [
    {
     "name": "stdout",
     "output_type": "stream",
     "text": [
      "0\n",
      "1\n",
      "2\n",
      "3\n",
      "4\n"
     ]
    }
   ],
   "source": [
    "a = 0\n",
    "while a < 5:\n",
    "    print(a)\n",
    "    a=a+1"
   ]
  },
  {
   "cell_type": "code",
   "execution_count": 138,
   "id": "ffe48656-e411-4f1b-96a5-d66089b81148",
   "metadata": {},
   "outputs": [
    {
     "name": "stdout",
     "output_type": "stream",
     "text": [
      "1\n",
      "2\n",
      "3\n",
      "4\n",
      "5\n",
      "6\n",
      "7\n",
      "7\n",
      "8\n",
      "9\n",
      "10\n"
     ]
    }
   ],
   "source": [
    "x = 0\n",
    "while x < 10:\n",
    "    if x == 7:\n",
    "        print(x)\n",
    "    x=x+1    \n",
    "    print(x)"
   ]
  },
  {
   "cell_type": "code",
   "execution_count": 142,
   "id": "c554c192-a461-4627-bee1-117cfe199c24",
   "metadata": {},
   "outputs": [
    {
     "name": "stdout",
     "output_type": "stream",
     "text": [
      "0 4\n",
      "1 4\n",
      "2 4\n",
      "3 4\n",
      "4 4\n"
     ]
    }
   ],
   "source": [
    "j = 0\n",
    "\n",
    "while j < 5:\n",
    "    for i in range(5):\n",
    "        if i == 3:\n",
    "            print(j, end = \" \")\n",
    "    print(i)\n",
    "    j = j+1"
   ]
  },
  {
   "cell_type": "code",
   "execution_count": 147,
   "id": "30046176-7299-4aba-95ad-b80c7654052e",
   "metadata": {},
   "outputs": [
    {
     "name": "stdout",
     "output_type": "stream",
     "text": [
      "0\n",
      "1\n",
      "0\n",
      "0\n",
      "1\n",
      "1\n",
      "0\n",
      "1\n",
      "2\n"
     ]
    }
   ],
   "source": [
    "for i in range(3):\n",
    "    for j in range(2):\n",
    "        print(j)\n",
    "    print(i)    "
   ]
  },
  {
   "cell_type": "code",
   "execution_count": 154,
   "id": "b2ad6e53-1c22-4a8e-a599-4d48fe78f997",
   "metadata": {},
   "outputs": [
    {
     "name": "stdout",
     "output_type": "stream",
     "text": [
      "0 1 2 0 1 0\n",
      "0 1 2 0 1 1\n",
      "0 1 2 0 1 4\n",
      "0 1 2 0 1 9\n"
     ]
    }
   ],
   "source": [
    "for i in range(4):\n",
    "    for j in range(3):\n",
    "        print(j,end = \" \")\n",
    "    for k in range(2):\n",
    "        print(k, end= \" \") \n",
    "    print(i**2)"
   ]
  },
  {
   "cell_type": "code",
   "execution_count": 159,
   "id": "5bb5c4eb-4477-499c-9cef-2bad2e23b948",
   "metadata": {},
   "outputs": [
    {
     "name": "stdout",
     "output_type": "stream",
     "text": [
      "* \n",
      "* * \n",
      "* * * \n",
      "* * * * \n",
      "* * * * * \n"
     ]
    }
   ],
   "source": [
    "n = 1\n",
    "for i in range(5):\n",
    "    for j in range(n):\n",
    "        print(\"*\", end = \" \")\n",
    "    n=n+1 \n",
    "    print()"
   ]
  },
  {
   "cell_type": "code",
   "execution_count": 166,
   "id": "d2cd8039-29b8-4455-bfb3-3af32bd46b75",
   "metadata": {},
   "outputs": [
    {
     "name": "stdout",
     "output_type": "stream",
     "text": [
      "    * \n",
      "   * * \n",
      "  * * * \n",
      " * * * * \n",
      "* * * * * \n"
     ]
    }
   ],
   "source": [
    "n = 1\n",
    "m = 4\n",
    "for i in range(5):\n",
    "    for k in range(m):\n",
    "        print(\" \",end= \"\")\n",
    "    for j in range(n):\n",
    "        print(\"*\", end = \" \")\n",
    "    n=n+1 \n",
    "    m= m-1\n",
    "    print()"
   ]
  },
  {
   "cell_type": "code",
   "execution_count": null,
   "id": "9031adc1-5f56-4eeb-9b2d-a270a5bc0e54",
   "metadata": {},
   "outputs": [],
   "source": []
  }
 ],
 "metadata": {
  "kernelspec": {
   "display_name": "Python 3 (ipykernel)",
   "language": "python",
   "name": "python3"
  },
  "language_info": {
   "codemirror_mode": {
    "name": "ipython",
    "version": 3
   },
   "file_extension": ".py",
   "mimetype": "text/x-python",
   "name": "python",
   "nbconvert_exporter": "python",
   "pygments_lexer": "ipython3",
   "version": "3.11.7"
  }
 },
 "nbformat": 4,
 "nbformat_minor": 5
}
