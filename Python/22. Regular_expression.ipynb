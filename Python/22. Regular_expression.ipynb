{
 "cells": [
  {
   "cell_type": "code",
   "execution_count": 1,
   "id": "ac3d6345-1153-49e6-89a1-dd1704a7be15",
   "metadata": {},
   "outputs": [],
   "source": [
    "import re"
   ]
  },
  {
   "cell_type": "code",
   "execution_count": 2,
   "id": "3b0d472f-006c-4597-ac95-f1f86b10b09a",
   "metadata": {},
   "outputs": [
    {
     "name": "stdout",
     "output_type": "stream",
     "text": [
      "<re.Match object; span=(0, 3), match='The'>\n"
     ]
    }
   ],
   "source": [
    "#Search the string to see if it starts with \"The\" and ends with \"Spain\":#\n",
    "\n",
    "txt = \"The rain in Spain\"\n",
    "\n",
    "x = re.search(\"^The\", txt)\n",
    "\n",
    "print(x)"
   ]
  },
  {
   "cell_type": "code",
   "execution_count": 5,
   "id": "80caf678-ab11-4724-a50f-29d789e5f793",
   "metadata": {},
   "outputs": [],
   "source": [
    "txt = \"The rain in Spain\""
   ]
  },
  {
   "cell_type": "code",
   "execution_count": 18,
   "id": "e2500f2d-4cc5-47ed-90ea-52222279a02e",
   "metadata": {},
   "outputs": [
    {
     "data": {
      "text/plain": [
       "16"
      ]
     },
     "execution_count": 18,
     "metadata": {},
     "output_type": "execute_result"
    }
   ],
   "source": [
    "v = re.search(\"n$\", txt)\n",
    "v.start()"
   ]
  },
  {
   "cell_type": "code",
   "execution_count": 13,
   "id": "f72b262f-b5b3-409f-9548-8f5d7acaa00a",
   "metadata": {},
   "outputs": [
    {
     "name": "stdout",
     "output_type": "stream",
     "text": [
      "['ai', 'ai']\n"
     ]
    }
   ],
   "source": [
    "txt = \"The rain in Spain\"\n",
    "\n",
    "x = re.findall(\"ai\", txt)\n",
    "\n",
    "print(x)"
   ]
  },
  {
   "cell_type": "code",
   "execution_count": 17,
   "id": "d5318871-7bed-4cbb-bea3-57a2d7955cfd",
   "metadata": {},
   "outputs": [
    {
     "data": {
      "text/plain": [
       "3"
      ]
     },
     "execution_count": 17,
     "metadata": {},
     "output_type": "execute_result"
    }
   ],
   "source": [
    "txt = \"The rain in Spain\"\n",
    "\n",
    "x = re.search(\"\\s\", txt)\n",
    "x\n",
    "x.start()\n",
    "#print(\"The first white-space character is located in position:\", x.start())"
   ]
  },
  {
   "cell_type": "code",
   "execution_count": 19,
   "id": "a940ddb6-61da-4e88-8d11-64d99880533c",
   "metadata": {},
   "outputs": [
    {
     "name": "stdout",
     "output_type": "stream",
     "text": [
      "['The', 'rain', 'in', 'Spain']\n"
     ]
    }
   ],
   "source": [
    "txt = \"The rain in Spain\"\n",
    "\n",
    "x = re.split(\"\\s\", txt)\n",
    "\n",
    "print(x)"
   ]
  },
  {
   "cell_type": "code",
   "execution_count": 23,
   "id": "3cf7ba12-316b-4e98-83f0-660b3c433f00",
   "metadata": {},
   "outputs": [
    {
     "name": "stdout",
     "output_type": "stream",
     "text": [
      "['The', 'rain in Spain']\n"
     ]
    }
   ],
   "source": [
    "#Split the string only at the first occurrence\n",
    "\n",
    "txt = \"The rain in Spain\"\n",
    "\n",
    "x = re.split(\"\\s\", txt, 1)\n",
    "\n",
    "print(x)"
   ]
  },
  {
   "cell_type": "code",
   "execution_count": 26,
   "id": "ddfeb74e-3c46-4169-916e-4cb4f12b4425",
   "metadata": {},
   "outputs": [
    {
     "name": "stdout",
     "output_type": "stream",
     "text": [
      "The 9 rain 9 in 9 Spain\n"
     ]
    }
   ],
   "source": [
    "txt = \"The rain in Spain\"\n",
    "\n",
    "x = re.sub(\"\\s\", \" 9 \", txt)\n",
    "\n",
    "print(x)"
   ]
  },
  {
   "cell_type": "code",
   "execution_count": 27,
   "id": "5e166ff8-a83d-4357-9ced-85f927a7d018",
   "metadata": {},
   "outputs": [
    {
     "name": "stdout",
     "output_type": "stream",
     "text": [
      "The9rain9in Spain\n"
     ]
    }
   ],
   "source": [
    "txt = \"The rain in Spain\"\n",
    "x = re.sub(\"\\s\", \"9\", txt, 2)\n",
    "print(x)"
   ]
  },
  {
   "cell_type": "code",
   "execution_count": null,
   "id": "7eb866c8-073b-40a3-bc95-939867c18ea0",
   "metadata": {},
   "outputs": [],
   "source": [
    "f\"\"\n",
    "r\"\""
   ]
  },
  {
   "cell_type": "code",
   "execution_count": 28,
   "id": "eb1bf0e3-7046-4918-8df3-d261aa23b923",
   "metadata": {},
   "outputs": [
    {
     "name": "stdout",
     "output_type": "stream",
     "text": [
      "(12, 17)\n"
     ]
    }
   ],
   "source": [
    "txt = \"The rain in Spain\"\n",
    "\n",
    "x = re.search(r\"\\bS\\w+\", txt)\n",
    "\n",
    "print(x.span())\n",
    "\n",
    "# Raw String = r\"\\bS\\w+\""
   ]
  },
  {
   "cell_type": "code",
   "execution_count": 29,
   "id": "563c4c35-f8b0-4224-b7b9-0dbf5e5d80ba",
   "metadata": {},
   "outputs": [
    {
     "name": "stdout",
     "output_type": "stream",
     "text": [
      "The rain in Spain\n"
     ]
    }
   ],
   "source": [
    "txt = \"The rain in Spain\"\n",
    "\n",
    "x = re.search(r\"\\bS\\w+\", txt)\n",
    "\n",
    "print(x.string)"
   ]
  },
  {
   "cell_type": "code",
   "execution_count": 31,
   "id": "f9995b62-ce9c-4eea-8c7a-a96b3d803a38",
   "metadata": {},
   "outputs": [
    {
     "name": "stdout",
     "output_type": "stream",
     "text": [
      "rain\n"
     ]
    }
   ],
   "source": [
    "txt = \"The rain in Spain\"\n",
    "\n",
    "x = re.search(r\"\\br\\w+\", txt)\n",
    "\n",
    "print(x.group())"
   ]
  },
  {
   "cell_type": "code",
   "execution_count": 33,
   "id": "2468d6cb-b1f0-4f4d-8cf5-4d45ee9adc57",
   "metadata": {},
   "outputs": [
    {
     "name": "stdout",
     "output_type": "stream",
     "text": [
      "['support34@example.com', 'sales@mydomain.org']\n"
     ]
    }
   ],
   "source": [
    "text = \"Contact us at support34@example.com or sales@mydomain.org\"\n",
    "\n",
    "\n",
    "emails = re.findall(r'\\b[\\w.-]+@[\\w.-]+\\.\\w+\\b', text)\n",
    "\n",
    "print(emails)\n",
    "\n",
    "# r'\\b\\w+@\\w+\\.\\w+'\n",
    "# OR\n",
    "# '\\\\b\\\\w+@\\\\w+\\\\.\\\\w+'"
   ]
  },
  {
   "cell_type": "code",
   "execution_count": 41,
   "id": "3e927898-eab1-4861-94e4-184175a4fc74",
   "metadata": {},
   "outputs": [
    {
     "name": "stdout",
     "output_type": "stream",
     "text": [
      "['9876543210', '919876543210', '918173878989']\n"
     ]
    }
   ],
   "source": [
    "text = \"Call me at 9876543210 or 919876543210, +918173878989\"\n",
    "\n",
    "+918989898998\n",
    "919898989898\n",
    "888888888\n",
    "\n",
    "phones = re.findall(r'\\b(?:\\+91|91)?[6-9]\\d{9}\\b', text)\n",
    "\n",
    "print(phones)"
   ]
  },
  {
   "cell_type": "code",
   "execution_count": 45,
   "id": "4aca83d7-6ed4-4d0e-9138-95cba474c454",
   "metadata": {},
   "outputs": [
    {
     "name": "stdout",
     "output_type": "stream",
     "text": [
      "False\n"
     ]
    }
   ],
   "source": [
    "# Validate if a String is a Strong Password\n",
    "password = \"My$tr0ngP@ss\"\n",
    "pas = \"Nur@123\"\n",
    "\n",
    "pattern = r'^(?=.*[A-Z])(?=.*[a-z])(?=.*\\d)(?=.*[@$#]).{8,}$'\n",
    "\n",
    "print(bool(re.match(pattern, pas)))\n",
    "\n",
    "#Checks for uppercase, lowercase, digit, special character, and min length."
   ]
  },
  {
   "cell_type": "code",
   "execution_count": 47,
   "id": "7cd98379-e67a-46a5-8146-ed7b5e059ac6",
   "metadata": {},
   "outputs": [
    {
     "name": "stdout",
     "output_type": "stream",
     "text": [
      "['21-06-2025', '15-08-2024']\n"
     ]
    }
   ],
   "source": [
    "#Find Dates in dd-mm-yyyy Format\n",
    "text = \"The events are on 21-06-2025 and 15-08-2024. 2025-10-15\"\n",
    "\n",
    "dates = re.findall(r'\\b\\d{2}-\\d{2}-\\d{4}\\b', text)\n",
    "\n",
    "print(dates)"
   ]
  },
  {
   "cell_type": "code",
   "execution_count": 48,
   "id": "522e1f47-2809-43a7-ae29-38814ce01805",
   "metadata": {},
   "outputs": [
    {
     "name": "stdout",
     "output_type": "stream",
     "text": [
      "['#Python', '#Regex', '#DataScience']\n"
     ]
    }
   ],
   "source": [
    "#Extract All Hashtags from Social Media Post\n",
    "\n",
    "text = \"Loving the #Python #Regex #DataScience journey!\"\n",
    "\n",
    "hashtags = re.findall(r'#\\w+', text)\n",
    "\n",
    "print(hashtags)"
   ]
  },
  {
   "cell_type": "code",
   "execution_count": null,
   "id": "7e53ec10-5a67-4cda-bc00-cb3599f6a9f2",
   "metadata": {},
   "outputs": [],
   "source": []
  }
 ],
 "metadata": {
  "kernelspec": {
   "display_name": "Python 3 (ipykernel)",
   "language": "python",
   "name": "python3"
  },
  "language_info": {
   "codemirror_mode": {
    "name": "ipython",
    "version": 3
   },
   "file_extension": ".py",
   "mimetype": "text/x-python",
   "name": "python",
   "nbconvert_exporter": "python",
   "pygments_lexer": "ipython3",
   "version": "3.11.7"
  }
 },
 "nbformat": 4,
 "nbformat_minor": 5
}
